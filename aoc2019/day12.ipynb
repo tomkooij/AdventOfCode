{
 "cells": [
  {
   "cell_type": "code",
   "execution_count": 1,
   "metadata": {},
   "outputs": [],
   "source": [
    "import re\n",
    "import math\n",
    "\n",
    "from copy import deepcopy\n",
    "from itertools import cycle, combinations, permutations\n",
    "from collections import Counter, defaultdict, deque\n",
    "from io import StringIO\n",
    "\n",
    "def read_input(day, fn=str.strip):\n",
    "    \"\"\"\n",
    "    Return a list of the input lines mapped by fn\n",
    "    \n",
    "    example: \n",
    "    >>> read_input('01', int)  # read input file, map all lines to int\n",
    "    \n",
    "    Inspired by Peter Norvig: https://github.com/norvig/pytudes\n",
    "    \n",
    "    \"\"\"\n",
    "    return list(map(fn, open(f'input\\{day}.txt')))\n",
    "\n",
    "def all_integers(s):\n",
    "    \"\"\"return all integers from a string\"\"\"\n",
    "    return tuple(map(int, re.findall(r'-?\\d+', s)))"
   ]
  },
  {
   "cell_type": "markdown",
   "metadata": {},
   "source": [
    "# day 12"
   ]
  },
  {
   "cell_type": "code",
   "execution_count": 2,
   "metadata": {},
   "outputs": [],
   "source": [
    "testcase = \"\"\"<x=-1, y=0, z=2>\n",
    "<x=2, y=-10, z=-7>\n",
    "<x=4, y=-8, z=8>\n",
    "<x=3, y=5, z=-1>\"\"\".split('\\n')"
   ]
  },
  {
   "cell_type": "code",
   "execution_count": 3,
   "metadata": {},
   "outputs": [
    {
     "data": {
      "text/plain": [
       "(-1, 0, 2)"
      ]
     },
     "execution_count": 3,
     "metadata": {},
     "output_type": "execute_result"
    }
   ],
   "source": [
    "all_integers(testcase[0])"
   ]
  },
  {
   "cell_type": "code",
   "execution_count": 4,
   "metadata": {},
   "outputs": [
    {
     "name": "stdout",
     "output_type": "stream",
     "text": [
      "pos=<x=-1, y=0, z=2>, vel=<x=0, y=0, z=0> pos=<x=2, y=-10, z=-7>, vel=<x=0, y=0, z=0>\n",
      "pos=<x=-1, y=0, z=2>, vel=<x=1, y=-1, z=-1> pos=<x=2, y=-10, z=-7>, vel=<x=-1, y=1, z=1>\n"
     ]
    },
    {
     "data": {
      "text/plain": [
       "57"
      ]
     },
     "execution_count": 4,
     "metadata": {},
     "output_type": "execute_result"
    }
   ],
   "source": [
    "class Moon(object):\n",
    "    def __init__(self, line):\n",
    "        self.x, self.y, self.z = all_integers(line)\n",
    "        self.vx, self.vy, self.vz = 0, 0, 0\n",
    "        \n",
    "    def __repr__(self):\n",
    "        return f'pos=<x={self.x}, y={self.y}, z={self.z}>, vel=<x={self.vx}, y={self.vy}, z={self.vz}>'\n",
    "    \n",
    "    def calc_velocity(self, other_moons):\n",
    "        for other_moon in other_moons:\n",
    "            self.vx += other_moon.x > self.x\n",
    "            self.vy += other_moon.y > self.y\n",
    "            self.vz += other_moon.z > self.z\n",
    "            self.vx -= other_moon.x < self.x\n",
    "            self.vy -= other_moon.y < self.y\n",
    "            self.vz -= other_moon.z < self.z\n",
    "\n",
    "    def calc_position(self):\n",
    "        self.x += self.vx\n",
    "        self.y += self.vy\n",
    "        self.z += self.vz\n",
    "        \n",
    "    def calc_energy(self):\n",
    "        pe = abs(self.x) + abs(self.y) + abs(self.z)\n",
    "        ke = abs(self.vx) + abs(self.vy) + abs(self.vz)\n",
    "        return ke * pe\n",
    "        \n",
    "\n",
    "m = Moon(testcase[0])\n",
    "n = Moon(testcase[1])\n",
    "print(m, n)\n",
    "m.calc_velocity([n])\n",
    "n.calc_velocity([m])\n",
    "print(m, n)\n",
    "n.calc_energy()\n"
   ]
  },
  {
   "cell_type": "code",
   "execution_count": 5,
   "metadata": {},
   "outputs": [
    {
     "name": "stdout",
     "output_type": "stream",
     "text": [
      "pos=<x=2, y=1, z=-3>, vel=<x=-3, y=-2, z=1> 36\n",
      "pos=<x=1, y=-8, z=0>, vel=<x=-1, y=1, z=3> 45\n",
      "pos=<x=3, y=-6, z=1>, vel=<x=3, y=2, z=-3> 80\n",
      "pos=<x=2, y=0, z=4>, vel=<x=1, y=-1, z=-1> 18\n"
     ]
    },
    {
     "data": {
      "text/plain": [
       "179"
      ]
     },
     "execution_count": 5,
     "metadata": {},
     "output_type": "execute_result"
    }
   ],
   "source": [
    "def partA(l, n=10):\n",
    "    moons = [Moon(line) for line in l]\n",
    "\n",
    "    for t in range(n):\n",
    "        #print(f'after {t}')\n",
    "        for moon in moons:\n",
    "            moon.calc_velocity(moons)\n",
    "        for moon in moons:\n",
    "            moon.calc_position()\n",
    "\n",
    "    for moon in moons:\n",
    "        print(moon, moon.calc_energy())\n",
    "\n",
    "    return sum(m.calc_energy() for m in moons)\n",
    "\n",
    "partA(testcase)"
   ]
  },
  {
   "cell_type": "code",
   "execution_count": 6,
   "metadata": {},
   "outputs": [
    {
     "name": "stdout",
     "output_type": "stream",
     "text": [
      "pos=<x=8, y=-12, z=-9>, vel=<x=-7, y=3, z=0> 290\n",
      "pos=<x=13, y=16, z=-3>, vel=<x=3, y=-11, z=-5> 608\n",
      "pos=<x=-29, y=-11, z=-1>, vel=<x=-3, y=7, z=4> 574\n",
      "pos=<x=16, y=-13, z=23>, vel=<x=7, y=1, z=1> 468\n"
     ]
    },
    {
     "data": {
      "text/plain": [
       "1940"
      ]
     },
     "execution_count": 6,
     "metadata": {},
     "output_type": "execute_result"
    }
   ],
   "source": [
    "testcase2 = \"\"\"<x=-8, y=-10, z=0>\n",
    "<x=5, y=5, z=10>\n",
    "<x=2, y=-7, z=3>\n",
    "<x=9, y=-8, z=-3>\"\"\".split('\\n')\n",
    "\n",
    "partA(testcase2, n=100)"
   ]
  },
  {
   "cell_type": "code",
   "execution_count": 7,
   "metadata": {},
   "outputs": [
    {
     "name": "stdout",
     "output_type": "stream",
     "text": [
      "pos=<x=21, y=44, z=4>, vel=<x=-15, y=-12, z=9> 2484\n",
      "pos=<x=-49, y=1, z=-17>, vel=<x=-2, y=6, z=4> 804\n",
      "pos=<x=-13, y=-10, z=22>, vel=<x=0, y=1, z=-4> 225\n",
      "pos=<x=63, y=-30, z=-26>, vel=<x=17, y=5, z=-9> 3689\n"
     ]
    },
    {
     "data": {
      "text/plain": [
       "7202"
      ]
     },
     "execution_count": 7,
     "metadata": {},
     "output_type": "execute_result"
    }
   ],
   "source": [
    "inp = \"\"\"<x=17, y=-9, z=4>\n",
    "<x=2, y=2, z=-13>\n",
    "<x=-1, y=5, z=-1>\n",
    "<x=4, y=7, z=-7>\"\"\".split('\\n')\n",
    "\n",
    "partA(inp, n=1000)"
   ]
  },
  {
   "cell_type": "markdown",
   "metadata": {},
   "source": [
    "# part B"
   ]
  },
  {
   "cell_type": "code",
   "execution_count": null,
   "metadata": {},
   "outputs": [],
   "source": []
  }
 ],
 "metadata": {
  "kernelspec": {
   "display_name": "Python 3",
   "language": "python",
   "name": "python3"
  },
  "language_info": {
   "codemirror_mode": {
    "name": "ipython",
    "version": 3
   },
   "file_extension": ".py",
   "mimetype": "text/x-python",
   "name": "python",
   "nbconvert_exporter": "python",
   "pygments_lexer": "ipython3",
   "version": "3.9.1"
  }
 },
 "nbformat": 4,
 "nbformat_minor": 4
}
