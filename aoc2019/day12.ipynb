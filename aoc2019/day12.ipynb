{
 "cells": [
  {
   "cell_type": "code",
   "execution_count": 1,
   "metadata": {},
   "outputs": [],
   "source": [
    "import re\n",
    "import math\n",
    "\n",
    "from copy import deepcopy\n",
    "from itertools import cycle, combinations, permutations\n",
    "from collections import Counter, defaultdict, deque\n",
    "from io import StringIO\n",
    "\n",
    "def read_input(day, fn=str.strip):\n",
    "    \"\"\"\n",
    "    Return a list of the input lines mapped by fn\n",
    "    \n",
    "    example: \n",
    "    >>> read_input('01', int)  # read input file, map all lines to int\n",
    "    \n",
    "    Inspired by Peter Norvig: https://github.com/norvig/pytudes\n",
    "    \n",
    "    \"\"\"\n",
    "    return list(map(fn, open(f'input\\{day}.txt')))\n",
    "\n",
    "def all_integers(s):\n",
    "    \"\"\"return all integers from a string\"\"\"\n",
    "    return tuple(map(int, re.findall(r'-?\\d+', s)))"
   ]
  },
  {
   "cell_type": "markdown",
   "metadata": {},
   "source": [
    "# day 12"
   ]
  },
  {
   "cell_type": "code",
   "execution_count": 2,
   "metadata": {},
   "outputs": [],
   "source": [
    "testcase = \"\"\"<x=-1, y=0, z=2>\n",
    "<x=2, y=-10, z=-7>\n",
    "<x=4, y=-8, z=8>\n",
    "<x=3, y=5, z=-1>\"\"\".split('\\n')"
   ]
  },
  {
   "cell_type": "code",
   "execution_count": 3,
   "metadata": {},
   "outputs": [
    {
     "data": {
      "text/plain": [
       "(-1, 0, 2)"
      ]
     },
     "execution_count": 3,
     "metadata": {},
     "output_type": "execute_result"
    }
   ],
   "source": [
    "all_integers(testcase[0])"
   ]
  },
  {
   "cell_type": "code",
   "execution_count": 4,
   "metadata": {},
   "outputs": [
    {
     "name": "stdout",
     "output_type": "stream",
     "text": [
      "pos=<x=-1, y=0, z=2>, vel=<x=0, y=0, z=0> pos=<x=2, y=-10, z=-7>, vel=<x=0, y=0, z=0>\n",
      "pos=<x=-1, y=0, z=2>, vel=<x=1, y=-1, z=-1> pos=<x=2, y=-10, z=-7>, vel=<x=-1, y=1, z=1>\n"
     ]
    },
    {
     "data": {
      "text/plain": [
       "57"
      ]
     },
     "execution_count": 4,
     "metadata": {},
     "output_type": "execute_result"
    }
   ],
   "source": [
    "class Moon(object):\n",
    "    def __init__(self, line):\n",
    "        self.x, self.y, self.z = all_integers(line)\n",
    "        self.vx, self.vy, self.vz = 0, 0, 0\n",
    "        \n",
    "    def __repr__(self):\n",
    "        return f'pos=<x={self.x}, y={self.y}, z={self.z}>, vel=<x={self.vx}, y={self.vy}, z={self.vz}>'\n",
    "    \n",
    "    def calc_velocity(self, other_moons):\n",
    "        for other_moon in other_moons:\n",
    "            self.vx += other_moon.x > self.x\n",
    "            self.vy += other_moon.y > self.y\n",
    "            self.vz += other_moon.z > self.z\n",
    "            self.vx -= other_moon.x < self.x\n",
    "            self.vy -= other_moon.y < self.y\n",
    "            self.vz -= other_moon.z < self.z\n",
    "\n",
    "    def calc_position(self):\n",
    "        self.x += self.vx\n",
    "        self.y += self.vy\n",
    "        self.z += self.vz\n",
    "        \n",
    "    def calc_energy(self):\n",
    "        pe = abs(self.x) + abs(self.y) + abs(self.z)\n",
    "        ke = abs(self.vx) + abs(self.vy) + abs(self.vz)\n",
    "        return ke * pe\n",
    "        \n",
    "\n",
    "m = Moon(testcase[0])\n",
    "n = Moon(testcase[1])\n",
    "print(m, n)\n",
    "m.calc_velocity([n])\n",
    "n.calc_velocity([m])\n",
    "print(m, n)\n",
    "n.calc_energy()\n"
   ]
  },
  {
   "cell_type": "code",
   "execution_count": 5,
   "metadata": {},
   "outputs": [
    {
     "name": "stdout",
     "output_type": "stream",
     "text": [
      "pos=<x=2, y=1, z=-3>, vel=<x=-3, y=-2, z=1> 36\n",
      "pos=<x=1, y=-8, z=0>, vel=<x=-1, y=1, z=3> 45\n",
      "pos=<x=3, y=-6, z=1>, vel=<x=3, y=2, z=-3> 80\n",
      "pos=<x=2, y=0, z=4>, vel=<x=1, y=-1, z=-1> 18\n"
     ]
    },
    {
     "data": {
      "text/plain": [
       "179"
      ]
     },
     "execution_count": 5,
     "metadata": {},
     "output_type": "execute_result"
    }
   ],
   "source": [
    "def partA(l, n=10):\n",
    "    moons = [Moon(line) for line in l]\n",
    "\n",
    "    for t in range(n):\n",
    "        #print(f'after {t}')\n",
    "        for moon in moons:\n",
    "            moon.calc_velocity(moons)\n",
    "        for moon in moons:\n",
    "            moon.calc_position()\n",
    "            #print(moon)\n",
    "\n",
    "    for moon in moons:\n",
    "        print(moon, moon.calc_energy())\n",
    "\n",
    "    return sum(m.calc_energy() for m in moons)\n",
    "\n",
    "partA(testcase)"
   ]
  },
  {
   "cell_type": "code",
   "execution_count": 79,
   "metadata": {},
   "outputs": [
    {
     "name": "stdout",
     "output_type": "stream",
     "text": [
      "[((8, -12, -9), (-7, 3, 0)), ((13, 16, -3), (3, -11, -5)), ((-29, -11, -1), (-3, 7, 4)), ((16, -13, 23), (7, 1, 1))]\n"
     ]
    },
    {
     "data": {
      "text/plain": [
       "1940"
      ]
     },
     "execution_count": 79,
     "metadata": {},
     "output_type": "execute_result"
    }
   ],
   "source": [
    "testcase2 = \"\"\"<x=-8, y=-10, z=0>\n",
    "<x=5, y=5, z=10>\n",
    "<x=2, y=-7, z=3>\n",
    "<x=9, y=-8, z=-3>\"\"\".split('\\n')\n",
    "\n",
    "partA(testcase2, n=100)"
   ]
  },
  {
   "cell_type": "code",
   "execution_count": 80,
   "metadata": {},
   "outputs": [
    {
     "name": "stdout",
     "output_type": "stream",
     "text": [
      "[((21, 44, 4), (-15, -12, 9)), ((-49, 1, -17), (-2, 6, 4)), ((-13, -10, 22), (0, 1, -4)), ((63, -30, -26), (17, 5, -9))]\n"
     ]
    },
    {
     "data": {
      "text/plain": [
       "7202"
      ]
     },
     "execution_count": 80,
     "metadata": {},
     "output_type": "execute_result"
    }
   ],
   "source": [
    "inp = \"\"\"<x=17, y=-9, z=4>\n",
    "<x=2, y=2, z=-13>\n",
    "<x=-1, y=5, z=-1>\n",
    "<x=4, y=7, z=-7>\"\"\".split('\\n')\n",
    "\n",
    "partA(inp, n=1000)"
   ]
  },
  {
   "cell_type": "markdown",
   "metadata": {},
   "source": [
    "# part A without classes"
   ]
  },
  {
   "cell_type": "code",
   "execution_count": 8,
   "metadata": {},
   "outputs": [],
   "source": [
    "testcase = \"\"\"<x=-1, y=0, z=2>\n",
    "<x=2, y=-10, z=-7>\n",
    "<x=4, y=-8, z=8>\n",
    "<x=3, y=5, z=-1>\"\"\".split('\\n')"
   ]
  },
  {
   "cell_type": "code",
   "execution_count": 9,
   "metadata": {},
   "outputs": [],
   "source": [
    "moons = [(all_integers(line), (0,0,0)) for line in testcase]"
   ]
  },
  {
   "cell_type": "code",
   "execution_count": 10,
   "metadata": {},
   "outputs": [
    {
     "data": {
      "text/plain": [
       "[((-1, 0, 2), (0, 0, 0)),\n",
       " ((2, -10, -7), (0, 0, 0)),\n",
       " ((4, -8, 8), (0, 0, 0)),\n",
       " ((3, 5, -1), (0, 0, 0))]"
      ]
     },
     "execution_count": 10,
     "metadata": {},
     "output_type": "execute_result"
    }
   ],
   "source": [
    "moons"
   ]
  },
  {
   "cell_type": "code",
   "execution_count": 29,
   "metadata": {},
   "outputs": [
    {
     "name": "stdout",
     "output_type": "stream",
     "text": [
      "[((2, 1, -3), (-3, -2, 1)), ((1, -8, 0), (-1, 1, 3)), ((3, -6, 1), (3, 2, -3)), ((2, 0, 4), (1, -1, -1))]\n"
     ]
    },
    {
     "data": {
      "text/plain": [
       "179"
      ]
     },
     "execution_count": 29,
     "metadata": {},
     "output_type": "execute_result"
    }
   ],
   "source": [
    "def calc_velocity(x, v, other_moons, dimensions=range(3)):\n",
    "    v = list(v)\n",
    "    for x_o, v_o in other_moons:\n",
    "        for idx in dimensions:\n",
    "            v[idx] += x_o[idx] > x[idx]\n",
    "            v[idx] -= x_o[idx] < x[idx]\n",
    "    return (x, tuple(v))\n",
    "\n",
    "def calc_position(x, v, dimensions=range(3)):\n",
    "    x = list(x)\n",
    "    for idx in dimensions:\n",
    "        x[idx] += v[idx]\n",
    "    return (tuple(x), v)\n",
    "\n",
    "def calc_energy(x, v):\n",
    "    pe = sum(map(abs, x))\n",
    "    ke = sum(map(abs, v))\n",
    "    return ke * pe\n",
    "\n",
    "def partA(l, n=10):\n",
    "    moons = [(all_integers(line), (0,0,0)) for line in l]\n",
    "\n",
    "    for t in range(n):\n",
    "        #print(f'after {t}')\n",
    "        moons = [calc_velocity(*moon, moons) for moon in moons]\n",
    "        moons = [calc_position(*moon) for moon in moons]     \n",
    "    \n",
    "    print(moons)\n",
    "\n",
    "    return sum(calc_energy(*moon) for moon in moons)\n",
    "\n",
    "partA(testcase)\n",
    "            "
   ]
  },
  {
   "cell_type": "code",
   "execution_count": 14,
   "metadata": {},
   "outputs": [
    {
     "name": "stdout",
     "output_type": "stream",
     "text": [
      "[((21, 44, 4), (-15, -12, 9)), ((-49, 1, -17), (-2, 6, 4)), ((-13, -10, 22), (0, 1, -4)), ((63, -30, -26), (17, 5, -9))]\n"
     ]
    },
    {
     "data": {
      "text/plain": [
       "7202"
      ]
     },
     "execution_count": 14,
     "metadata": {},
     "output_type": "execute_result"
    }
   ],
   "source": [
    "inp = \"\"\"<x=17, y=-9, z=4>\n",
    "<x=2, y=2, z=-13>\n",
    "<x=-1, y=5, z=-1>\n",
    "<x=4, y=7, z=-7>\"\"\".split('\\n')\n",
    "\n",
    "partA(inp, n=1000)"
   ]
  },
  {
   "cell_type": "markdown",
   "metadata": {},
   "source": [
    "# find loop (part B)"
   ]
  },
  {
   "cell_type": "code",
   "execution_count": 71,
   "metadata": {},
   "outputs": [
    {
     "name": "stdout",
     "output_type": "stream",
     "text": [
      "found:  range(0, 3) 2772\n"
     ]
    },
    {
     "data": {
      "text/plain": [
       "2772"
      ]
     },
     "execution_count": 71,
     "metadata": {},
     "output_type": "execute_result"
    }
   ],
   "source": [
    "def find_loop(l, n=10, D=range(3)):\n",
    "    moons = [(all_integers(line), (0,0,0)) for line in l]\n",
    "    seen = {tuple(moons)}\n",
    "    \n",
    "    for t in range(1, n+1):\n",
    "        #print(f'after {t}')\n",
    "        moons = [calc_velocity(*moon, moons, dimensions=D) for moon in moons]\n",
    "        moons = [calc_position(*moon,dimensions=D) for moon in moons]     \n",
    "        if tuple(moons) in seen:\n",
    "            print('found: ', D, t)\n",
    "            return t\n",
    "        seen.add(tuple(moons))\n",
    "    \n",
    "find_loop(testcase, n=3000)"
   ]
  },
  {
   "cell_type": "code",
   "execution_count": 72,
   "metadata": {},
   "outputs": [
    {
     "name": "stdout",
     "output_type": "stream",
     "text": [
      "found:  [0] 18\n"
     ]
    }
   ],
   "source": [
    "find_loop(testcase, n=1000, D=[0])\n",
    "D = [18, 28, 44]"
   ]
  },
  {
   "cell_type": "code",
   "execution_count": 73,
   "metadata": {},
   "outputs": [],
   "source": [
    "from math import gcd\n",
    "from functools import reduce"
   ]
  },
  {
   "cell_type": "code",
   "execution_count": 74,
   "metadata": {},
   "outputs": [
    {
     "data": {
      "text/plain": [
       "42"
      ]
     },
     "execution_count": 74,
     "metadata": {},
     "output_type": "execute_result"
    }
   ],
   "source": [
    "def LCM(a, b):\n",
    "    return int(abs(a*b)/gcd(a,b))\n",
    "\n",
    "LCM(21, 6) # wikipedia example"
   ]
  },
  {
   "cell_type": "code",
   "execution_count": 75,
   "metadata": {},
   "outputs": [
    {
     "data": {
      "text/plain": [
       "420"
      ]
     },
     "execution_count": 75,
     "metadata": {},
     "output_type": "execute_result"
    }
   ],
   "source": [
    "t = [2, 3, 4, 5, 7]  # wikipedia example: 420\n",
    "reduce(LCM, t)"
   ]
  },
  {
   "cell_type": "code",
   "execution_count": 76,
   "metadata": {},
   "outputs": [
    {
     "data": {
      "text/plain": [
       "2772"
      ]
     },
     "execution_count": 76,
     "metadata": {},
     "output_type": "execute_result"
    }
   ],
   "source": [
    "reduce(LCM, D)"
   ]
  },
  {
   "cell_type": "code",
   "execution_count": 86,
   "metadata": {},
   "outputs": [
    {
     "name": "stdout",
     "output_type": "stream",
     "text": [
      "found:  [0] 18\n",
      "found:  [1] 28\n",
      "found:  [2] 44\n"
     ]
    },
    {
     "data": {
      "text/plain": [
       "2772"
      ]
     },
     "execution_count": 86,
     "metadata": {},
     "output_type": "execute_result"
    }
   ],
   "source": [
    "def partB(l):\n",
    "    \"\"\"find the length of the loop per dimension (x, y, z) and reduce using LCM\"\"\" \n",
    "    n = [find_loop(l, n=int(1e9), D=[dimension]) for dimension in range(3)]\n",
    "    return reduce(LCM, n)\n",
    "\n",
    "partB(testcase)\n",
    "        "
   ]
  },
  {
   "cell_type": "code",
   "execution_count": 87,
   "metadata": {},
   "outputs": [
    {
     "name": "stdout",
     "output_type": "stream",
     "text": [
      "found:  [0] 2028\n",
      "found:  [1] 5898\n",
      "found:  [2] 4702\n"
     ]
    },
    {
     "data": {
      "text/plain": [
       "4686774924"
      ]
     },
     "execution_count": 87,
     "metadata": {},
     "output_type": "execute_result"
    }
   ],
   "source": [
    "partB(testcase2)"
   ]
  },
  {
   "cell_type": "code",
   "execution_count": 88,
   "metadata": {},
   "outputs": [
    {
     "name": "stdout",
     "output_type": "stream",
     "text": [
      "found:  [0] 231614\n",
      "found:  [1] 96236\n",
      "found:  [2] 193052\n"
     ]
    },
    {
     "data": {
      "text/plain": [
       "537881600740876"
      ]
     },
     "execution_count": 88,
     "metadata": {},
     "output_type": "execute_result"
    }
   ],
   "source": [
    "partB(inp)"
   ]
  },
  {
   "cell_type": "code",
   "execution_count": null,
   "metadata": {},
   "outputs": [],
   "source": []
  }
 ],
 "metadata": {
  "kernelspec": {
   "display_name": "Python 3",
   "language": "python",
   "name": "python3"
  },
  "language_info": {
   "codemirror_mode": {
    "name": "ipython",
    "version": 3
   },
   "file_extension": ".py",
   "mimetype": "text/x-python",
   "name": "python",
   "nbconvert_exporter": "python",
   "pygments_lexer": "ipython3",
   "version": "3.9.1"
  }
 },
 "nbformat": 4,
 "nbformat_minor": 4
}
