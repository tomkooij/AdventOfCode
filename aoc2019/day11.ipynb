{
 "cells": [
  {
   "cell_type": "code",
   "execution_count": 1,
   "metadata": {},
   "outputs": [],
   "source": [
    "import re\n",
    "import math\n",
    "\n",
    "from copy import deepcopy\n",
    "from itertools import cycle, combinations, permutations\n",
    "from collections import Counter, defaultdict, deque\n",
    "from io import StringIO\n",
    "\n",
    "def read_input(day, fn=str.strip):\n",
    "    \"\"\"\n",
    "    Return a list of the input lines mapped by fn\n",
    "    \n",
    "    example: \n",
    "    >>> read_input('01', int)  # read input file, map all lines to int\n",
    "    \n",
    "    Inspired by Peter Norvig: https://github.com/norvig/pytudes\n",
    "    \n",
    "    \"\"\"\n",
    "    return list(map(fn, open(f'input\\{day}.txt')))\n",
    "\n",
    "def all_integers(s):\n",
    "    \"\"\"return all integers from a string\"\"\"\n",
    "    return tuple(map(int, re.findall(r'-?\\d+', s)))"
   ]
  },
  {
   "cell_type": "markdown",
   "metadata": {},
   "source": [
    "# day 11"
   ]
  },
  {
   "cell_type": "code",
   "execution_count": 11,
   "metadata": {},
   "outputs": [],
   "source": [
    "from intcode import *"
   ]
  },
  {
   "cell_type": "code",
   "execution_count": 12,
   "metadata": {},
   "outputs": [
    {
     "data": {
      "text/plain": [
       "(3, 8, 1005, 8, 330)"
      ]
     },
     "execution_count": 12,
     "metadata": {},
     "output_type": "execute_result"
    }
   ],
   "source": [
    "intcode_program = read_input('11', all_integers)[0]\n",
    "intcode_program[:5]"
   ]
  },
  {
   "cell_type": "code",
   "execution_count": 13,
   "metadata": {},
   "outputs": [
    {
     "name": "stdout",
     "output_type": "stream",
     "text": [
      "0 0 1\n",
      "1 0 1\n",
      "2 1 1\n",
      "3 0 1\n",
      "4 1 1\n",
      "5 0 1\n",
      "6 0 1\n",
      "7 0 1\n",
      "8 1 1\n",
      "9 1 1\n",
      "10 1 1\n",
      "11 1 1\n",
      "12 1 1\n",
      "13 1 1\n",
      "14 1 1\n",
      "15 1 1\n",
      "16 1 1\n",
      "17 1 1\n",
      "18 1 1\n",
      "19 1 1\n"
     ]
    }
   ],
   "source": [
    "i = IntCode(intcode_program, input=[0], verbose=False, debug=False)\n",
    "for _ in range(20):\n",
    "    state = i.input[0]\n",
    "    i.run()\n",
    "    print(_, i.output.pop(), i.output.pop())\n",
    "    i.input = [0]"
   ]
  },
  {
   "cell_type": "code",
   "execution_count": 14,
   "metadata": {},
   "outputs": [],
   "source": [
    "move = {\n",
    "    0: (0, 1),\n",
    "    90: (1, 0),\n",
    "    180: (0, -1),\n",
    "    270: (-1, 0)\n",
    "}"
   ]
  },
  {
   "cell_type": "code",
   "execution_count": 15,
   "metadata": {},
   "outputs": [
    {
     "data": {
      "text/plain": [
       "2226"
      ]
     },
     "execution_count": 15,
     "metadata": {},
     "output_type": "execute_result"
    }
   ],
   "source": [
    "def do_robot(visited = {}):\n",
    "    x, y = 0, 0\n",
    "    direction = 0\n",
    "    \n",
    "    robot = IntCode(intcode_program, verbose=False)\n",
    "    state = AWAIT_INPUT\n",
    "    while state == AWAIT_INPUT:\n",
    "        #print(_)\n",
    "        tile_color = visited.get((x,y), 0)\n",
    "        if tile_color:\n",
    "            pass #print('on white square: ', x, y)\n",
    "        \n",
    "        robot.input = [tile_color]\n",
    "        state = robot.run()\n",
    "        if state != AWAIT_INPUT:\n",
    "            return visited\n",
    "       \n",
    "        turn_dir = robot.pop_output() \n",
    "        color = robot.pop_output()\n",
    "        #print('step: ', color, turn_dir)\n",
    "\n",
    "        visited[(x,y)] = color\n",
    "        #print('visited: ', visited)\n",
    "        if turn_dir:\n",
    "            direction = (direction + 90) % 360\n",
    "        else:\n",
    "            direction = (direction - 90) % 360\n",
    "        #print('direction is now: ', direction)\n",
    "\n",
    "        dx, dy = move[direction]\n",
    "        x += dx\n",
    "        y += dy\n",
    "\n",
    "        #print('robot now at ', x, y)  \n",
    "\n",
    "tiles = do_robot()\n",
    "len(tiles)"
   ]
  },
  {
   "cell_type": "markdown",
   "metadata": {},
   "source": [
    "# part B"
   ]
  },
  {
   "cell_type": "code",
   "execution_count": 16,
   "metadata": {},
   "outputs": [],
   "source": [
    "tiles = {\n",
    "    (0,0):1, (-10, 5): 1,\n",
    "        }"
   ]
  },
  {
   "cell_type": "code",
   "execution_count": 17,
   "metadata": {},
   "outputs": [
    {
     "name": "stdout",
     "output_type": "stream",
     "text": [
      "#..........\n",
      "...........\n",
      "...........\n",
      "...........\n",
      "...........\n",
      "..........#\n"
     ]
    }
   ],
   "source": [
    "def print_tiles(tiles):\n",
    "    min_x, max_x = 0,0\n",
    "    min_y, max_y = 0,0\n",
    "    for (y, x) in tiles:\n",
    "        min_x = min(min_x, x)\n",
    "        min_y = min(min_y, y)\n",
    "        max_x = max(max_x, x)\n",
    "        max_y = max(max_y, y)\n",
    "    for x in range(max_x, min_x-1, -1):\n",
    "        print(''.join('.#'[tiles.get((y, x), 0)] for y in range(min_y, max_y+1)))\n",
    "        \n",
    "print_tiles(tiles)"
   ]
  },
  {
   "cell_type": "code",
   "execution_count": 18,
   "metadata": {},
   "outputs": [
    {
     "name": "stdout",
     "output_type": "stream",
     "text": [
      ".#..#.###...##..#....####.#..#.#....####...\n",
      ".#..#.#..#.#..#.#.......#.#.#..#....#......\n",
      ".####.###..#....#......#..##...#....###....\n",
      ".#..#.#..#.#.##.#.....#...#.#..#....#......\n",
      ".#..#.#..#.#..#.#....#....#.#..#....#......\n",
      ".#..#.###...###.####.####.#..#.####.#......\n"
     ]
    }
   ],
   "source": [
    "print_tiles(do_robot({(0,0):1}))"
   ]
  },
  {
   "cell_type": "code",
   "execution_count": 19,
   "metadata": {},
   "outputs": [],
   "source": [
    "# HBGLZKLF"
   ]
  },
  {
   "cell_type": "code",
   "execution_count": null,
   "metadata": {},
   "outputs": [],
   "source": []
  }
 ],
 "metadata": {
  "kernelspec": {
   "display_name": "Python 3",
   "language": "python",
   "name": "python3"
  },
  "language_info": {
   "codemirror_mode": {
    "name": "ipython",
    "version": 3
   },
   "file_extension": ".py",
   "mimetype": "text/x-python",
   "name": "python",
   "nbconvert_exporter": "python",
   "pygments_lexer": "ipython3",
   "version": "3.9.1"
  }
 },
 "nbformat": 4,
 "nbformat_minor": 4
}
