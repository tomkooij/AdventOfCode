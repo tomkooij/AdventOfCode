{
 "cells": [
  {
   "cell_type": "code",
   "execution_count": 7,
   "metadata": {},
   "outputs": [],
   "source": [
    "import re\n",
    "import math\n",
    "\n",
    "from copy import deepcopy\n",
    "from itertools import cycle, combinations, permutations\n",
    "from collections import Counter, defaultdict, deque\n",
    "from io import StringIO\n",
    "\n",
    "def read_input(day, fn=str.strip):\n",
    "    \"\"\"\n",
    "    Return a list of the input lines mapped by fn\n",
    "    \n",
    "    example: \n",
    "    >>> read_input('01', int)  # read input file, map all lines to int\n",
    "    \n",
    "    Inspired by Peter Norvig: https://github.com/norvig/pytudes\n",
    "    \n",
    "    \"\"\"\n",
    "    return list(map(fn, open(f'input\\{day}.txt')))\n",
    "\n",
    "def all_integers(s):\n",
    "    \"\"\"return all integers from a string\"\"\"\n",
    "    return tuple(map(int, re.findall(r'-?\\d+', s)))"
   ]
  },
  {
   "cell_type": "markdown",
   "metadata": {},
   "source": [
    "# day 10"
   ]
  },
  {
   "cell_type": "code",
   "execution_count": 43,
   "metadata": {},
   "outputs": [],
   "source": [
    "testcase = \"\"\".#..#\n",
    ".....\n",
    "#####\n",
    "....#\n",
    "...##\"\"\".split('\\n')"
   ]
  },
  {
   "cell_type": "code",
   "execution_count": 122,
   "metadata": {},
   "outputs": [
    {
     "data": {
      "text/plain": [
       "0.0"
      ]
     },
     "execution_count": 122,
     "metadata": {},
     "output_type": "execute_result"
    }
   ],
   "source": [
    "def calc_angle(asteroid, me):\n",
    "    r_me, c_me = me\n",
    "    r, c = asteroid\n",
    "    \n",
    "    return math.atan2(r - r_me, c - c_me)\n",
    "\n",
    "calc_angle((2,2), (2,1))"
   ]
  },
  {
   "cell_type": "code",
   "execution_count": 123,
   "metadata": {},
   "outputs": [
    {
     "data": {
      "text/plain": [
       "((4, 4), 29)"
      ]
     },
     "execution_count": 123,
     "metadata": {},
     "output_type": "execute_result"
    }
   ],
   "source": [
    "def partA(l):\n",
    "    asteroids = set()\n",
    "\n",
    "    for r, line in enumerate(l):\n",
    "        for c, ch in enumerate(line):\n",
    "            if ch == '#':\n",
    "                asteroids.add((r,c))\n",
    "            \n",
    "    angles = defaultdict(set)\n",
    "    for asteroid in asteroids.copy():\n",
    "        others = asteroids.copy() - {asteroid}\n",
    "        for other in others:\n",
    "            angles[asteroid].add(round(calc_angle(other, asteroid), 7))\n",
    "\n",
    "    max_astroids = 0\n",
    "    for k, v in angles.items():\n",
    "        #print(k, len(v))\n",
    "        if len(v) > max_astroids:\n",
    "            max_astroids = len(v)\n",
    "            pos = k\n",
    "\n",
    "    return pos, max_astroids\n",
    "\n",
    "partA(testcase)"
   ]
  },
  {
   "cell_type": "code",
   "execution_count": 124,
   "metadata": {},
   "outputs": [
    {
     "data": {
      "text/plain": [
       "((8, 5), 33)"
      ]
     },
     "execution_count": 124,
     "metadata": {},
     "output_type": "execute_result"
    }
   ],
   "source": [
    "test2 = \"\"\"......#.#.\n",
    "#..#.#....\n",
    "..#######.\n",
    ".#.#.###..\n",
    ".#..#.....\n",
    "..#....#.#\n",
    "#..#....#.\n",
    ".##.#..###\n",
    "##...#..#.\n",
    ".#....####\"\"\".split(\"\\n\")\n",
    "\n",
    "partA(test2)"
   ]
  },
  {
   "cell_type": "code",
   "execution_count": 125,
   "metadata": {},
   "outputs": [
    {
     "data": {
      "text/plain": [
       "((20, 31), 319)"
      ]
     },
     "execution_count": 125,
     "metadata": {},
     "output_type": "execute_result"
    }
   ],
   "source": [
    "inp = read_input('10')\n",
    "partA(inp)"
   ]
  },
  {
   "cell_type": "code",
   "execution_count": 126,
   "metadata": {},
   "outputs": [],
   "source": [
    "# part B"
   ]
  },
  {
   "cell_type": "code",
   "execution_count": 127,
   "metadata": {},
   "outputs": [
    {
     "data": {
      "text/plain": [
       "'X'"
      ]
     },
     "execution_count": 127,
     "metadata": {},
     "output_type": "execute_result"
    }
   ],
   "source": [
    "testcase = \"\"\".#....#####...#..\n",
    "##...##.#####..##\n",
    "##...#...#.#####.\n",
    "..#.....X...###..\n",
    "..#.#.....#....##\"\"\".split('\\n')\n",
    "\n",
    "testcase[3][8]"
   ]
  },
  {
   "cell_type": "code",
   "execution_count": 129,
   "metadata": {},
   "outputs": [
    {
     "data": {
      "text/plain": [
       "8"
      ]
     },
     "execution_count": 129,
     "metadata": {},
     "output_type": "execute_result"
    }
   ],
   "source": [
    "def calc_distance(asteroid, me):\n",
    "    r_me, c_me = me\n",
    "    r, c = asteroid\n",
    "    \n",
    "    return (r - r_me)**2 +  (c - c_me)**2  # skip sqrt\n",
    "\n",
    "calc_distance((2,2), (0, 0))"
   ]
  },
  {
   "cell_type": "code",
   "execution_count": 208,
   "metadata": {},
   "outputs": [
    {
     "data": {
      "text/plain": [
       "0.0"
      ]
     },
     "execution_count": 208,
     "metadata": {},
     "output_type": "execute_result"
    }
   ],
   "source": [
    "def calc_angle(asteroid, me):\n",
    "    \"\"\"north over east... asteroid at (-1, 0) me at (0,0) => angle 0\"\"\"\n",
    "    r_me, c_me = me\n",
    "    r, c = asteroid\n",
    "    \n",
    "    angle = math.atan2(c - c_me, r_me - r) \n",
    "    if angle < 0:\n",
    "        angle += 2*math.pi \n",
    "    return angle\n",
    "        \n",
    "calc_angle((1, 8), (3,8))   # example --> 1"
   ]
  },
  {
   "cell_type": "code",
   "execution_count": 209,
   "metadata": {},
   "outputs": [
    {
     "name": "stdout",
     "output_type": "stream",
     "text": [
      "1 (4, (1, 8)) evaporated!\n",
      "2 (10, (0, 9)) evaporated!\n",
      "3 (5, (1, 9)) evaporated!\n",
      "4 (13, (0, 10)) evaporated!\n",
      "5 (2, (2, 9)) evaporated!\n",
      "6 (13, (1, 11)) evaporated!\n",
      "7 (20, (1, 12)) evaporated!\n",
      "8 (10, (2, 11)) evaporated!\n",
      "9 (53, (1, 15)) evaporated!\n",
      "10 (17, (2, 12)) evaporated!\n",
      "11 (26, (2, 13)) evaporated!\n",
      "12 (37, (2, 14)) evaporated!\n",
      "13 (50, (2, 15)) evaporated!\n",
      "14 (16, (3, 12)) evaporated!\n",
      "15 (65, (4, 16)) evaporated!\n",
      "16 (50, (4, 15)) evaporated!\n",
      "17 (5, (4, 10)) evaporated!\n",
      "18 (17, (4, 4)) evaporated!\n",
      "19 (37, (4, 2)) evaporated!\n",
      "20 (36, (3, 2)) evaporated!\n",
      "21 (65, (2, 0)) evaporated!\n",
      "22 (50, (2, 1)) evaporated!\n",
      "23 (68, (1, 0)) evaporated!\n",
      "24 (53, (1, 1)) evaporated!\n",
      "25 (10, (2, 5)) evaporated!\n",
      "26 (58, (0, 1)) evaporated!\n",
      "27 (13, (1, 5)) evaporated!\n",
      "28 (8, (1, 6)) evaporated!\n",
      "29 (13, (0, 6)) evaporated!\n",
      "30 (10, (0, 7)) evaporated!\n",
      "31 (9, (0, 8)) evaporated!\n",
      "32 (8, (1, 10)) evaporated!\n",
      "33 (45, (0, 14)) evaporated!\n",
      "34 (68, (1, 16)) evaporated!\n",
      "35 (25, (3, 13)) evaporated!\n",
      "36 (36, (3, 14)) evaporated!\n"
     ]
    }
   ],
   "source": [
    "def partB(l, rx, cx):\n",
    "    asteroids = set()\n",
    "    asteroid = (rx, cx)\n",
    "    \n",
    "    for r, line in enumerate(l):\n",
    "        for c, ch in enumerate(line):\n",
    "            if ch == '#':\n",
    "                asteroids.add((r,c))\n",
    "            \n",
    "    targets = defaultdict(list)\n",
    "    others = asteroids.copy() - {asteroid}\n",
    "    for other in others:\n",
    "        angle = round(calc_angle(other, asteroid), 7)\n",
    "        distance = calc_distance(other, asteroid)\n",
    "        targets[angle].append((distance, other))\n",
    "    \n",
    "    idx = 0\n",
    "    while targets:\n",
    "        for angle in sorted(targets):\n",
    "            if targets[angle]:\n",
    "                targets[angle].sort()\n",
    "                closest = targets[angle][0]\n",
    "                idx += 1\n",
    "                print(idx, closest, 'evaporated!')\n",
    "                if idx == 200:\n",
    "                    r, c = closest[1]\n",
    "                    return c*100+r\n",
    "                \n",
    "                del targets[angle][0]\n",
    "            else:\n",
    "                del targets[angle]   \n",
    "        \n",
    "        \n",
    "lx = partB(testcase, 3, 8)"
   ]
  },
  {
   "cell_type": "code",
   "execution_count": 210,
   "metadata": {},
   "outputs": [
    {
     "name": "stdout",
     "output_type": "stream",
     "text": [
      "1 (25, (3, 5)) evaporated!\n",
      "2 (65, (0, 6)) evaporated!\n",
      "3 (37, (2, 6)) evaporated!\n",
      "4 (26, (3, 6)) evaporated!\n",
      "5 (40, (2, 7)) evaporated!\n",
      "6 (73, (0, 8)) evaporated!\n",
      "7 (29, (3, 7)) evaporated!\n",
      "8 (45, (2, 8)) evaporated!\n",
      "9 (13, (5, 7)) evaporated!\n",
      "10 (25, (5, 9)) evaporated!\n",
      "11 (13, (6, 8)) evaporated!\n",
      "12 (5, (7, 7)) evaporated!\n",
      "13 (10, (7, 8)) evaporated!\n",
      "14 (17, (7, 9)) evaporated!\n",
      "15 (9, (8, 8)) evaporated!\n",
      "16 (17, (9, 9)) evaporated!\n",
      "17 (10, (9, 8)) evaporated!\n",
      "18 (5, (9, 7)) evaporated!\n",
      "19 (2, (9, 6)) evaporated!\n",
      "20 (17, (9, 1)) evaporated!\n",
      "21 (16, (8, 1)) evaporated!\n",
      "22 (17, (7, 1)) evaporated!\n",
      "23 (10, (7, 2)) evaporated!\n",
      "24 (29, (6, 0)) evaporated!\n",
      "25 (2, (7, 4)) evaporated!\n",
      "26 (41, (3, 1)) evaporated!\n",
      "27 (74, (1, 0)) evaporated!\n",
      "28 (45, (2, 2)) evaporated!\n",
      "29 (29, (3, 3)) evaporated!\n",
      "30 (40, (2, 3)) evaporated!\n",
      "31 (53, (1, 3)) evaporated!\n",
      "32 (17, (4, 4)) evaporated!\n",
      "33 (37, (2, 4)) evaporated!\n",
      "34 (36, (2, 5)) evaporated!\n",
      "35 (25, (8, 0)) evaporated!\n",
      "36 (8, (6, 3)) evaporated!\n",
      "37 (49, (1, 5)) evaporated!\n",
      "38 (18, (5, 2)) evaporated!\n",
      "39 (32, (4, 1)) evaporated!\n"
     ]
    }
   ],
   "source": [
    "partB(test2, 8, 5)"
   ]
  },
  {
   "cell_type": "code",
   "execution_count": 211,
   "metadata": {},
   "outputs": [
    {
     "data": {
      "text/plain": [
       "((20, 31), 319)"
      ]
     },
     "execution_count": 211,
     "metadata": {},
     "output_type": "execute_result"
    }
   ],
   "source": [
    "partA(inp)"
   ]
  },
  {
   "cell_type": "code",
   "execution_count": 212,
   "metadata": {},
   "outputs": [
    {
     "name": "stdout",
     "output_type": "stream",
     "text": [
      "1 (25, (15, 31)) evaporated!\n",
      "2 (290, (3, 32)) evaporated!\n",
      "3 (197, (6, 32)) evaporated!\n",
      "4 (170, (7, 32)) evaporated!\n",
      "5 (365, (1, 33)) evaporated!\n",
      "6 (260, (4, 33)) evaporated!\n",
      "7 (229, (5, 33)) evaporated!\n",
      "8 (50, (13, 32)) evaporated!\n",
      "9 (173, (7, 33)) evaporated!\n",
      "10 (205, (6, 34)) evaporated!\n",
      "11 (85, (11, 33)) evaporated!\n",
      "12 (272, (4, 35)) evaporated!\n",
      "13 (185, (7, 35)) evaporated!\n",
      "14 (449, (0, 38)) evaporated!\n",
      "15 (373, (2, 38)) evaporated!\n",
      "16 (116, (10, 35)) evaporated!\n",
      "17 (232, (6, 37)) evaporated!\n",
      "18 (205, (7, 37)) evaporated!\n",
      "19 (353, (3, 39)) evaporated!\n",
      "20 (180, (8, 37)) evaporated!\n",
      "21 (289, (5, 39)) evaporated!\n",
      "22 (260, (6, 39)) evaporated!\n",
      "23 (74, (13, 36)) evaporated!\n",
      "24 (25, (16, 34)) evaporated!\n",
      "25 (41, (15, 35)) evaporated!\n",
      "26 (113, (12, 38)) evaporated!\n",
      "27 (145, (11, 39)) evaporated!\n",
      "28 (25, (17, 35)) evaporated!\n",
      "29 (5, (19, 33)) evaporated!\n",
      "30 (58, (17, 38)) evaporated!\n",
      "31 (29, (18, 36)) evaporated!\n",
      "32 (53, (18, 38)) evaporated!\n",
      "33 (68, (18, 39)) evaporated!\n",
      "34 (50, (19, 38)) evaporated!\n",
      "35 (1, (20, 32)) evaporated!\n",
      "36 (17, (21, 35)) evaporated!\n",
      "37 (10, (21, 34)) evaporated!\n",
      "38 (73, (23, 39)) evaporated!\n",
      "39 (58, (23, 38)) evaporated!\n",
      "40 (25, (23, 35)) evaporated!\n",
      "41 (61, (25, 37)) evaporated!\n",
      "42 (18, (23, 34)) evaporated!\n",
      "43 (41, (25, 35)) evaporated!\n",
      "44 (13, (23, 33)) evaporated!\n",
      "45 (233, (33, 39)) evaporated!\n",
      "46 (193, (32, 38)) evaporated!\n",
      "47 (157, (31, 37)) evaporated!\n",
      "48 (45, (26, 34)) evaporated!\n",
      "49 (353, (37, 39)) evaporated!\n",
      "50 (205, (33, 37)) evaporated!\n",
      "51 (232, (34, 37)) evaporated!\n",
      "52 (169, (32, 36)) evaporated!\n",
      "53 (261, (35, 37)) evaporated!\n",
      "54 (194, (33, 36)) evaporated!\n",
      "55 (292, (36, 37)) evaporated!\n",
      "56 (53, (27, 33)) evaporated!\n",
      "57 (349, (38, 36)) evaporated!\n",
      "58 (386, (39, 36)) evaporated!\n",
      "59 (85, (29, 33)) evaporated!\n",
      "60 (205, (34, 34)) evaporated!\n",
      "61 (234, (35, 34)) evaporated!\n",
      "62 (125, (31, 33)) evaporated!\n",
      "63 (37, (26, 32)) evaporated!\n",
      "64 (173, (33, 33)) evaporated!\n",
      "65 (82, (29, 32)) evaporated!\n",
      "66 (290, (37, 32)) evaporated!\n",
      "67 (325, (38, 32)) evaporated!\n",
      "68 (362, (39, 32)) evaporated!\n",
      "69 (1, (21, 31)) evaporated!\n",
      "70 (101, (30, 30)) evaporated!\n",
      "71 (328, (38, 29)) evaporated!\n",
      "72 (293, (37, 29)) evaporated!\n",
      "73 (229, (35, 29)) evaporated!\n",
      "74 (200, (34, 29)) evaporated!\n",
      "75 (298, (37, 28)) evaporated!\n",
      "76 (265, (36, 28)) evaporated!\n",
      "77 (26, (25, 30)) evaporated!\n",
      "78 (205, (34, 28)) evaporated!\n",
      "79 (340, (38, 27)) evaporated!\n",
      "80 (17, (24, 30)) evaporated!\n",
      "81 (386, (39, 26)) evaporated!\n",
      "82 (349, (38, 26)) evaporated!\n",
      "83 (10, (23, 30)) evaporated!\n",
      "84 (292, (36, 25)) evaporated!\n",
      "85 (373, (38, 24)) evaporated!\n",
      "86 (58, (27, 28)) evaporated!\n",
      "87 (274, (35, 24)) evaporated!\n",
      "88 (353, (37, 23)) evaporated!\n",
      "89 (20, (24, 29)) evaporated!\n",
      "90 (370, (37, 22)) evaporated!\n",
      "91 (337, (36, 22)) evaporated!\n",
      "92 (389, (37, 21)) evaporated!\n",
      "93 (136, (30, 25)) evaporated!\n",
      "94 (117, (29, 25)) evaporated!\n",
      "95 (377, (36, 20)) evaporated!\n",
      "96 (493, (38, 18)) evaporated!\n",
      "97 (100, (28, 25)) evaporated!\n",
      "98 (458, (37, 18)) evaporated!\n",
      "99 (202, (31, 22)) evaporated!\n",
      "100 (340, (34, 19)) evaporated!\n",
      "101 (452, (36, 17)) evaporated!\n",
      "102 (145, (29, 23)) evaporated!\n",
      "103 (650, (39, 14)) evaporated!\n",
      "104 (181, (30, 22)) evaporated!\n",
      "105 (481, (36, 16)) evaporated!\n",
      "106 (32, (24, 27)) evaporated!\n",
      "107 (685, (38, 12)) evaporated!\n",
      "108 (545, (36, 14)) evaporated!\n",
      "109 (221, (30, 20)) evaporated!\n",
      "110 (113, (27, 23)) evaporated!\n",
      "111 (845, (39, 9)) evaporated!\n",
      "112 (689, (37, 11)) evaporated!\n",
      "113 (617, (36, 12)) evaporated!\n",
      "114 (61, (25, 25)) evaporated!\n",
      "115 (890, (39, 8)) evaporated!\n",
      "116 (485, (34, 14)) evaporated!\n",
      "117 (41, (24, 26)) evaporated!\n",
      "118 (317, (31, 17)) evaporated!\n",
      "119 (853, (38, 8)) evaporated!\n",
      "120 (520, (34, 13)) evaporated!\n",
      "121 (773, (37, 9)) evaporated!\n",
      "122 (596, (34, 11)) evaporated!\n",
      "123 (709, (35, 9)) evaporated!\n",
      "124 (13, (22, 28)) evaporated!\n",
      "125 (1202, (39, 2)) evaporated!\n",
      "126 (1108, (38, 3)) evaporated!\n",
      "127 (89, (25, 23)) evaporated!\n",
      "128 (1322, (39, 0)) evaporated!\n",
      "129 (482, (31, 12)) evaporated!\n",
      "130 (260, (28, 17)) evaporated!\n",
      "131 (698, (33, 8)) evaporated!\n",
      "132 (821, (34, 6)) evaporated!\n",
      "133 (1250, (37, 0)) evaporated!\n",
      "134 (872, (34, 5)) evaporated!\n",
      "135 (562, (31, 10)) evaporated!\n",
      "136 (673, (32, 8)) evaporated!\n",
      "137 (794, (33, 6)) evaporated!\n",
      "138 (80, (24, 23)) evaporated!\n",
      "139 (353, (28, 14)) evaporated!\n",
      "140 (820, (32, 5)) evaporated!\n",
      "141 (697, (31, 7)) evaporated!\n",
      "142 (584, (30, 9)) evaporated!\n",
      "143 (481, (29, 11)) evaporated!\n",
      "144 (97, (24, 22)) evaporated!\n",
      "145 (746, (31, 6)) evaporated!\n",
      "146 (232, (26, 17)) evaporated!\n",
      "147 (1130, (33, 0)) evaporated!\n",
      "148 (985, (32, 2)) evaporated!\n",
      "149 (565, (29, 9)) evaporated!\n",
      "150 (1105, (32, 0)) evaporated!\n",
      "151 (194, (25, 18)) evaporated!\n",
      "152 (593, (28, 8)) evaporated!\n",
      "153 (757, (29, 5)) evaporated!\n",
      "154 (941, (30, 2)) evaporated!\n",
      "155 (10, (21, 28)) evaporated!\n",
      "156 (865, (29, 3)) evaporated!\n",
      "157 (689, (28, 6)) evaporated!\n",
      "158 (281, (25, 15)) evaporated!\n",
      "159 (436, (26, 11)) evaporated!\n",
      "160 (793, (28, 4)) evaporated!\n",
      "161 (1042, (29, 0)) evaporated!\n",
      "162 (53, (22, 24)) evaporated!\n",
      "163 (905, (28, 2)) evaporated!\n",
      "164 (612, (26, 7)) evaporated!\n",
      "165 (890, (27, 2)) evaporated!\n",
      "166 (305, (24, 14)) evaporated!\n",
      "167 (949, (27, 1)) evaporated!\n",
      "168 (178, (23, 18)) evaporated!\n",
      "169 (1010, (27, 0)) evaporated!\n",
      "170 (377, (24, 12)) evaporated!\n",
      "171 (234, (23, 16)) evaporated!\n",
      "172 (997, (26, 0)) evaporated!\n",
      "173 (500, (24, 9)) evaporated!\n",
      "174 (37, (21, 25)) evaporated!\n",
      "175 (173, (22, 18)) evaporated!\n",
      "176 (50, (21, 24)) evaporated!\n",
      "177 (229, (22, 16)) evaporated!\n",
      "178 (538, (23, 8)) evaporated!\n",
      "179 (445, (22, 10)) evaporated!\n",
      "180 (488, (22, 9)) evaporated!\n",
      "181 (580, (22, 7)) evaporated!\n",
      "182 (257, (21, 15)) evaporated!\n",
      "183 (325, (21, 13)) evaporated!\n",
      "184 (401, (21, 11)) evaporated!\n",
      "185 (530, (21, 8)) evaporated!\n",
      "186 (785, (21, 3)) evaporated!\n",
      "187 (4, (20, 29)) evaporated!\n",
      "188 (677, (19, 5)) evaporated!\n",
      "189 (485, (19, 9)) evaporated!\n",
      "190 (442, (19, 10)) evaporated!\n",
      "191 (325, (19, 13)) evaporated!\n",
      "192 (965, (18, 0)) evaporated!\n",
      "193 (733, (18, 4)) evaporated!\n",
      "194 (170, (19, 18)) evaporated!\n",
      "195 (580, (18, 7)) evaporated!\n",
      "196 (122, (19, 20)) evaporated!\n",
      "197 (445, (18, 10)) evaporated!\n",
      "198 (365, (18, 12)) evaporated!\n",
      "199 (82, (19, 22)) evaporated!\n",
      "200 (685, (17, 5)) evaporated!\n"
     ]
    },
    {
     "data": {
      "text/plain": [
       "517"
      ]
     },
     "execution_count": 212,
     "metadata": {},
     "output_type": "execute_result"
    }
   ],
   "source": [
    "partB(inp, 20, 31)"
   ]
  },
  {
   "cell_type": "code",
   "execution_count": null,
   "metadata": {},
   "outputs": [],
   "source": []
  }
 ],
 "metadata": {
  "kernelspec": {
   "display_name": "Python 3",
   "language": "python",
   "name": "python3"
  },
  "language_info": {
   "codemirror_mode": {
    "name": "ipython",
    "version": 3
   },
   "file_extension": ".py",
   "mimetype": "text/x-python",
   "name": "python",
   "nbconvert_exporter": "python",
   "pygments_lexer": "ipython3",
   "version": "3.8.1"
  }
 },
 "nbformat": 4,
 "nbformat_minor": 4
}
