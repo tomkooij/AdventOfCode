{
 "cells": [
  {
   "cell_type": "code",
   "execution_count": 1,
   "metadata": {},
   "outputs": [],
   "source": [
    "import re\n",
    "\n",
    "from itertools import cycle, combinations, permutations\n",
    "from collections import Counter, defaultdict, deque\n",
    "from io import StringIO\n",
    "\n",
    "def read_input(day, fn=str.strip):\n",
    "    \"\"\"\n",
    "    Return a list of the input lines mapped by fn\n",
    "    \n",
    "    example: \n",
    "    >>> read_input('01', int)  # read input file, map all lines to int\n",
    "    \n",
    "    Inspired by Peter Norvig: https://github.com/norvig/pytudes\n",
    "    \n",
    "    \"\"\"\n",
    "    return list(map(fn, open(f'input\\{day}.txt')))\n",
    "\n",
    "def all_integers(s):\n",
    "    \"\"\"return all integers from a string\"\"\"\n",
    "    return tuple(map(int, re.findall(r'-?\\d+', s)))"
   ]
  },
  {
   "cell_type": "markdown",
   "metadata": {},
   "source": [
    "# Day 1"
   ]
  },
  {
   "cell_type": "code",
   "execution_count": 2,
   "metadata": {},
   "outputs": [],
   "source": [
    "def div3add2(x):\n",
    "    return x // 3 - 2\n",
    "assert div3add2(12) == 2"
   ]
  },
  {
   "cell_type": "code",
   "execution_count": 3,
   "metadata": {},
   "outputs": [],
   "source": [
    "def total_fuel(m):\n",
    "    fuel = 0\n",
    "    while m > 0:\n",
    "        #print(m, fuel)\n",
    "        m = div3add2(m)\n",
    "        if m > 0:\n",
    "            fuel += m\n",
    "    return fuel\n",
    "assert total_fuel(1969) == 966"
   ]
  },
  {
   "cell_type": "code",
   "execution_count": 4,
   "metadata": {},
   "outputs": [
    {
     "data": {
      "text/plain": [
       "3318604"
      ]
     },
     "execution_count": 4,
     "metadata": {},
     "output_type": "execute_result"
    }
   ],
   "source": [
    "# part 1\n",
    "sum(map(div3add2, read_input('01', int)))"
   ]
  },
  {
   "cell_type": "code",
   "execution_count": 5,
   "metadata": {},
   "outputs": [],
   "source": [
    "# part 2"
   ]
  },
  {
   "cell_type": "code",
   "execution_count": 6,
   "metadata": {},
   "outputs": [
    {
     "data": {
      "text/plain": [
       "4975039"
      ]
     },
     "execution_count": 6,
     "metadata": {},
     "output_type": "execute_result"
    }
   ],
   "source": [
    "sum(map(total_fuel, read_input('01', int)))"
   ]
  },
  {
   "cell_type": "markdown",
   "metadata": {},
   "source": [
    "# Day 2\n"
   ]
  },
  {
   "cell_type": "code",
   "execution_count": 7,
   "metadata": {},
   "outputs": [
    {
     "data": {
      "text/plain": [
       "30"
      ]
     },
     "execution_count": 7,
     "metadata": {},
     "output_type": "execute_result"
    }
   ],
   "source": [
    "def solve(ins): \n",
    "    ip = 0\n",
    "    #while True:\n",
    "    for _ in range(500):\n",
    "        #print(ins)\n",
    "        if ins[ip] == 99:\n",
    "            return ins[0]\n",
    "\n",
    "        opcode = ins[ip]\n",
    "        a = ins[ins[ip+1]]\n",
    "        b = ins[ins[ip+2]]\n",
    "        res = ins[ip+3]\n",
    "        #print(f\"{opcode} {a} {b} {res}\")\n",
    "        if opcode == 1:\n",
    "            ins[res] = a + b \n",
    "        elif opcode == 2:\n",
    "            ins[res] = a * b\n",
    "        else:\n",
    "            return -1\n",
    "            #assert False, \"illegal instruction\"\n",
    "        ip += 4\n",
    "\n",
    "testcase = list(all_integers(\"1,9,10,3,2,3,11,0,99,30,40,50\")) \n",
    "testcase = list(all_integers(\"1,1,1,4,99,5,6,0,99\"))\n",
    "\n",
    "solve(testcase)"
   ]
  },
  {
   "cell_type": "code",
   "execution_count": 8,
   "metadata": {},
   "outputs": [
    {
     "data": {
      "text/plain": [
       "10566835"
      ]
     },
     "execution_count": 8,
     "metadata": {},
     "output_type": "execute_result"
    }
   ],
   "source": [
    "# part 1\n",
    "opcodes = list(read_input('02', all_integers)[0])\n",
    "opcodes[1] = 12\n",
    "opcodes[2] = 2\n",
    "solve(opcodes)"
   ]
  },
  {
   "cell_type": "code",
   "execution_count": 9,
   "metadata": {},
   "outputs": [
    {
     "name": "stdout",
     "output_type": "stream",
     "text": [
      "2347\n"
     ]
    }
   ],
   "source": [
    "TARGET = 19690720\n",
    "for noun, verb in permutations(range(100), 2):\n",
    "    opcodes = list(read_input('02', all_integers)[0])  # too lazy to deepcopy\n",
    "    opcodes[1] = noun\n",
    "    opcodes[2] = verb\n",
    "    res = solve(opcodes)\n",
    "    if res == TARGET:\n",
    "        print(100*noun+verb)\n",
    "        break\n"
   ]
  },
  {
   "cell_type": "markdown",
   "metadata": {},
   "source": [
    "# Day 3\n",
    "\n",
    "\n"
   ]
  },
  {
   "cell_type": "code",
   "execution_count": 10,
   "metadata": {},
   "outputs": [],
   "source": [
    "testcase1 = [\"R8,U5,L5,D3\", \"U7,R6,D4,L4\"]"
   ]
  },
  {
   "cell_type": "code",
   "execution_count": 11,
   "metadata": {},
   "outputs": [],
   "source": [
    "next_pos = {'U': lambda x,y: (x, y + 1),\n",
    "            'D': lambda x,y: (x, y - 1), \n",
    "            'L': lambda x,y: (x - 1, y),\n",
    "            'R': lambda x,y: (x + 1, y)}"
   ]
  },
  {
   "cell_type": "code",
   "execution_count": 12,
   "metadata": {},
   "outputs": [
    {
     "data": {
      "text/plain": [
       "6"
      ]
     },
     "execution_count": 12,
     "metadata": {},
     "output_type": "execute_result"
    }
   ],
   "source": [
    "def parse(lines):\n",
    "    return [s.split(',') for s in lines]\n",
    "\n",
    "def create_path(cmds):  \n",
    "    visited = list()\n",
    "    pos = (0, 0)\n",
    "    for cmd in cmds:\n",
    "        d = cmd[0]\n",
    "        n = int(cmd[1:])\n",
    "        for _ in range(n):\n",
    "            pos = next_pos[d](*pos)\n",
    "            visited.append(pos)\n",
    "    return visited\n",
    "\n",
    "def manhattan_distance(X1, Y1, X2 = 0, Y2 = 0):\n",
    "    return abs(Y2 - Y1) + abs(X2 - X1)\n",
    "\n",
    "def solve(input_string):\n",
    "    cmds = parse(input_string)\n",
    "    paths = [set(create_path(cmd)) for cmd in cmds]\n",
    "    sols = set.intersection(*paths)\n",
    "    return min([manhattan_distance(*t) for t in sols])\n",
    "\n",
    "solve(testcase1)\n"
   ]
  },
  {
   "cell_type": "code",
   "execution_count": 13,
   "metadata": {},
   "outputs": [
    {
     "data": {
      "text/plain": [
       "308"
      ]
     },
     "execution_count": 13,
     "metadata": {},
     "output_type": "execute_result"
    }
   ],
   "source": [
    "# part 1\n",
    "solve(read_input('03'))\n"
   ]
  },
  {
   "cell_type": "code",
   "execution_count": 14,
   "metadata": {},
   "outputs": [
    {
     "data": {
      "text/plain": [
       "30"
      ]
     },
     "execution_count": 14,
     "metadata": {},
     "output_type": "execute_result"
    }
   ],
   "source": [
    "def solve_partB(input_string):\n",
    "    cmds = parse(input_string)\n",
    "    paths = [create_path(cmd) for cmd in cmds] \n",
    "    set_paths = [set(path) for path in paths]\n",
    "    intersections = set.intersection(*set_paths)\n",
    "    sol = map(sum, [[path.index(intersection) + 1 for path in paths] for intersection in intersections])\n",
    "    return min(sol)\n",
    "\n",
    "solve_partB(testcase1)"
   ]
  },
  {
   "cell_type": "code",
   "execution_count": 15,
   "metadata": {},
   "outputs": [
    {
     "data": {
      "text/plain": [
       "12934"
      ]
     },
     "execution_count": 15,
     "metadata": {},
     "output_type": "execute_result"
    }
   ],
   "source": [
    "solve_partB(read_input('03'))\n"
   ]
  },
  {
   "cell_type": "markdown",
   "metadata": {},
   "source": [
    "# Day 4"
   ]
  },
  {
   "cell_type": "code",
   "execution_count": 16,
   "metadata": {},
   "outputs": [
    {
     "data": {
      "text/plain": [
       "(True, False, False)"
      ]
     },
     "execution_count": 16,
     "metadata": {},
     "output_type": "execute_result"
    }
   ],
   "source": [
    "def is_valid(s):\n",
    "    if sorted(s) != list(s):\n",
    "        return False\n",
    "    if max(Counter(s).values()) == 1:\n",
    "        return False\n",
    "    return True\n",
    "\n",
    "is_valid('111111'), is_valid('223450'), is_valid('123789')    "
   ]
  },
  {
   "cell_type": "code",
   "execution_count": 17,
   "metadata": {},
   "outputs": [],
   "source": [
    "START = 123257\n",
    "END = 647015"
   ]
  },
  {
   "cell_type": "code",
   "execution_count": 18,
   "metadata": {},
   "outputs": [
    {
     "data": {
      "text/plain": [
       "2220"
      ]
     },
     "execution_count": 18,
     "metadata": {},
     "output_type": "execute_result"
    }
   ],
   "source": [
    "sum((is_valid(str(i)) for i in range(START, END+1)))"
   ]
  },
  {
   "cell_type": "code",
   "execution_count": 19,
   "metadata": {},
   "outputs": [
    {
     "data": {
      "text/plain": [
       "(True, False, True)"
      ]
     },
     "execution_count": 19,
     "metadata": {},
     "output_type": "execute_result"
    }
   ],
   "source": [
    "# part 2\n",
    "def is_valid(s):\n",
    "    if sorted(s) != list(s):\n",
    "        return False\n",
    "    if 2 not in Counter(s).values():\n",
    "        return False\n",
    "    return True\n",
    "\n",
    "is_valid('112233'), is_valid('123444'), is_valid('111122')    "
   ]
  },
  {
   "cell_type": "code",
   "execution_count": 20,
   "metadata": {},
   "outputs": [
    {
     "data": {
      "text/plain": [
       "1515"
      ]
     },
     "execution_count": 20,
     "metadata": {},
     "output_type": "execute_result"
    }
   ],
   "source": [
    "sum((is_valid(str(i)) for i in range(START, END+1)))"
   ]
  },
  {
   "cell_type": "code",
   "execution_count": 21,
   "metadata": {},
   "outputs": [
    {
     "data": {
      "text/plain": [
       "(2220, 1515)"
      ]
     },
     "execution_count": 21,
     "metadata": {},
     "output_type": "execute_result"
    }
   ],
   "source": [
    "# part A and codegolf:\n",
    "def is_sorted(s):\n",
    "    return sorted(s) == list(s)\n",
    "\n",
    "n = [str(i) for i in range(START, END+1)]\n",
    "sorted_n = [s for s in n if is_sorted(s)]\n",
    "sum((max(Counter(s).values()) > 1 for s in sorted_n)), sum((2 in Counter(s).values() for s in sorted_n))"
   ]
  },
  {
   "cell_type": "markdown",
   "metadata": {},
   "source": [
    "# Day 5"
   ]
  },
  {
   "cell_type": "code",
   "execution_count": 22,
   "metadata": {},
   "outputs": [
    {
     "data": {
      "text/plain": [
       "((1, 2, 3, 45), (0, 0, 0, 1), (0, 1, 0, 2))"
      ]
     },
     "execution_count": 22,
     "metadata": {},
     "output_type": "execute_result"
    }
   ],
   "source": [
    "def decode(instruction):\n",
    "    opcode = instruction % 100\n",
    "    A = instruction % 100000 // 10000\n",
    "    B = instruction % 10000 // 1000\n",
    "    C = instruction % 1000 // 100\n",
    "    return A, B, C, opcode\n",
    "decode(12345), decode(1), decode(1002)"
   ]
  },
  {
   "cell_type": "code",
   "execution_count": 23,
   "metadata": {},
   "outputs": [],
   "source": [
    "def get_input():\n",
    "    while True:\n",
    "        print('INPUT!')\n",
    "        yield 0"
   ]
  },
  {
   "cell_type": "code",
   "execution_count": 24,
   "metadata": {},
   "outputs": [],
   "source": [
    "from copy import deepcopy\n",
    "\n",
    "class IntCode(object):\n",
    "    \n",
    "    ip = 0\n",
    "    output = None\n",
    "    \n",
    "    def __init__(self, program, input=None, debug=False):\n",
    "        self.mem = deepcopy(program)\n",
    "        self.input = iter(input)\n",
    "        self.debug = debug\n",
    "    \n",
    "    def get_opcode(self):\n",
    "        self.ip += 1\n",
    "        instruction = self.mem[self.ip]\n",
    "        if self.debug:\n",
    "            print(f'ins = {instruction} {self.mem[self.ip:self.ip+4]}')\n",
    "        opcode = instruction % 100\n",
    "        A = instruction % 100000 // 10000\n",
    "        B = instruction % 10000 // 1000\n",
    "        C = instruction % 1000 // 100\n",
    "        self.modes = [A, B, C]\n",
    "        return opcode\n",
    "    \n",
    "    def load(self):\n",
    "        self.ip += 1\n",
    "        value = self.mem[self.ip]\n",
    "        mode = self.modes.pop()\n",
    "        #print(f'load: {value} {mode} {self.modes}')\n",
    "        if mode == 0:\n",
    "            #print(f'load {self.mem[value]}')\n",
    "            return self.mem[value]\n",
    "        if mode == 1:\n",
    "            return value\n",
    "        assert False, f'wrong mode for load: {mode}'\n",
    "\n",
    "    def store(self, value):\n",
    "        self.ip += 1\n",
    "        mode = self.modes.pop()\n",
    "        #print(f'store {self.mem[self.ip]} {mode} {self.modes}')\n",
    "        if mode == 0:\n",
    "            self.mem[self.mem[self.ip]] = value\n",
    "            #print(self.mem)\n",
    "            return\n",
    "        assert False, f'wrong mode for store: {mode}'\n",
    "        \n",
    "    def run(self, ip = 0):\n",
    "        self.ip = ip - 1\n",
    "        while True:\n",
    "            opcode = self.get_opcode()\n",
    "            if opcode == 1:\n",
    "                self.store(self.load() + self.load())\n",
    "            elif opcode == 2:\n",
    "                self.store(self.load() * self.load())\n",
    "            elif opcode == 3:\n",
    "                self.store(next(self.input))  \n",
    "            elif opcode == 4:\n",
    "                self.output = self.load()\n",
    "                #print(f'>>> output: {self.output}')\n",
    "            elif opcode == 5:  # jmp if true\n",
    "                if self.load():\n",
    "                    self.ip = self.load() - 1\n",
    "                else:\n",
    "                    self.ip += 1\n",
    "            elif opcode == 6:  # jmp if false\n",
    "                if not self.load():\n",
    "                    self.ip = self.load() - 1\n",
    "                else:\n",
    "                    self.ip += 1\n",
    "            elif opcode == 7:  # less than\n",
    "                val = 1 if self.load() < self.load() else 0\n",
    "                self.store(val)\n",
    "            elif opcode == 8:  # equal\n",
    "                val = 1 if self.load() == self.load() else 0\n",
    "                self.store(val)    \n",
    "            elif opcode == 99:\n",
    "                return self.output\n",
    "            else:\n",
    "                assert False, f'fail @ ip={self.ip}'  \n",
    "    "
   ]
  },
  {
   "cell_type": "code",
   "execution_count": 25,
   "metadata": {},
   "outputs": [
    {
     "name": "stdout",
     "output_type": "stream",
     "text": [
      "ins = 3 [3, 3, 1107, -1]\n",
      "ins = 1107 [1107, -15, 8, 3]\n",
      "ins = 4 [4, 3, 99]\n",
      "ins = 99 [99]\n"
     ]
    },
    {
     "data": {
      "text/plain": [
       "1"
      ]
     },
     "execution_count": 25,
     "metadata": {},
     "output_type": "execute_result"
    }
   ],
   "source": [
    "program = [3,3,1107,-1,8,3,4,3,99]\n",
    "IntCode(program, input=[-15], debug=True).run()"
   ]
  },
  {
   "cell_type": "code",
   "execution_count": 26,
   "metadata": {},
   "outputs": [
    {
     "name": "stdout",
     "output_type": "stream",
     "text": [
      "ins = 3 [3, 3, 1107, -1]\n",
      "ins = 1107 [1107, -15, 8, 3]\n",
      "ins = 4 [4, 3, 99]\n",
      "ins = 99 [99]\n"
     ]
    },
    {
     "data": {
      "text/plain": [
       "1"
      ]
     },
     "execution_count": 26,
     "metadata": {},
     "output_type": "execute_result"
    }
   ],
   "source": [
    "IntCode(program, input=[-15], debug=True).run()"
   ]
  },
  {
   "cell_type": "code",
   "execution_count": 27,
   "metadata": {},
   "outputs": [
    {
     "name": "stdout",
     "output_type": "stream",
     "text": [
      "ins = 3 [3, 21, 1008, 21]\n",
      "ins = 1008 [1008, 21, 8, 20]\n",
      "ins = 1005 [1005, 20, 22, 107]\n",
      "ins = 107 [107, 8, 21, 20]\n",
      "ins = 1006 [1006, 20, 31, 1106]\n",
      "ins = 1106 [1106, 0, 36, 98]\n",
      "ins = 1101 [1101, 1000, 1, 20]\n",
      "ins = 4 [4, 20, 1105, 1]\n",
      "ins = 1105 [1105, 1, 46, 98]\n",
      "ins = 99 [99]\n"
     ]
    },
    {
     "data": {
      "text/plain": [
       "1001"
      ]
     },
     "execution_count": 27,
     "metadata": {},
     "output_type": "execute_result"
    }
   ],
   "source": [
    "program = [3,21,1008,21,8,20,1005,20,22,107,8,21,20,1006,20,31,\n",
    "1106,0,36,98,0,0,1002,21,125,20,4,20,1105,1,46,104,\n",
    "999,1105,1,46,1101,1000,1,20,4,20,1105,1,46,98,99]\n",
    "IntCode(program, input=[18], debug=True).run()"
   ]
  },
  {
   "cell_type": "code",
   "execution_count": 28,
   "metadata": {},
   "outputs": [
    {
     "data": {
      "text/plain": [
       "13818007"
      ]
     },
     "execution_count": 28,
     "metadata": {},
     "output_type": "execute_result"
    }
   ],
   "source": [
    "#part A\n",
    "program = list(read_input('05', all_integers)[0])\n",
    "IntCode(program, input=[1]).run()"
   ]
  },
  {
   "cell_type": "code",
   "execution_count": 29,
   "metadata": {},
   "outputs": [
    {
     "data": {
      "text/plain": [
       "3176266"
      ]
     },
     "execution_count": 29,
     "metadata": {},
     "output_type": "execute_result"
    }
   ],
   "source": [
    "# part B\n",
    "program = list(read_input('05', all_integers)[0])\n",
    "IntCode(program, input=[5]).run()"
   ]
  },
  {
   "cell_type": "markdown",
   "metadata": {},
   "source": [
    "# Day 6"
   ]
  },
  {
   "cell_type": "code",
   "execution_count": 30,
   "metadata": {},
   "outputs": [],
   "source": [
    "testcase1 = \"\"\"COM)B\n",
    "B)C\n",
    "C)D\n",
    "D)E\n",
    "E)F\n",
    "B)G\n",
    "G)H\n",
    "D)I\n",
    "E)J\n",
    "J)K\n",
    "K)L\"\"\""
   ]
  },
  {
   "cell_type": "code",
   "execution_count": 31,
   "metadata": {},
   "outputs": [
    {
     "data": {
      "text/plain": [
       "[['COM', 'B'],\n",
       " ['B', 'C'],\n",
       " ['C', 'D'],\n",
       " ['D', 'E'],\n",
       " ['E', 'F'],\n",
       " ['B', 'G'],\n",
       " ['G', 'H'],\n",
       " ['D', 'I'],\n",
       " ['E', 'J'],\n",
       " ['J', 'K'],\n",
       " ['K', 'L']]"
      ]
     },
     "execution_count": 31,
     "metadata": {},
     "output_type": "execute_result"
    }
   ],
   "source": [
    "def parse(line):\n",
    "    return line.strip('\\n').split(')')\n",
    "\n",
    "with StringIO(testcase1) as f:\n",
    "    testcase = list(map(parse, f))\n",
    "testcase"
   ]
  },
  {
   "cell_type": "code",
   "execution_count": 32,
   "metadata": {},
   "outputs": [
    {
     "data": {
      "text/plain": [
       "{'B': 'COM',\n",
       " 'C': 'B',\n",
       " 'D': 'C',\n",
       " 'E': 'D',\n",
       " 'F': 'E',\n",
       " 'G': 'B',\n",
       " 'H': 'G',\n",
       " 'I': 'D',\n",
       " 'J': 'E',\n",
       " 'K': 'J',\n",
       " 'L': 'K'}"
      ]
     },
     "execution_count": 32,
     "metadata": {},
     "output_type": "execute_result"
    }
   ],
   "source": [
    "tree = {orbit: planet for planet, orbit in testcase}\n",
    "tree"
   ]
  },
  {
   "cell_type": "code",
   "execution_count": 33,
   "metadata": {},
   "outputs": [
    {
     "name": "stdout",
     "output_type": "stream",
     "text": [
      "42\n"
     ]
    }
   ],
   "source": [
    "c = 0\n",
    "for orbit in tree.keys():\n",
    "    p = tree.get(orbit, None)\n",
    "    while p:\n",
    "        c += 1\n",
    "        p = tree.get(p, None)\n",
    "print(c)"
   ]
  },
  {
   "cell_type": "code",
   "execution_count": 34,
   "metadata": {},
   "outputs": [
    {
     "name": "stdout",
     "output_type": "stream",
     "text": [
      "135690\n"
     ]
    }
   ],
   "source": [
    "input = [s.split(')') for s in read_input('06')]\n",
    "tree = {orbit: planet for planet, orbit in input}\n",
    "c = 0\n",
    "for orbit in tree.keys():\n",
    "    p = tree.get(orbit, None)\n",
    "    while p:\n",
    "        c += 1\n",
    "        p = tree.get(p, None)\n",
    "print(c)\n"
   ]
  },
  {
   "cell_type": "code",
   "execution_count": 35,
   "metadata": {},
   "outputs": [],
   "source": [
    "testcase2 = \"\"\"COM)B\n",
    "B)C\n",
    "C)D\n",
    "D)E\n",
    "E)F\n",
    "B)G\n",
    "G)H\n",
    "D)I\n",
    "E)J\n",
    "J)K\n",
    "K)L\n",
    "K)YOU\n",
    "I)SAN\"\"\""
   ]
  },
  {
   "cell_type": "code",
   "execution_count": 36,
   "metadata": {
    "scrolled": true
   },
   "outputs": [
    {
     "data": {
      "text/plain": [
       "[['COM', 'B'],\n",
       " ['B', 'C'],\n",
       " ['C', 'D'],\n",
       " ['D', 'E'],\n",
       " ['E', 'F'],\n",
       " ['B', 'G'],\n",
       " ['G', 'H'],\n",
       " ['D', 'I'],\n",
       " ['E', 'J'],\n",
       " ['J', 'K'],\n",
       " ['K', 'L'],\n",
       " ['K', 'YOU'],\n",
       " ['I', 'SAN']]"
      ]
     },
     "execution_count": 36,
     "metadata": {},
     "output_type": "execute_result"
    }
   ],
   "source": [
    "def parse(line):\n",
    "    return line.strip('\\n').split(')')\n",
    "\n",
    "with StringIO(testcase2) as f:\n",
    "    testcase = list(map(parse, f))\n",
    "testcase"
   ]
  },
  {
   "cell_type": "code",
   "execution_count": 37,
   "metadata": {},
   "outputs": [
    {
     "data": {
      "text/plain": [
       "defaultdict(list,\n",
       "            {'B': ['COM', 'C', 'G'],\n",
       "             'COM': ['B'],\n",
       "             'C': ['B', 'D'],\n",
       "             'D': ['C', 'E', 'I'],\n",
       "             'E': ['D', 'F', 'J'],\n",
       "             'F': ['E'],\n",
       "             'G': ['B', 'H'],\n",
       "             'H': ['G'],\n",
       "             'I': ['D', 'SAN'],\n",
       "             'J': ['E', 'K'],\n",
       "             'K': ['J', 'L', 'YOU'],\n",
       "             'L': ['K'],\n",
       "             'YOU': ['K'],\n",
       "             'SAN': ['I']})"
      ]
     },
     "execution_count": 37,
     "metadata": {},
     "output_type": "execute_result"
    }
   ],
   "source": [
    "tree = defaultdict(list)\n",
    "for planet, orbit in testcase:\n",
    "    tree[orbit].append(planet)\n",
    "    tree[planet].append(orbit)\n",
    "tree"
   ]
  },
  {
   "cell_type": "code",
   "execution_count": 38,
   "metadata": {},
   "outputs": [],
   "source": [
    "def bfs(start, goal, tree):\n",
    "    visited, queue = set(), [(0, start)]\n",
    "    while queue:\n",
    "        moves, pos = queue.pop(0)\n",
    "        #print('queue:', queue)\n",
    "        if pos not in visited:\n",
    "            visited.add(pos)\n",
    "            if pos == goal:\n",
    "                return moves\n",
    "            queue.extend([(moves+1, planet) for planet in tree[pos]])\n"
   ]
  },
  {
   "cell_type": "code",
   "execution_count": 39,
   "metadata": {},
   "outputs": [
    {
     "data": {
      "text/plain": [
       "4"
      ]
     },
     "execution_count": 39,
     "metadata": {},
     "output_type": "execute_result"
    }
   ],
   "source": [
    "bfs(tree['YOU'][0], tree['SAN'][0], tree)"
   ]
  },
  {
   "cell_type": "code",
   "execution_count": 40,
   "metadata": {},
   "outputs": [],
   "source": [
    "tree = defaultdict(list)\n",
    "for planet, orbit in input:\n",
    "    tree[orbit].append(planet)\n",
    "    tree[planet].append(orbit)"
   ]
  },
  {
   "cell_type": "code",
   "execution_count": 41,
   "metadata": {},
   "outputs": [
    {
     "data": {
      "text/plain": [
       "298"
      ]
     },
     "execution_count": 41,
     "metadata": {},
     "output_type": "execute_result"
    }
   ],
   "source": [
    "bfs(tree['YOU'][0], tree['SAN'][0], tree)"
   ]
  },
  {
   "cell_type": "code",
   "execution_count": null,
   "metadata": {},
   "outputs": [],
   "source": []
  },
  {
   "cell_type": "markdown",
   "metadata": {},
   "source": [
    "# Day 7"
   ]
  },
  {
   "cell_type": "code",
   "execution_count": 42,
   "metadata": {},
   "outputs": [],
   "source": [
    "testcase = [3,15,3,16,1002,16,10,16,1,16,15,15,4,15,99,0,0]"
   ]
  },
  {
   "cell_type": "code",
   "execution_count": 43,
   "metadata": {},
   "outputs": [
    {
     "data": {
      "text/plain": [
       "43210"
      ]
     },
     "execution_count": 43,
     "metadata": {},
     "output_type": "execute_result"
    }
   ],
   "source": [
    "def calc(program, phase):\n",
    "    res = 0\n",
    "    for p in phase:\n",
    "        res = IntCode(program, input=[p, res]).run()\n",
    "    \n",
    "    return res\n",
    "\n",
    "calc(testcase, [4, 3, 2, 1, 0])"
   ]
  },
  {
   "cell_type": "code",
   "execution_count": 44,
   "metadata": {},
   "outputs": [
    {
     "data": {
      "text/plain": [
       "60125"
      ]
     },
     "execution_count": 44,
     "metadata": {},
     "output_type": "execute_result"
    }
   ],
   "source": [
    "testcase = [3,31,3,32,1002,32,10,32,1001,31,-2,31,1007,31,0,33,1002,33,7,33,1,33,31,31,1,32,31,31,4,31,99,0,0,0]\n",
    "calc(testcase, [1, 2, 3, 4, 0])"
   ]
  },
  {
   "cell_type": "code",
   "execution_count": 45,
   "metadata": {},
   "outputs": [
    {
     "data": {
      "text/plain": [
       "(65210, [1, 0, 4, 3, 2])"
      ]
     },
     "execution_count": 45,
     "metadata": {},
     "output_type": "execute_result"
    }
   ],
   "source": [
    "def solve(program):\n",
    "    m = 0\n",
    "    for p1, p2, p3, p4, p5 in permutations(range(5)):\n",
    "        res = calc(program, [p1, p2, p3, p4, p5])\n",
    "        if res > m:\n",
    "            #print('found:', p1, p2, p3, p4, p5)\n",
    "            m = res\n",
    "            sol = [p1, p2, p3, p4, p5]\n",
    "    return m, sol\n",
    "    \n",
    "solve(testcase)"
   ]
  },
  {
   "cell_type": "code",
   "execution_count": 46,
   "metadata": {},
   "outputs": [
    {
     "data": {
      "text/plain": [
       "(18812, [2, 3, 0, 4, 1])"
      ]
     },
     "execution_count": 46,
     "metadata": {},
     "output_type": "execute_result"
    }
   ],
   "source": [
    "program = list(read_input('07', all_integers)[0])\n",
    "solve(program)"
   ]
  },
  {
   "cell_type": "code",
   "execution_count": 47,
   "metadata": {},
   "outputs": [
    {
     "name": "stdout",
     "output_type": "stream",
     "text": [
      "ins = 3 [3, 26, 1001, 26]\n",
      "ins = 1001 [1001, 26, -4, 26]\n",
      "ins = 3 [3, 27, 1002, 27]\n",
      "ins = 1002 [1002, 27, 2, 27]\n",
      "ins = 1 [1, 27, 26, 27]\n",
      "ins = 4 [4, 27, 1001, 28]\n",
      "ins = 1001 [1001, 28, -1, 28]\n",
      "ins = 1005 [1005, 28, 6, 99]\n",
      "ins = 3 [3, 27, 1002, 27]\n"
     ]
    },
    {
     "data": {
      "text/plain": [
       "1"
      ]
     },
     "execution_count": 47,
     "metadata": {},
     "output_type": "execute_result"
    }
   ],
   "source": [
    "#part B\n",
    "\n",
    "class IntCode(object):\n",
    "    \n",
    "    ip = 0\n",
    "    output = None\n",
    "    halted = False\n",
    "    \n",
    "    def __init__(self, program, input=None, debug=False):\n",
    "        self.mem = deepcopy(program)\n",
    "        self.input = input\n",
    "        self.debug = debug\n",
    "    \n",
    "    def get_opcode(self):\n",
    "        self.ip += 1\n",
    "        instruction = self.mem[self.ip]\n",
    "        if self.debug:\n",
    "            print(f'ins = {instruction} {self.mem[self.ip:self.ip+4]}')\n",
    "        opcode = instruction % 100\n",
    "        A = instruction % 100000 // 10000\n",
    "        B = instruction % 10000 // 1000\n",
    "        C = instruction % 1000 // 100\n",
    "        self.modes = [A, B, C]\n",
    "        return opcode\n",
    "    \n",
    "    def load(self):\n",
    "        self.ip += 1\n",
    "        value = self.mem[self.ip]\n",
    "        mode = self.modes.pop()\n",
    "        #print(f'load: {value} {mode} {self.modes}')\n",
    "        if mode == 0:\n",
    "            #print(f'load {self.mem[value]}')\n",
    "            return self.mem[value]\n",
    "        if mode == 1:\n",
    "            return value\n",
    "        assert False, f'wrong mode for load: {mode}'\n",
    "\n",
    "    def store(self, value):\n",
    "        self.ip += 1\n",
    "        mode = self.modes.pop()\n",
    "        #print(f'store {self.mem[self.ip]} {mode} {self.modes}')\n",
    "        if mode == 0:\n",
    "            self.mem[self.mem[self.ip]] = value\n",
    "            #print(self.mem)\n",
    "            return\n",
    "        assert False, f'wrong mode for store: {mode}'\n",
    "        \n",
    "    def run(self):\n",
    "        self.ip -= 1\n",
    "        while True:\n",
    "            opcode = self.get_opcode()\n",
    "            if opcode == 1:\n",
    "                self.store(self.load() + self.load())\n",
    "            elif opcode == 2:\n",
    "                self.store(self.load() * self.load())\n",
    "            elif opcode == 3:\n",
    "                try:\n",
    "                    val = self.input.pop(0)\n",
    "                except IndexError:\n",
    "                    #print('Waiting for input')\n",
    "                    return self.output\n",
    "                #print(f'read: {val}')\n",
    "                self.store(val)  \n",
    "            elif opcode == 4:\n",
    "                self.output = self.load()\n",
    "                #print(f'>>> output: {self.output}')\n",
    "            elif opcode == 5:  # jmp if true\n",
    "                if self.load():\n",
    "                    self.ip = self.load() - 1\n",
    "                else:\n",
    "                    self.ip += 1\n",
    "            elif opcode == 6:  # jmp if false\n",
    "                if not self.load():\n",
    "                    self.ip = self.load() - 1\n",
    "                else:\n",
    "                    self.ip += 1\n",
    "            elif opcode == 7:  # less than\n",
    "                val = 1 if self.load() < self.load() else 0\n",
    "                self.store(val)\n",
    "            elif opcode == 8:  # equal\n",
    "                val = 1 if self.load() == self.load() else 0\n",
    "                self.store(val)    \n",
    "            elif opcode == 99:\n",
    "                self.halted = True\n",
    "                return self.output\n",
    "            else:\n",
    "                assert False, f'fail @ ip={self.ip}'  \n",
    "    \n",
    "\n",
    "testcase = [3,26,1001,26,-4,26,3,27,1002,27,2,27,1,27,26,27,4,27,1001,28,-1,28,1005,28,6,99,0,0,5]\n",
    "i = IntCode(testcase, input=[5, 0], debug=True)\n",
    "i.run()"
   ]
  },
  {
   "cell_type": "code",
   "execution_count": 48,
   "metadata": {},
   "outputs": [
    {
     "name": "stdout",
     "output_type": "stream",
     "text": [
      "ins = 3 [3, 27, 1002, 27]\n",
      "ins = 1002 [1002, 27, 2, 27]\n",
      "ins = 1 [1, 27, 26, 27]\n",
      "ins = 4 [4, 27, 1001, 28]\n",
      "ins = 1001 [1001, 28, -1, 28]\n",
      "ins = 1005 [1005, 28, 6, 99]\n",
      "ins = 3 [3, 27, 1002, 27]\n"
     ]
    },
    {
     "data": {
      "text/plain": [
       "31"
      ]
     },
     "execution_count": 48,
     "metadata": {},
     "output_type": "execute_result"
    }
   ],
   "source": [
    "i.input = [15]\n",
    "i.run()"
   ]
  },
  {
   "cell_type": "code",
   "execution_count": 49,
   "metadata": {},
   "outputs": [
    {
     "data": {
      "text/plain": [
       "139629729"
      ]
     },
     "execution_count": 49,
     "metadata": {},
     "output_type": "execute_result"
    }
   ],
   "source": [
    "def calc(program, phase):\n",
    "    res = 0\n",
    "    amps = [IntCode(program, input=[p]) for p in phase]\n",
    "    i = 0\n",
    "    halted = 5 * [False]\n",
    "    while True:\n",
    "        i = i % len(amps)\n",
    "        \n",
    "        #print(f'----------> amp: {i}')\n",
    "        amps[i].input.append(res)\n",
    "        res = amps[i].run()\n",
    "        if amps[i].halted:\n",
    "            halted[i] = True\n",
    "            #print('halted', halted)\n",
    "            if False not in halted:\n",
    "                break\n",
    "        i += 1\n",
    "    return res\n",
    "\n",
    "calc(testcase, [9, 8, 7, 6, 5])"
   ]
  },
  {
   "cell_type": "code",
   "execution_count": 50,
   "metadata": {},
   "outputs": [],
   "source": [
    "testcase = [3,52,1001,52,-5,52,3,53,1,52,56,54,1007,54,5,55,1005,55,26,1001,54,-5,54,1105,1,12,1,53,54,53,1008,54,0,55,1001,55,1,55,2,53,55,53,4,\n",
    "53,1001,56,-1,56,1005,56,6,99,0,0,0,0,10]"
   ]
  },
  {
   "cell_type": "code",
   "execution_count": 51,
   "metadata": {},
   "outputs": [
    {
     "data": {
      "text/plain": [
       "18216"
      ]
     },
     "execution_count": 51,
     "metadata": {},
     "output_type": "execute_result"
    }
   ],
   "source": [
    "calc(testcase, [9,7,8,5,6])"
   ]
  },
  {
   "cell_type": "code",
   "execution_count": 52,
   "metadata": {},
   "outputs": [
    {
     "name": "stdout",
     "output_type": "stream",
     "text": [
      "found: 5 6 7 8 9\n",
      "found: 5 6 7 9 8\n",
      "found: 5 6 9 7 8\n",
      "found: 5 6 9 8 7\n",
      "found: 6 5 7 9 8\n",
      "found: 6 5 9 7 8\n",
      "found: 6 5 9 8 7\n",
      "found: 6 7 9 5 8\n",
      "found: 6 7 9 8 5\n",
      "found: 6 9 5 7 8\n",
      "found: 6 9 5 8 7\n",
      "found: 6 9 7 5 8\n",
      "found: 6 9 7 8 5\n",
      "found: 6 9 8 7 5\n"
     ]
    },
    {
     "data": {
      "text/plain": [
       "(25534964, [6, 9, 8, 7, 5])"
      ]
     },
     "execution_count": 52,
     "metadata": {},
     "output_type": "execute_result"
    }
   ],
   "source": [
    "def solve(program):\n",
    "    m = 0\n",
    "    for p1, p2, p3, p4, p5 in permutations(range(5, 10)):\n",
    "        res = calc(program, [p1, p2, p3, p4, p5])\n",
    "        if res > m:\n",
    "            print('found:', p1, p2, p3, p4, p5)\n",
    "            m = res\n",
    "            sol = [p1, p2, p3, p4, p5]\n",
    "    return m, sol\n",
    "    \n",
    "solve(program)"
   ]
  },
  {
   "cell_type": "markdown",
   "metadata": {},
   "source": [
    "# Day 8"
   ]
  },
  {
   "cell_type": "code",
   "execution_count": 10,
   "metadata": {},
   "outputs": [],
   "source": [
    "input = list(map(int, list(str(read_input('08')[0]))))\n",
    "row_size = 25\n",
    "rows = 6"
   ]
  },
  {
   "cell_type": "code",
   "execution_count": 16,
   "metadata": {},
   "outputs": [
    {
     "data": {
      "text/plain": [
       "2193"
      ]
     },
     "execution_count": 16,
     "metadata": {},
     "output_type": "execute_result"
    }
   ],
   "source": [
    "N = rows * row_size\n",
    "c_min = N\n",
    "for idx in range(0, len(input), N):\n",
    "    layer = input[idx:idx+N]\n",
    "    zeros = layer.count(0)\n",
    "    if zeros < c_min:\n",
    "        res = layer.count(1) * layer.count(2)\n",
    "        c_min = zeros\n",
    "        \n",
    "res"
   ]
  },
  {
   "cell_type": "code",
   "execution_count": 17,
   "metadata": {},
   "outputs": [],
   "source": [
    "#part B"
   ]
  },
  {
   "cell_type": "code",
   "execution_count": 18,
   "metadata": {},
   "outputs": [
    {
     "name": "stdout",
     "output_type": "stream",
     "text": [
      "#...#####.#..#.####.####.\n",
      "#...##....#..#.#....#....\n",
      ".#.#.###..####.###..###..\n",
      "..#..#....#..#.#....#....\n",
      "..#..#....#..#.#....#....\n",
      "..#..####.#..#.####.#....\n"
     ]
    }
   ],
   "source": [
    "image = N*[2]\n",
    "for idx in range(0, len(input), N):\n",
    "    layer = input[idx:idx+N]\n",
    "    for idx, color in enumerate(layer):\n",
    "        if image[idx] == 2:\n",
    "            image[idx] = color \n",
    "\n",
    "color_map = {0: '.', 1: '#', 2: '!'}\n",
    "\n",
    "def print_image(image):\n",
    "    for idx in range(0, len(image), row_size):\n",
    "        print(''.join([color_map[c] for c in image[idx:idx+row_size]]))\n",
    "    \n",
    "print_image(image)"
   ]
  },
  {
   "cell_type": "code",
   "execution_count": null,
   "metadata": {},
   "outputs": [],
   "source": []
  }
 ],
 "metadata": {
  "kernelspec": {
   "display_name": "Python 3",
   "language": "python",
   "name": "python3"
  },
  "language_info": {
   "codemirror_mode": {
    "name": "ipython",
    "version": 3
   },
   "file_extension": ".py",
   "mimetype": "text/x-python",
   "name": "python",
   "nbconvert_exporter": "python",
   "pygments_lexer": "ipython3",
   "version": "3.8.1"
  }
 },
 "nbformat": 4,
 "nbformat_minor": 4
}
