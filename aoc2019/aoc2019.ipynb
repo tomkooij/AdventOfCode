{
 "cells": [
  {
   "cell_type": "code",
   "execution_count": 1,
   "metadata": {},
   "outputs": [],
   "source": [
    "import re\n",
    "\n",
    "from itertools import cycle, combinations, permutations\n",
    "from collections import Counter, defaultdict, deque\n",
    "\n",
    "\n",
    "def read_input(day, fn=str.strip):\n",
    "    \"\"\"\n",
    "    Return a list of the input lines mapped by fn\n",
    "    \n",
    "    example: \n",
    "    >>> read_input('01', int)  # read input file, map all lines to int\n",
    "    \n",
    "    Inspired by Peter Norvig: https://github.com/norvig/pytudes\n",
    "    \n",
    "    \"\"\"\n",
    "    return list(map(fn, open(f'input\\{day}.txt')))\n",
    "\n",
    "def all_integers(s):\n",
    "    \"\"\"return all integers from a string\"\"\"\n",
    "    return tuple(map(int, re.findall(r'-?\\d+', s)))"
   ]
  },
  {
   "cell_type": "markdown",
   "metadata": {},
   "source": [
    "# Day 1"
   ]
  },
  {
   "cell_type": "code",
   "execution_count": 2,
   "metadata": {},
   "outputs": [],
   "source": [
    "def div3add2(x):\n",
    "    return x // 3 - 2\n",
    "assert div3add2(12) == 2"
   ]
  },
  {
   "cell_type": "code",
   "execution_count": 3,
   "metadata": {},
   "outputs": [],
   "source": [
    "def total_fuel(m):\n",
    "    fuel = 0\n",
    "    while m > 0:\n",
    "        #print(m, fuel)\n",
    "        m = div3add2(m)\n",
    "        if m > 0:\n",
    "            fuel += m\n",
    "    return fuel\n",
    "assert total_fuel(1969) == 966"
   ]
  },
  {
   "cell_type": "code",
   "execution_count": 4,
   "metadata": {},
   "outputs": [
    {
     "data": {
      "text/plain": [
       "3318604"
      ]
     },
     "execution_count": 4,
     "metadata": {},
     "output_type": "execute_result"
    }
   ],
   "source": [
    "# part 1\n",
    "sum(map(div3add2, read_input('01', int)))"
   ]
  },
  {
   "cell_type": "code",
   "execution_count": 5,
   "metadata": {},
   "outputs": [],
   "source": [
    "# part 2"
   ]
  },
  {
   "cell_type": "code",
   "execution_count": 6,
   "metadata": {},
   "outputs": [
    {
     "data": {
      "text/plain": [
       "4975039"
      ]
     },
     "execution_count": 6,
     "metadata": {},
     "output_type": "execute_result"
    }
   ],
   "source": [
    "sum(map(total_fuel, read_input('01', int)))"
   ]
  },
  {
   "cell_type": "markdown",
   "metadata": {},
   "source": [
    "# Day 2\n"
   ]
  },
  {
   "cell_type": "code",
   "execution_count": 56,
   "metadata": {},
   "outputs": [
    {
     "data": {
      "text/plain": [
       "30"
      ]
     },
     "execution_count": 56,
     "metadata": {},
     "output_type": "execute_result"
    }
   ],
   "source": [
    "def solve(ins): \n",
    "    ip = 0\n",
    "    #while True:\n",
    "    for _ in range(500):\n",
    "        #print(ins)\n",
    "        if ins[ip] == 99:\n",
    "            return ins[0]\n",
    "\n",
    "        opcode = ins[ip]\n",
    "        a = ins[ins[ip+1]]\n",
    "        b = ins[ins[ip+2]]\n",
    "        res = ins[ip+3]\n",
    "        #print(f\"{opcode} {a} {b} {res}\")\n",
    "        if opcode == 1:\n",
    "            ins[res] = a + b \n",
    "        elif opcode == 2:\n",
    "            ins[res] = a * b\n",
    "        else:\n",
    "            return -1\n",
    "            #assert False, \"illegal instruction\"\n",
    "        ip += 4\n",
    "\n",
    "testcase = list(all_integers(\"1,9,10,3,2,3,11,0,99,30,40,50\")) \n",
    "testcase = list(all_integers(\"1,1,1,4,99,5,6,0,99\"))\n",
    "\n",
    "solve(testcase)"
   ]
  },
  {
   "cell_type": "code",
   "execution_count": 48,
   "metadata": {},
   "outputs": [
    {
     "data": {
      "text/plain": [
       "10566835"
      ]
     },
     "execution_count": 48,
     "metadata": {},
     "output_type": "execute_result"
    }
   ],
   "source": [
    "# part 1\n",
    "opcodes = list(read_input('02', all_integers)[0])\n",
    "opcodes[1] = 12\n",
    "opcodes[2] = 2\n",
    "solve(opcodes)"
   ]
  },
  {
   "cell_type": "code",
   "execution_count": 53,
   "metadata": {},
   "outputs": [
    {
     "name": "stdout",
     "output_type": "stream",
     "text": [
      "2347\n"
     ]
    }
   ],
   "source": [
    "TARGET = 19690720\n",
    "for noun, verb in permutations(range(100), 2):\n",
    "    opcodes = list(read_input('02', all_integers)[0])  # too lazy to deepcopy\n",
    "    opcodes[1] = noun\n",
    "    opcodes[2] = verb\n",
    "    res = solve(opcodes)\n",
    "    if res == TARGET:\n",
    "        print(100*noun+verb)\n",
    "        break\n"
   ]
  },
  {
   "cell_type": "code",
   "execution_count": null,
   "metadata": {},
   "outputs": [],
   "source": [
    "read_input('0')"
   ]
  },
  {
   "cell_type": "markdown",
   "metadata": {},
   "source": [
    "# Day 3\n",
    "\n",
    "\n"
   ]
  },
  {
   "cell_type": "code",
   "execution_count": 2,
   "metadata": {},
   "outputs": [],
   "source": [
    "testcase1 = [\"R8,U5,L5,D3\", \"U7,R6,D4,L4\"]"
   ]
  },
  {
   "cell_type": "code",
   "execution_count": 7,
   "metadata": {},
   "outputs": [],
   "source": [
    "next_pos = {'U': lambda x,y: (x, y + 1),\n",
    "            'D': lambda x,y: (x, y - 1), \n",
    "            'L': lambda x,y: (x - 1, y),\n",
    "            'R': lambda x,y: (x + 1, y)}"
   ]
  },
  {
   "cell_type": "code",
   "execution_count": 8,
   "metadata": {},
   "outputs": [
    {
     "data": {
      "text/plain": [
       "6"
      ]
     },
     "execution_count": 8,
     "metadata": {},
     "output_type": "execute_result"
    }
   ],
   "source": [
    "def parse(lines):\n",
    "    return [s.split(',') for s in lines]\n",
    "\n",
    "def create_path(cmds):  \n",
    "    visited = list()\n",
    "    pos = (0, 0)\n",
    "    for cmd in cmds:\n",
    "        d = cmd[0]\n",
    "        n = int(cmd[1:])\n",
    "        for _ in range(n):\n",
    "            pos = next_pos[d](*pos)\n",
    "            visited.append(pos)\n",
    "    return visited\n",
    "\n",
    "def manhattan_distance(X1, Y1, X2 = 0, Y2 = 0):\n",
    "    return abs(Y2 - Y1) + abs(X2 - X1)\n",
    "\n",
    "def solve(input_string):\n",
    "    cmds = parse(input_string)\n",
    "    paths = [set(create_path(cmd)) for cmd in cmds]\n",
    "    sols = set.intersection(*paths)\n",
    "    return min([manhattan_distance(*t) for t in sols])\n",
    "\n",
    "solve(testcase1)\n"
   ]
  },
  {
   "cell_type": "code",
   "execution_count": 9,
   "metadata": {},
   "outputs": [
    {
     "data": {
      "text/plain": [
       "308"
      ]
     },
     "execution_count": 9,
     "metadata": {},
     "output_type": "execute_result"
    }
   ],
   "source": [
    "# part 1\n",
    "solve(read_input('03'))\n"
   ]
  },
  {
   "cell_type": "code",
   "execution_count": 12,
   "metadata": {},
   "outputs": [
    {
     "data": {
      "text/plain": [
       "30"
      ]
     },
     "execution_count": 12,
     "metadata": {},
     "output_type": "execute_result"
    }
   ],
   "source": [
    "def solve_partB(input_string):\n",
    "    cmds = parse(input_string)\n",
    "    paths = [create_path(cmd) for cmd in cmds] \n",
    "    set_paths = [set(path) for path in paths]\n",
    "    intersections = set.intersection(*set_paths)\n",
    "    sol = map(sum, [[path.index(intersection) + 1 for path in paths] for intersection in intersections])\n",
    "    return min(sol)\n",
    "\n",
    "solve_partB(testcase1)"
   ]
  },
  {
   "cell_type": "code",
   "execution_count": 13,
   "metadata": {},
   "outputs": [
    {
     "data": {
      "text/plain": [
       "12934"
      ]
     },
     "execution_count": 13,
     "metadata": {},
     "output_type": "execute_result"
    }
   ],
   "source": [
    "solve_partB(read_input('03'))\n"
   ]
  },
  {
   "cell_type": "code",
   "execution_count": null,
   "metadata": {},
   "outputs": [],
   "source": []
  }
 ],
 "metadata": {
  "kernelspec": {
   "display_name": "Python 3",
   "language": "python",
   "name": "python3"
  },
  "language_info": {
   "codemirror_mode": {
    "name": "ipython",
    "version": 3
   },
   "file_extension": ".py",
   "mimetype": "text/x-python",
   "name": "python",
   "nbconvert_exporter": "python",
   "pygments_lexer": "ipython3",
   "version": "3.7.3"
  }
 },
 "nbformat": 4,
 "nbformat_minor": 4
}
