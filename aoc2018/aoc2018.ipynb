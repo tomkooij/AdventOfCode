{
 "cells": [
  {
   "cell_type": "code",
   "execution_count": 250,
   "metadata": {},
   "outputs": [],
   "source": [
    "import re\n",
    "\n",
    "from itertools import cycle, combinations\n",
    "from collections import Counter, defaultdict, deque\n",
    "\n",
    "\n",
    "def read_input(day, fn=str.strip):\n",
    "    \"\"\"\n",
    "    Return a list of the input lines mapped by fn\n",
    "    \n",
    "    example: \n",
    "    >>> read_input('01', int)  # read input file, map all lines to int\n",
    "    \n",
    "    Inspired by Peter Norvig: https://github.com/norvig/pytudes\n",
    "    \n",
    "    \"\"\"\n",
    "    return list(map(fn, open(f'input\\input{day}.txt')))\n",
    "\n",
    "def all_integers(s):\n",
    "    \"\"\"return all integers from a string\"\"\"\n",
    "    return tuple(map(int, re.findall(r'\\d+', s)))"
   ]
  },
  {
   "cell_type": "markdown",
   "metadata": {},
   "source": [
    "# Day 1"
   ]
  },
  {
   "cell_type": "code",
   "execution_count": 2,
   "metadata": {},
   "outputs": [
    {
     "data": {
      "text/plain": [
       "493"
      ]
     },
     "execution_count": 2,
     "metadata": {},
     "output_type": "execute_result"
    }
   ],
   "source": [
    "# part 1\n",
    "sum(read_input('01', int))"
   ]
  },
  {
   "cell_type": "code",
   "execution_count": 3,
   "metadata": {},
   "outputs": [],
   "source": [
    "# part 2"
   ]
  },
  {
   "cell_type": "code",
   "execution_count": 4,
   "metadata": {},
   "outputs": [
    {
     "data": {
      "text/plain": [
       "[0, 1, 3, 6, 10, 15, 21, 28, 36, 45]"
      ]
     },
     "execution_count": 4,
     "metadata": {},
     "output_type": "execute_result"
    }
   ],
   "source": [
    "def sum_so_far(items):\n",
    "    total = 0\n",
    "    for item in items:\n",
    "        total += item\n",
    "        yield total\n",
    "\n",
    "list(sum_so_far(range(10)))"
   ]
  },
  {
   "cell_type": "code",
   "execution_count": 5,
   "metadata": {},
   "outputs": [
    {
     "data": {
      "text/plain": [
       "3"
      ]
     },
     "execution_count": 5,
     "metadata": {},
     "output_type": "execute_result"
    }
   ],
   "source": [
    "def find_first_duplicate(items):\n",
    "    \"\"\"return the first duplicate in a list\"\"\"\n",
    "    freqs = set()\n",
    "    for item in items:\n",
    "        if item in freqs:\n",
    "            return item\n",
    "        freqs.add(item)\n",
    "\n",
    "find_first_duplicate([0, 1, 2, 3, 4, 3, 5, 6, 7])"
   ]
  },
  {
   "cell_type": "code",
   "execution_count": 6,
   "metadata": {},
   "outputs": [],
   "source": [
    "changes = map(int, read_input('01'))"
   ]
  },
  {
   "cell_type": "code",
   "execution_count": 7,
   "metadata": {},
   "outputs": [
    {
     "data": {
      "text/plain": [
       "413"
      ]
     },
     "execution_count": 7,
     "metadata": {},
     "output_type": "execute_result"
    }
   ],
   "source": [
    "find_first_duplicate(sum_so_far(cycle(changes)))"
   ]
  },
  {
   "cell_type": "markdown",
   "metadata": {},
   "source": [
    "# Day 2"
   ]
  },
  {
   "cell_type": "code",
   "execution_count": 8,
   "metadata": {},
   "outputs": [
    {
     "data": {
      "text/plain": [
       "['rvefnvyxzbodgpnpkumawhijsc',\n",
       " 'rvefqtyxzsddglnppumawhijsc',\n",
       " 'rvefqtywzbodglnkkubawhijsc']"
      ]
     },
     "execution_count": 8,
     "metadata": {},
     "output_type": "execute_result"
    }
   ],
   "source": [
    "input2 = read_input('02')\n",
    "input2[:3]"
   ]
  },
  {
   "cell_type": "code",
   "execution_count": 9,
   "metadata": {},
   "outputs": [],
   "source": [
    "def has_n_fold(s, n=2):\n",
    "    \"\"\"check if a string contains at least 1 n-fold\"\"\"\n",
    "    return n in Counter(s).values()\n",
    "\n",
    "assert has_n_fold('ababab', 3) == True\n",
    "assert has_n_fold('ababab', 2) == False\n",
    "assert has_n_fold('bababc', 3) == True\n",
    "assert has_n_fold('bababc', 2) == True"
   ]
  },
  {
   "cell_type": "code",
   "execution_count": 10,
   "metadata": {},
   "outputs": [
    {
     "data": {
      "text/plain": [
       "6150"
      ]
     },
     "execution_count": 10,
     "metadata": {},
     "output_type": "execute_result"
    }
   ],
   "source": [
    "N2 = sum((has_n_fold(x, n=2) for x in input2))\n",
    "N3 = sum((has_n_fold(x, n=3) for x in input2))\n",
    "N2 * N3"
   ]
  },
  {
   "cell_type": "code",
   "execution_count": 11,
   "metadata": {},
   "outputs": [],
   "source": [
    "#part 2"
   ]
  },
  {
   "cell_type": "code",
   "execution_count": 12,
   "metadata": {},
   "outputs": [],
   "source": [
    "a,b = next(combinations(input2, 2))"
   ]
  },
  {
   "cell_type": "code",
   "execution_count": 13,
   "metadata": {},
   "outputs": [
    {
     "name": "stdout",
     "output_type": "stream",
     "text": [
      "rvefnvyxzbodgpnpkumawhijsc\n",
      "rvefqtyxzsddglnppumawhijsc\n",
      "rvefyxzdgnpumawhijsc\n"
     ]
    }
   ],
   "source": [
    "def common(a,b):\n",
    "    return ''.join((a for a,b in zip(a,b) if a == b))\n",
    "\n",
    "print(a)\n",
    "print(b)\n",
    "print(common(a,b))"
   ]
  },
  {
   "cell_type": "code",
   "execution_count": 14,
   "metadata": {},
   "outputs": [
    {
     "name": "stdout",
     "output_type": "stream",
     "text": [
      "rvefnvyxzbodgpnpkumawhijsc\n",
      "rvefqtyxzsddglnppumawhijsc\n",
      "6\n"
     ]
    }
   ],
   "source": [
    "def diff(a,b):\n",
    "    return len(a) - len(common(a, b))\n",
    "\n",
    "print(a)\n",
    "print(b)\n",
    "print(diff(a,b))"
   ]
  },
  {
   "cell_type": "code",
   "execution_count": 15,
   "metadata": {},
   "outputs": [
    {
     "name": "stdout",
     "output_type": "stream",
     "text": [
      "rteotyxzbodglnpkudawhijsc\n"
     ]
    }
   ],
   "source": [
    "for a, b in combinations(input2, 2):\n",
    "    if diff(a, b) == 1:\n",
    "        break\n",
    "\n",
    "print(common(a,b))"
   ]
  },
  {
   "cell_type": "markdown",
   "metadata": {},
   "source": [
    "# Day 3"
   ]
  },
  {
   "cell_type": "code",
   "execution_count": 16,
   "metadata": {},
   "outputs": [],
   "source": [
    "testcase = \"\"\"#1 @ 1,3: 4x4\n",
    "#2 @ 3,1: 4x4\n",
    "#3 @ 5,5: 2x2\n",
    "\"\"\".splitlines()\n",
    "claims = [all_integers(s) for s in testcase]"
   ]
  },
  {
   "cell_type": "code",
   "execution_count": 17,
   "metadata": {},
   "outputs": [],
   "source": [
    "claims = read_input('03', all_integers)"
   ]
  },
  {
   "cell_type": "code",
   "execution_count": 18,
   "metadata": {},
   "outputs": [],
   "source": [
    "sheet = defaultdict(int)\n",
    "for id, x, y, w, h in claims:\n",
    "    for xc in range(x, x+w):\n",
    "        for yc in range(y, y+h):\n",
    "            sheet[(xc,yc)] += 1"
   ]
  },
  {
   "cell_type": "code",
   "execution_count": 19,
   "metadata": {},
   "outputs": [
    {
     "data": {
      "text/plain": [
       "116920"
      ]
     },
     "execution_count": 19,
     "metadata": {},
     "output_type": "execute_result"
    }
   ],
   "source": [
    "#part A\n",
    "sum([x > 1 for x in sheet.values()])"
   ]
  },
  {
   "cell_type": "code",
   "execution_count": 20,
   "metadata": {},
   "outputs": [],
   "source": [
    "#part B"
   ]
  },
  {
   "cell_type": "code",
   "execution_count": 21,
   "metadata": {},
   "outputs": [],
   "source": [
    "def get_sheet(claim):\n",
    "    \"\"\"return a list of contents of a claim\"\"\"\n",
    "    id, x, y, w, h = claim\n",
    "    return [sheet[(xc,yc)] for xc in range(x, x+w) for yc in range(y, y+h)]"
   ]
  },
  {
   "cell_type": "code",
   "execution_count": 22,
   "metadata": {},
   "outputs": [
    {
     "name": "stdout",
     "output_type": "stream",
     "text": [
      "found: #382\n"
     ]
    }
   ],
   "source": [
    "for claim in claims:\n",
    "    if all([x == 1 for x in get_sheet(claim)]):\n",
    "        print(f'found: #{claim[0]}')"
   ]
  },
  {
   "cell_type": "markdown",
   "metadata": {},
   "source": [
    "# Day 5"
   ]
  },
  {
   "cell_type": "code",
   "execution_count": 23,
   "metadata": {},
   "outputs": [],
   "source": [
    "testcase = 'dabAcCaCBAcCcaDA'"
   ]
  },
  {
   "cell_type": "code",
   "execution_count": 24,
   "metadata": {},
   "outputs": [],
   "source": [
    "def react(s):\n",
    "    rest = []\n",
    "    for c in s:\n",
    "        if rest and c.swapcase() == rest[-1]:\n",
    "            rest.pop()\n",
    "        else:\n",
    "            rest.append(c)\n",
    "    return ''.join(rest)\n",
    "\n",
    "assert react(testcase) == 'dabCBAcaDA'"
   ]
  },
  {
   "cell_type": "code",
   "execution_count": 25,
   "metadata": {},
   "outputs": [
    {
     "data": {
      "text/plain": [
       "10708"
      ]
     },
     "execution_count": 25,
     "metadata": {},
     "output_type": "execute_result"
    }
   ],
   "source": [
    "# part A\n",
    "len(react(read_input('05')[0]))"
   ]
  },
  {
   "cell_type": "code",
   "execution_count": 26,
   "metadata": {},
   "outputs": [],
   "source": [
    "alphabet = 'abcdefghijklmnopqrstuvwxyz'"
   ]
  },
  {
   "cell_type": "code",
   "execution_count": 27,
   "metadata": {},
   "outputs": [
    {
     "data": {
      "text/plain": [
       "'dbcCCBcCcD'"
      ]
     },
     "execution_count": 27,
     "metadata": {},
     "output_type": "execute_result"
    }
   ],
   "source": [
    "def remove_letter(s, letter):  \n",
    "    return ''.join([c for c in s if c.lower() != letter])\n",
    "    \n",
    "remove_letter(testcase, 'a')"
   ]
  },
  {
   "cell_type": "code",
   "execution_count": 28,
   "metadata": {},
   "outputs": [
    {
     "name": "stdout",
     "output_type": "stream",
     "text": [
      "dbcCCBcCcD\n",
      "daAcCaCAcCcaDA\n",
      "dabAaBAaDA\n"
     ]
    }
   ],
   "source": [
    "for c in alphabet[:3]:\n",
    "    print(remove_letter(testcase, c))"
   ]
  },
  {
   "cell_type": "code",
   "execution_count": 29,
   "metadata": {},
   "outputs": [
    {
     "data": {
      "text/plain": [
       "4"
      ]
     },
     "execution_count": 29,
     "metadata": {},
     "output_type": "execute_result"
    }
   ],
   "source": [
    "min([len(react(remove_letter(testcase, c))) for c in alphabet])"
   ]
  },
  {
   "cell_type": "code",
   "execution_count": 30,
   "metadata": {},
   "outputs": [
    {
     "data": {
      "text/plain": [
       "5330"
      ]
     },
     "execution_count": 30,
     "metadata": {},
     "output_type": "execute_result"
    }
   ],
   "source": [
    "min([len(react(remove_letter(read_input('05')[0], c))) for c in alphabet])"
   ]
  },
  {
   "cell_type": "markdown",
   "metadata": {},
   "source": [
    "# Day 6"
   ]
  },
  {
   "cell_type": "code",
   "execution_count": 31,
   "metadata": {},
   "outputs": [
    {
     "data": {
      "text/plain": [
       "[(1, 1), (1, 6), (8, 3), (3, 4), (5, 5), (8, 9)]"
      ]
     },
     "execution_count": 31,
     "metadata": {},
     "output_type": "execute_result"
    }
   ],
   "source": [
    "testcase = \"\"\"1, 1\n",
    "1, 6\n",
    "8, 3\n",
    "3, 4\n",
    "5, 5\n",
    "8, 9\"\"\".splitlines()\n",
    "testcase = [all_integers(s) for s in testcase]\n",
    "testcase"
   ]
  },
  {
   "cell_type": "code",
   "execution_count": 32,
   "metadata": {},
   "outputs": [
    {
     "name": "stdout",
     "output_type": "stream",
     "text": [
      "defaultdict(<class 'int'>, {(3, 4): 9, (5, 5): 17})\n"
     ]
    },
    {
     "data": {
      "text/plain": [
       "17"
      ]
     },
     "execution_count": 32,
     "metadata": {},
     "output_type": "execute_result"
    }
   ],
   "source": [
    "def partA(points, gridsize=1000, debug=False):\n",
    "    ledger = defaultdict(int)\n",
    "    infinities = set()\n",
    "    for x in range(gridsize):\n",
    "        for y in range(gridsize):\n",
    "            min_distance = None\n",
    "            closest_point = None\n",
    "            for qx, qy in points:\n",
    "                distance = abs(x - qx) + abs(y - qy)\n",
    "                if min_distance is None or distance < min_distance:\n",
    "                    min_distance = distance\n",
    "                    closest_point = (qx, qy)\n",
    "                elif distance == min_distance:\n",
    "                    closest_point = None\n",
    "            if closest_point is not None:\n",
    "                if x == 0 or y == 0 or x == gridsize-1 or y == gridsize-1:\n",
    "                    infinities.add(closest_point)\n",
    "                ledger[closest_point] += 1\n",
    "\n",
    "    # remove points that are suppossed to be infinite\n",
    "    for i in infinities:\n",
    "        del ledger[i]\n",
    "    if debug:\n",
    "        print(ledger)\n",
    "    return max(ledger.values()) \n",
    "\n",
    "partA(testcase, gridsize=10, debug=True)"
   ]
  },
  {
   "cell_type": "code",
   "execution_count": 33,
   "metadata": {},
   "outputs": [
    {
     "data": {
      "text/plain": [
       "(50, (317, 72))"
      ]
     },
     "execution_count": 33,
     "metadata": {},
     "output_type": "execute_result"
    }
   ],
   "source": [
    "points = read_input('06', all_integers)\n",
    "len(points), points[3]"
   ]
  },
  {
   "cell_type": "code",
   "execution_count": 34,
   "metadata": {},
   "outputs": [
    {
     "data": {
      "text/plain": [
       "6047"
      ]
     },
     "execution_count": 34,
     "metadata": {},
     "output_type": "execute_result"
    }
   ],
   "source": [
    "partA(points)"
   ]
  },
  {
   "cell_type": "code",
   "execution_count": 35,
   "metadata": {},
   "outputs": [
    {
     "data": {
      "text/plain": [
       "16"
      ]
     },
     "execution_count": 35,
     "metadata": {},
     "output_type": "execute_result"
    }
   ],
   "source": [
    "def partB(points, maxdist=10000, gridsize=1000):\n",
    "    total = 0\n",
    "    for x in range(gridsize):\n",
    "        for y in range(gridsize):\n",
    "            dist = 0\n",
    "            for q in points:\n",
    "                dist += abs(x - q[0]) + abs(y - q[1])\n",
    "                if dist >= maxdist:\n",
    "                    break\n",
    "            else:\n",
    "                total+=1\n",
    "    return total\n",
    "\n",
    "partB(testcase, maxdist=32, gridsize=10)"
   ]
  },
  {
   "cell_type": "code",
   "execution_count": 36,
   "metadata": {},
   "outputs": [
    {
     "data": {
      "text/plain": [
       "46320"
      ]
     },
     "execution_count": 36,
     "metadata": {},
     "output_type": "execute_result"
    }
   ],
   "source": [
    "partB(points)"
   ]
  },
  {
   "cell_type": "markdown",
   "metadata": {},
   "source": [
    "# Day 7"
   ]
  },
  {
   "cell_type": "code",
   "execution_count": 212,
   "metadata": {},
   "outputs": [],
   "source": [
    "testcase = \"\"\"Step C must be finished before step A can begin.\n",
    "Step C must be finished before step F can begin.\n",
    "Step A must be finished before step B can begin.\n",
    "Step A must be finished before step D can begin.\n",
    "Step B must be finished before step E can begin.\n",
    "Step D must be finished before step E can begin.\n",
    "Step F must be finished before step E can begin.\"\"\".splitlines()"
   ]
  },
  {
   "cell_type": "code",
   "execution_count": 213,
   "metadata": {},
   "outputs": [
    {
     "data": {
      "text/plain": [
       "('C', 'A')"
      ]
     },
     "execution_count": 213,
     "metadata": {},
     "output_type": "execute_result"
    }
   ],
   "source": [
    "def parse(line):\n",
    "    S, startletter, endletter = re.findall('[A-Z]', line)\n",
    "    assert S == 'S'\n",
    "    return startletter, endletter\n",
    "\n",
    "parse(testcase[0])"
   ]
  },
  {
   "cell_type": "code",
   "execution_count": 214,
   "metadata": {},
   "outputs": [
    {
     "data": {
      "text/plain": [
       "'CABDFE'"
      ]
     },
     "execution_count": 214,
     "metadata": {},
     "output_type": "execute_result"
    }
   ],
   "source": [
    "def partA(lines):\n",
    "    ltree = defaultdict(set)\n",
    "    rtree = defaultdict(set)\n",
    "\n",
    "    for line in lines:\n",
    "        left, right = parse(line)\n",
    "        ltree[left].add(right)\n",
    "        rtree[right].add(left)\n",
    "\n",
    "    # Kahn's algoritm https://en.wikipedia.org/wiki/Topological_sorting\n",
    "    L = [] \n",
    "    Queue = list(set(ltree) - set(rtree))\n",
    "    while Queue:\n",
    "        node = min(Queue)\n",
    "        Queue.remove(node)\n",
    "        L.append(node)\n",
    "        for edge in ltree[node]:\n",
    "            rtree[edge].remove(node)\n",
    "            if not rtree[edge]:\n",
    "                Queue.append(edge)\n",
    "    return ''.join(L)\n",
    "    \n",
    "partA(testcase)"
   ]
  },
  {
   "cell_type": "code",
   "execution_count": 215,
   "metadata": {},
   "outputs": [
    {
     "data": {
      "text/plain": [
       "'CFMNLOAHRKPTWBJSYZVGUQXIDE'"
      ]
     },
     "execution_count": 215,
     "metadata": {},
     "output_type": "execute_result"
    }
   ],
   "source": [
    "partA(read_input('07'))"
   ]
  },
  {
   "cell_type": "code",
   "execution_count": 216,
   "metadata": {},
   "outputs": [
    {
     "name": "stdout",
     "output_type": "stream",
     "text": [
      "C until 3\n",
      "A until 4\n",
      "F until 9\n",
      "B until 6\n",
      "D until 10\n",
      "E until 15\n"
     ]
    },
    {
     "data": {
      "text/plain": [
       "15"
      ]
     },
     "execution_count": 216,
     "metadata": {},
     "output_type": "execute_result"
    }
   ],
   "source": [
    "def partB(lines, workers=5, dt=60):\n",
    "    ltree = defaultdict(set)\n",
    "    rtree = defaultdict(set)\n",
    "\n",
    "    for line in lines:\n",
    "        left, right = parse(line)\n",
    "        ltree[left].add(right)\n",
    "        rtree[right].add(left)\n",
    "\n",
    "    # Kahn's algoritm https://en.wikipedia.org/wiki/Topological_sorting\n",
    "    L = [] \n",
    "    Queue = list(set(ltree) - set(rtree))\n",
    "    t = 0\n",
    "    WQ = []  # queue of letters being processed by a worker\n",
    "    while Queue or WQ:\n",
    "        if workers and Queue:\n",
    "            # a worker is available to start a new letter\n",
    "            workers -= 1\n",
    "            node = min(Queue)\n",
    "            Queue.remove(node)\n",
    "            L.append(node)\n",
    "            duration = ord(node) - ord('A') + dt + 1\n",
    "            print(f'{node} until {t+duration}')\n",
    "            WQ.append((t + duration, node))\n",
    "            #print('worker Queue:', WQ)\n",
    "        elif WQ:\n",
    "            # pop an element of the worker queue and shift time\n",
    "            element = min(WQ)\n",
    "            WQ.remove(element)\n",
    "            t, node = element\n",
    "            workers += 1\n",
    "            for edge in ltree[node]:\n",
    "                rtree[edge].remove(node)\n",
    "                if not rtree[edge]:\n",
    "                    Queue.append(edge)\n",
    "    return t\n",
    "    \n",
    "partB(testcase, workers=2, dt=0)"
   ]
  },
  {
   "cell_type": "code",
   "execution_count": 217,
   "metadata": {},
   "outputs": [
    {
     "name": "stdout",
     "output_type": "stream",
     "text": [
      "C until 63\n",
      "F until 66\n",
      "N until 74\n",
      "R until 78\n",
      "M until 139\n",
      "L until 146\n",
      "O until 149\n",
      "T until 154\n",
      "K until 149\n",
      "W until 222\n",
      "A until 210\n",
      "H until 217\n",
      "P until 293\n",
      "B until 284\n",
      "J until 363\n",
      "S until 372\n",
      "Y until 378\n",
      "Z until 449\n",
      "V until 531\n",
      "G until 598\n",
      "U until 612\n",
      "Q until 689\n",
      "X until 773\n",
      "I until 842\n",
      "D until 906\n",
      "E until 971\n"
     ]
    },
    {
     "data": {
      "text/plain": [
       "971"
      ]
     },
     "execution_count": 217,
     "metadata": {},
     "output_type": "execute_result"
    }
   ],
   "source": [
    "partB(read_input('07'))"
   ]
  },
  {
   "cell_type": "markdown",
   "metadata": {},
   "source": [
    "# day 8"
   ]
  },
  {
   "cell_type": "code",
   "execution_count": 230,
   "metadata": {},
   "outputs": [],
   "source": [
    "testcase = \"\"\"2 3 0 3 10 11 12 1 1 0 1 99 2 1 1 2\"\"\".split()\n",
    "testcase = tuple(map(int, testcase))"
   ]
  },
  {
   "cell_type": "code",
   "execution_count": 228,
   "metadata": {},
   "outputs": [],
   "source": [
    "def number_stream(l):\n",
    "    for x in l:\n",
    "        yield x\n",
    "        \n",
    "next(number_stream(testcase))"
   ]
  },
  {
   "cell_type": "code",
   "execution_count": 240,
   "metadata": {},
   "outputs": [
    {
     "data": {
      "text/plain": [
       "138"
      ]
     },
     "execution_count": 240,
     "metadata": {},
     "output_type": "execute_result"
    }
   ],
   "source": [
    "def read_node(stream):\n",
    "    n = next(stream)\n",
    "    m = next(stream)\n",
    "    metadata = 0\n",
    "    for _ in range(n):\n",
    "        metadata += read_node(stream)\n",
    "    for _ in range(m):\n",
    "        metadata += next(stream)\n",
    "    return metadata\n",
    "\n",
    "read_node(number_stream(testcase))"
   ]
  },
  {
   "cell_type": "code",
   "execution_count": 241,
   "metadata": {},
   "outputs": [
    {
     "data": {
      "text/plain": [
       "49426"
      ]
     },
     "execution_count": 241,
     "metadata": {},
     "output_type": "execute_result"
    }
   ],
   "source": [
    "read_node(number_stream(read_input('08', all_integers)[0]))"
   ]
  },
  {
   "cell_type": "code",
   "execution_count": null,
   "metadata": {},
   "outputs": [],
   "source": [
    "#part B"
   ]
  },
  {
   "cell_type": "code",
   "execution_count": 248,
   "metadata": {},
   "outputs": [
    {
     "data": {
      "text/plain": [
       "66"
      ]
     },
     "execution_count": 248,
     "metadata": {},
     "output_type": "execute_result"
    }
   ],
   "source": [
    "def read_node(stream):\n",
    "    n = next(stream)\n",
    "    m = next(stream)\n",
    "    #print('readnode', n, m)\n",
    "    value = 0\n",
    "    child_value = []\n",
    "    if n:\n",
    "        for _ in range(n):\n",
    "            child_value.append(read_node(stream))\n",
    "        for _ in range(m):\n",
    "            try:\n",
    "                value += child_value[next(stream)-1]\n",
    "            except IndexError:\n",
    "                pass\n",
    "    else:\n",
    "        #print('no child!')\n",
    "        for _ in range(m):\n",
    "            value += next(stream)\n",
    "    return value\n",
    "\n",
    "read_node(number_stream(testcase))"
   ]
  },
  {
   "cell_type": "code",
   "execution_count": 249,
   "metadata": {},
   "outputs": [
    {
     "data": {
      "text/plain": [
       "40688"
      ]
     },
     "execution_count": 249,
     "metadata": {},
     "output_type": "execute_result"
    }
   ],
   "source": [
    "read_node(number_stream(read_input('08', all_integers)[0]))"
   ]
  },
  {
   "cell_type": "code",
   "execution_count": 283,
   "metadata": {},
   "outputs": [],
   "source": [
    "# day 9"
   ]
  },
  {
   "cell_type": "code",
   "execution_count": 338,
   "metadata": {},
   "outputs": [
    {
     "name": "stdout",
     "output_type": "stream",
     "text": [
      "23 remove marble 23! player 5\n",
      "defaultdict(<class 'int'>, {5: 32})\n"
     ]
    },
    {
     "data": {
      "text/plain": [
       "32"
      ]
     },
     "execution_count": 338,
     "metadata": {},
     "output_type": "execute_result"
    }
   ],
   "source": [
    "def playgame(n=9, turns=25, verbose=False):\n",
    "    c = deque([0])\n",
    "    score = defaultdict(int)\n",
    "\n",
    "    for i in range(1, turns+1):\n",
    "        if i and not i % 23:\n",
    "            if verbose:\n",
    "                print(i, 'remove marble 23! player', i % n)\n",
    "            score[i % n] += i\n",
    "            c.rotate(7)\n",
    "            score[i % n] += c.popleft()\n",
    "        else:\n",
    "            c.rotate(-2)\n",
    "            c.appendleft(i)\n",
    "    \n",
    "    if verbose: print(score)\n",
    "    return max(score.values())\n",
    "    \n",
    "playgame(9, 25, verbose=True)"
   ]
  },
  {
   "cell_type": "raw",
   "metadata": {},
   "source": [
    "10 players; last marble is worth 1618 points: high score is 8317\n",
    "13 players; last marble is worth 7999 points: high score is 146373\n",
    "17 players; last marble is worth 1104 points: high score is 2764\n",
    "21 players; last marble is worth 6111 points: high score is 54718\n",
    "30 players; last marble is worth 5807 points: high score is 37305"
   ]
  },
  {
   "cell_type": "code",
   "execution_count": 340,
   "metadata": {},
   "outputs": [],
   "source": [
    "assert playgame(10, 1618) == 8317\n",
    "assert playgame(13, 7999) == 146373\n",
    "assert playgame(17, 1104) == 2764\n",
    "assert playgame(21, 6111) == 54718\n",
    "assert playgame(30, 5807) == 37305\n"
   ]
  },
  {
   "cell_type": "code",
   "execution_count": 341,
   "metadata": {},
   "outputs": [
    {
     "data": {
      "text/plain": [
       "429287"
      ]
     },
     "execution_count": 341,
     "metadata": {},
     "output_type": "execute_result"
    }
   ],
   "source": [
    "# 410 players; last marble is worth 72059 points\n",
    "playgame(410, 72059)"
   ]
  },
  {
   "cell_type": "code",
   "execution_count": 342,
   "metadata": {},
   "outputs": [
    {
     "data": {
      "text/plain": [
       "3624387659"
      ]
     },
     "execution_count": 342,
     "metadata": {},
     "output_type": "execute_result"
    }
   ],
   "source": [
    "# part B\n",
    "playgame(410, 7205900)"
   ]
  },
  {
   "cell_type": "code",
   "execution_count": null,
   "metadata": {},
   "outputs": [],
   "source": []
  }
 ],
 "metadata": {
  "kernelspec": {
   "display_name": "Python 3",
   "language": "python",
   "name": "python3"
  },
  "language_info": {
   "codemirror_mode": {
    "name": "ipython",
    "version": 3
   },
   "file_extension": ".py",
   "mimetype": "text/x-python",
   "name": "python",
   "nbconvert_exporter": "python",
   "pygments_lexer": "ipython3",
   "version": "3.7.0"
  }
 },
 "nbformat": 4,
 "nbformat_minor": 2
}
