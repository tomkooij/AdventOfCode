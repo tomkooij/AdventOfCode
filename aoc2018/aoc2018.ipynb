{
 "cells": [
  {
   "cell_type": "code",
   "execution_count": 1,
   "metadata": {},
   "outputs": [],
   "source": [
    "import re\n",
    "\n",
    "from itertools import cycle, combinations\n",
    "from collections import Counter, defaultdict\n",
    "\n",
    "\n",
    "def read_input(day, fn=str.strip):\n",
    "    \"\"\"\n",
    "    Return a list of the input lines mapped by fn\n",
    "    \n",
    "    example: \n",
    "    >>> read_input('01', int)  # read input file, map all lines to int\n",
    "    \n",
    "    Inspired by Peter Norvig: https://github.com/norvig/pytudes\n",
    "    \n",
    "    \"\"\"\n",
    "    return list(map(fn, open(f'input\\input{day}.txt')))\n",
    "\n",
    "def all_integers(s):\n",
    "    \"\"\"return all integers from a string\"\"\"\n",
    "    return tuple(map(int, re.findall(r'\\d+', s)))"
   ]
  },
  {
   "cell_type": "markdown",
   "metadata": {},
   "source": [
    "# Day 1"
   ]
  },
  {
   "cell_type": "code",
   "execution_count": 2,
   "metadata": {},
   "outputs": [
    {
     "data": {
      "text/plain": [
       "493"
      ]
     },
     "execution_count": 2,
     "metadata": {},
     "output_type": "execute_result"
    }
   ],
   "source": [
    "# part 1\n",
    "sum(read_input('01', int))"
   ]
  },
  {
   "cell_type": "code",
   "execution_count": 3,
   "metadata": {},
   "outputs": [],
   "source": [
    "# part 2"
   ]
  },
  {
   "cell_type": "code",
   "execution_count": 4,
   "metadata": {},
   "outputs": [
    {
     "data": {
      "text/plain": [
       "[0, 1, 3, 6, 10, 15, 21, 28, 36, 45]"
      ]
     },
     "execution_count": 4,
     "metadata": {},
     "output_type": "execute_result"
    }
   ],
   "source": [
    "def sum_so_far(items):\n",
    "    total = 0\n",
    "    for item in items:\n",
    "        total += item\n",
    "        yield total\n",
    "\n",
    "list(sum_so_far(range(10)))"
   ]
  },
  {
   "cell_type": "code",
   "execution_count": 5,
   "metadata": {},
   "outputs": [
    {
     "data": {
      "text/plain": [
       "3"
      ]
     },
     "execution_count": 5,
     "metadata": {},
     "output_type": "execute_result"
    }
   ],
   "source": [
    "def find_first_duplicate(items):\n",
    "    \"\"\"return the first duplicate in a list\"\"\"\n",
    "    freqs = set()\n",
    "    for item in items:\n",
    "        if item in freqs:\n",
    "            return item\n",
    "        freqs.add(item)\n",
    "\n",
    "find_first_duplicate([0, 1, 2, 3, 4, 3, 5, 6, 7])"
   ]
  },
  {
   "cell_type": "code",
   "execution_count": 6,
   "metadata": {},
   "outputs": [],
   "source": [
    "changes = map(int, read_input('01'))"
   ]
  },
  {
   "cell_type": "code",
   "execution_count": 7,
   "metadata": {},
   "outputs": [
    {
     "data": {
      "text/plain": [
       "413"
      ]
     },
     "execution_count": 7,
     "metadata": {},
     "output_type": "execute_result"
    }
   ],
   "source": [
    "find_first_duplicate(sum_so_far(cycle(changes)))"
   ]
  },
  {
   "cell_type": "markdown",
   "metadata": {},
   "source": [
    "# Day 2"
   ]
  },
  {
   "cell_type": "code",
   "execution_count": 8,
   "metadata": {},
   "outputs": [
    {
     "data": {
      "text/plain": [
       "['rvefnvyxzbodgpnpkumawhijsc',\n",
       " 'rvefqtyxzsddglnppumawhijsc',\n",
       " 'rvefqtywzbodglnkkubawhijsc']"
      ]
     },
     "execution_count": 8,
     "metadata": {},
     "output_type": "execute_result"
    }
   ],
   "source": [
    "input2 = read_input('02')\n",
    "input2[:3]"
   ]
  },
  {
   "cell_type": "code",
   "execution_count": 9,
   "metadata": {},
   "outputs": [],
   "source": [
    "def has_n_fold(s, n=2):\n",
    "    \"\"\"check if a string contains at least 1 n-fold\"\"\"\n",
    "    return n in Counter(s).values()\n",
    "\n",
    "assert has_n_fold('ababab', 3) == True\n",
    "assert has_n_fold('ababab', 2) == False\n",
    "assert has_n_fold('bababc', 3) == True\n",
    "assert has_n_fold('bababc', 2) == True"
   ]
  },
  {
   "cell_type": "code",
   "execution_count": 10,
   "metadata": {},
   "outputs": [
    {
     "data": {
      "text/plain": [
       "6150"
      ]
     },
     "execution_count": 10,
     "metadata": {},
     "output_type": "execute_result"
    }
   ],
   "source": [
    "N2 = sum((has_n_fold(x, n=2) for x in input2))\n",
    "N3 = sum((has_n_fold(x, n=3) for x in input2))\n",
    "N2 * N3"
   ]
  },
  {
   "cell_type": "code",
   "execution_count": 11,
   "metadata": {},
   "outputs": [],
   "source": [
    "#part 2"
   ]
  },
  {
   "cell_type": "code",
   "execution_count": 12,
   "metadata": {},
   "outputs": [],
   "source": [
    "a,b = next(combinations(input2, 2))"
   ]
  },
  {
   "cell_type": "code",
   "execution_count": 13,
   "metadata": {},
   "outputs": [
    {
     "name": "stdout",
     "output_type": "stream",
     "text": [
      "rvefnvyxzbodgpnpkumawhijsc\n",
      "rvefqtyxzsddglnppumawhijsc\n",
      "rvefyxzdgnpumawhijsc\n"
     ]
    }
   ],
   "source": [
    "def common(a,b):\n",
    "    return ''.join((a for a,b in zip(a,b) if a == b))\n",
    "\n",
    "print(a)\n",
    "print(b)\n",
    "print(common(a,b))"
   ]
  },
  {
   "cell_type": "code",
   "execution_count": 14,
   "metadata": {},
   "outputs": [
    {
     "name": "stdout",
     "output_type": "stream",
     "text": [
      "rvefnvyxzbodgpnpkumawhijsc\n",
      "rvefqtyxzsddglnppumawhijsc\n",
      "6\n"
     ]
    }
   ],
   "source": [
    "def diff(a,b):\n",
    "    return len(a) - len(common(a, b))\n",
    "\n",
    "print(a)\n",
    "print(b)\n",
    "print(diff(a,b))"
   ]
  },
  {
   "cell_type": "code",
   "execution_count": 15,
   "metadata": {},
   "outputs": [
    {
     "name": "stdout",
     "output_type": "stream",
     "text": [
      "rteotyxzbodglnpkudawhijsc\n"
     ]
    }
   ],
   "source": [
    "for a, b in combinations(input2, 2):\n",
    "    if diff(a, b) == 1:\n",
    "        break\n",
    "\n",
    "print(common(a,b))"
   ]
  },
  {
   "cell_type": "markdown",
   "metadata": {},
   "source": [
    "# Day 3"
   ]
  },
  {
   "cell_type": "code",
   "execution_count": 16,
   "metadata": {},
   "outputs": [],
   "source": [
    "testcase = \"\"\"#1 @ 1,3: 4x4\n",
    "#2 @ 3,1: 4x4\n",
    "#3 @ 5,5: 2x2\n",
    "\"\"\".splitlines()\n",
    "claims = [all_integers(s) for s in testcase]"
   ]
  },
  {
   "cell_type": "code",
   "execution_count": 17,
   "metadata": {},
   "outputs": [],
   "source": [
    "claims = read_input('03', all_integers)"
   ]
  },
  {
   "cell_type": "code",
   "execution_count": 18,
   "metadata": {},
   "outputs": [],
   "source": [
    "sheet = defaultdict(int)\n",
    "for id, x, y, w, h in claims:\n",
    "    for xc in range(x, x+w):\n",
    "        for yc in range(y, y+h):\n",
    "            sheet[(xc,yc)] += 1"
   ]
  },
  {
   "cell_type": "code",
   "execution_count": 19,
   "metadata": {},
   "outputs": [
    {
     "data": {
      "text/plain": [
       "116920"
      ]
     },
     "execution_count": 19,
     "metadata": {},
     "output_type": "execute_result"
    }
   ],
   "source": [
    "#part A\n",
    "sum([x > 1 for x in sheet.values()])"
   ]
  },
  {
   "cell_type": "code",
   "execution_count": 20,
   "metadata": {},
   "outputs": [],
   "source": [
    "#part B"
   ]
  },
  {
   "cell_type": "code",
   "execution_count": 21,
   "metadata": {},
   "outputs": [],
   "source": [
    "def get_sheet(claim):\n",
    "    \"\"\"return a list of contents of a claim\"\"\"\n",
    "    id, x, y, w, h = claim\n",
    "    return [sheet[(xc,yc)] for xc in range(x, x+w) for yc in range(y, y+h)]"
   ]
  },
  {
   "cell_type": "code",
   "execution_count": 22,
   "metadata": {},
   "outputs": [
    {
     "name": "stdout",
     "output_type": "stream",
     "text": [
      "found: #382\n"
     ]
    }
   ],
   "source": [
    "for claim in claims:\n",
    "    if all([x == 1 for x in get_sheet(claim)]):\n",
    "        print(f'found: #{claim[0]}')"
   ]
  },
  {
   "cell_type": "markdown",
   "metadata": {},
   "source": [
    "# Day 5"
   ]
  },
  {
   "cell_type": "code",
   "execution_count": 23,
   "metadata": {},
   "outputs": [],
   "source": [
    "testcase = 'dabAcCaCBAcCcaDA'"
   ]
  },
  {
   "cell_type": "code",
   "execution_count": 24,
   "metadata": {},
   "outputs": [],
   "source": [
    "def react(s):\n",
    "    rest = []\n",
    "    for c in s:\n",
    "        if rest and c.swapcase() == rest[-1]:\n",
    "            rest.pop()\n",
    "        else:\n",
    "            rest.append(c)\n",
    "    return ''.join(rest)\n",
    "\n",
    "assert react(testcase) == 'dabCBAcaDA'"
   ]
  },
  {
   "cell_type": "code",
   "execution_count": 25,
   "metadata": {},
   "outputs": [
    {
     "data": {
      "text/plain": [
       "10708"
      ]
     },
     "execution_count": 25,
     "metadata": {},
     "output_type": "execute_result"
    }
   ],
   "source": [
    "# part A\n",
    "len(react(read_input('05')[0]))"
   ]
  },
  {
   "cell_type": "code",
   "execution_count": 26,
   "metadata": {},
   "outputs": [],
   "source": [
    "alphabet = 'abcdefghijklmnopqrstuvwxyz'"
   ]
  },
  {
   "cell_type": "code",
   "execution_count": 27,
   "metadata": {},
   "outputs": [
    {
     "data": {
      "text/plain": [
       "'dbcCCBcCcD'"
      ]
     },
     "execution_count": 27,
     "metadata": {},
     "output_type": "execute_result"
    }
   ],
   "source": [
    "def remove_letter(s, letter):  \n",
    "    return ''.join([c for c in s if c.lower() != letter])\n",
    "    \n",
    "remove_letter(testcase, 'a')"
   ]
  },
  {
   "cell_type": "code",
   "execution_count": 28,
   "metadata": {},
   "outputs": [
    {
     "name": "stdout",
     "output_type": "stream",
     "text": [
      "dbcCCBcCcD\n",
      "daAcCaCAcCcaDA\n",
      "dabAaBAaDA\n"
     ]
    }
   ],
   "source": [
    "for c in alphabet[:3]:\n",
    "    print(remove_letter(testcase, c))"
   ]
  },
  {
   "cell_type": "code",
   "execution_count": 29,
   "metadata": {},
   "outputs": [
    {
     "data": {
      "text/plain": [
       "4"
      ]
     },
     "execution_count": 29,
     "metadata": {},
     "output_type": "execute_result"
    }
   ],
   "source": [
    "min([len(react(remove_letter(testcase, c))) for c in alphabet])"
   ]
  },
  {
   "cell_type": "code",
   "execution_count": 30,
   "metadata": {},
   "outputs": [
    {
     "data": {
      "text/plain": [
       "5330"
      ]
     },
     "execution_count": 30,
     "metadata": {},
     "output_type": "execute_result"
    }
   ],
   "source": [
    "min([len(react(remove_letter(read_input('05')[0], c))) for c in alphabet])"
   ]
  },
  {
   "cell_type": "markdown",
   "metadata": {},
   "source": [
    "# Day 6"
   ]
  },
  {
   "cell_type": "code",
   "execution_count": 31,
   "metadata": {},
   "outputs": [
    {
     "data": {
      "text/plain": [
       "[(1, 1), (1, 6), (8, 3), (3, 4), (5, 5), (8, 9)]"
      ]
     },
     "execution_count": 31,
     "metadata": {},
     "output_type": "execute_result"
    }
   ],
   "source": [
    "testcase = \"\"\"1, 1\n",
    "1, 6\n",
    "8, 3\n",
    "3, 4\n",
    "5, 5\n",
    "8, 9\"\"\".splitlines()\n",
    "testcase = [all_integers(s) for s in testcase]\n",
    "testcase"
   ]
  },
  {
   "cell_type": "code",
   "execution_count": 32,
   "metadata": {},
   "outputs": [
    {
     "name": "stdout",
     "output_type": "stream",
     "text": [
      "defaultdict(<class 'int'>, {(3, 4): 9, (5, 5): 17})\n"
     ]
    },
    {
     "data": {
      "text/plain": [
       "17"
      ]
     },
     "execution_count": 32,
     "metadata": {},
     "output_type": "execute_result"
    }
   ],
   "source": [
    "def partA(points, gridsize=1000, debug=False):\n",
    "    ledger = defaultdict(int)\n",
    "    infinities = set()\n",
    "    for x in range(gridsize):\n",
    "        for y in range(gridsize):\n",
    "            min_distance = None\n",
    "            closest_point = None\n",
    "            for qx, qy in points:\n",
    "                distance = abs(x - qx) + abs(y - qy)\n",
    "                if min_distance is None or distance < min_distance:\n",
    "                    min_distance = distance\n",
    "                    closest_point = (qx, qy)\n",
    "                elif distance == min_distance:\n",
    "                    closest_point = None\n",
    "            if closest_point is not None:\n",
    "                if x == 0 or y == 0 or x == gridsize-1 or y == gridsize-1:\n",
    "                    infinities.add(closest_point)\n",
    "                ledger[closest_point] += 1\n",
    "\n",
    "    # remove points that are suppossed to be infinite\n",
    "    for i in infinities:\n",
    "        del ledger[i]\n",
    "    if debug:\n",
    "        print(ledger)\n",
    "    return max(ledger.values()) \n",
    "\n",
    "partA(testcase, gridsize=10, debug=True)"
   ]
  },
  {
   "cell_type": "code",
   "execution_count": 33,
   "metadata": {},
   "outputs": [
    {
     "data": {
      "text/plain": [
       "(50, (317, 72))"
      ]
     },
     "execution_count": 33,
     "metadata": {},
     "output_type": "execute_result"
    }
   ],
   "source": [
    "points = read_input('06', all_integers)\n",
    "len(points), points[3]"
   ]
  },
  {
   "cell_type": "code",
   "execution_count": 34,
   "metadata": {},
   "outputs": [
    {
     "data": {
      "text/plain": [
       "6047"
      ]
     },
     "execution_count": 34,
     "metadata": {},
     "output_type": "execute_result"
    }
   ],
   "source": [
    "partA(points)"
   ]
  },
  {
   "cell_type": "code",
   "execution_count": 35,
   "metadata": {},
   "outputs": [
    {
     "data": {
      "text/plain": [
       "16"
      ]
     },
     "execution_count": 35,
     "metadata": {},
     "output_type": "execute_result"
    }
   ],
   "source": [
    "def partB(points, maxdist=10000, gridsize=1000):\n",
    "    total = 0\n",
    "    for x in range(gridsize):\n",
    "        for y in range(gridsize):\n",
    "            dist = 0\n",
    "            for q in points:\n",
    "                dist += abs(x - q[0]) + abs(y - q[1])\n",
    "                if dist >= maxdist:\n",
    "                    break\n",
    "            else:\n",
    "                total+=1\n",
    "    return total\n",
    "\n",
    "partB(testcase, maxdist=32, gridsize=10)"
   ]
  },
  {
   "cell_type": "code",
   "execution_count": 36,
   "metadata": {},
   "outputs": [
    {
     "data": {
      "text/plain": [
       "46320"
      ]
     },
     "execution_count": 36,
     "metadata": {},
     "output_type": "execute_result"
    }
   ],
   "source": [
    "partB(points)"
   ]
  },
  {
   "cell_type": "code",
   "execution_count": null,
   "metadata": {},
   "outputs": [],
   "source": []
  }
 ],
 "metadata": {
  "kernelspec": {
   "display_name": "Python 3",
   "language": "python",
   "name": "python3"
  },
  "language_info": {
   "codemirror_mode": {
    "name": "ipython",
    "version": 3
   },
   "file_extension": ".py",
   "mimetype": "text/x-python",
   "name": "python",
   "nbconvert_exporter": "python",
   "pygments_lexer": "ipython3",
   "version": "3.7.0"
  }
 },
 "nbformat": 4,
 "nbformat_minor": 2
}
