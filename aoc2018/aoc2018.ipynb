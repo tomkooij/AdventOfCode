{
 "cells": [
  {
   "cell_type": "code",
   "execution_count": 1,
   "metadata": {},
   "outputs": [],
   "source": [
    "def read_input(day):\n",
    "    \"\"\"return a list of the input lines\"\"\"\n",
    "    return list(map(str.strip, open(f'input\\input{day}.txt')))"
   ]
  },
  {
   "cell_type": "markdown",
   "metadata": {},
   "source": [
    "# Day 1"
   ]
  },
  {
   "cell_type": "code",
   "execution_count": 2,
   "metadata": {},
   "outputs": [
    {
     "data": {
      "text/plain": [
       "493"
      ]
     },
     "execution_count": 2,
     "metadata": {},
     "output_type": "execute_result"
    }
   ],
   "source": [
    "# part 1\n",
    "sum(map(int, read_input('01')))"
   ]
  },
  {
   "cell_type": "code",
   "execution_count": 3,
   "metadata": {},
   "outputs": [],
   "source": [
    "# part 2"
   ]
  },
  {
   "cell_type": "code",
   "execution_count": 4,
   "metadata": {},
   "outputs": [],
   "source": [
    "from itertools import cycle"
   ]
  },
  {
   "cell_type": "code",
   "execution_count": 5,
   "metadata": {},
   "outputs": [
    {
     "data": {
      "text/plain": [
       "[0, 1, 3, 6, 10, 15, 21, 28, 36, 45]"
      ]
     },
     "execution_count": 5,
     "metadata": {},
     "output_type": "execute_result"
    }
   ],
   "source": [
    "def sum_so_far(items):\n",
    "    total = 0\n",
    "    for item in items:\n",
    "        total += item\n",
    "        yield total\n",
    "\n",
    "list(sum_so_far(range(10)))"
   ]
  },
  {
   "cell_type": "code",
   "execution_count": 6,
   "metadata": {},
   "outputs": [
    {
     "data": {
      "text/plain": [
       "3"
      ]
     },
     "execution_count": 6,
     "metadata": {},
     "output_type": "execute_result"
    }
   ],
   "source": [
    "def find_first_duplicate(items):\n",
    "    \"\"\"return the first duplicate in a list\"\"\"\n",
    "    freqs = set()\n",
    "    for item in items:\n",
    "        if item in freqs:\n",
    "            return item\n",
    "        freqs.add(item)\n",
    "\n",
    "find_first_duplicate([0, 1, 2, 3, 4, 3, 5, 6, 7])"
   ]
  },
  {
   "cell_type": "code",
   "execution_count": 7,
   "metadata": {},
   "outputs": [],
   "source": [
    "changes = map(int, read_input('01'))"
   ]
  },
  {
   "cell_type": "code",
   "execution_count": 8,
   "metadata": {},
   "outputs": [
    {
     "data": {
      "text/plain": [
       "413"
      ]
     },
     "execution_count": 8,
     "metadata": {},
     "output_type": "execute_result"
    }
   ],
   "source": [
    "find_first_duplicate(sum_so_far(cycle(changes)))"
   ]
  },
  {
   "cell_type": "markdown",
   "metadata": {},
   "source": [
    "# Day 2"
   ]
  },
  {
   "cell_type": "code",
   "execution_count": 9,
   "metadata": {},
   "outputs": [
    {
     "data": {
      "text/plain": [
       "['rvefnvyxzbodgpnpkumawhijsc',\n",
       " 'rvefqtyxzsddglnppumawhijsc',\n",
       " 'rvefqtywzbodglnkkubawhijsc']"
      ]
     },
     "execution_count": 9,
     "metadata": {},
     "output_type": "execute_result"
    }
   ],
   "source": [
    "input2 = read_input('02')\n",
    "input2[:3]"
   ]
  },
  {
   "cell_type": "code",
   "execution_count": 10,
   "metadata": {},
   "outputs": [],
   "source": [
    "from collections import Counter"
   ]
  },
  {
   "cell_type": "code",
   "execution_count": 11,
   "metadata": {},
   "outputs": [],
   "source": [
    "def has_n_fold(s, n=2):\n",
    "    \"\"\"check is a string contains at least 1 n-fold\"\"\"\n",
    "    return sum((x == n for x in Counter(s).values())) >= 1"
   ]
  },
  {
   "cell_type": "code",
   "execution_count": 12,
   "metadata": {},
   "outputs": [],
   "source": [
    "assert has_n_fold('ababab', 3) == True\n",
    "assert has_n_fold('ababab', 2) == False\n",
    "assert has_n_fold('bababc', 3) == True\n",
    "assert has_n_fold('bababc', 2) == True"
   ]
  },
  {
   "cell_type": "code",
   "execution_count": 13,
   "metadata": {},
   "outputs": [
    {
     "data": {
      "text/plain": [
       "6150"
      ]
     },
     "execution_count": 13,
     "metadata": {},
     "output_type": "execute_result"
    }
   ],
   "source": [
    "N2 = sum(map(lambda x: has_n_fold(x, n=2), input2))\n",
    "N3 = sum(map(lambda x: has_n_fold(x, n=3), input2))\n",
    "N2 * N3"
   ]
  },
  {
   "cell_type": "code",
   "execution_count": 14,
   "metadata": {},
   "outputs": [],
   "source": [
    "#part 2"
   ]
  },
  {
   "cell_type": "code",
   "execution_count": 15,
   "metadata": {},
   "outputs": [],
   "source": [
    "from itertools import combinations"
   ]
  },
  {
   "cell_type": "code",
   "execution_count": 21,
   "metadata": {},
   "outputs": [],
   "source": [
    "a,b = next(combinations(input2, 2))"
   ]
  },
  {
   "cell_type": "code",
   "execution_count": 22,
   "metadata": {},
   "outputs": [
    {
     "name": "stdout",
     "output_type": "stream",
     "text": [
      "rvefnvyxzbodgpnpkumawhijsc\n",
      "rvefqtyxzsddglnppumawhijsc\n",
      "rvefyxzdgnpumawhijsc\n"
     ]
    }
   ],
   "source": [
    "def common(a,b):\n",
    "    return ''.join((a for a,b in zip(a,b) if a == b))\n",
    "\n",
    "print(a)\n",
    "print(b)\n",
    "print(common(a,b))"
   ]
  },
  {
   "cell_type": "code",
   "execution_count": 23,
   "metadata": {},
   "outputs": [
    {
     "name": "stdout",
     "output_type": "stream",
     "text": [
      "rvefnvyxzbodgpnpkumawhijsc\n",
      "rvefqtyxzsddglnppumawhijsc\n",
      "6\n"
     ]
    }
   ],
   "source": [
    "def diff(a,b):\n",
    "    return len(a) - len(common(a, b))\n",
    "\n",
    "print(a)\n",
    "print(b)\n",
    "print(diff(a,b))"
   ]
  },
  {
   "cell_type": "code",
   "execution_count": 24,
   "metadata": {},
   "outputs": [
    {
     "name": "stdout",
     "output_type": "stream",
     "text": [
      "rtehotyxzbodglnpkudawhijsc rtefotyxzbodglnpkudawhijsc\n",
      "rteotyxzbodglnpkudawhijsc\n"
     ]
    }
   ],
   "source": [
    "for a, b in combinations(input2, 2):\n",
    "    if diff(a, b) == 1:\n",
    "        break\n",
    "print(a,b)\n",
    "print(common(a,b))"
   ]
  }
 ],
 "metadata": {
  "kernelspec": {
   "display_name": "Python 3",
   "language": "python",
   "name": "python3"
  },
  "language_info": {
   "codemirror_mode": {
    "name": "ipython",
    "version": 3
   },
   "file_extension": ".py",
   "mimetype": "text/x-python",
   "name": "python",
   "nbconvert_exporter": "python",
   "pygments_lexer": "ipython3",
   "version": "3.7.0"
  }
 },
 "nbformat": 4,
 "nbformat_minor": 2
}
