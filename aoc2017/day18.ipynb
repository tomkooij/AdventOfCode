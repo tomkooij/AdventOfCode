{
 "cells": [
  {
   "cell_type": "code",
   "execution_count": 21,
   "metadata": {
    "collapsed": true
   },
   "outputs": [],
   "source": [
    "from collections import defaultdict"
   ]
  },
  {
   "cell_type": "code",
   "execution_count": null,
   "metadata": {
    "collapsed": true
   },
   "outputs": [],
   "source": []
  },
  {
   "cell_type": "code",
   "execution_count": 22,
   "metadata": {},
   "outputs": [
    {
     "data": {
      "text/plain": [
       "[['set', 'a', '1'], ['add', 'a', '2'], ['mul', 'a', 'a']]"
      ]
     },
     "execution_count": 22,
     "metadata": {},
     "output_type": "execute_result"
    }
   ],
   "source": [
    "test = \"\"\"set a 1\n",
    "add a 2\n",
    "mul a a\n",
    "mod a 5\n",
    "snd a\n",
    "set a 0\n",
    "rcv a\n",
    "jgz a -1\n",
    "set a 1\n",
    "jgz a -2\"\"\"\n",
    "\n",
    "testcase = test.split('\\n')\n",
    "testcase = [x.split() for x in testcase]\n",
    "testcase[:3]"
   ]
  },
  {
   "cell_type": "code",
   "execution_count": 23,
   "metadata": {},
   "outputs": [
    {
     "data": {
      "text/plain": [
       "4"
      ]
     },
     "execution_count": 23,
     "metadata": {},
     "output_type": "execute_result"
    }
   ],
   "source": [
    "# 2016 day 23 assembunyy\n",
    "\n",
    "def run(instructions, **kwargs):\n",
    "\n",
    "    def int_or_reg(register):\n",
    "        try:\n",
    "            return int(register)\n",
    "        except ValueError:\n",
    "            return regs[register]\n",
    "\n",
    "    regs = defaultdict(int)\n",
    "    sound_state = None\n",
    "    for key, value in kwargs.items():\n",
    "        regs[key] = value\n",
    "\n",
    "    p = 1\n",
    "\n",
    "    #for _ in range(12):\n",
    "    while True:\n",
    "        \n",
    "        opcode, *rest = instructions[regs['ip']]\n",
    "        #print('evaluate: ', regs['ip'], opcode, rest)\n",
    "   \n",
    "        if opcode == 'set':\n",
    "            register, value = rest\n",
    "            regs[register] = int_or_reg(value)\n",
    "\n",
    "        elif opcode == 'jgz':\n",
    "            register, value = rest\n",
    "            offset = int_or_reg(value)          \n",
    "            if regs[register] > 0:\n",
    "                regs['ip'] += int_or_reg(offset) - 1\n",
    "        elif opcode == 'add':\n",
    "            register, value = rest\n",
    "            regs[register] += int_or_reg(value)\n",
    "        elif opcode == 'mul':\n",
    "            register, value = rest\n",
    "            regs[register] *= int_or_reg(value)\n",
    "        elif opcode == 'mod':\n",
    "            register, value = rest\n",
    "            regs[register] %= int_or_reg(value)\n",
    "        elif opcode == 'snd':\n",
    "            register = rest[0]\n",
    "            value = int_or_reg(register)\n",
    "            if value > 0:\n",
    "                sound_state = value\n",
    "        elif opcode == 'rcv':\n",
    "            register = rest[0]\n",
    "            if int_or_reg(register) > 0:\n",
    "                return sound_state\n",
    "            \n",
    "        else:\n",
    "            assert False, 'unknown instruction.'\n",
    "\n",
    "        regs['ip'] += 1\n",
    "        #print(regs, sound_state)\n",
    "        \n",
    "    return regs['a']\n",
    "\n",
    "run(testcase)"
   ]
  },
  {
   "cell_type": "code",
   "execution_count": 24,
   "metadata": {},
   "outputs": [
    {
     "data": {
      "text/plain": [
       "[['set', 'i', '31'], ['set', 'a', '1'], ['mul', 'p', '17']]"
      ]
     },
     "execution_count": 24,
     "metadata": {},
     "output_type": "execute_result"
    }
   ],
   "source": [
    "with open('input\\input18.txt') as f:\n",
    "    instructions = [line.rstrip('\\n').split() for line in f.readlines()]\n",
    "instructions[:3]"
   ]
  },
  {
   "cell_type": "code",
   "execution_count": 25,
   "metadata": {},
   "outputs": [
    {
     "data": {
      "text/plain": [
       "3188"
      ]
     },
     "execution_count": 25,
     "metadata": {},
     "output_type": "execute_result"
    }
   ],
   "source": [
    "run(instructions)"
   ]
  },
  {
   "cell_type": "code",
   "execution_count": 26,
   "metadata": {},
   "outputs": [
    {
     "data": {
      "text/plain": [
       "[['snd', '1'],\n",
       " ['snd', '2'],\n",
       " ['snd', 'p'],\n",
       " ['rcv', 'a'],\n",
       " ['rcv', 'b'],\n",
       " ['rcv', 'c'],\n",
       " ['rcv', 'd']]"
      ]
     },
     "execution_count": 26,
     "metadata": {},
     "output_type": "execute_result"
    }
   ],
   "source": [
    "testB = \"\"\"snd 1\n",
    "snd 2\n",
    "snd p\n",
    "rcv a\n",
    "rcv b\n",
    "rcv c\n",
    "rcv d\"\"\"\n",
    "testcaseB = testB.split('\\n')\n",
    "testcaseB = [x.split() for x in testcaseB]\n",
    "testcaseB"
   ]
  },
  {
   "cell_type": "code",
   "execution_count": 27,
   "metadata": {
    "collapsed": true
   },
   "outputs": [],
   "source": [
    "# part B"
   ]
  },
  {
   "cell_type": "code",
   "execution_count": 75,
   "metadata": {},
   "outputs": [],
   "source": [
    "# 2016 day 23 assembunyy\n",
    "\n",
    "def run(instructions):\n",
    "    \n",
    "    queue = defaultdict(list)\n",
    "    sound_counter = defaultdict(int)\n",
    "    \n",
    "    def int_or_reg(register):\n",
    "        try:\n",
    "            return int(register)\n",
    "        except ValueError:\n",
    "            return regs[p][register]\n",
    "\n",
    "        \n",
    "    regs = {0: defaultdict(int), 1: defaultdict(int)}\n",
    "      \n",
    "    regs[1]['p'] = 1\n",
    "\n",
    "    p = 0\n",
    "    \n",
    "    #for _ in range(3):\n",
    "    while True:\n",
    "        #print(queue)\n",
    "        while True:\n",
    "\n",
    "            opcode, *rest = instructions[regs[p]['ip']]\n",
    "            #print('evaluate: ', regs[p]['ip'], opcode, rest)\n",
    "\n",
    "            if opcode == 'set':\n",
    "                register, value = rest\n",
    "                regs[p][register] = int_or_reg(value)\n",
    "            elif opcode == 'jgz':\n",
    "                register, value = rest\n",
    "                offset = int_or_reg(value)          \n",
    "                if int_or_reg(register) > 0:\n",
    "                    regs[p]['ip'] += int_or_reg(offset) - 1\n",
    "            elif opcode == 'add':\n",
    "                register, value = rest\n",
    "                regs[p][register] += int_or_reg(value)\n",
    "            elif opcode == 'mul':\n",
    "                register, value = rest\n",
    "                regs[p][register] *= int_or_reg(value)\n",
    "            elif opcode == 'mod':\n",
    "                register, value = rest\n",
    "                regs[p][register] %= int_or_reg(value)\n",
    "            elif opcode == 'snd':\n",
    "                register = rest[0]\n",
    "                value = int_or_reg(register)\n",
    "                queue[p].append(value)\n",
    "                #print(p,' sends ',value)\n",
    "                sound_counter[p] += 1\n",
    "            elif opcode == 'rcv':\n",
    "                register = rest[0]\n",
    "                if len(queue[1-p]):\n",
    "                    regs[p][register] = queue[1-p].pop(0) \n",
    "                else:\n",
    "                    #print(p, 'waiting')\n",
    "                    break \n",
    "            else:\n",
    "                assert False, 'unknown instruction.'\n",
    "\n",
    "            regs[p]['ip'] += 1\n",
    "            #print(p, regs, queue)\n",
    "      \n",
    "        if regs[p]['ip'] > (len(instructions) - 1):\n",
    "            print(p, 'done!')\n",
    "            regs[p]['ip'] = 0\n",
    "        \n",
    "        if len(queue[p]) == 0:\n",
    "            print('both queues empty:', queue)\n",
    "            break\n",
    "            \n",
    "        # switch to other task\n",
    "        p = 1 - p\n",
    "        #print('task',p,'at',regs[p]['ip'])\n",
    "       \n",
    "            \n",
    "    print(regs)\n",
    "    return sound_counter\n",
    "\n"
   ]
  },
  {
   "cell_type": "code",
   "execution_count": 76,
   "metadata": {},
   "outputs": [
    {
     "name": "stdout",
     "output_type": "stream",
     "text": [
      "both queues empty: defaultdict(<class 'list'>, {0: [], 1: []})\n",
      "{0: defaultdict(<class 'int'>, {'ip': 21, 'i': 0, 'a': 95, 'p': -15, 'b': 95, 'f': 0}), 1: defaultdict(<class 'int'>, {'p': -15, 'ip': 21, 'i': 0, 'a': 95, 'f': 0, 'b': 95})}\n"
     ]
    },
    {
     "data": {
      "text/plain": [
       "defaultdict(int, {0: 7239, 1: 7112})"
      ]
     },
     "execution_count": 76,
     "metadata": {},
     "output_type": "execute_result"
    }
   ],
   "source": [
    "run(instructions)"
   ]
  },
  {
   "cell_type": "code",
   "execution_count": null,
   "metadata": {
    "collapsed": true
   },
   "outputs": [],
   "source": []
  },
  {
   "cell_type": "code",
   "execution_count": null,
   "metadata": {
    "collapsed": true
   },
   "outputs": [],
   "source": []
  },
  {
   "cell_type": "code",
   "execution_count": null,
   "metadata": {
    "collapsed": true
   },
   "outputs": [],
   "source": []
  },
  {
   "cell_type": "code",
   "execution_count": null,
   "metadata": {
    "collapsed": true
   },
   "outputs": [],
   "source": []
  },
  {
   "cell_type": "code",
   "execution_count": null,
   "metadata": {
    "collapsed": true
   },
   "outputs": [],
   "source": []
  },
  {
   "cell_type": "code",
   "execution_count": null,
   "metadata": {
    "collapsed": true
   },
   "outputs": [],
   "source": []
  },
  {
   "cell_type": "code",
   "execution_count": null,
   "metadata": {},
   "outputs": [],
   "source": []
  },
  {
   "cell_type": "code",
   "execution_count": null,
   "metadata": {
    "collapsed": true
   },
   "outputs": [],
   "source": []
  }
 ],
 "metadata": {
  "kernelspec": {
   "display_name": "Python [default]",
   "language": "python",
   "name": "python3"
  },
  "language_info": {
   "codemirror_mode": {
    "name": "ipython",
    "version": 3
   },
   "file_extension": ".py",
   "mimetype": "text/x-python",
   "name": "python",
   "nbconvert_exporter": "python",
   "pygments_lexer": "ipython3",
   "version": "3.6.1"
  }
 },
 "nbformat": 4,
 "nbformat_minor": 2
}
