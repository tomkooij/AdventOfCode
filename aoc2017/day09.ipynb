{
 "cells": [
  {
   "cell_type": "code",
   "execution_count": 1,
   "metadata": {},
   "outputs": [],
   "source": [
    "from collections import deque"
   ]
  },
  {
   "cell_type": "code",
   "execution_count": 2,
   "metadata": {},
   "outputs": [
    {
     "data": {
      "text/plain": [
       "('{{{{{{<,,!', '}')"
      ]
     },
     "execution_count": 2,
     "metadata": {},
     "output_type": "execute_result"
    }
   ],
   "source": [
    "f = open('input\\input09.txt')\n",
    "input = f.readline()\n",
    "input[:10], input[-1]"
   ]
  },
  {
   "cell_type": "code",
   "execution_count": 3,
   "metadata": {},
   "outputs": [],
   "source": [
    "testcase = '{{{}}}'\n",
    "testcase2 = '{{},{}}'\n",
    "testcase3 = '{{{},{},{{}}}}'\n",
    "testcase4 = '{<a>,<a>,<a>,<a>}'\n",
    "testcase5 = '{{<ab>},{<ab>},{<ab>},{<ab>}}'\n",
    "testcase6 = '{{<!!>},{<!!>},{<!!>},{<!!>}}'\n",
    "testcase7 = '{{<!>},{<!>},{<!>},{<a>}}'"
   ]
  },
  {
   "cell_type": "code",
   "execution_count": 4,
   "metadata": {},
   "outputs": [],
   "source": [
    "def remove_garbage(s, count_garbage=False):\n",
    "    queue = deque(s)\n",
    "    garbage = False\n",
    "    chars_in_garbage = 0\n",
    "    while queue:\n",
    "        char = queue.popleft()\n",
    "        #print('popped:', char)\n",
    "        if char == '!':\n",
    "            queue.popleft()\n",
    "            continue\n",
    "        if char == '>' and garbage:\n",
    "            garbage = False\n",
    "            continue\n",
    "        if garbage:\n",
    "            chars_in_garbage += 1\n",
    "            continue\n",
    "        if char == '<':\n",
    "            garbage = True\n",
    "            continue\n",
    "        #print('yield: ', char)\n",
    "        if not count_garbage:\n",
    "            yield char\n",
    "    if count_garbage:\n",
    "        yield chars_in_garbage\n",
    "            "
   ]
  },
  {
   "cell_type": "code",
   "execution_count": null,
   "metadata": {},
   "outputs": [],
   "source": []
  },
  {
   "cell_type": "code",
   "execution_count": 5,
   "metadata": {},
   "outputs": [],
   "source": [
    "def solve(s):\n",
    "    score = 1\n",
    "    total_score = 0\n",
    "    for char in remove_garbage(s):\n",
    "        if char == '{':\n",
    "            total_score += score\n",
    "            score += 1\n",
    "        if char == '}':\n",
    "            score -= 1\n",
    "    return total_score"
   ]
  },
  {
   "cell_type": "code",
   "execution_count": 10,
   "metadata": {},
   "outputs": [],
   "source": [
    "assert solve(testcase) == 6\n",
    "assert solve(testcase2) == 5\n",
    "assert solve(testcase3) == 16\n",
    "assert solve(testcase4) == 1\n",
    "assert solve(testcase5) == 9\n",
    "assert solve(testcase6) == 9\n",
    "assert solve(testcase7) == 3"
   ]
  },
  {
   "cell_type": "code",
   "execution_count": 7,
   "metadata": {},
   "outputs": [
    {
     "data": {
      "text/plain": [
       "3"
      ]
     },
     "execution_count": 7,
     "metadata": {},
     "output_type": "execute_result"
    }
   ],
   "source": [
    "solve(testcase7)"
   ]
  },
  {
   "cell_type": "code",
   "execution_count": 8,
   "metadata": {},
   "outputs": [
    {
     "data": {
      "text/plain": [
       "14421"
      ]
     },
     "execution_count": 8,
     "metadata": {},
     "output_type": "execute_result"
    }
   ],
   "source": [
    "solve(input)"
   ]
  },
  {
   "cell_type": "code",
   "execution_count": 9,
   "metadata": {},
   "outputs": [
    {
     "data": {
      "text/plain": [
       "6817"
      ]
     },
     "execution_count": 9,
     "metadata": {},
     "output_type": "execute_result"
    }
   ],
   "source": [
    "next(remove_garbage(input, count_garbage=True))"
   ]
  },
  {
   "cell_type": "code",
   "execution_count": null,
   "metadata": {},
   "outputs": [],
   "source": []
  },
  {
   "cell_type": "code",
   "execution_count": null,
   "metadata": {},
   "outputs": [],
   "source": []
  }
 ],
 "metadata": {
  "kernelspec": {
   "display_name": "Python [conda env:py36]",
   "language": "python",
   "name": "conda-env-py36-py"
  },
  "language_info": {
   "codemirror_mode": {
    "name": "ipython",
    "version": 3
   },
   "file_extension": ".py",
   "mimetype": "text/x-python",
   "name": "python",
   "nbconvert_exporter": "python",
   "pygments_lexer": "ipython3",
   "version": "3.6.1"
  }
 },
 "nbformat": 4,
 "nbformat_minor": 2
}
