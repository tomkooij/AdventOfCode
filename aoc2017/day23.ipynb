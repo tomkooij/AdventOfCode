{
 "cells": [
  {
   "cell_type": "code",
   "execution_count": 1,
   "metadata": {
    "collapsed": true
   },
   "outputs": [],
   "source": [
    "from collections import defaultdict"
   ]
  },
  {
   "cell_type": "code",
   "execution_count": 2,
   "metadata": {
    "collapsed": true
   },
   "outputs": [],
   "source": [
    "# asmbunny again!\n",
    "def run(instructions, **kwargs):\n",
    "\n",
    "    def int_or_reg(register):\n",
    "        try:\n",
    "            return int(register)\n",
    "        except ValueError:\n",
    "            return regs[register]\n",
    "\n",
    "    regs = defaultdict(int)\n",
    "\n",
    "    for key, value in kwargs.items():\n",
    "        regs[key] = value\n",
    "\n",
    "    n_mul = 0\n",
    "    #for _ in range(12):\n",
    "    while 0 <= regs['ip'] < len(instructions):\n",
    "        \n",
    "        opcode, *rest = instructions[regs['ip']]\n",
    "        #print('evaluate: ', regs['ip'], opcode, rest)\n",
    "   \n",
    "        if opcode == 'set':\n",
    "            register, value = rest\n",
    "            regs[register] = int_or_reg(value)\n",
    "        elif opcode == 'jnz':\n",
    "            register, value = rest\n",
    "            offset = int_or_reg(value)          \n",
    "            if int_or_reg(register):\n",
    "                regs['ip'] += int_or_reg(offset) - 1\n",
    "        elif opcode == 'sub':\n",
    "            register, value = rest\n",
    "            regs[register] -= int_or_reg(value)\n",
    "        elif opcode == 'mul':\n",
    "            n_mul += 1\n",
    "            register, value = rest\n",
    "            regs[register] *= int_or_reg(value)\n",
    "           \n",
    "        else:\n",
    "            assert False, 'unknown instruction.'\n",
    "\n",
    "        regs['ip'] += 1\n",
    "        \n",
    "      \n",
    "    return n_mul, regs\n",
    "\n"
   ]
  },
  {
   "cell_type": "code",
   "execution_count": 3,
   "metadata": {},
   "outputs": [
    {
     "data": {
      "text/plain": [
       "[['set', 'b', '65'], ['set', 'c', 'b'], ['jnz', 'a', '2']]"
      ]
     },
     "execution_count": 3,
     "metadata": {},
     "output_type": "execute_result"
    }
   ],
   "source": [
    "f = open('input\\input23.txt')\n",
    "instructions = [line.rstrip('\\n').split() for line in f.readlines()]\n",
    "instructions[:3]"
   ]
  },
  {
   "cell_type": "code",
   "execution_count": 4,
   "metadata": {},
   "outputs": [
    {
     "data": {
      "text/plain": [
       "(3969,\n",
       " defaultdict(int,\n",
       "             {'a': 0,\n",
       "              'b': 65,\n",
       "              'c': 65,\n",
       "              'd': 65,\n",
       "              'e': 65,\n",
       "              'f': 0,\n",
       "              'g': 0,\n",
       "              'h': 1,\n",
       "              'ip': 32}))"
      ]
     },
     "execution_count": 4,
     "metadata": {},
     "output_type": "execute_result"
    }
   ],
   "source": [
    "run(instructions)"
   ]
  },
  {
   "cell_type": "code",
   "execution_count": 5,
   "metadata": {
    "collapsed": true
   },
   "outputs": [],
   "source": [
    "# Part B\n",
    "# the asm goes through a range of numbers (see below) \n",
    "# and checks for primality. \n",
    "# it counts the numbers in the range that are not prime"
   ]
  },
  {
   "cell_type": "code",
   "execution_count": 6,
   "metadata": {
    "collapsed": true
   },
   "outputs": [],
   "source": [
    "b = 65\n",
    "start = b * 100 + 100000\n",
    "end = start + 17000"
   ]
  },
  {
   "cell_type": "code",
   "execution_count": 7,
   "metadata": {
    "scrolled": true
   },
   "outputs": [
    {
     "data": {
      "text/plain": [
       "[(3, 1),\n",
       " (4, 0),\n",
       " (5, 1),\n",
       " (6, 0),\n",
       " (7, 1),\n",
       " (8, 0),\n",
       " (9, 0),\n",
       " (10, 0),\n",
       " (11, 1),\n",
       " (12, 0),\n",
       " (13, 1)]"
      ]
     },
     "execution_count": 7,
     "metadata": {},
     "output_type": "execute_result"
    }
   ],
   "source": [
    "def isPrime(x):\n",
    "    \"\"\"stupid slow primality check\"\"\"\n",
    "    for div in range(2, x):\n",
    "        if not x % div:\n",
    "            return 0 \n",
    "    return 1\n",
    "\n",
    "[(x, isPrime(x)) for x in range(3, 14)]"
   ]
  },
  {
   "cell_type": "code",
   "execution_count": 13,
   "metadata": {
    "collapsed": true
   },
   "outputs": [],
   "source": [
    "h = [1-isPrime(x) for x in range(start, end + 1, 17)]"
   ]
  },
  {
   "cell_type": "code",
   "execution_count": 14,
   "metadata": {},
   "outputs": [
    {
     "data": {
      "text/plain": [
       "917"
      ]
     },
     "execution_count": 14,
     "metadata": {},
     "output_type": "execute_result"
    }
   ],
   "source": [
    "sum(h)"
   ]
  },
  {
   "cell_type": "code",
   "execution_count": null,
   "metadata": {
    "collapsed": true
   },
   "outputs": [],
   "source": []
  },
  {
   "cell_type": "code",
   "execution_count": null,
   "metadata": {
    "collapsed": true
   },
   "outputs": [],
   "source": []
  }
 ],
 "metadata": {
  "kernelspec": {
   "display_name": "Python [default]",
   "language": "python",
   "name": "python3"
  },
  "language_info": {
   "codemirror_mode": {
    "name": "ipython",
    "version": 3
   },
   "file_extension": ".py",
   "mimetype": "text/x-python",
   "name": "python",
   "nbconvert_exporter": "python",
   "pygments_lexer": "ipython3",
   "version": "3.6.1"
  }
 },
 "nbformat": 4,
 "nbformat_minor": 2
}
