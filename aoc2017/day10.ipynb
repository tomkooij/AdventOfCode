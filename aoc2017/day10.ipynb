{
 "cells": [
  {
   "cell_type": "code",
   "execution_count": 1,
   "metadata": {},
   "outputs": [],
   "source": [
    "from collections import deque"
   ]
  },
  {
   "cell_type": "code",
   "execution_count": 2,
   "metadata": {},
   "outputs": [],
   "source": [
    "input = [3, 4, 1, 5]"
   ]
  },
  {
   "cell_type": "code",
   "execution_count": 3,
   "metadata": {},
   "outputs": [],
   "source": [
    "l = list(range(5))"
   ]
  },
  {
   "cell_type": "code",
   "execution_count": 4,
   "metadata": {},
   "outputs": [],
   "source": [
    "def reverse(l, start, inc):\n",
    "    \"\"\"\n",
    "    replace part of list with its reverse\n",
    "    from index start to start+inc\n",
    "    \n",
    "    stupid lazy (as in programmer being lazy) implementation  \n",
    "    \"\"\"\n",
    "    d = deque(l)\n",
    "    d.rotate(-start)  # prevent wrapping, rotate start to index 0\n",
    "    \n",
    "    l = list(d)\n",
    "    x = l[:]\n",
    "    x = x[:inc]   # select\n",
    "    x.reverse()   # reverse\n",
    "    l[:inc] = x  # replace\n",
    "    \n",
    "    d = deque(l)\n",
    "    d.rotate(start)\n",
    "    return list(d)\n",
    "   "
   ]
  },
  {
   "cell_type": "code",
   "execution_count": 5,
   "metadata": {},
   "outputs": [
    {
     "name": "stdout",
     "output_type": "stream",
     "text": [
      "3 1 [2, 1, 0, 3, 4]\n",
      "8 2 [4, 3, 0, 1, 2]\n",
      "11 3 [4, 3, 0, 1, 2]\n",
      "19 4 [3, 4, 2, 1, 0]\n"
     ]
    }
   ],
   "source": [
    "skip = 0\n",
    "index = 0\n",
    "l = list(range(5))\n",
    "x = l[:]\n",
    "for length in input:\n",
    "    x = reverse(x, index, length)\n",
    "    index += length + skip\n",
    "    skip +=1\n",
    "    print(index, skip, x)"
   ]
  },
  {
   "cell_type": "code",
   "execution_count": 6,
   "metadata": {},
   "outputs": [
    {
     "name": "stdout",
     "output_type": "stream",
     "text": [
      "12\n"
     ]
    }
   ],
   "source": [
    "print(x[0]*x[1])"
   ]
  },
  {
   "cell_type": "code",
   "execution_count": 7,
   "metadata": {},
   "outputs": [],
   "source": [
    "## Part A"
   ]
  },
  {
   "cell_type": "code",
   "execution_count": 8,
   "metadata": {},
   "outputs": [],
   "source": [
    "input = [97,167,54,178,2,11,209,174,119,248,254,0,255,1,64,190]"
   ]
  },
  {
   "cell_type": "code",
   "execution_count": 9,
   "metadata": {},
   "outputs": [],
   "source": [
    "skip = 0\n",
    "index = 0\n",
    "l = list(range(256))\n",
    "x = l[:]\n",
    "for length in input:\n",
    "    x = reverse(x, index, length)\n",
    "    index += length + skip\n",
    "    skip +=1\n",
    "    #print(index, skip, x)"
   ]
  },
  {
   "cell_type": "code",
   "execution_count": 10,
   "metadata": {},
   "outputs": [
    {
     "name": "stdout",
     "output_type": "stream",
     "text": [
      "8536\n"
     ]
    }
   ],
   "source": [
    "print(x[0]*x[1])"
   ]
  },
  {
   "cell_type": "code",
   "execution_count": 11,
   "metadata": {},
   "outputs": [],
   "source": [
    "## Part B"
   ]
  },
  {
   "cell_type": "code",
   "execution_count": 12,
   "metadata": {},
   "outputs": [],
   "source": [
    "end = [17, 31, 73, 47, 23]"
   ]
  },
  {
   "cell_type": "code",
   "execution_count": 13,
   "metadata": {},
   "outputs": [
    {
     "name": "stdout",
     "output_type": "stream",
     "text": [
      "[3, 4, 2, 1, 0]\n"
     ]
    }
   ],
   "source": [
    "input = [3, 4, 1, 5]\n",
    "end = [17, 31, 73, 47, 23]\n",
    "\n",
    "def knot_hash(input, rounds=1, n=256):  \n",
    "    skip = 0\n",
    "    index = 0\n",
    "    x = list(range(n))\n",
    "    for _ in range(rounds):\n",
    "        for length in input:\n",
    "            x = reverse(x, index, length)\n",
    "            index += length + skip\n",
    "            index %= n\n",
    "            skip +=1\n",
    "            #print(index, skip, x)\n",
    "    return x\n",
    "        \n",
    "print(knot_hash(input, n=5))"
   ]
  },
  {
   "cell_type": "code",
   "execution_count": 14,
   "metadata": {},
   "outputs": [
    {
     "data": {
      "text/plain": [
       "[49, 44, 50, 44, 51, 17, 31, 73, 47, 23]"
      ]
     },
     "execution_count": 14,
     "metadata": {},
     "output_type": "execute_result"
    }
   ],
   "source": [
    "testcase = \"1,2,3\"\n",
    "input = [ord(x) for x in testcase]\n",
    "input += end\n",
    "input"
   ]
  },
  {
   "cell_type": "code",
   "execution_count": 15,
   "metadata": {},
   "outputs": [
    {
     "data": {
      "text/plain": [
       "[3, 4, 1, 5, 17, 31, 73, 47, 23]"
      ]
     },
     "execution_count": 15,
     "metadata": {},
     "output_type": "execute_result"
    }
   ],
   "source": [
    "input = [3, 4, 1, 5] + end\n",
    "input"
   ]
  },
  {
   "cell_type": "code",
   "execution_count": 35,
   "metadata": {},
   "outputs": [
    {
     "data": {
      "text/plain": [
       "[1, 2, 3, 4, 0]"
      ]
     },
     "execution_count": 35,
     "metadata": {},
     "output_type": "execute_result"
    }
   ],
   "source": [
    "knot_hash(input, n=5, rounds=64)"
   ]
  },
  {
   "cell_type": "code",
   "execution_count": 17,
   "metadata": {},
   "outputs": [
    {
     "data": {
      "text/plain": [
       "[3, 4, 1, 5, 17, 31, 73, 47, 23]"
      ]
     },
     "execution_count": 17,
     "metadata": {},
     "output_type": "execute_result"
    }
   ],
   "source": [
    "input"
   ]
  },
  {
   "cell_type": "code",
   "execution_count": 18,
   "metadata": {},
   "outputs": [
    {
     "data": {
      "text/plain": [
       "64"
      ]
     },
     "execution_count": 18,
     "metadata": {},
     "output_type": "execute_result"
    }
   ],
   "source": [
    "65 ^ 27 ^ 9 ^ 1 ^ 4 ^ 3 ^ 40 ^ 50 ^ 91 ^ 7 ^ 6 ^ 0 ^ 2 ^ 5 ^ 68 ^ 22"
   ]
  },
  {
   "cell_type": "code",
   "execution_count": 19,
   "metadata": {},
   "outputs": [],
   "source": [
    "l = [65 , 27 , 9 , 1 , 4 , 3 , 40 , 50 , 91 , 7 ,6 , 0, 2, 5 ,68 , 22]"
   ]
  },
  {
   "cell_type": "code",
   "execution_count": 20,
   "metadata": {},
   "outputs": [],
   "source": [
    "def xor_list(l):\n",
    "    assert len(l) == 16\n",
    "    a = l[0]\n",
    "    for i in l[1:]:\n",
    "        a ^= i\n",
    "    return a"
   ]
  },
  {
   "cell_type": "code",
   "execution_count": 21,
   "metadata": {},
   "outputs": [
    {
     "data": {
      "text/plain": [
       "64"
      ]
     },
     "execution_count": 21,
     "metadata": {},
     "output_type": "execute_result"
    }
   ],
   "source": [
    "xor_list(l)"
   ]
  },
  {
   "cell_type": "code",
   "execution_count": 22,
   "metadata": {},
   "outputs": [
    {
     "data": {
      "text/plain": [
       "'97,167,54,178,2,11,209,174,119,248,254,0,255,1,64,190'"
      ]
     },
     "execution_count": 22,
     "metadata": {},
     "output_type": "execute_result"
    }
   ],
   "source": [
    "input_str = \"97,167,54,178,2,11,209,174,119,248,254,0,255,1,64,190\"\n",
    "input_str"
   ]
  },
  {
   "cell_type": "code",
   "execution_count": 23,
   "metadata": {},
   "outputs": [],
   "source": [
    "input_str = ''"
   ]
  },
  {
   "cell_type": "code",
   "execution_count": 24,
   "metadata": {},
   "outputs": [
    {
     "data": {
      "text/plain": [
       "[17, 31, 73, 47, 23]"
      ]
     },
     "execution_count": 24,
     "metadata": {},
     "output_type": "execute_result"
    }
   ],
   "source": [
    "input = [ord(x) for x in input_str]\n",
    "input += end\n",
    "input"
   ]
  },
  {
   "cell_type": "code",
   "execution_count": 25,
   "metadata": {},
   "outputs": [],
   "source": [
    "out = knot_hash(input, rounds=64)"
   ]
  },
  {
   "cell_type": "code",
   "execution_count": 26,
   "metadata": {},
   "outputs": [],
   "source": [
    "def create_hash(x):\n",
    "    \"\"\"xor each part of 16 numbers and convert to hex string\"\"\"\n",
    "    return ''.join([\"{0:x}\".format(xor_list(x[i:i+16])) \n",
    "                   for i in list(range(0, len(x), 16))])"
   ]
  },
  {
   "cell_type": "code",
   "execution_count": 27,
   "metadata": {},
   "outputs": [],
   "source": [
    "tst = ('AoC 2017', '33efeb34ea91902bb2f59c9920caa6cd')\n"
   ]
  },
  {
   "cell_type": "code",
   "execution_count": 28,
   "metadata": {},
   "outputs": [],
   "source": [
    "def solve(input):\n",
    "    l = [ord(x) for x in input]\n",
    "    l += [17, 31, 73, 47, 23]\n",
    "    x = knot_hash(l, rounds=64)\n",
    "    return create_hash(x)"
   ]
  },
  {
   "cell_type": "code",
   "execution_count": 29,
   "metadata": {},
   "outputs": [
    {
     "data": {
      "text/plain": [
       "'33efeb34ea91902bb2f59c9920caa6cd'"
      ]
     },
     "execution_count": 29,
     "metadata": {},
     "output_type": "execute_result"
    }
   ],
   "source": [
    "solve('AoC 2017')"
   ]
  },
  {
   "cell_type": "code",
   "execution_count": 30,
   "metadata": {},
   "outputs": [],
   "source": [
    "assert solve(tst[0]) == tst[1]"
   ]
  },
  {
   "cell_type": "code",
   "execution_count": 33,
   "metadata": {},
   "outputs": [],
   "source": [
    "input_str = \"97,167,54,178,2,11,209,174,119,248,254,0,255,1,64,190\""
   ]
  },
  {
   "cell_type": "code",
   "execution_count": 34,
   "metadata": {},
   "outputs": [
    {
     "data": {
      "text/plain": [
       "'aff593797989d665349efe11bb4fd99b'"
      ]
     },
     "execution_count": 34,
     "metadata": {},
     "output_type": "execute_result"
    }
   ],
   "source": [
    "solve(input_str)"
   ]
  },
  {
   "cell_type": "code",
   "execution_count": null,
   "metadata": {},
   "outputs": [],
   "source": []
  }
 ],
 "metadata": {
  "kernelspec": {
   "display_name": "Python [conda env:py36]",
   "language": "python",
   "name": "conda-env-py36-py"
  },
  "language_info": {
   "codemirror_mode": {
    "name": "ipython",
    "version": 3
   },
   "file_extension": ".py",
   "mimetype": "text/x-python",
   "name": "python",
   "nbconvert_exporter": "python",
   "pygments_lexer": "ipython3",
   "version": "3.6.1"
  }
 },
 "nbformat": 4,
 "nbformat_minor": 2
}
