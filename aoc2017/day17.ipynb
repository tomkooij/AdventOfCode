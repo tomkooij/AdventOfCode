{
 "cells": [
  {
   "cell_type": "markdown",
   "metadata": {},
   "source": [
    "0\n",
    "\n",
    "0 (1)\n",
    "\n",
    "0 (2) 1\n",
    "\n",
    "0  2 (3) 1\n",
    "\n",
    "0  2 (4) 3  1\n",
    "\n",
    "0 (5) 2  4  3  1"
   ]
  },
  {
   "cell_type": "code",
   "execution_count": 1,
   "metadata": {},
   "outputs": [],
   "source": [
    "def stream(step, N=2018):\n",
    "    idx = 0\n",
    "    l = [0]\n",
    "    for i in range(N):\n",
    "        idx += step \n",
    "        idx %= i+1\n",
    "        idx += 1\n",
    "        l.insert(idx, i+1)\n",
    "        #print(idx, l)\n",
    "    return l    \n"
   ]
  },
  {
   "cell_type": "code",
   "execution_count": 2,
   "metadata": {},
   "outputs": [
    {
     "data": {
      "text/plain": [
       "[0, 4, 1, 5, 3, 2]"
      ]
     },
     "execution_count": 2,
     "metadata": {},
     "output_type": "execute_result"
    }
   ],
   "source": [
    "stream(386, N=5)"
   ]
  },
  {
   "cell_type": "code",
   "execution_count": 3,
   "metadata": {},
   "outputs": [
    {
     "data": {
      "text/plain": [
       "[2017, 638, 1513]"
      ]
     },
     "execution_count": 3,
     "metadata": {},
     "output_type": "execute_result"
    }
   ],
   "source": [
    "x = stream(3)\n",
    "idx = x.index(2017)\n",
    "x[idx:idx+3]"
   ]
  },
  {
   "cell_type": "code",
   "execution_count": 4,
   "metadata": {},
   "outputs": [
    {
     "data": {
      "text/plain": [
       "[0, 1332, 449]"
      ]
     },
     "execution_count": 4,
     "metadata": {},
     "output_type": "execute_result"
    }
   ],
   "source": [
    "x = stream(386)\n",
    "idx = x.index(2017)\n",
    "x[idx+1]\n",
    "x[:3]"
   ]
  },
  {
   "cell_type": "code",
   "execution_count": 5,
   "metadata": {},
   "outputs": [],
   "source": [
    "# part B\n",
    "N = 50000000"
   ]
  },
  {
   "cell_type": "code",
   "execution_count": 6,
   "metadata": {},
   "outputs": [],
   "source": [
    "def stream(step, N=2018):\n",
    "    idx = 0\n",
    "    l = [0]\n",
    "    for i in range(N):\n",
    "        idx += step \n",
    "        idx %= i+1\n",
    "        idx += 1\n",
    "        if idx == 1:\n",
    "            print('insert after 0:', i+1)\n",
    "            item1 = i+1 \n",
    "        #l.insert(idx, i+1)\n",
    "        #print(idx, l)\n",
    "    return item1"
   ]
  },
  {
   "cell_type": "code",
   "execution_count": 7,
   "metadata": {},
   "outputs": [
    {
     "name": "stdout",
     "output_type": "stream",
     "text": [
      "insert after 0: 1\n",
      "insert after 0: 4\n",
      "insert after 0: 7\n",
      "insert after 0: 10\n",
      "insert after 0: 39\n",
      "insert after 0: 50\n",
      "insert after 0: 306\n",
      "insert after 0: 449\n",
      "insert after 0: 1332\n",
      "insert after 0: 3211\n",
      "insert after 0: 10422\n",
      "insert after 0: 10449\n",
      "insert after 0: 49350\n",
      "insert after 0: 71445\n",
      "insert after 0: 114414\n",
      "insert after 0: 148968\n",
      "insert after 0: 200074\n",
      "insert after 0: 487226\n",
      "insert after 0: 46038988\n"
     ]
    }
   ],
   "source": [
    "x = stream(386, N)\n"
   ]
  },
  {
   "cell_type": "code",
   "execution_count": 8,
   "metadata": {},
   "outputs": [
    {
     "data": {
      "text/plain": [
       "46038988"
      ]
     },
     "execution_count": 8,
     "metadata": {},
     "output_type": "execute_result"
    }
   ],
   "source": [
    "x"
   ]
  },
  {
   "cell_type": "code",
   "execution_count": null,
   "metadata": {},
   "outputs": [],
   "source": []
  },
  {
   "cell_type": "code",
   "execution_count": null,
   "metadata": {},
   "outputs": [],
   "source": []
  }
 ],
 "metadata": {
  "kernelspec": {
   "display_name": "Python [default]",
   "language": "python",
   "name": "python3"
  },
  "language_info": {
   "name": ""
  }
 },
 "nbformat": 4,
 "nbformat_minor": 2
}
