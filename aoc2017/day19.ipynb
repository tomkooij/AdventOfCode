{
 "cells": [
  {
   "cell_type": "code",
   "execution_count": 6,
   "metadata": {},
   "outputs": [
    {
     "data": {
      "text/plain": [
       "99"
      ]
     },
     "execution_count": 6,
     "metadata": {},
     "output_type": "execute_result"
    }
   ],
   "source": [
    "f = open('input\\input19.txt')\n",
    "maze = f.readlines()\n",
    "maze[0].index('|')"
   ]
  },
  {
   "cell_type": "code",
   "execution_count": 7,
   "metadata": {},
   "outputs": [
    {
     "name": "stdout",
     "output_type": "stream",
     "text": [
      "part a:  ITSZCJNMUO\n",
      "part b:  17420\n"
     ]
    }
   ],
   "source": [
    "r, c = (0, maze[0].index('|'))\n",
    "assert maze[r][c] == '|'\n",
    "dr, dc = 1, 0\n",
    "q = []\n",
    "steps = 0\n",
    "while True:\n",
    "    steps += 1\n",
    "    r, c = r+dr, c+dc\n",
    "    tile = maze[r][c]\n",
    "    if tile == ' ':\n",
    "        break \n",
    "    if tile != '|' and tile != '-' and tile != '+':\n",
    "        q.append(maze[r][c])\n",
    "        continue\n",
    "    if tile != '+':\n",
    "        continue\n",
    "    # switch from up/down to left/right or vv\n",
    "    dr = 1-abs(dr)\n",
    "    dc = 1-abs(dc)\n",
    "    if maze[r+dr][c+dc] == ' ':\n",
    "        # wrong direction, flip:\n",
    "        dr, dc = -dr, -dc\n",
    "    \n",
    "print('part a: ', ''.join(q))\n",
    "print('part b: ', steps)"
   ]
  },
  {
   "cell_type": "code",
   "execution_count": null,
   "metadata": {},
   "outputs": [],
   "source": []
  }
 ],
 "metadata": {
  "kernelspec": {
   "display_name": "Python [default]",
   "language": "python",
   "name": "python3"
  },
  "language_info": {
   "codemirror_mode": {
    "name": "ipython",
    "version": 3
   },
   "file_extension": ".py",
   "mimetype": "text/x-python",
   "name": "python",
   "nbconvert_exporter": "python",
   "pygments_lexer": "ipython3",
   "version": "3.6.1"
  }
 },
 "nbformat": 4,
 "nbformat_minor": 2
}
