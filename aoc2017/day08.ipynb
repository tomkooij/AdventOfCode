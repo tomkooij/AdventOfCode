{
 "cells": [
  {
   "cell_type": "code",
   "execution_count": null,
   "metadata": {},
   "outputs": [],
   "source": [
    "from collections import defaultdict"
   ]
  },
  {
   "cell_type": "code",
   "execution_count": null,
   "metadata": {},
   "outputs": [],
   "source": [
    "f = open('input\\input08.txt')\n",
    "rows = [row.strip() for row in f.readlines()]\n",
    "rows[:10]"
   ]
  },
  {
   "cell_type": "code",
   "execution_count": null,
   "metadata": {},
   "outputs": [],
   "source": [
    "testcase = \"\"\"b inc 5 if a > 1\n",
    "a inc 1 if b < 5\n",
    "c dec -10 if a >= 1\n",
    "c inc -20 if c == 10\"\"\"\n",
    "rows = [row.strip() for row in testcase.split('\\n')]\n",
    "rows"
   ]
  },
  {
   "cell_type": "code",
   "execution_count": null,
   "metadata": {},
   "outputs": [],
   "source": [
    "regs = defaultdict(lambda: 0)\n",
    "regs"
   ]
  },
  {
   "cell_type": "code",
   "execution_count": null,
   "metadata": {},
   "outputs": [],
   "source": [
    "def parse(row):\n",
    "    inst = {}\n",
    "    opreg, op, opval, _if, condreg, condop, condval = row.split()\n",
    "    assert _if == 'if'\n",
    "    inst['opcode'] = op\n",
    "    inst['register'] = opreg\n",
    "    inst['value'] = int(opval)\n",
    "    condition = 'regs[\\''+condreg+'\\']'+condop+condval\n",
    "    return (inst, condition)"
   ]
  },
  {
   "cell_type": "code",
   "execution_count": null,
   "metadata": {},
   "outputs": [],
   "source": [
    "parse(rows[0])"
   ]
  },
  {
   "cell_type": "code",
   "execution_count": null,
   "metadata": {},
   "outputs": [],
   "source": [
    "instructions = []\n",
    "[instructions.append(parse(row)) for row in rows]"
   ]
  },
  {
   "cell_type": "code",
   "execution_count": null,
   "metadata": {},
   "outputs": [],
   "source": [
    "instructions"
   ]
  },
  {
   "cell_type": "code",
   "execution_count": null,
   "metadata": {},
   "outputs": [],
   "source": [
    "regs = defaultdict(lambda:0)\n",
    "namespace = {'regs': regs}\n",
    "max_value = 0\n",
    "for instruction, condition in instructions:\n",
    "    print(instruction, condition)\n",
    "    if eval(condition, namespace):\n",
    "        #print('do:', instruction)\n",
    "        opcode = instruction['opcode']\n",
    "        val = instruction['value']\n",
    "        reg = instruction['register']\n",
    "        if opcode == 'inc':\n",
    "            pass\n",
    "        elif opcode == 'dec':\n",
    "            val *= -1\n",
    "        else:\n",
    "            assert False\n",
    "        regs[reg] += val\n",
    "        max_value = max(max_value, max(regs.values()))\n",
    "    #print(regs)"
   ]
  },
  {
   "cell_type": "code",
   "execution_count": null,
   "metadata": {},
   "outputs": [],
   "source": [
    "max(regs.values())"
   ]
  },
  {
   "cell_type": "code",
   "execution_count": null,
   "metadata": {},
   "outputs": [],
   "source": [
    "max_value"
   ]
  },
  {
   "cell_type": "code",
   "execution_count": null,
   "metadata": {},
   "outputs": [],
   "source": []
  }
 ],
 "metadata": {
  "kernelspec": {
   "display_name": "Python [conda env:py36]",
   "language": "python",
   "name": "conda-env-py36-py"
  },
  "language_info": {
   "codemirror_mode": {
    "name": "ipython",
    "version": 3
   },
   "file_extension": ".py",
   "mimetype": "text/x-python",
   "name": "python",
   "nbconvert_exporter": "python",
   "pygments_lexer": "ipython3",
   "version": "3.6.1"
  }
 },
 "nbformat": 4,
 "nbformat_minor": 2
}
