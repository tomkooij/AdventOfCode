{
 "cells": [
  {
   "cell_type": "code",
   "execution_count": 3,
   "metadata": {},
   "outputs": [
    {
     "data": {
      "text/plain": [
       "['n dec 271 if az < 3',\n",
       " 'f inc -978 if nm <= 9',\n",
       " 'g inc -336 if ga < 2',\n",
       " 'egk dec 437 if y < 5',\n",
       " 'z dec -550 if g == -336',\n",
       " 'mx dec 12 if bqr == 0',\n",
       " 'mx dec 433 if ns == 0',\n",
       " 'ic inc 506 if g <= -327',\n",
       " 'ga dec -560 if ic != 506',\n",
       " 'bqr dec 570 if az >= -9']"
      ]
     },
     "execution_count": 3,
     "metadata": {},
     "output_type": "execute_result"
    }
   ],
   "source": [
    "f = open('input\\input08.txt')\n",
    "rows = [row.strip() for row in f.readlines()]\n",
    "rows[:10]"
   ]
  },
  {
   "cell_type": "code",
   "execution_count": 4,
   "metadata": {},
   "outputs": [
    {
     "data": {
      "text/plain": [
       "['b inc 5 if a > 1',\n",
       " 'a inc 1 if b < 5',\n",
       " 'c dec -10 if a >= 1',\n",
       " 'c inc -20 if c == 10']"
      ]
     },
     "execution_count": 4,
     "metadata": {},
     "output_type": "execute_result"
    }
   ],
   "source": [
    "testcase = \"\"\"b inc 5 if a > 1\n",
    "a inc 1 if b < 5\n",
    "c dec -10 if a >= 1\n",
    "c inc -20 if c == 10\"\"\"\n",
    "rows = [row.strip() for row in testcase.split('\\n')]\n",
    "rows"
   ]
  },
  {
   "cell_type": "code",
   "execution_count": null,
   "metadata": {},
   "outputs": [],
   "source": []
  }
 ],
 "metadata": {
  "kernelspec": {
   "display_name": "Python [conda env:py36]",
   "language": "python",
   "name": "conda-env-py36-py"
  },
  "language_info": {
   "codemirror_mode": {
    "name": "ipython",
    "version": 3
   },
   "file_extension": ".py",
   "mimetype": "text/x-python",
   "name": "python",
   "nbconvert_exporter": "python",
   "pygments_lexer": "ipython3",
   "version": "3.6.1"
  }
 },
 "nbformat": 4,
 "nbformat_minor": 2
}
