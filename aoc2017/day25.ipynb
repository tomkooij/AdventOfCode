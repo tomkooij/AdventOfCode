{
 "cells": [
  {
   "cell_type": "markdown",
   "metadata": {},
   "source": [
    "Begin in state A.\n",
    "Perform a diagnostic checksum after 6 steps.\n",
    "\n",
    "In state A:\n",
    "  If the current value is 0:\n",
    "    - Write the value 1.\n",
    "    - Move one slot to the right.\n",
    "    - Continue with state B.\n",
    "  If the current value is 1:\n",
    "    - Write the value 0.\n",
    "    - Move one slot to the left.\n",
    "    - Continue with state B.\n",
    "\n",
    "In state B:\n",
    "  If the current value is 0:\n",
    "    - Write the value 1.\n",
    "    - Move one slot to the left.\n",
    "    - Continue with state A.\n",
    "  If the current value is 1:\n",
    "    - Write the value 1.\n",
    "    - Move one slot to the right.\n",
    "    - Continue with state A."
   ]
  },
  {
   "cell_type": "code",
   "execution_count": 30,
   "metadata": {
    "collapsed": true
   },
   "outputs": [],
   "source": [
    "LEFT = -1\n",
    "RIGHT = 1\n",
    "states = {'A': {0: [1, RIGHT, 'B'], 1: [0, LEFT, 'B']},\n",
    "          'B': {0: [1, LEFT, 'A'], 1: [1, RIGHT, 'A']}}"
   ]
  },
  {
   "cell_type": "code",
   "execution_count": 31,
   "metadata": {
    "collapsed": true
   },
   "outputs": [],
   "source": [
    "def turing(states, n=1, tape_length=10):\n",
    "    tape = tape_length*[0]\n",
    "    cursor = tape_length // 2\n",
    "    state = 'A'\n",
    "    for _ in range(n):\n",
    "        value = tape[cursor]\n",
    "        write, move, cont = states[state][value]\n",
    "        print('read: ', write, move, cont, cursor)\n",
    "        tape[cursor] = write\n",
    "        cursor += move\n",
    "        assert 0 <= cursor < tape_length\n",
    "        state = cont\n",
    "        print('tape: ', tape)\n",
    "    return sum(tape)"
   ]
  },
  {
   "cell_type": "code",
   "execution_count": 32,
   "metadata": {},
   "outputs": [
    {
     "name": "stdout",
     "output_type": "stream",
     "text": [
      "read:  1 1 B 5\n",
      "tape:  [0, 0, 0, 0, 0, 1, 0, 0, 0, 0]\n",
      "read:  1 -1 A 6\n",
      "tape:  [0, 0, 0, 0, 0, 1, 1, 0, 0, 0]\n",
      "read:  0 -1 B 5\n",
      "tape:  [0, 0, 0, 0, 0, 0, 1, 0, 0, 0]\n",
      "read:  1 -1 A 4\n",
      "tape:  [0, 0, 0, 0, 1, 0, 1, 0, 0, 0]\n",
      "read:  1 1 B 3\n",
      "tape:  [0, 0, 0, 1, 1, 0, 1, 0, 0, 0]\n",
      "read:  1 1 A 4\n",
      "tape:  [0, 0, 0, 1, 1, 0, 1, 0, 0, 0]\n"
     ]
    },
    {
     "data": {
      "text/plain": [
       "3"
      ]
     },
     "execution_count": 32,
     "metadata": {},
     "output_type": "execute_result"
    }
   ],
   "source": [
    "turing(states, 6)"
   ]
  },
  {
   "cell_type": "code",
   "execution_count": 33,
   "metadata": {
    "collapsed": true
   },
   "outputs": [],
   "source": [
    "# too lazy to write parser\n",
    "states = {'A': {0: [1, RIGHT, 'B'], 1: [0, LEFT , 'E']},\n",
    "          'B': {0: [1, LEFT , 'C'], 1: [0, RIGHT, 'A']},\n",
    "          'C': {0: [1, LEFT , 'D'], 1: [0, RIGHT, 'C']},\n",
    "          'D': {0: [1, LEFT , 'E'], 1: [0, LEFT , 'F']},\n",
    "          'E': {0: [1, LEFT , 'A'], 1: [1, LEFT , 'C']},\n",
    "          'F': {0: [1, LEFT , 'E'], 1: [1, RIGHT, 'A']}}\n"
   ]
  },
  {
   "cell_type": "code",
   "execution_count": 34,
   "metadata": {},
   "outputs": [],
   "source": [
    "def turing(states, n=1, tape_length=10):\n",
    "    tape = tape_length*[0]\n",
    "    cursor = tape_length // 2\n",
    "    state = 'A'\n",
    "    for _ in range(n):\n",
    "        value = tape[cursor]\n",
    "        write, move, cont = states[state][value]\n",
    "        #print('read: ', write, move, cont, cursor)\n",
    "        tape[cursor] = write\n",
    "        cursor += move\n",
    "        assert 0 <= cursor < tape_length\n",
    "        state = cont\n",
    "        #print('tape: ', tape)\n",
    "    return sum(tape)"
   ]
  },
  {
   "cell_type": "code",
   "execution_count": 40,
   "metadata": {},
   "outputs": [
    {
     "data": {
      "text/plain": [
       "4385"
      ]
     },
     "execution_count": 40,
     "metadata": {},
     "output_type": "execute_result"
    }
   ],
   "source": [
    "turing(states, 12386363, tape_length=int(1e5))"
   ]
  },
  {
   "cell_type": "code",
   "execution_count": null,
   "metadata": {
    "collapsed": true
   },
   "outputs": [],
   "source": []
  }
 ],
 "metadata": {
  "kernelspec": {
   "display_name": "Python [conda env:py36]",
   "language": "python",
   "name": "conda-env-py36-py"
  },
  "language_info": {
   "codemirror_mode": {
    "name": "ipython",
    "version": 3
   },
   "file_extension": ".py",
   "mimetype": "text/x-python",
   "name": "python",
   "nbconvert_exporter": "python",
   "pygments_lexer": "ipython3",
   "version": "3.6.1"
  }
 },
 "nbformat": 4,
 "nbformat_minor": 2
}
