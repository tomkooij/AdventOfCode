{
 "cells": [
  {
   "cell_type": "code",
   "execution_count": 2,
   "metadata": {},
   "outputs": [],
   "source": [
    "from collections import deque"
   ]
  },
  {
   "cell_type": "markdown",
   "metadata": {},
   "source": [
    "Spin, written sX, makes X programs move from the end to the front, but maintain their order otherwise. (For example, s3 on abcde produces cdeab).\n",
    "\n",
    "Exchange, written xA/B, makes the programs at positions A and B swap places.\n",
    "\n",
    "Partner, written pA/B, makes the programs named A and B swap places."
   ]
  },
  {
   "cell_type": "code",
   "execution_count": 3,
   "metadata": {},
   "outputs": [],
   "source": [
    "def spin(q, x):\n",
    "    q.rotate(x)\n",
    "    \n",
    "def exchange(q, a, b):\n",
    "    q[a], q[b] = q[b], q[a] \n",
    "   \n",
    "def partner(q, a, b):\n",
    "    x = q.index(a)\n",
    "    y = q.index(b)\n",
    "    q[x], q[y] = q[y], q[x] "
   ]
  },
  {
   "cell_type": "code",
   "execution_count": 4,
   "metadata": {},
   "outputs": [],
   "source": [
    "q  = deque('abcde')"
   ]
  },
  {
   "cell_type": "code",
   "execution_count": 5,
   "metadata": {},
   "outputs": [],
   "source": [
    "spin(q, 3)"
   ]
  },
  {
   "cell_type": "code",
   "execution_count": 6,
   "metadata": {},
   "outputs": [
    {
     "data": {
      "text/plain": [
       "deque(['c', 'd', 'e', 'a', 'b'])"
      ]
     },
     "execution_count": 6,
     "metadata": {},
     "output_type": "execute_result"
    }
   ],
   "source": [
    "q"
   ]
  },
  {
   "cell_type": "code",
   "execution_count": 7,
   "metadata": {},
   "outputs": [],
   "source": [
    "exchange(q, 2, 3)"
   ]
  },
  {
   "cell_type": "code",
   "execution_count": 8,
   "metadata": {},
   "outputs": [
    {
     "data": {
      "text/plain": [
       "deque(['c', 'd', 'a', 'e', 'b'])"
      ]
     },
     "execution_count": 8,
     "metadata": {},
     "output_type": "execute_result"
    }
   ],
   "source": [
    "q"
   ]
  },
  {
   "cell_type": "code",
   "execution_count": 9,
   "metadata": {},
   "outputs": [],
   "source": [
    "partner(q, 'c', 'd')"
   ]
  },
  {
   "cell_type": "code",
   "execution_count": 10,
   "metadata": {},
   "outputs": [
    {
     "data": {
      "text/plain": [
       "deque(['d', 'c', 'a', 'e', 'b'])"
      ]
     },
     "execution_count": 10,
     "metadata": {},
     "output_type": "execute_result"
    }
   ],
   "source": [
    "q"
   ]
  },
  {
   "cell_type": "code",
   "execution_count": 11,
   "metadata": {},
   "outputs": [
    {
     "data": {
      "text/plain": [
       "['pe/m', 's8', 'x5/12']"
      ]
     },
     "execution_count": 11,
     "metadata": {},
     "output_type": "execute_result"
    }
   ],
   "source": [
    "f = open('input\\input16.txt')\n",
    "instructions = f.read().split(',')\n",
    "instructions[:3]"
   ]
  },
  {
   "cell_type": "code",
   "execution_count": 12,
   "metadata": {},
   "outputs": [],
   "source": [
    "def do(instruction, q):\n",
    "    ins = instruction[0]\n",
    "    if ins == 'p':\n",
    "        a, b = instruction[1:].split('/')\n",
    "        partner(q, a, b)\n",
    "    if ins == 'x':\n",
    "        a, b = map(int, instruction[1:].split('/'))\n",
    "        exchange(q, a, b)\n",
    "    if ins == 's':\n",
    "        x = int(instruction[1:])\n",
    "        spin(q, x)\n",
    "           "
   ]
  },
  {
   "cell_type": "code",
   "execution_count": 13,
   "metadata": {},
   "outputs": [],
   "source": [
    "q = deque('baedc')"
   ]
  },
  {
   "cell_type": "code",
   "execution_count": 14,
   "metadata": {},
   "outputs": [],
   "source": [
    "testcase = ['s1', 'x3/4', 'pe/b']"
   ]
  },
  {
   "cell_type": "code",
   "execution_count": 15,
   "metadata": {},
   "outputs": [
    {
     "name": "stdout",
     "output_type": "stream",
     "text": [
      "cbaed\n",
      "cbade\n",
      "ceadb\n"
     ]
    },
    {
     "data": {
      "text/plain": [
       "'ceadb'"
      ]
     },
     "execution_count": 15,
     "metadata": {},
     "output_type": "execute_result"
    }
   ],
   "source": [
    "for instruction in testcase:\n",
    "    do(instruction, q)\n",
    "    print(''.join(q))\n",
    "''.join(q)"
   ]
  },
  {
   "cell_type": "code",
   "execution_count": 16,
   "metadata": {},
   "outputs": [],
   "source": [
    "# part A"
   ]
  },
  {
   "cell_type": "code",
   "execution_count": 17,
   "metadata": {},
   "outputs": [],
   "source": [
    "q = deque('abcdefghijklmnop')\n",
    "assert len(q) == 16\n"
   ]
  },
  {
   "cell_type": "code",
   "execution_count": 18,
   "metadata": {},
   "outputs": [
    {
     "data": {
      "text/plain": [
       "'abcdefghijklmnop'"
      ]
     },
     "execution_count": 18,
     "metadata": {},
     "output_type": "execute_result"
    }
   ],
   "source": [
    "def swap(q):\n",
    "    for instruction in instructions:\n",
    "        do(instruction, q)\n",
    "    #print(''.join(q))\n",
    "''.join(q)"
   ]
  },
  {
   "cell_type": "code",
   "execution_count": 20,
   "metadata": {},
   "outputs": [],
   "source": [
    "#part B"
   ]
  },
  {
   "cell_type": "code",
   "execution_count": 31,
   "metadata": {},
   "outputs": [
    {
     "name": "stdout",
     "output_type": "stream",
     "text": [
      "duplicate:  63 nlciboghjmfdapek\n",
      "solution =  nlciboghmkedpfja\n"
     ]
    }
   ],
   "source": [
    "q = deque(list('abcdefghijklmnop'))\n",
    "previous = []\n",
    "for i in range(1000):  \n",
    "    \n",
    "    for instruction in instructions:\n",
    "        do(instruction, q)\n",
    "\n",
    "    if ''.join(q) in previous:\n",
    "        print('duplicate: ',i, ''.join(q))\n",
    "        print('solution = ', previous[(int(1e9) % i-1)])\n",
    "        break\n",
    "    \n",
    "    previous.append(''.join(q))\n",
    "\n"
   ]
  },
  {
   "cell_type": "code",
   "execution_count": null,
   "metadata": {},
   "outputs": [],
   "source": []
  }
 ],
 "metadata": {
  "kernelspec": {
   "display_name": "Python [conda env:py36]",
   "language": "python",
   "name": "conda-env-py36-py"
  },
  "language_info": {
   "codemirror_mode": {
    "name": "ipython",
    "version": 3
   },
   "file_extension": ".py",
   "mimetype": "text/x-python",
   "name": "python",
   "nbconvert_exporter": "python",
   "pygments_lexer": "ipython3",
   "version": "3.6.1"
  }
 },
 "nbformat": 4,
 "nbformat_minor": 2
}
