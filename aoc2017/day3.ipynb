{
 "cells": [
  {
   "cell_type": "code",
   "execution_count": 1,
   "metadata": {},
   "outputs": [],
   "source": [
    "input = 368078"
   ]
  },
  {
   "cell_type": "code",
   "execution_count": 2,
   "metadata": {},
   "outputs": [],
   "source": [
    "from collections import deque"
   ]
  },
  {
   "cell_type": "code",
   "execution_count": 3,
   "metadata": {},
   "outputs": [],
   "source": [
    "dirs = deque(['E', 'N', 'W', 'S'])\n",
    "\n",
    "move_funcs = {'E': lambda x, y, n: (x+n, y),   # east\n",
    "              'N': lambda x, y, n: (x, y+n),   # north\n",
    "              'W': lambda x, y, n: (x-n, y),   # west\n",
    "              'S': lambda x, y, n: (x, y-n)}  # south\n",
    "                      \n",
    "direction = {'R' : 1, 'L': -1}"
   ]
  },
  {
   "cell_type": "code",
   "execution_count": 4,
   "metadata": {},
   "outputs": [
    {
     "data": {
      "text/plain": [
       "deque(['N', 'W', 'S', 'E'])"
      ]
     },
     "execution_count": 4,
     "metadata": {},
     "output_type": "execute_result"
    }
   ],
   "source": [
    "dirs.rotate(direction['L'])\n",
    "dirs"
   ]
  },
  {
   "cell_type": "code",
   "execution_count": 5,
   "metadata": {},
   "outputs": [
    {
     "data": {
      "text/plain": [
       "(0, 1)"
      ]
     },
     "execution_count": 5,
     "metadata": {},
     "output_type": "execute_result"
    }
   ],
   "source": [
    "move_funcs[dirs[0]](0, 0, 1)"
   ]
  },
  {
   "cell_type": "code",
   "execution_count": 6,
   "metadata": {},
   "outputs": [],
   "source": [
    "import numpy as np\n",
    "\n",
    "class field(object):\n",
    "    \n",
    "    def __init__(self, max_x, max_y):\n",
    "        self.width = max_x*2+1\n",
    "        self.height = max_y*2+1\n",
    "        self.x_origin = max_x \n",
    "        self.y_origin = max_y \n",
    "        self.arr = np.zeros((self.width, self.height), dtype=int)\n",
    "\n",
    "    def set(self, x, y, val):\n",
    "        self.arr[y+self.y_origin][x+self.x_origin] = val\n",
    "        \n",
    "    def get(self, x, y):\n",
    "        return self.arr[y+self.y_origin][x+self.x_origin]\n",
    "    \n",
    "    def find(self, val):\n",
    "        y, x  = np.argwhere(screen.arr == val)[0]\n",
    "        return x - self.x_origin, y - self.y_origin\n",
    "    \n",
    "    def neighbours(self, x, y):\n",
    "        midx = x - self.x_origin - 1\n",
    "        midy = y - self.y_origin - 1\n",
    "        return self.arr[midy-1:midy+2, midx-1:midx+2]\n",
    "        \n",
    "    def print(self):\n",
    "        print('y up .... x===>')\n",
    "        for r in range(self.height-1, -1, -1):\n",
    "            for c in range(self.width):\n",
    "                val = self.arr[r][c]\n",
    "                if val:\n",
    "                    print('%2d ' % val, end='')\n",
    "                else:\n",
    "                    print(' . ', end='')\n",
    "            print('')\n"
   ]
  },
  {
   "cell_type": "code",
   "execution_count": 7,
   "metadata": {},
   "outputs": [
    {
     "name": "stdout",
     "output_type": "stream",
     "text": [
      "y up .... x===>\n",
      " .  .  .  .  . 99  . \n",
      " .  .  .  .  .  .  . \n",
      " .  .  .  .  .  .  . \n",
      " .  .  .  1  .  .  . \n",
      " .  .  .  .  .  .  . \n",
      " .  .  .  .  .  .  . \n",
      " .  .  .  .  .  .  . \n"
     ]
    },
    {
     "data": {
      "text/plain": [
       "(2, 3)"
      ]
     },
     "execution_count": 7,
     "metadata": {},
     "output_type": "execute_result"
    }
   ],
   "source": [
    "screen = field(3, 3)\n",
    "screen.set(0,0,1)\n",
    "screen.set(2,3,99)\n",
    "screen.print()\n",
    "screen.get(1,0)\n",
    "screen.find(99)"
   ]
  },
  {
   "cell_type": "code",
   "execution_count": 8,
   "metadata": {},
   "outputs": [
    {
     "data": {
      "text/plain": [
       "606"
      ]
     },
     "execution_count": 8,
     "metadata": {},
     "output_type": "execute_result"
    }
   ],
   "source": [
    "int(np.sqrt(input))"
   ]
  },
  {
   "cell_type": "code",
   "execution_count": 9,
   "metadata": {},
   "outputs": [
    {
     "data": {
      "text/plain": [
       "(-15, 16)"
      ]
     },
     "execution_count": 9,
     "metadata": {},
     "output_type": "execute_result"
    }
   ],
   "source": [
    "N = input+1\n",
    "x, y = (0, 0)\n",
    "dirs = deque(['S', 'E', 'N', 'W'])\n",
    "screen = field(600, 600)\n",
    "screen.set(0,0,1)\n",
    "\n",
    "for val in range(2, N):\n",
    "    dirs.rotate(direction['L'])\n",
    "    x_n, y_n = move_funcs[dirs[0]](x, y, 1)\n",
    "    if screen.get(x_n, y_n):\n",
    "        dirs.rotate(direction['R'])\n",
    "    \n",
    "    x, y = move_funcs[dirs[0]](x, y, 1)\n",
    "    screen.set(x, y, val)\n",
    "    \n",
    "#screen.print()\n",
    "screen.find(23)\n",
    "screen.find(1024)"
   ]
  },
  {
   "cell_type": "code",
   "execution_count": 10,
   "metadata": {},
   "outputs": [],
   "source": [
    "def steps(x, y):\n",
    "    return abs(x)+abs(y)"
   ]
  },
  {
   "cell_type": "code",
   "execution_count": 11,
   "metadata": {},
   "outputs": [],
   "source": [
    "# testcases \n",
    "assert(steps(*screen.find(1))==0)\n",
    "assert(steps(*screen.find(12))==3)\n",
    "assert(steps(*screen.find(23))==2)\n",
    "assert(steps(*screen.find(1024))==31)\n"
   ]
  },
  {
   "cell_type": "code",
   "execution_count": 12,
   "metadata": {},
   "outputs": [
    {
     "data": {
      "text/plain": [
       "371"
      ]
     },
     "execution_count": 12,
     "metadata": {},
     "output_type": "execute_result"
    }
   ],
   "source": [
    "steps(*screen.find(input))"
   ]
  },
  {
   "cell_type": "code",
   "execution_count": 13,
   "metadata": {},
   "outputs": [
    {
     "name": "stdout",
     "output_type": "stream",
     "text": [
      "y up .... x===>\n",
      " .  .  .  .  .  .  .  .  .  .  . \n",
      " .  .  .  .  .  .  .  .  .  .  . \n",
      " .  .  .  .  .  . 99  .  .  .  . \n",
      " .  .  .  .  .  .  .  .  .  .  . \n",
      " .  .  .  .  .  .  2  .  .  .  . \n",
      " .  .  .  .  .  1  .  .  .  .  . \n",
      " .  .  .  .  .  .  .  .  .  .  . \n",
      " .  .  .  .  .  .  .  .  .  .  . \n",
      " .  .  .  .  .  .  .  .  .  .  . \n",
      " .  .  .  .  .  .  .  .  .  .  . \n",
      " .  .  .  .  .  .  .  .  .  .  . \n"
     ]
    },
    {
     "data": {
      "text/plain": [
       "array([[ 0,  0,  2],\n",
       "       [ 0,  0,  0],\n",
       "       [ 0,  0, 99]])"
      ]
     },
     "execution_count": 13,
     "metadata": {},
     "output_type": "execute_result"
    }
   ],
   "source": [
    "foo = field(5,5)\n",
    "foo.set(0,0,1)\n",
    "foo.set(1,3,99)\n",
    "foo.set(1,1,2)\n",
    "foo.print()\n",
    "foo.neighbours(0,2)"
   ]
  },
  {
   "cell_type": "code",
   "execution_count": 14,
   "metadata": {},
   "outputs": [
    {
     "name": "stdout",
     "output_type": "stream",
     "text": [
      "found:  369601\n"
     ]
    }
   ],
   "source": [
    "N = 1000\n",
    "x, y = (0, 0)\n",
    "dirs = deque(['S', 'E', 'N', 'W'])\n",
    "screen = field(7, 7)\n",
    "screen.set(0,0,1)\n",
    "\n",
    "for val in range(2, N):\n",
    "    dirs.rotate(direction['L'])\n",
    "    x_n, y_n = move_funcs[dirs[0]](x, y, 1)\n",
    "    if screen.get(x_n, y_n):\n",
    "        dirs.rotate(direction['R'])\n",
    "    x, y =  move_funcs[dirs[0]](x, y, 1)\n",
    "            \n",
    "    val = np.sum(screen.neighbours(x,y))\n",
    "    screen.set(x, y, val)\n",
    "    if val > input:\n",
    "        print('found: ', val)\n",
    "        break\n",
    "        \n",
    "#screen.print()\n"
   ]
  },
  {
   "cell_type": "code",
   "execution_count": null,
   "metadata": {},
   "outputs": [],
   "source": []
  },
  {
   "cell_type": "code",
   "execution_count": null,
   "metadata": {},
   "outputs": [],
   "source": []
  },
  {
   "cell_type": "code",
   "execution_count": null,
   "metadata": {},
   "outputs": [],
   "source": []
  },
  {
   "cell_type": "code",
   "execution_count": null,
   "metadata": {},
   "outputs": [],
   "source": []
  }
 ],
 "metadata": {
  "kernelspec": {
   "display_name": "Python [conda env:py36]",
   "language": "python",
   "name": "conda-env-py36-py"
  },
  "language_info": {
   "codemirror_mode": {
    "name": "ipython",
    "version": 3
   },
   "file_extension": ".py",
   "mimetype": "text/x-python",
   "name": "python",
   "nbconvert_exporter": "python",
   "pygments_lexer": "ipython3",
   "version": "3.6.1"
  }
 },
 "nbformat": 4,
 "nbformat_minor": 2
}
