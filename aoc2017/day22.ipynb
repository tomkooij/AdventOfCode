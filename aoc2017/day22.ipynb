{
 "cells": [
  {
   "cell_type": "code",
   "execution_count": 1,
   "metadata": {
    "collapsed": true
   },
   "outputs": [],
   "source": [
    "from collections import deque"
   ]
  },
  {
   "cell_type": "code",
   "execution_count": 2,
   "metadata": {
    "collapsed": true
   },
   "outputs": [],
   "source": [
    "# (r, c): row points down, colomns point right\n",
    "EAST = (0, 1)\n",
    "NORTH = (-1, 0)\n",
    "WEST = (0, -1)\n",
    "SOUTH = (1, 0)\n",
    "\n",
    "dirs = deque([EAST, NORTH, WEST, SOUTH])\n",
    "\n",
    "                      \n",
    "direction = {'R' : 1, 'L': -1}"
   ]
  },
  {
   "cell_type": "code",
   "execution_count": 3,
   "metadata": {},
   "outputs": [
    {
     "data": {
      "text/plain": [
       "deque([(-1, 0), (0, -1), (1, 0), (0, 1)])"
      ]
     },
     "execution_count": 3,
     "metadata": {},
     "output_type": "execute_result"
    }
   ],
   "source": [
    "dirs.rotate(direction['L'])\n",
    "dirs"
   ]
  },
  {
   "cell_type": "code",
   "execution_count": 4,
   "metadata": {},
   "outputs": [
    {
     "data": {
      "text/plain": [
       "(-1, 0)"
      ]
     },
     "execution_count": 4,
     "metadata": {},
     "output_type": "execute_result"
    }
   ],
   "source": [
    "dr, dc = dirs[0]\n",
    "dr, dc"
   ]
  },
  {
   "cell_type": "code",
   "execution_count": 5,
   "metadata": {},
   "outputs": [
    {
     "name": "stdout",
     "output_type": "stream",
     "text": [
      "r down .... c ===>\n",
      " .  .  .  .  .  .  .  .  .  .  . \n",
      " .  .  .  .  .  .  .  .  .  .  . \n",
      " .  .  .  .  .  .  .  .  .  .  . \n",
      " .  .  .  .  .  .  .  .  .  .  F \n",
      " .  .  .  .  .  .  .  .  .  .  . \n",
      " .  .  .  .  .  W  .  .  .  .  . \n",
      " .  .  .  .  .  .  #  .  .  .  . \n",
      " .  .  .  .  .  .  .  .  .  .  . \n",
      " .  .  .  .  .  .  .  .  .  .  . \n",
      " .  .  .  .  .  .  .  .  .  .  . \n",
      " .  .  .  .  .  .  .  .  .  .  . \n"
     ]
    }
   ],
   "source": [
    "from collections import defaultdict\n",
    "\n",
    "field = defaultdict(int)\n",
    "\n",
    "encode = {0: ' . ', 1: ' W ', 2: ' # ', 3: ' F '}\n",
    "\n",
    "def pp(arr, min_r=-5, max_r=5, min_c=-5, max_c=5):\n",
    "    \"\"\"pretty print arr\"\"\"\n",
    "    print('r down .... c ===>')\n",
    "    for r in range(min_r, max_r+1):\n",
    "        for c in range(min_c, max_c+1):\n",
    "            val = arr[(r,c)]\n",
    "            s = encode.get(val, val)\n",
    "            print(s, end='')\n",
    "            \n",
    "        print('')\n",
    "\n",
    "field[(0, 0)] = 1\n",
    "field[(1, 1)] = 2\n",
    "field[(-2, 5)] = 3\n",
    "pp(field)"
   ]
  },
  {
   "cell_type": "code",
   "execution_count": 6,
   "metadata": {},
   "outputs": [
    {
     "data": {
      "text/plain": [
       "[[0, 0, 2], [2, 0, 0], [0, 0, 0]]"
      ]
     },
     "execution_count": 6,
     "metadata": {},
     "output_type": "execute_result"
    }
   ],
   "source": [
    "decode = {'.': 0, '#': 2}\n",
    "tst = ['..#', '#..', '...']\n",
    "[[decode[c] for c in row] for row in tst]"
   ]
  },
  {
   "cell_type": "code",
   "execution_count": 7,
   "metadata": {
    "collapsed": true
   },
   "outputs": [],
   "source": [
    "testgrid = [[decode[c] for c in row] for row in tst]"
   ]
  },
  {
   "cell_type": "code",
   "execution_count": 8,
   "metadata": {},
   "outputs": [
    {
     "name": "stdout",
     "output_type": "stream",
     "text": [
      "[0, 0, 2]\n",
      "[2, 0, 0]\n",
      "[0, 0, 0]\n",
      "r down .... c ===>\n",
      " .  .  .  .  .  .  .  .  .  .  . \n",
      " .  .  .  .  .  .  .  .  .  .  . \n",
      " .  .  .  .  .  .  .  .  .  .  . \n",
      " .  .  .  .  .  .  .  .  .  .  . \n",
      " .  .  .  .  .  .  #  .  .  .  . \n",
      " .  .  .  .  #  .  .  .  .  .  . \n",
      " .  .  .  .  .  .  .  .  .  .  . \n",
      " .  .  .  .  .  .  .  .  .  .  . \n",
      " .  .  .  .  .  .  .  .  .  .  . \n",
      " .  .  .  .  .  .  .  .  .  .  . \n",
      " .  .  .  .  .  .  .  .  .  .  . \n"
     ]
    }
   ],
   "source": [
    "grid=[[1,2,3], [4,5,6], [7,8,9]]\n",
    "\n",
    "field = defaultdict(int)\n",
    "for r, row in enumerate(testgrid, -1):\n",
    "    print(row)\n",
    "    for c, val in enumerate(row, -1):\n",
    "        field[(r, c)] = val\n",
    "pp(field)"
   ]
  },
  {
   "cell_type": "code",
   "execution_count": 9,
   "metadata": {
    "scrolled": true
   },
   "outputs": [
    {
     "name": "stdout",
     "output_type": "stream",
     "text": [
      "r down .... c ===>\n",
      " .  #  .  #  #  .  .  #  #  .  . \n",
      " .  #  .  .  #  .  .  #  .  .  # \n",
      " .  .  #  .  #  .  #  #  .  #  . \n",
      " .  .  #  .  .  #  .  .  .  .  # \n",
      " .  #  #  #  .  .  .  #  #  .  . \n",
      " .  .  .  #  .  .  .  .  .  .  # \n",
      " .  #  .  .  .  #  .  .  .  #  # \n",
      " .  .  .  #  .  #  #  #  .  .  . \n",
      " .  .  #  .  .  .  .  #  #  .  . \n",
      " #  #  .  #  #  #  #  #  #  .  . \n",
      " #  .  .  #  .  .  #  #  #  #  # \n"
     ]
    },
    {
     "data": {
      "text/plain": [
       "5587"
      ]
     },
     "execution_count": 9,
     "metadata": {},
     "output_type": "execute_result"
    }
   ],
   "source": [
    "dirs = deque([NORTH, WEST, SOUTH, EAST])\n",
    "field = defaultdict(int)\n",
    "\n",
    "for r, row in enumerate(testgrid):\n",
    "    for c, val in enumerate(row):\n",
    "        field[(r, c)] = val\n",
    "#f.print()\n",
    "\n",
    "middle = len(testgrid) // 2\n",
    "r, c = middle, middle\n",
    "\n",
    "n_infections = 0\n",
    "for _ in range(10000):\n",
    "    infected = field[(r, c)]\n",
    "    if infected:\n",
    "        dirs.rotate(direction['R'])\n",
    "    else:\n",
    "        n_infections += 1\n",
    "        dirs.rotate(direction['L'])\n",
    "    \n",
    "    field[(r, c)] = 2 - infected\n",
    "\n",
    "    dr, dc = dirs[0]\n",
    "    r, c = r + dr, c + dc\n",
    "    \n",
    "pp(field)\n",
    "n_infections\n",
    "    "
   ]
  },
  {
   "cell_type": "code",
   "execution_count": 10,
   "metadata": {
    "collapsed": true
   },
   "outputs": [],
   "source": [
    "#part A"
   ]
  },
  {
   "cell_type": "code",
   "execution_count": 11,
   "metadata": {},
   "outputs": [
    {
     "data": {
      "text/plain": [
       "[[2, 0, 2, 0, 0, 0, 2, 2, 2, 0, 2, 0, 2, 2, 0, 2, 0, 0, 0, 0, 2, 2, 0, 2, 2],\n",
       " [0, 0, 2, 2, 2, 2, 0, 2, 0, 2, 2, 2, 2, 2, 2, 0, 0, 0, 0, 2, 0, 0, 0, 0, 2]]"
      ]
     },
     "execution_count": 11,
     "metadata": {},
     "output_type": "execute_result"
    }
   ],
   "source": [
    "f = open('input\\input22.txt')\n",
    "rows = [x.strip() for x in f.readlines()]\n",
    "grid = [[decode[c] for c in row] for row in rows]\n",
    "grid[:2]"
   ]
  },
  {
   "cell_type": "code",
   "execution_count": 12,
   "metadata": {},
   "outputs": [
    {
     "name": "stdout",
     "output_type": "stream",
     "text": [
      "r down .... c ===>\n",
      " .  .  .  .  .  .  .  .  .  .  . \n",
      " .  .  .  .  .  .  .  .  .  .  . \n",
      " .  .  .  .  .  .  .  .  .  .  . \n",
      " .  .  .  .  .  .  .  .  .  .  . \n",
      " .  .  .  .  .  .  .  .  .  .  . \n",
      " .  .  .  .  .  #  .  #  .  .  . \n",
      " .  .  .  .  .  .  .  #  #  #  # \n",
      " .  .  .  .  .  #  #  #  .  .  # \n",
      " .  .  .  .  .  .  .  .  #  #  . \n",
      " .  .  .  .  .  .  .  .  .  #  # \n",
      " .  .  .  .  .  #  #  .  #  .  # \n"
     ]
    },
    {
     "data": {
      "text/plain": [
       "5399"
      ]
     },
     "execution_count": 12,
     "metadata": {},
     "output_type": "execute_result"
    }
   ],
   "source": [
    "def solve(grid, n=10):\n",
    "    dirs = deque([NORTH, WEST, SOUTH, EAST])\n",
    "    field = defaultdict(int)\n",
    "\n",
    "    for r, row in enumerate(grid):\n",
    "        for c, val in enumerate(row):\n",
    "            field[(r, c)] = val\n",
    "    #f.print()\n",
    "\n",
    "    middle = len(grid) // 2\n",
    "    r, c = middle, middle\n",
    "\n",
    "    n_infections = 0\n",
    "    for _ in range(n):\n",
    "        infected = field[(r, c)]\n",
    "        if infected:\n",
    "            dirs.rotate(direction['R'])\n",
    "        else:\n",
    "            n_infections += 1\n",
    "            dirs.rotate(direction['L'])\n",
    "\n",
    "        field[(r, c)] = 2 - infected\n",
    "\n",
    "        dr, dc = dirs[0]\n",
    "        r, c = r + dr, c + dc\n",
    "\n",
    "    pp(field)\n",
    "    return n_infections\n",
    "\n",
    "solve(grid, n=10000)"
   ]
  },
  {
   "cell_type": "code",
   "execution_count": 13,
   "metadata": {
    "collapsed": true
   },
   "outputs": [],
   "source": [
    "#part B"
   ]
  },
  {
   "cell_type": "code",
   "execution_count": 14,
   "metadata": {},
   "outputs": [
    {
     "data": {
      "text/plain": [
       "'Clean nodes become weakened.\\nWeakened nodes become infected.\\nInfected nodes become flagged.\\nFlagged nodes become clean.'"
      ]
     },
     "execution_count": 14,
     "metadata": {},
     "output_type": "execute_result"
    }
   ],
   "source": [
    "\"\"\"Clean nodes become weakened.\n",
    "Weakened nodes become infected.\n",
    "Infected nodes become flagged.\n",
    "Flagged nodes become clean.\"\"\""
   ]
  },
  {
   "cell_type": "code",
   "execution_count": 15,
   "metadata": {},
   "outputs": [
    {
     "data": {
      "text/plain": [
       "[[0, 0, 2], [2, 0, 0], [0, 0, 0]]"
      ]
     },
     "execution_count": 15,
     "metadata": {},
     "output_type": "execute_result"
    }
   ],
   "source": [
    "decode = {'.': 0, '#': 2}\n",
    "tst = ['..#', '#..', '...']\n",
    "[[decode[c] for c in row] for row in tst]"
   ]
  },
  {
   "cell_type": "code",
   "execution_count": 16,
   "metadata": {
    "collapsed": true
   },
   "outputs": [],
   "source": [
    "testgrid = [[decode[c] for c in row] for row in tst]"
   ]
  },
  {
   "cell_type": "code",
   "execution_count": 17,
   "metadata": {
    "scrolled": true
   },
   "outputs": [
    {
     "name": "stdout",
     "output_type": "stream",
     "text": [
      "r down .... c ===>\n",
      " .  .  .  .  .  .  .  .  .  .  . \n",
      " .  .  .  .  .  .  .  .  .  .  . \n",
      " .  .  .  .  .  .  .  .  .  .  . \n",
      " .  .  .  .  W  W  .  .  .  .  . \n",
      " .  .  .  .  #  #  W  W  W  W  . \n",
      " .  .  .  W  #  #  F  #  .  W  . \n",
      " .  W  F  F  .  W  #  F  F  .  . \n",
      " .  W  F  W  #  F  W  W  W  .  . \n",
      " .  .  .  .  #  #  .  .  .  .  . \n",
      " .  .  .  .  W  W  .  .  .  .  . \n",
      " .  .  .  .  .  .  .  .  .  .  . \n"
     ]
    },
    {
     "data": {
      "text/plain": [
       "26"
      ]
     },
     "execution_count": 17,
     "metadata": {},
     "output_type": "execute_result"
    }
   ],
   "source": [
    "def solve(grid, n=10):\n",
    "    dirs = deque([NORTH, WEST, SOUTH, EAST])\n",
    "    field = defaultdict(int)\n",
    "\n",
    "    for r, row in enumerate(grid):\n",
    "        for c, val in enumerate(row):\n",
    "            field[(r, c)] = val\n",
    "    #f.print()\n",
    "\n",
    "    middle = len(grid) // 2\n",
    "    r, c = middle, middle\n",
    "\n",
    "    n_infections = 0\n",
    "    for _ in range(n):\n",
    "        state = field[(r, c)]\n",
    "        \n",
    "        if state == 0:\n",
    "            # clean      \n",
    "            dirs.rotate(direction['L'])\n",
    "        elif state == 1:\n",
    "            # weakened\n",
    "            n_infections += 1\n",
    "        elif state == 2:\n",
    "            # infected\n",
    "            dirs.rotate(direction['R'])\n",
    "        elif state == 3:\n",
    "            dirs.rotate(2)  # reverse\n",
    "        else:\n",
    "            assert False\n",
    "    \n",
    "        state += 1\n",
    "        state %= 4\n",
    "        field[(r, c)] = state\n",
    "        \n",
    "        dr, dc = dirs[0]\n",
    "        r, c = r + dr, c + dc\n",
    "\n",
    "    pp(field)\n",
    "    return n_infections\n",
    "\n",
    "solve(testgrid, n=100)"
   ]
  },
  {
   "cell_type": "code",
   "execution_count": 18,
   "metadata": {},
   "outputs": [
    {
     "name": "stdout",
     "output_type": "stream",
     "text": [
      "r down .... c ===>\n",
      " W  .  #  #  W  #  F  #  .  F  W \n",
      " F  F  .  W  #  W  W  W  .  W  # \n",
      " .  F  F  .  F  .  W  F  F  F  # \n",
      " #  F  F  F  F  W  .  W  F  #  . \n",
      " F  W  .  .  .  #  F  .  #  F  W \n",
      " F  F  .  #  W  F  #  W  #  F  # \n",
      " W  W  .  F  F  F  F  W  W  F  F \n",
      " .  .  W  F  F  F  W  #  .  F  . \n",
      " .  W  F  #  F  #  W  F  W  .  . \n",
      " W  #  F  W  F  F  F  F  F  .  # \n",
      " .  F  #  .  F  F  F  W  W  .  # \n"
     ]
    },
    {
     "data": {
      "text/plain": [
       "2511944"
      ]
     },
     "execution_count": 18,
     "metadata": {},
     "output_type": "execute_result"
    }
   ],
   "source": [
    "solve(testgrid, n=int(1e7))"
   ]
  },
  {
   "cell_type": "code",
   "execution_count": 19,
   "metadata": {},
   "outputs": [
    {
     "data": {
      "text/plain": [
       "[[2, 0, 2, 0, 0, 0, 2, 2, 2, 0, 2, 0, 2, 2, 0, 2, 0, 0, 0, 0, 2, 2, 0, 2, 2],\n",
       " [0, 0, 2, 2, 2, 2, 0, 2, 0, 2, 2, 2, 2, 2, 2, 0, 0, 0, 0, 2, 0, 0, 0, 0, 2]]"
      ]
     },
     "execution_count": 19,
     "metadata": {},
     "output_type": "execute_result"
    }
   ],
   "source": [
    "f = open('input\\input22.txt')\n",
    "rows = [x.strip() for x in f.readlines()]\n",
    "grid = [[decode[c] for c in row] for row in rows]\n",
    "grid[:2]"
   ]
  },
  {
   "cell_type": "code",
   "execution_count": 20,
   "metadata": {},
   "outputs": [
    {
     "name": "stdout",
     "output_type": "stream",
     "text": [
      "r down .... c ===>\n",
      " F  F  #  W  F  .  F  .  #  .  F \n",
      " F  W  W  .  F  #  .  F  .  W  F \n",
      " W  .  #  W  .  F  W  W  F  .  W \n",
      " W  #  .  .  F  F  F  F  W  W  . \n",
      " F  W  #  #  #  .  F  W  F  #  # \n",
      " F  .  F  F  F  .  .  W  W  W  W \n",
      " W  .  F  W  .  #  F  #  W  F  W \n",
      " .  W  W  .  W  .  .  #  .  #  . \n",
      " .  #  #  W  F  W  W  .  F  W  F \n",
      " F  W  .  #  F  .  #  F  #  .  F \n",
      " .  #  W  W  F  .  #  F  #  #  W \n"
     ]
    },
    {
     "data": {
      "text/plain": [
       "2511776"
      ]
     },
     "execution_count": 20,
     "metadata": {},
     "output_type": "execute_result"
    }
   ],
   "source": [
    "solve(grid, n=int(1e7))"
   ]
  },
  {
   "cell_type": "code",
   "execution_count": null,
   "metadata": {
    "collapsed": true
   },
   "outputs": [],
   "source": []
  }
 ],
 "metadata": {
  "kernelspec": {
   "display_name": "Python [conda env:py36]",
   "language": "python",
   "name": "conda-env-py36-py"
  },
  "language_info": {
   "codemirror_mode": {
    "name": "ipython",
    "version": 3
   },
   "file_extension": ".py",
   "mimetype": "text/x-python",
   "name": "python",
   "nbconvert_exporter": "python",
   "pygments_lexer": "ipython3",
   "version": "3.6.1"
  }
 },
 "nbformat": 4,
 "nbformat_minor": 2
}
