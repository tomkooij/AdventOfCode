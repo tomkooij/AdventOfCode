{
 "cells": [
  {
   "cell_type": "code",
   "execution_count": 1,
   "metadata": {
    "collapsed": true
   },
   "outputs": [],
   "source": [
    "from collections import deque"
   ]
  },
  {
   "cell_type": "code",
   "execution_count": 2,
   "metadata": {
    "collapsed": true
   },
   "outputs": [],
   "source": [
    "dirs = deque(['E', 'N', 'W', 'S'])\n",
    "\n",
    "move_funcs = {'E': lambda r, c: (r, c+1),   # east\n",
    "              'N': lambda r, c: (r-1, c),   # north\n",
    "              'W': lambda r, c: (r, c-1),   # west\n",
    "              'S': lambda r, c: (r+1, c)}  # south\n",
    "                      \n",
    "direction = {'R' : 1, 'L': -1}"
   ]
  },
  {
   "cell_type": "code",
   "execution_count": 3,
   "metadata": {},
   "outputs": [
    {
     "data": {
      "text/plain": [
       "deque(['N', 'W', 'S', 'E'])"
      ]
     },
     "execution_count": 3,
     "metadata": {},
     "output_type": "execute_result"
    }
   ],
   "source": [
    "dirs.rotate(direction['L'])\n",
    "dirs"
   ]
  },
  {
   "cell_type": "code",
   "execution_count": 4,
   "metadata": {},
   "outputs": [
    {
     "data": {
      "text/plain": [
       "(-1, 0)"
      ]
     },
     "execution_count": 4,
     "metadata": {},
     "output_type": "execute_result"
    }
   ],
   "source": [
    "move_funcs[dirs[0]](0, 0)"
   ]
  },
  {
   "cell_type": "code",
   "execution_count": 33,
   "metadata": {},
   "outputs": [
    {
     "name": "stdout",
     "output_type": "stream",
     "text": [
      "r down .... c===>\n",
      " .  .  .  .  .  .  .  .  .  .  . \n",
      " .  .  .  .  .  .  .  .  .  .  . \n",
      " .  .  .  .  .  .  .  .  .  .  . \n",
      " .  .  .  .  .  .  .  .  .  .  . \n",
      " .  .  .  .  .  .  .  .  .  .  . \n",
      " .  .  .  .  .  1  .  .  .  .  . \n",
      " .  .  . 10  .  .  .  .  .  .  . \n",
      " .  .  .  .  .  .  .  .  .  .  . \n",
      " .  .  .  .  .  .  .  .  .  .  . \n",
      " .  .  .  .  .  .  .  .  .  .  . \n",
      " .  .  .  .  .  .  .  .  .  .  . \n"
     ]
    }
   ],
   "source": [
    "from collections import defaultdict\n",
    "\n",
    "class field(object):\n",
    "    \"\"\"nxn array with a dict acting as the array\"\"\"\n",
    "    \n",
    "    def __init__(self, max_r, max_c):\n",
    "        self.max_c = max_c\n",
    "        self.max_r = max_r\n",
    "        self.arr = defaultdict(int) \n",
    "        \n",
    "    def set(self, r, c, val):\n",
    "        self.arr[(r, c)] = val\n",
    "        \n",
    "    def get(self, r, c):\n",
    "        return self.arr[(r, c)]\n",
    "    \n",
    "    def print(self):\n",
    "        print('r down .... c===>')\n",
    "        h = self.max_r\n",
    "        w = self.max_c\n",
    "        for r in range(-h, h+1):\n",
    "            for c in range(-w, w+1):\n",
    "                val = self.arr[(r,c)]\n",
    "                if val:\n",
    "                    print('%2d '%val, end='')\n",
    "                else:\n",
    "                    print(' . ', end='')\n",
    "            print('')\n",
    "\n",
    "f = field(5,5)\n",
    "f.set(0, 0, 1)\n",
    "f.set(1, -2, 10)\n",
    "f.print()"
   ]
  },
  {
   "cell_type": "code",
   "execution_count": 6,
   "metadata": {},
   "outputs": [
    {
     "data": {
      "text/plain": [
       "[[0, 0, 1], [1, 0, 0], [0, 0, 0]]"
      ]
     },
     "execution_count": 6,
     "metadata": {},
     "output_type": "execute_result"
    }
   ],
   "source": [
    "decode = {'.': 0, '#': 1}\n",
    "tst = ['..#', '#..', '...']\n",
    "[[decode[c] for c in row] for row in tst]"
   ]
  },
  {
   "cell_type": "code",
   "execution_count": 15,
   "metadata": {
    "collapsed": true
   },
   "outputs": [],
   "source": [
    "testgrid = [[decode[c] for c in row] for row in tst]"
   ]
  },
  {
   "cell_type": "code",
   "execution_count": 16,
   "metadata": {},
   "outputs": [
    {
     "name": "stdout",
     "output_type": "stream",
     "text": [
      "[0, 0, 1]\n",
      "[1, 0, 0]\n",
      "[0, 0, 0]\n",
      "r down .... c===>\n",
      " .  .  .  .  .  .  .  .  .  .  . \n",
      " .  .  .  .  .  .  .  .  .  .  . \n",
      " .  .  .  .  .  .  .  .  .  .  . \n",
      " .  .  .  .  .  .  .  .  .  .  . \n",
      " .  .  .  .  .  .  #  .  .  .  . \n",
      " .  .  .  .  #  .  .  .  .  .  . \n",
      " .  .  .  .  .  .  .  .  .  .  . \n",
      " .  .  .  .  .  .  .  .  .  .  . \n",
      " .  .  .  .  .  .  .  .  .  .  . \n",
      " .  .  .  .  .  .  .  .  .  .  . \n",
      " .  .  .  .  .  .  .  .  .  .  . \n"
     ]
    }
   ],
   "source": [
    "#grid=[[1,2,3], [4,5,6], [7,8,9]]\n",
    "f = field(5, 5)\n",
    "\n",
    "for r, row in enumerate(testgrid, -1):\n",
    "    print(row)\n",
    "    for c, val in enumerate(row, -1):\n",
    "        f.set(r, c, val)\n",
    "f.print()"
   ]
  },
  {
   "cell_type": "code",
   "execution_count": 17,
   "metadata": {},
   "outputs": [
    {
     "name": "stdout",
     "output_type": "stream",
     "text": [
      "r down .... c===>\n",
      " .  .  .  .  .  .  .  .  .  .  .  .  .  .  .  .  .  .  .  .  . \n",
      " .  .  .  .  .  .  .  .  .  .  .  .  .  .  .  .  .  .  .  .  . \n",
      " .  .  .  .  .  .  .  #  #  .  .  #  #  .  .  #  #  .  .  .  . \n",
      " .  .  .  .  .  .  #  #  #  #  #  #  #  #  #  .  .  #  .  .  . \n",
      " .  .  .  .  .  #  .  #  #  .  .  #  #  .  .  .  #  #  #  .  . \n",
      " .  .  .  .  .  #  .  .  #  .  .  #  .  .  #  #  #  #  #  .  . \n",
      " .  .  .  .  .  .  #  .  #  .  #  #  .  #  .  .  .  #  .  .  . \n",
      " .  .  .  .  .  .  #  .  .  #  .  .  .  .  #  .  .  #  .  .  . \n",
      " .  .  .  .  .  #  #  #  .  .  .  #  #  .  .  .  #  #  #  .  . \n",
      " .  .  .  .  .  .  .  #  .  .  .  .  .  .  #  #  #  .  .  #  . \n",
      " .  .  .  .  .  #  .  .  .  #  .  .  .  #  #  .  .  .  #  #  # \n",
      " .  .  .  .  .  .  .  #  .  #  #  #  .  .  .  .  #  #  #  .  . \n",
      " .  .  .  #  .  .  #  .  .  .  .  #  #  .  .  .  #  .  .  .  # \n",
      " .  .  .  #  #  #  .  #  #  #  #  #  #  .  .  #  .  .  #  #  # \n",
      " .  .  .  .  #  .  .  #  .  .  #  #  #  #  #  #  .  .  #  .  . \n",
      " .  .  .  .  .  #  #  .  .  .  .  #  #  .  .  #  .  #  .  .  # \n",
      " .  .  .  .  .  .  .  .  .  .  .  .  .  .  .  .  #  #  .  .  # \n",
      " .  .  .  .  .  .  .  .  .  .  .  .  .  .  .  .  .  #  .  #  . \n",
      " .  .  .  .  .  .  .  .  .  .  .  .  .  .  .  .  .  .  #  #  . \n",
      " .  .  .  .  .  .  .  .  .  .  .  .  .  .  .  .  .  .  .  #  . \n",
      " .  .  .  .  .  .  .  .  .  .  .  .  .  .  .  .  .  .  .  .  # \n"
     ]
    },
    {
     "data": {
      "text/plain": [
       "5587"
      ]
     },
     "execution_count": 17,
     "metadata": {},
     "output_type": "execute_result"
    }
   ],
   "source": [
    "dirs = deque(['N', 'W', 'S', 'E'])\n",
    "f = field(10, 10)\n",
    "\n",
    "for r, row in enumerate(testgrid, -1):\n",
    "    for c, val in enumerate(row, -1):\n",
    "        f.set(r, c, val)\n",
    "#f.print()\n",
    "\n",
    "r, c = 0, 0\n",
    "#while True:\n",
    "n_infections = 0\n",
    "for _ in range(10000):\n",
    "    infected = f.get(r, c)\n",
    "    f.set(r, c, 1 - infected)\n",
    "    if infected:\n",
    "        #print('R!')\n",
    "        dirs.rotate(direction['R'])\n",
    "    else:\n",
    "        n_infections += 1\n",
    "        dirs.rotate(direction['L'])\n",
    "    r, c = move_funcs[dirs[0]](r, c)\n",
    "    #print(r,c, dirs[0])\n",
    "f.print()\n",
    "n_infections\n",
    "    "
   ]
  },
  {
   "cell_type": "code",
   "execution_count": 11,
   "metadata": {
    "collapsed": true
   },
   "outputs": [],
   "source": [
    "#part A"
   ]
  },
  {
   "cell_type": "code",
   "execution_count": 12,
   "metadata": {},
   "outputs": [
    {
     "data": {
      "text/plain": [
       "[[1, 0, 1, 0, 0, 0, 1, 1, 1, 0, 1, 0, 1, 1, 0, 1, 0, 0, 0, 0, 1, 1, 0, 1, 1],\n",
       " [0, 0, 1, 1, 1, 1, 0, 1, 0, 1, 1, 1, 1, 1, 1, 0, 0, 0, 0, 1, 0, 0, 0, 0, 1]]"
      ]
     },
     "execution_count": 12,
     "metadata": {},
     "output_type": "execute_result"
    }
   ],
   "source": [
    "f = open('input\\input22.txt')\n",
    "rows = [x.strip() for x in f.readlines()]\n",
    "grid = [[decode[c] for c in row] for row in rows]\n",
    "grid[:2]"
   ]
  },
  {
   "cell_type": "code",
   "execution_count": 13,
   "metadata": {},
   "outputs": [
    {
     "data": {
      "text/plain": [
       "12"
      ]
     },
     "execution_count": 13,
     "metadata": {},
     "output_type": "execute_result"
    }
   ],
   "source": [
    "len(grid)//2"
   ]
  },
  {
   "cell_type": "code",
   "execution_count": 14,
   "metadata": {},
   "outputs": [
    {
     "name": "stdout",
     "output_type": "stream",
     "text": [
      "r down .... c===>\n",
      " .  .  .  .  .  .  .  .  .  .  .  .  .  .  .  .  .  .  .  .  . \n",
      " .  .  .  .  .  .  .  .  .  .  .  .  .  .  .  .  .  .  .  .  . \n",
      " .  .  .  .  .  .  .  .  .  .  .  .  .  .  .  .  .  .  .  .  . \n",
      " .  .  .  .  .  .  .  .  .  .  .  .  .  .  .  .  .  .  .  .  . \n",
      " .  .  .  .  .  .  .  .  .  .  .  .  .  .  .  .  .  .  .  .  . \n",
      " .  .  .  .  .  .  .  .  .  .  .  .  .  .  .  .  .  .  .  .  . \n",
      " .  .  .  .  .  .  .  .  .  .  .  .  .  .  .  .  .  .  .  .  . \n",
      " .  .  .  .  .  .  .  .  .  .  .  .  .  .  .  .  .  .  .  .  # \n",
      " .  .  .  .  .  .  .  .  .  .  .  .  .  .  .  .  .  .  .  #  . \n",
      " .  .  .  .  .  .  .  .  .  .  .  .  .  .  .  .  .  .  #  .  . \n",
      " .  .  .  .  .  .  .  .  .  .  #  .  #  .  .  .  #  #  .  .  . \n",
      " .  .  .  .  .  .  .  .  .  .  .  .  #  #  #  #  .  .  .  .  # \n",
      " .  .  .  .  .  .  .  .  .  .  #  #  #  .  .  #  #  .  #  #  . \n",
      " .  .  .  .  .  .  .  .  .  .  .  .  .  #  #  .  .  .  .  #  # \n",
      " .  .  .  .  .  .  .  .  .  .  .  .  .  .  #  #  .  .  .  .  . \n",
      " .  .  .  .  .  .  .  .  .  .  #  #  .  #  .  #  #  #  .  .  # \n",
      " .  .  .  .  .  .  .  .  .  .  #  .  #  .  #  #  .  .  .  #  # \n",
      " .  .  .  .  .  .  .  .  .  .  #  #  #  .  .  .  .  #  .  .  . \n",
      " .  .  .  .  .  .  .  .  .  #  .  #  .  .  #  #  #  #  .  .  . \n",
      " .  .  .  .  .  .  .  .  #  #  #  #  #  #  .  #  #  #  .  #  . \n",
      " .  .  .  .  .  .  .  .  #  #  #  .  .  #  #  #  .  #  #  #  . \n"
     ]
    },
    {
     "data": {
      "text/plain": [
       "5399"
      ]
     },
     "execution_count": 14,
     "metadata": {},
     "output_type": "execute_result"
    }
   ],
   "source": [
    "dirs = deque(['N', 'W', 'S', 'E'])\n",
    "f = field(10, 10)\n",
    "\n",
    "for r, row in enumerate(grid):\n",
    "    for c, val in enumerate(row):\n",
    "        f.set(r, c, val)\n",
    "#f.print()\n",
    "\n",
    "middle = len(grid)//2\n",
    "r, c = middle, middle\n",
    "\n",
    "#while True:\n",
    "n_infections = 0\n",
    "for _ in range(10000):\n",
    "    infected = f.get(r, c)\n",
    "    f.set(r, c, 1 - infected)\n",
    "    if infected:\n",
    "        #print('R!')\n",
    "        dirs.rotate(direction['R'])\n",
    "    else:\n",
    "        n_infections += 1\n",
    "        dirs.rotate(direction['L'])\n",
    "    r, c = move_funcs[dirs[0]](r, c)\n",
    "    #print(r,c, dirs[0])\n",
    "f.print()\n",
    "n_infections"
   ]
  },
  {
   "cell_type": "code",
   "execution_count": 150,
   "metadata": {
    "collapsed": true
   },
   "outputs": [],
   "source": [
    "#part B"
   ]
  },
  {
   "cell_type": "code",
   "execution_count": 19,
   "metadata": {},
   "outputs": [
    {
     "data": {
      "text/plain": [
       "'Clean nodes become weakened.\\nWeakened nodes become infected.\\nInfected nodes become flagged.\\nFlagged nodes become clean.'"
      ]
     },
     "execution_count": 19,
     "metadata": {},
     "output_type": "execute_result"
    }
   ],
   "source": [
    "\"\"\"Clean nodes become weakened.\n",
    "Weakened nodes become infected.\n",
    "Infected nodes become flagged.\n",
    "Flagged nodes become clean.\"\"\""
   ]
  },
  {
   "cell_type": "code",
   "execution_count": 25,
   "metadata": {},
   "outputs": [
    {
     "data": {
      "text/plain": [
       "0"
      ]
     },
     "execution_count": 25,
     "metadata": {},
     "output_type": "execute_result"
    }
   ],
   "source": [
    "4 % 4"
   ]
  },
  {
   "cell_type": "code",
   "execution_count": 23,
   "metadata": {},
   "outputs": [
    {
     "data": {
      "text/plain": [
       "deque([3, 0, 1, 2])"
      ]
     },
     "execution_count": 23,
     "metadata": {},
     "output_type": "execute_result"
    }
   ],
   "source": [
    "state.rotate(1)\n",
    "state"
   ]
  },
  {
   "cell_type": "code",
   "execution_count": 35,
   "metadata": {},
   "outputs": [
    {
     "data": {
      "text/plain": [
       "[[0, 0, 2], [2, 0, 0], [0, 0, 0]]"
      ]
     },
     "execution_count": 35,
     "metadata": {},
     "output_type": "execute_result"
    }
   ],
   "source": [
    "decode = {'.': 0, '#': 2}\n",
    "tst = ['..#', '#..', '...']\n",
    "[[decode[c] for c in row] for row in tst]"
   ]
  },
  {
   "cell_type": "code",
   "execution_count": 36,
   "metadata": {
    "collapsed": true
   },
   "outputs": [],
   "source": [
    "testgrid = [[decode[c] for c in row] for row in tst]"
   ]
  },
  {
   "cell_type": "code",
   "execution_count": 58,
   "metadata": {
    "scrolled": true
   },
   "outputs": [
    {
     "name": "stdout",
     "output_type": "stream",
     "text": [
      "1\n",
      "r down .... c===>\n",
      " .  .  .  .  .  .  .  .  .  .  .  .  .  .  .  .  .  .  .  .  . \n",
      " .  .  .  .  .  .  .  .  .  .  .  .  .  .  .  .  .  .  .  .  . \n",
      " .  .  .  .  .  .  .  .  .  .  .  .  .  .  .  .  .  .  .  .  . \n",
      " .  .  .  .  .  .  .  .  .  .  .  .  .  .  .  .  .  .  .  .  . \n",
      " .  .  .  .  .  .  .  .  .  .  .  .  .  .  .  .  .  .  .  .  . \n",
      " .  .  .  .  .  .  .  .  .  .  .  .  .  .  .  .  .  .  .  .  . \n",
      " .  .  .  .  .  .  .  .  .  .  .  .  .  .  .  .  .  .  .  .  . \n",
      " .  .  .  .  .  .  .  .  .  .  .  .  .  .  .  .  .  .  .  .  . \n",
      " .  .  .  .  .  .  .  .  .  1  1  .  .  .  .  .  .  .  .  .  . \n",
      " .  .  .  .  .  .  .  .  .  2  2  1  1  1  1  .  .  .  .  .  . \n",
      " .  .  .  .  .  .  .  .  1  2  2  3  2  .  1  .  .  .  .  .  . \n",
      " .  .  .  .  .  .  1  3  3  .  1  2  3  3  .  .  .  .  .  .  . \n",
      " .  .  .  .  .  .  1  3  1  2  3  1  1  1  .  .  .  .  .  .  . \n",
      " .  .  .  .  .  .  .  .  .  2  2  .  .  .  .  .  .  .  .  .  . \n",
      " .  .  .  .  .  .  .  .  .  1  1  .  .  .  .  .  .  .  .  .  . \n",
      " .  .  .  .  .  .  .  .  .  .  .  .  .  .  .  .  .  .  .  .  . \n",
      " .  .  .  .  .  .  .  .  .  .  .  .  .  .  .  .  .  .  .  .  . \n",
      " .  .  .  .  .  .  .  .  .  .  .  .  .  .  .  .  .  .  .  .  . \n",
      " .  .  .  .  .  .  .  .  .  .  .  .  .  .  .  .  .  .  .  .  . \n",
      " .  .  .  .  .  .  .  .  .  .  .  .  .  .  .  .  .  .  .  .  . \n",
      " .  .  .  .  .  .  .  .  .  .  .  .  .  .  .  .  .  .  .  .  . \n"
     ]
    },
    {
     "data": {
      "text/plain": [
       "26"
      ]
     },
     "execution_count": 58,
     "metadata": {},
     "output_type": "execute_result"
    }
   ],
   "source": [
    "#testscase\n",
    "dirs = deque(['N', 'W', 'S', 'E'])\n",
    "f = field(10, 10)\n",
    "\n",
    "for r, row in enumerate(testgrid):\n",
    "    for c, val in enumerate(row):\n",
    "        f.set(r, c, val)\n",
    "#f.print()\n",
    "\n",
    "middle = len(testgrid)//2\n",
    "r, c = middle, middle\n",
    "\n",
    "#while True:\n",
    "n_infections = 0\n",
    "for _ in range(100):\n",
    "    state = f.get(r, c)\n",
    "    \n",
    "    if state == 0:\n",
    "        # clean      \n",
    "        dirs.rotate(direction['L'])\n",
    "    elif state == 1:\n",
    "        # weakened\n",
    "        n_infections += 1\n",
    "    elif state == 2:\n",
    "        # infected\n",
    "        dirs.rotate(direction['R'])\n",
    "    elif state == 3:\n",
    "        dirs.rotate(2)  # reverse\n",
    "    else:\n",
    "        assert False\n",
    "    \n",
    "    state += 1\n",
    "    state %= 4\n",
    "    f.set(r, c, state)\n",
    "    \n",
    "    r, c = move_funcs[dirs[0]](r, c)\n",
    "    #print(r,c, dirs[0])\n",
    "f.print()\n",
    "n_infections"
   ]
  },
  {
   "cell_type": "code",
   "execution_count": 50,
   "metadata": {},
   "outputs": [
    {
     "name": "stdout",
     "output_type": "stream",
     "text": [
      "r down .... c===>\n",
      " 2  3  1  3  3  1  .  2  1  3  3  .  1  .  1  3  2  .  2  .  2 \n",
      " .  2  3  2  1  3  2  3  .  1  2  1  2  2  3  1  2  1  .  1  2 \n",
      " 2  1  2  .  3  3  2  .  3  3  .  2  1  2  .  .  3  2  2  1  2 \n",
      " .  3  3  1  .  .  3  .  2  .  .  2  3  1  .  2  1  2  .  2  3 \n",
      " 3  2  3  2  1  .  2  2  1  2  3  2  .  3  1  1  1  1  2  .  1 \n",
      " 2  .  1  1  3  3  .  1  2  1  1  1  .  1  2  3  3  3  .  2  . \n",
      " 2  1  .  1  .  3  3  .  3  .  1  3  3  3  2  2  .  3  2  2  . \n",
      " 3  .  2  2  2  3  3  3  3  1  .  1  3  2  .  .  3  2  3  3  3 \n",
      " 2  .  1  1  3  1  .  .  .  2  3  .  2  3  1  1  .  .  3  2  1 \n",
      " 2  2  .  1  3  3  .  2  1  3  2  1  2  3  2  1  2  2  .  1  3 \n",
      " .  1  .  .  1  1  .  3  3  3  3  1  1  3  3  3  2  2  2  1  3 \n",
      " .  .  2  .  .  .  1  3  3  3  1  2  .  3  .  2  2  1  1  .  2 \n",
      " 1  1  2  3  .  1  3  2  3  2  1  3  1  .  .  2  3  .  1  1  3 \n",
      " 2  1  .  3  1  2  3  1  3  3  3  3  3  .  2  3  1  .  2  1  3 \n",
      " 1  2  2  3  .  3  2  .  3  3  3  1  1  .  2  2  3  2  1  2  1 \n",
      " 1  1  .  .  .  2  1  2  2  2  .  3  .  2  1  .  1  3  .  2  3 \n",
      " 1  .  3  3  3  .  3  3  3  .  .  3  .  1  2  2  2  3  1  1  . \n",
      " 1  .  .  1  1  3  2  3  1  2  1  .  3  3  1  .  1  2  3  .  . \n",
      " 2  1  3  2  1  2  1  .  .  1  .  1  .  2  3  1  .  2  .  1  . \n",
      " 1  2  .  1  2  3  1  2  3  1  .  3  1  1  .  .  1  .  1  2  3 \n",
      " 3  .  1  2  1  .  .  3  3  .  1  1  2  2  2  1  1  2  1  1  1 \n"
     ]
    },
    {
     "data": {
      "text/plain": [
       "2511944"
      ]
     },
     "execution_count": 50,
     "metadata": {},
     "output_type": "execute_result"
    }
   ],
   "source": [
    "#testscase\n",
    "dirs = deque(['N', 'W', 'S', 'E'])\n",
    "f = field(10, 10)\n",
    "\n",
    "for r, row in enumerate(testgrid):\n",
    "    for c, val in enumerate(row):\n",
    "        f.set(r, c, val)\n",
    "#f.print()\n",
    "\n",
    "middle = len(testgrid)//2\n",
    "r, c = middle, middle\n",
    "\n",
    "#while True:\n",
    "n_infections = 0\n",
    "for _ in range(10000000):\n",
    "    state = f.get(r, c)\n",
    "    \n",
    "    if state == 0:\n",
    "        # clean      \n",
    "        dirs.rotate(direction['L'])\n",
    "    elif state == 1:\n",
    "        # weakened\n",
    "        n_infections += 1\n",
    "    elif state == 2:\n",
    "        # infected\n",
    "        dirs.rotate(direction['R'])\n",
    "    elif state == 3:\n",
    "        dirs.rotate(2)  # reverse\n",
    "    else:\n",
    "        assert False\n",
    "    \n",
    "    state += 1\n",
    "    state %= 4\n",
    "    f.set(r, c, state)\n",
    "    \n",
    "    r, c = move_funcs[dirs[0]](r, c)\n",
    "    #print(r,c, dirs[0])\n",
    "f.print()\n",
    "n_infections"
   ]
  },
  {
   "cell_type": "code",
   "execution_count": 51,
   "metadata": {},
   "outputs": [
    {
     "data": {
      "text/plain": [
       "[[2, 0, 2, 0, 0, 0, 2, 2, 2, 0, 2, 0, 2, 2, 0, 2, 0, 0, 0, 0, 2, 2, 0, 2, 2],\n",
       " [0, 0, 2, 2, 2, 2, 0, 2, 0, 2, 2, 2, 2, 2, 2, 0, 0, 0, 0, 2, 0, 0, 0, 0, 2]]"
      ]
     },
     "execution_count": 51,
     "metadata": {},
     "output_type": "execute_result"
    }
   ],
   "source": [
    "f = open('input\\input22.txt')\n",
    "rows = [x.strip() for x in f.readlines()]\n",
    "grid = [[decode[c] for c in row] for row in rows]\n",
    "grid[:2]"
   ]
  },
  {
   "cell_type": "code",
   "execution_count": 60,
   "metadata": {},
   "outputs": [
    {
     "name": "stdout",
     "output_type": "stream",
     "text": [
      "r down .... c===>\n",
      " .  3  1  3  1  .  2  .  .  1  1  1  2  3  2  2  .  2  2  .  3 \n",
      " 1  2  2  1  .  .  2  2  .  .  2  2  2  3  .  3  .  1  2  3  . \n",
      " .  1  3  2  3  2  2  3  3  1  2  .  1  2  2  .  2  3  1  .  3 \n",
      " 2  3  .  1  .  .  3  1  .  3  1  2  1  3  .  .  2  3  2  2  2 \n",
      " 3  3  .  2  .  1  .  3  .  .  3  1  2  2  .  1  3  3  .  .  . \n",
      " 3  .  .  2  .  3  3  2  1  3  .  3  .  2  .  3  .  .  2  2  2 \n",
      " 2  2  1  2  .  3  1  1  .  3  2  .  3  .  1  3  .  2  3  2  1 \n",
      " .  1  1  1  .  1  .  2  1  .  3  1  1  3  .  1  3  .  3  3  . \n",
      " .  3  3  1  3  1  2  .  .  3  3  3  3  1  1  .  3  2  1  2  1 \n",
      " .  .  2  .  1  3  1  2  2  2  .  3  1  3  2  2  3  1  3  .  1 \n",
      " .  3  2  .  .  3  .  3  3  3  .  .  1  1  1  1  .  .  2  3  1 \n",
      " .  1  2  2  3  1  .  3  1  .  2  3  2  1  3  1  1  2  3  1  . \n",
      " 1  1  2  2  2  .  1  1  .  1  .  .  2  .  2  .  3  3  .  2  . \n",
      " 1  .  .  2  .  .  2  2  1  3  1  1  .  3  1  3  .  1  1  3  1 \n",
      " 1  3  3  3  1  3  1  .  2  3  .  2  3  2  .  3  .  1  3  .  2 \n",
      " .  .  2  2  2  .  2  1  1  3  .  2  3  2  2  1  .  3  2  2  2 \n",
      " .  1  .  .  1  3  2  1  1  1  1  3  2  1  2  .  2  3  1  3  3 \n",
      " .  3  2  .  2  1  .  .  2  2  2  .  2  .  1  1  3  1  2  3  1 \n",
      " 2  1  2  2  .  2  1  2  2  .  1  2  .  2  .  3  2  2  2  2  3 \n",
      " 1  3  2  2  3  1  .  2  1  2  3  2  3  1  1  1  2  1  1  .  2 \n",
      " 2  1  3  3  1  .  2  2  2  2  3  1  1  1  3  .  2  2  3  3  2 \n"
     ]
    },
    {
     "data": {
      "text/plain": [
       "2511776"
      ]
     },
     "execution_count": 60,
     "metadata": {},
     "output_type": "execute_result"
    }
   ],
   "source": [
    "# actual input\n",
    "#testscase\n",
    "dirs = deque(['N', 'W', 'S', 'E'])\n",
    "f = field(10, 10)\n",
    "\n",
    "for r, row in enumerate(grid):\n",
    "    for c, val in enumerate(row):\n",
    "        f.set(r, c, val)\n",
    "#f.print()\n",
    "\n",
    "middle = len(grid)//2\n",
    "r, c = middle, middle\n",
    "\n",
    "\n",
    "#while True:\n",
    "n_infections = 0\n",
    "for _ in range(10000000):\n",
    "    state = f.get(r, c)\n",
    "    \n",
    "    if state == 0:\n",
    "        # clean      \n",
    "        dirs.rotate(direction['L'])\n",
    "    elif state == 1:\n",
    "        # weakened\n",
    "        n_infections += 1\n",
    "    elif state == 2:\n",
    "        # infected\n",
    "        dirs.rotate(direction['R'])\n",
    "    elif state == 3:\n",
    "        dirs.rotate(2)  # reverse\n",
    "    else:\n",
    "        assert False\n",
    "    \n",
    "    state += 1\n",
    "    state %= 4\n",
    "    f.set(r, c, state)\n",
    "    \n",
    "    r, c = move_funcs[dirs[0]](r, c)\n",
    "    #print(r,c, dirs[0])\n",
    "f.print()\n",
    "n_infections"
   ]
  },
  {
   "cell_type": "code",
   "execution_count": null,
   "metadata": {
    "collapsed": true
   },
   "outputs": [],
   "source": []
  }
 ],
 "metadata": {
  "kernelspec": {
   "display_name": "Python [conda env:py36]",
   "language": "python",
   "name": "conda-env-py36-py"
  },
  "language_info": {
   "codemirror_mode": {
    "name": "ipython",
    "version": 3
   },
   "file_extension": ".py",
   "mimetype": "text/x-python",
   "name": "python",
   "nbconvert_exporter": "python",
   "pygments_lexer": "ipython3",
   "version": "3.6.1"
  }
 },
 "nbformat": 4,
 "nbformat_minor": 2
}
