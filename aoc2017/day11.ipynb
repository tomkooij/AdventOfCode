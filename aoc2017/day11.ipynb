{
 "cells": [
  {
   "cell_type": "markdown",
   "metadata": {},
   "source": [
    "coordinate system:\n",
    "```\n",
    "    hexagonal cubes as in Q*bert game\n",
    "    hexagons with flat tops\n",
    "    \n",
    "    x points 30degrees up (0,0)-(1,0)-(2,0)\n",
    "    y points up (0,0)-(1,0)-(2,0)\n",
    "    \n",
    "    redundant axis z:\n",
    "    z point 30degrees down (0,0)-(1,-1)-(2,-2)\n",
    "    \n",
    "    z = -(x+y)  sum(x,y,z)=0\n",
    "```\n",
    "![hexgrid](hexgrid.png)"
   ]
  },
  {
   "cell_type": "code",
   "execution_count": 1,
   "metadata": {},
   "outputs": [],
   "source": [
    "# Qbert directions, see docstring for cube_distance\n",
    "directions = {'n': (0,  1), 'ne': ( 1, 0), 'se': ( 1, -1),\n",
    "              's': (0, -1), 'nw': (-1, 1), 'sw': (-1, 0)}"
   ]
  },
  {
   "cell_type": "code",
   "execution_count": 2,
   "metadata": {},
   "outputs": [],
   "source": [
    "def cube_distance(x, y):\n",
    "    \"\"\"\n",
    "    hexagonal cubes as in Q*bert game\n",
    "    hexagons with flat tops\n",
    "    \n",
    "    x points 30degrees up (0,0)-(1,0)-(2,0)\n",
    "    y points up (0,0)-(1,0)-(2,0)\n",
    "    \n",
    "    redundant axis z:\n",
    "    z point 30degrees down (0,0)-(1,-1)-(2,-2)\n",
    "    \n",
    "    z = -(x+y)  sum(x,y,z)=0\n",
    "    \n",
    "    The shortest distance is always over a single axis:\n",
    "    \"\"\"\n",
    "    z = -(x + y)\n",
    "    return max(abs(x), abs(y), abs(z))"
   ]
  },
  {
   "cell_type": "code",
   "execution_count": 3,
   "metadata": {},
   "outputs": [],
   "source": [
    "testcase = 'ne,ne,ne'\n",
    "testcase2 = 'se,sw,se,sw,sw'"
   ]
  },
  {
   "cell_type": "code",
   "execution_count": 4,
   "metadata": {},
   "outputs": [],
   "source": [
    "def do_moves(s):\n",
    "    \"\"\"yield all move in s\"\"\"\n",
    "    for step in s.split(','):\n",
    "        yield directions[step]"
   ]
  },
  {
   "cell_type": "code",
   "execution_count": 5,
   "metadata": {},
   "outputs": [],
   "source": [
    "def solve(s):\n",
    "    x, y = 0, 0\n",
    "    for dx, dy in do_moves(s):\n",
    "        x, y = x + dx, y + dy\n",
    "    print(x, y)\n",
    "    return cube_distance(x, y)"
   ]
  },
  {
   "cell_type": "code",
   "execution_count": 6,
   "metadata": {},
   "outputs": [
    {
     "name": "stdout",
     "output_type": "stream",
     "text": [
      "-1 -2\n"
     ]
    },
    {
     "data": {
      "text/plain": [
       "3"
      ]
     },
     "execution_count": 6,
     "metadata": {},
     "output_type": "execute_result"
    }
   ],
   "source": [
    "solve(testcase2)"
   ]
  },
  {
   "cell_type": "code",
   "execution_count": 7,
   "metadata": {},
   "outputs": [
    {
     "name": "stdout",
     "output_type": "stream",
     "text": [
      "2 -2\n"
     ]
    },
    {
     "data": {
      "text/plain": [
       "2"
      ]
     },
     "execution_count": 7,
     "metadata": {},
     "output_type": "execute_result"
    }
   ],
   "source": [
    "solve('ne,ne,s,s')"
   ]
  },
  {
   "cell_type": "code",
   "execution_count": 8,
   "metadata": {},
   "outputs": [
    {
     "data": {
      "text/plain": [
       "('ne,se,n,n,', 'n')"
      ]
     },
     "execution_count": 8,
     "metadata": {},
     "output_type": "execute_result"
    }
   ],
   "source": [
    "f = open('input\\input11.txt')\n",
    "input = f.read()\n",
    "input[:10], input[-1]"
   ]
  },
  {
   "cell_type": "code",
   "execution_count": 9,
   "metadata": {},
   "outputs": [
    {
     "name": "stdout",
     "output_type": "stream",
     "text": [
      "0 0\n"
     ]
    },
    {
     "data": {
      "text/plain": [
       "0"
      ]
     },
     "execution_count": 9,
     "metadata": {},
     "output_type": "execute_result"
    }
   ],
   "source": [
    "solve('ne,ne,sw,sw')"
   ]
  },
  {
   "cell_type": "code",
   "execution_count": 10,
   "metadata": {},
   "outputs": [
    {
     "name": "stdout",
     "output_type": "stream",
     "text": [
      "2 -2\n"
     ]
    },
    {
     "data": {
      "text/plain": [
       "2"
      ]
     },
     "execution_count": 10,
     "metadata": {},
     "output_type": "execute_result"
    }
   ],
   "source": [
    "solve('ne,ne,s,s')"
   ]
  },
  {
   "cell_type": "code",
   "execution_count": 11,
   "metadata": {},
   "outputs": [
    {
     "name": "stdout",
     "output_type": "stream",
     "text": [
      "-1 -2\n"
     ]
    },
    {
     "data": {
      "text/plain": [
       "3"
      ]
     },
     "execution_count": 11,
     "metadata": {},
     "output_type": "execute_result"
    }
   ],
   "source": [
    "solve('se,sw,se,sw,sw')"
   ]
  },
  {
   "cell_type": "code",
   "execution_count": 12,
   "metadata": {},
   "outputs": [
    {
     "name": "stdout",
     "output_type": "stream",
     "text": [
      "329 -877\n"
     ]
    },
    {
     "data": {
      "text/plain": [
       "877"
      ]
     },
     "execution_count": 12,
     "metadata": {},
     "output_type": "execute_result"
    }
   ],
   "source": [
    "solve(input)"
   ]
  },
  {
   "cell_type": "code",
   "execution_count": 13,
   "metadata": {},
   "outputs": [],
   "source": [
    "# Part B"
   ]
  },
  {
   "cell_type": "code",
   "execution_count": 14,
   "metadata": {},
   "outputs": [],
   "source": [
    "def solve(s):\n",
    "    x, y = 0, 0\n",
    "    max_d = 0\n",
    "    for dx, dy in do_moves(s):\n",
    "        x, y = x + dx, y + dy\n",
    "        max_d = max(max_d, cube_distance(x,y))\n",
    "    return cube_distance(x,y), max_d"
   ]
  },
  {
   "cell_type": "code",
   "execution_count": 15,
   "metadata": {},
   "outputs": [
    {
     "data": {
      "text/plain": [
       "(877, 1622)"
      ]
     },
     "execution_count": 15,
     "metadata": {},
     "output_type": "execute_result"
    }
   ],
   "source": [
    "solve(input)"
   ]
  }
 ],
 "metadata": {
  "kernelspec": {
   "display_name": "Python [conda env:py36]",
   "language": "python",
   "name": "conda-env-py36-py"
  },
  "language_info": {
   "codemirror_mode": {
    "name": "ipython",
    "version": 3
   },
   "file_extension": ".py",
   "mimetype": "text/x-python",
   "name": "python",
   "nbconvert_exporter": "python",
   "pygments_lexer": "ipython3",
   "version": "3.6.1"
  }
 },
 "nbformat": 4,
 "nbformat_minor": 2
}
