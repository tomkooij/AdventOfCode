{
 "cells": [
  {
   "cell_type": "code",
   "execution_count": 1,
   "metadata": {
    "collapsed": true
   },
   "outputs": [],
   "source": [
    "from collections import defaultdict"
   ]
  },
  {
   "cell_type": "code",
   "execution_count": 2,
   "metadata": {},
   "outputs": [
    {
     "data": {
      "text/plain": [
       "[(0, 2), (2, 2), (2, 3)]"
      ]
     },
     "execution_count": 2,
     "metadata": {},
     "output_type": "execute_result"
    }
   ],
   "source": [
    "testcase = \"\"\"0/2\n",
    "2/2\n",
    "2/3\n",
    "3/4\n",
    "3/5\n",
    "0/1\n",
    "10/1\n",
    "9/10\"\"\"\n",
    "rows = testcase.split('\\n')\n",
    "components = [tuple(map(int, x.split('/'))) for x in rows]\n",
    "components[:3]"
   ]
  },
  {
   "cell_type": "code",
   "execution_count": 3,
   "metadata": {},
   "outputs": [
    {
     "data": {
      "text/plain": [
       "(defaultdict(list,\n",
       "             {0: [2, 1],\n",
       "              1: [0, 10],\n",
       "              2: [0, 3],\n",
       "              3: [2, 4, 5],\n",
       "              4: [3],\n",
       "              5: [3],\n",
       "              9: [10],\n",
       "              10: [1, 9]}),\n",
       " [2])"
      ]
     },
     "execution_count": 3,
     "metadata": {},
     "output_type": "execute_result"
    }
   ],
   "source": [
    "links = defaultdict(list)\n",
    "dupes = []\n",
    "for component in components:\n",
    "    a, b = component\n",
    "    if a == b:\n",
    "        dupes.append(a)\n",
    "    else:\n",
    "        links[a].append(b)\n",
    "        links[b].append(a)\n",
    "links, dupes"
   ]
  },
  {
   "cell_type": "code",
   "execution_count": 4,
   "metadata": {},
   "outputs": [
    {
     "data": {
      "text/plain": [
       "[(4, 6), (6, 11), (8, 18), (8, 19), (2, 1), (4, 12), (6, 31)]"
      ]
     },
     "execution_count": 4,
     "metadata": {},
     "output_type": "execute_result"
    }
   ],
   "source": [
    "def bridges(items, l=None, strength=0, length=0):\n",
    "    \"\"\"recursive generator that generates bridges\n",
    "    \n",
    "    Optimisations:\n",
    "    - yield strength and length instead of list\n",
    "    - remove 2/2, 4/4, etc from permutations \n",
    "    \"\"\"\n",
    "    if l is None:\n",
    "        end = 0\n",
    "        l = []\n",
    "    else:\n",
    "        last_link = l[-1]\n",
    "        a, end = last_link\n",
    "        strength += a + end\n",
    "        length += 2\n",
    "        if end in dupes and (end, end) not in l:\n",
    "            # handle 2/2, 3/3, etc without permutations:\n",
    "            strength += 2*end\n",
    "            length += 2\n",
    "            l.append((end, end))\n",
    "        yield (length, strength)\n",
    "            \n",
    "    queue = links[end]\n",
    "    #print('l: ', l, queue)\n",
    "\n",
    "    for item in queue:\n",
    "        if (end, item) not in l and (item, end) not in l:\n",
    "            yield from bridges(items, l + [(end, item)], strength, length)\n",
    "\n",
    "[x for x in bridges(components)]"
   ]
  },
  {
   "cell_type": "code",
   "execution_count": 5,
   "metadata": {
    "collapsed": true
   },
   "outputs": [],
   "source": [
    "# Part A"
   ]
  },
  {
   "cell_type": "code",
   "execution_count": 6,
   "metadata": {},
   "outputs": [
    {
     "data": {
      "text/plain": [
       "[(48, 5), (25, 10), (35, 49)]"
      ]
     },
     "execution_count": 6,
     "metadata": {},
     "output_type": "execute_result"
    }
   ],
   "source": [
    "f = open('input\\input24.txt')\n",
    "rows =  f.readlines()\n",
    "components = [tuple(map(int, x.split('/'))) for x in rows]\n",
    "components[:3]"
   ]
  },
  {
   "cell_type": "code",
   "execution_count": 7,
   "metadata": {},
   "outputs": [
    {
     "data": {
      "text/plain": [
       "[35, 13, 20]"
      ]
     },
     "execution_count": 7,
     "metadata": {},
     "output_type": "execute_result"
    }
   ],
   "source": [
    "links = defaultdict(list)\n",
    "dupes = []\n",
    "for component in components:\n",
    "    a, b = component\n",
    "    if a == b:\n",
    "        dupes.append(a)\n",
    "    else:\n",
    "        links[a].append(b)\n",
    "        links[b].append(a)\n",
    "dupes"
   ]
  },
  {
   "cell_type": "code",
   "execution_count": 8,
   "metadata": {},
   "outputs": [
    {
     "data": {
      "text/plain": [
       "1656"
      ]
     },
     "execution_count": 8,
     "metadata": {},
     "output_type": "execute_result"
    }
   ],
   "source": [
    "max([s for l,s in bridges(components)])"
   ]
  },
  {
   "cell_type": "code",
   "execution_count": 9,
   "metadata": {
    "collapsed": true
   },
   "outputs": [],
   "source": [
    "#Part B"
   ]
  },
  {
   "cell_type": "code",
   "execution_count": 10,
   "metadata": {},
   "outputs": [],
   "source": [
    "bridges = list(bridges(components))"
   ]
  },
  {
   "cell_type": "code",
   "execution_count": 11,
   "metadata": {},
   "outputs": [
    {
     "data": {
      "text/plain": [
       "[(2, 50), (4, 122), (6, 177), (8, 260), (10, 324)]"
      ]
     },
     "execution_count": 11,
     "metadata": {},
     "output_type": "execute_result"
    }
   ],
   "source": [
    "bridges[:5]"
   ]
  },
  {
   "cell_type": "code",
   "execution_count": 12,
   "metadata": {},
   "outputs": [
    {
     "data": {
      "text/plain": [
       "60"
      ]
     },
     "execution_count": 12,
     "metadata": {},
     "output_type": "execute_result"
    }
   ],
   "source": [
    "max_length = max([length for length, strength in bridges])\n",
    "max_length"
   ]
  },
  {
   "cell_type": "code",
   "execution_count": 13,
   "metadata": {},
   "outputs": [
    {
     "data": {
      "text/plain": [
       "1642"
      ]
     },
     "execution_count": 13,
     "metadata": {},
     "output_type": "execute_result"
    }
   ],
   "source": [
    "max([strength for length, strength in bridges if length == max_length])"
   ]
  },
  {
   "cell_type": "code",
   "execution_count": null,
   "metadata": {
    "collapsed": true
   },
   "outputs": [],
   "source": []
  }
 ],
 "metadata": {
  "kernelspec": {
   "display_name": "Python [conda env:py36]",
   "language": "python",
   "name": "conda-env-py36-py"
  },
  "language_info": {
   "codemirror_mode": {
    "name": "ipython",
    "version": 3
   },
   "file_extension": ".py",
   "mimetype": "text/x-python",
   "name": "python",
   "nbconvert_exporter": "python",
   "pygments_lexer": "ipython3",
   "version": "3.6.1"
  }
 },
 "nbformat": 4,
 "nbformat_minor": 2
}
