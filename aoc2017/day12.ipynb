{
 "cells": [
  {
   "cell_type": "code",
   "execution_count": 2,
   "metadata": {},
   "outputs": [
    {
     "data": {
      "text/plain": [
       "['0 <-> 2',\n",
       " '1 <-> 1',\n",
       " '2 <-> 0, 3, 4',\n",
       " '3 <-> 2, 4',\n",
       " '4 <-> 2, 3, 6',\n",
       " '5 <-> 6',\n",
       " '6 <-> 4, 5']"
      ]
     },
     "execution_count": 2,
     "metadata": {},
     "output_type": "execute_result"
    }
   ],
   "source": [
    "testcase = \\\n",
    "\"\"\"0 <-> 2\n",
    "1 <-> 1\n",
    "2 <-> 0, 3, 4\n",
    "3 <-> 2, 4\n",
    "4 <-> 2, 3, 6\n",
    "5 <-> 6\n",
    "6 <-> 4, 5\"\"\"\n",
    "rows = testcase.split('\\n')\n",
    "rows"
   ]
  },
  {
   "cell_type": "code",
   "execution_count": 20,
   "metadata": {},
   "outputs": [],
   "source": [
    "def parse(row):\n",
    "    n, rest = row.split('<->')\n",
    "    return int(n), list(map(int, rest.split(',')))"
   ]
  },
  {
   "cell_type": "code",
   "execution_count": 25,
   "metadata": {},
   "outputs": [],
   "source": [
    "links = {}\n",
    "for row in rows:\n",
    "    n, l = parse(row)\n",
    "    links[n] = l"
   ]
  },
  {
   "cell_type": "code",
   "execution_count": 26,
   "metadata": {},
   "outputs": [
    {
     "data": {
      "text/plain": [
       "{0: [2], 1: [1], 2: [0, 3, 4], 3: [2, 4], 4: [2, 3, 6], 5: [6], 6: [4, 5]}"
      ]
     },
     "execution_count": 26,
     "metadata": {},
     "output_type": "execute_result"
    }
   ],
   "source": [
    "links"
   ]
  },
  {
   "cell_type": "code",
   "execution_count": 37,
   "metadata": {},
   "outputs": [],
   "source": [
    "def solve(links):  \n",
    "    queue = set([0])\n",
    "    group = set()\n",
    "    while queue:\n",
    "        n = queue.pop()\n",
    "        group.add(n)\n",
    "        l = links[n] \n",
    "        for i in l:\n",
    "            if i in group:\n",
    "                continue\n",
    "            queue.add(i)\n",
    "        #print(queue, group)    \n",
    "    return group"
   ]
  },
  {
   "cell_type": "code",
   "execution_count": 30,
   "metadata": {},
   "outputs": [
    {
     "name": "stdout",
     "output_type": "stream",
     "text": [
      "{2} {0}\n",
      "{3, 4} {0, 2}\n",
      "{4} {0, 2, 3}\n",
      "{6} {0, 2, 3, 4}\n",
      "{5} {0, 2, 3, 4, 6}\n",
      "set() {0, 2, 3, 4, 5, 6}\n"
     ]
    }
   ],
   "source": [
    "solve(links)"
   ]
  },
  {
   "cell_type": "code",
   "execution_count": 47,
   "metadata": {},
   "outputs": [],
   "source": [
    "f = open('input\\input12.txt')"
   ]
  },
  {
   "cell_type": "code",
   "execution_count": 48,
   "metadata": {},
   "outputs": [
    {
     "data": {
      "text/plain": [
       "([(0, [480, 1750]),\n",
       "  (1, [52, 393, 635, 800, 840]),\n",
       "  (2, [575, 1950]),\n",
       "  (3, [1188, 1527]),\n",
       "  (4, [177, 897, 898]),\n",
       "  (5, [1214]),\n",
       "  (6, [686]),\n",
       "  (7, [346, 1443]),\n",
       "  (8, [432]),\n",
       "  (9, [449])],\n",
       " 2000)"
      ]
     },
     "execution_count": 48,
     "metadata": {},
     "output_type": "execute_result"
    }
   ],
   "source": [
    "rows = [parse(row) for row in f.readlines()]\n",
    "rows[:10], len(rows)"
   ]
  },
  {
   "cell_type": "code",
   "execution_count": 49,
   "metadata": {},
   "outputs": [],
   "source": [
    "links = {}\n",
    "for n, l in rows:\n",
    "    links[n] = l"
   ]
  },
  {
   "cell_type": "code",
   "execution_count": 50,
   "metadata": {},
   "outputs": [
    {
     "data": {
      "text/plain": [
       "288"
      ]
     },
     "execution_count": 50,
     "metadata": {},
     "output_type": "execute_result"
    }
   ],
   "source": [
    "g = solve(links)\n",
    "len(g)"
   ]
  },
  {
   "cell_type": "markdown",
   "metadata": {},
   "source": [
    "Part B"
   ]
  },
  {
   "cell_type": "code",
   "execution_count": 52,
   "metadata": {},
   "outputs": [],
   "source": [
    "from copy import deepcopy\n",
    "links_copy = deepcopy(links)"
   ]
  },
  {
   "cell_type": "code",
   "execution_count": 65,
   "metadata": {},
   "outputs": [],
   "source": [
    "def solve(links, start=0):  \n",
    "    queue = set([start])\n",
    "    group = set()\n",
    "    while queue:\n",
    "        n = queue.pop()\n",
    "        group.add(n)\n",
    "        l = links[n] \n",
    "        for i in l:\n",
    "            if i in group:\n",
    "                continue\n",
    "            queue.add(i)\n",
    "        #print(queue, group)    \n",
    "    return group"
   ]
  },
  {
   "cell_type": "code",
   "execution_count": 67,
   "metadata": {},
   "outputs": [
    {
     "name": "stdout",
     "output_type": "stream",
     "text": [
      "211\n"
     ]
    }
   ],
   "source": [
    "x = deepcopy(links_copy)\n",
    "counter = 0\n",
    "while x:\n",
    "    counter += 1\n",
    "    #print('len: ', len(x))\n",
    "    start = list(x.keys())[0]\n",
    "    #print('popped:', start)\n",
    "    g = solve(x, start)\n",
    "    for key in g:\n",
    "        x.pop(key)\n",
    "print(counter)"
   ]
  },
  {
   "cell_type": "code",
   "execution_count": null,
   "metadata": {},
   "outputs": [],
   "source": []
  }
 ],
 "metadata": {
  "kernelspec": {
   "display_name": "Python [conda env:py36]",
   "language": "python",
   "name": "conda-env-py36-py"
  },
  "language_info": {
   "codemirror_mode": {
    "name": "ipython",
    "version": 3
   },
   "file_extension": ".py",
   "mimetype": "text/x-python",
   "name": "python",
   "nbconvert_exporter": "python",
   "pygments_lexer": "ipython3",
   "version": "3.6.1"
  }
 },
 "nbformat": 4,
 "nbformat_minor": 2
}
