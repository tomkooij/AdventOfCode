{
 "cells": [
  {
   "cell_type": "code",
   "execution_count": 9,
   "metadata": {},
   "outputs": [],
   "source": [
    "from copy import deepcopy"
   ]
  },
  {
   "cell_type": "code",
   "execution_count": 11,
   "metadata": {},
   "outputs": [
    {
     "data": {
      "text/plain": [
       "(1059, [2, 0, -1], -294)"
      ]
     },
     "execution_count": 11,
     "metadata": {},
     "output_type": "execute_result"
    }
   ],
   "source": [
    "f = open('input\\input05.txt')\n",
    "input_list = list(map(int, f.read().split()))\n",
    "len(input_list), input_list[:3], input_list[-1]"
   ]
  },
  {
   "cell_type": "markdown",
   "metadata": {},
   "source": [
    "##Part A"
   ]
  },
  {
   "cell_type": "code",
   "execution_count": 17,
   "metadata": {},
   "outputs": [
    {
     "name": "stdout",
     "output_type": "stream",
     "text": [
      "jump: 0\n",
      "0 [1, 3, 0, 1, -3]\n",
      "jump: 1\n",
      "1 [2, 3, 0, 1, -3]\n",
      "jump: 3\n",
      "4 [2, 4, 0, 1, -3]\n",
      "jump: -3\n",
      "1 [2, 4, 0, 1, -2]\n",
      "jump: 4\n",
      "5 [2, 5, 0, 1, -2]\n",
      "5 5\n"
     ]
    }
   ],
   "source": [
    "l = [0, 3, 0, 1, -3]\n",
    "ip = 0\n",
    "cnt = 0\n",
    "while ip < len(l):\n",
    "    cnt += 1\n",
    "    jump = l[ip]\n",
    "    print('jump:' , jump)\n",
    "    l[ip] += 1\n",
    "    ip += jump\n",
    "    print(ip, l)\n",
    "print(cnt, ip)"
   ]
  },
  {
   "cell_type": "code",
   "execution_count": 12,
   "metadata": {},
   "outputs": [
    {
     "name": "stdout",
     "output_type": "stream",
     "text": [
      "355965 1059\n"
     ]
    }
   ],
   "source": [
    "l = deepcopy(input_list)\n",
    "ip = 0\n",
    "cnt = 0\n",
    "while ip < len(l):\n",
    "    cnt += 1\n",
    "    jump = l[ip]\n",
    "    l[ip] = jump+1\n",
    "    ip += jump\n",
    "    if ip < 0: \n",
    "        break\n",
    "    #print(ip, l)\n",
    "  \n",
    "print(cnt, ip)"
   ]
  },
  {
   "cell_type": "markdown",
   "metadata": {},
   "source": [
    "## Part B"
   ]
  },
  {
   "cell_type": "code",
   "execution_count": 18,
   "metadata": {},
   "outputs": [
    {
     "name": "stdout",
     "output_type": "stream",
     "text": [
      "jump: 0\n",
      "0 [1, 3, 0, 1, -3]\n",
      "jump: 1\n",
      "1 [2, 3, 0, 1, -3]\n",
      "jump: 3\n",
      "4 [2, 2, 0, 1, -3]\n",
      "jump: -3\n",
      "1 [2, 2, 0, 1, -2]\n",
      "jump: 2\n",
      "3 [2, 3, 0, 1, -2]\n",
      "jump: 1\n",
      "4 [2, 3, 0, 2, -2]\n",
      "jump: -2\n",
      "2 [2, 3, 0, 2, -1]\n",
      "jump: 0\n",
      "2 [2, 3, 1, 2, -1]\n",
      "jump: 1\n",
      "3 [2, 3, 2, 2, -1]\n",
      "jump: 2\n",
      "5 [2, 3, 2, 3, -1]\n",
      "10 5\n"
     ]
    }
   ],
   "source": [
    "l = [0, 3, 0, 1, -3]\n",
    "ip = 0\n",
    "cnt = 0\n",
    "while ip < len(l):\n",
    "    cnt += 1\n",
    "    jump = l[ip]\n",
    "    print('jump:' , jump)\n",
    "    if jump >= 3:\n",
    "        l[ip] -= 1\n",
    "    else:\n",
    "        l[ip] += 1\n",
    "    ip += jump\n",
    "    print(ip, l)\n",
    "print(cnt, ip)"
   ]
  },
  {
   "cell_type": "code",
   "execution_count": 19,
   "metadata": {},
   "outputs": [
    {
     "name": "stdout",
     "output_type": "stream",
     "text": [
      "..................................................5000000\n",
      "..................................................10000000\n",
      "..................................................15000000\n",
      "..................................................20000000\n",
      "..................................................25000000\n",
      "...................26948068 1059 3\n"
     ]
    }
   ],
   "source": [
    "l = deepcopy(input_list)\n",
    "ip = 0\n",
    "cnt = 0\n",
    "while ip < len(l):\n",
    "    cnt += 1\n",
    "    jump = l[ip]\n",
    "    if jump >= 3:\n",
    "        l[ip] -= 1\n",
    "    else:\n",
    "        l[ip] += 1\n",
    "    ip += jump\n",
    "    if not cnt % int(1e5):\n",
    "        print('.', end='')\n",
    "    if not cnt % int(5e6):\n",
    "        print(cnt)\n",
    "print(cnt, ip, jump)"
   ]
  },
  {
   "cell_type": "code",
   "execution_count": null,
   "metadata": {},
   "outputs": [],
   "source": []
  },
  {
   "cell_type": "code",
   "execution_count": null,
   "metadata": {},
   "outputs": [],
   "source": []
  },
  {
   "cell_type": "code",
   "execution_count": null,
   "metadata": {},
   "outputs": [],
   "source": []
  }
 ],
 "metadata": {
  "kernelspec": {
   "display_name": "Python 3",
   "language": "python",
   "name": "python3"
  },
  "language_info": {
   "codemirror_mode": {
    "name": "ipython",
    "version": 3
   },
   "file_extension": ".py",
   "mimetype": "text/x-python",
   "name": "python",
   "nbconvert_exporter": "python",
   "pygments_lexer": "ipython3",
   "version": "3.6.3"
  }
 },
 "nbformat": 4,
 "nbformat_minor": 2
}
