{
 "cells": [
  {
   "cell_type": "code",
   "execution_count": 1,
   "metadata": {
    "collapsed": true
   },
   "outputs": [],
   "source": [
    "rule = \".#./..#/###\""
   ]
  },
  {
   "cell_type": "code",
   "execution_count": 2,
   "metadata": {
    "collapsed": true
   },
   "outputs": [],
   "source": [
    "def pp(pattern):\n",
    "    for row in pattern:\n",
    "        print(row)"
   ]
  },
  {
   "cell_type": "code",
   "execution_count": 3,
   "metadata": {},
   "outputs": [
    {
     "name": "stdout",
     "output_type": "stream",
     "text": [
      ".#.\n",
      "..#\n",
      "###\n"
     ]
    }
   ],
   "source": [
    "pattern = rule.split('/')\n",
    "pp(pattern)"
   ]
  },
  {
   "cell_type": "code",
   "execution_count": 4,
   "metadata": {},
   "outputs": [
    {
     "name": "stdout",
     "output_type": "stream",
     "text": [
      ".#.\n",
      "#..\n",
      "###\n"
     ]
    }
   ],
   "source": [
    "def mirror(pattern):\n",
    "    \"\"\"mirror pattern\"\"\"\n",
    "    return [row[::-1] for row in pattern]\n",
    "\n",
    "pp(mirror(pattern))"
   ]
  },
  {
   "cell_type": "code",
   "execution_count": 5,
   "metadata": {},
   "outputs": [
    {
     "name": "stdout",
     "output_type": "stream",
     "text": [
      "#..\n",
      "#.#\n",
      "##.\n"
     ]
    }
   ],
   "source": [
    "def rotate(pattern):\n",
    "    \"\"\"rotate 90 deg CW\"\"\"\n",
    "    return [''.join(row) for row in zip(*pattern[::-1])]\n",
    "\n",
    "pp(rotate(pattern))"
   ]
  },
  {
   "cell_type": "code",
   "execution_count": 6,
   "metadata": {},
   "outputs": [],
   "source": [
    "def combinations(p):\n",
    "    \"\"\"yield all combinations\n",
    "    3 rotations and 3 rotations + mirror\n",
    "\n",
    "    \"\"\"\n",
    "    for _ in range(4):\n",
    "        yield p\n",
    "        yield mirror(p)\n",
    "        p = rotate(p)\n",
    "    "
   ]
  },
  {
   "cell_type": "code",
   "execution_count": 7,
   "metadata": {},
   "outputs": [
    {
     "name": "stdout",
     "output_type": "stream",
     "text": [
      ".#.\n",
      "..#\n",
      "###\n",
      "\n",
      ".#.\n",
      "#..\n",
      "###\n",
      "\n",
      "#..\n",
      "#.#\n",
      "##.\n",
      "\n",
      "..#\n",
      "#.#\n",
      ".##\n",
      "\n",
      "###\n",
      "#..\n",
      ".#.\n",
      "\n",
      "###\n",
      "..#\n",
      ".#.\n",
      "\n",
      ".##\n",
      "#.#\n",
      "..#\n",
      "\n",
      "##.\n",
      "#.#\n",
      "#..\n",
      "\n"
     ]
    }
   ],
   "source": [
    "# check combinations\n",
    "uniq = set()\n",
    "for i, p in enumerate(combinations(pattern), 1):\n",
    "    pp(p)\n",
    "    print()\n",
    "    uniq.add(str(p))\n",
    "    assert i == len(uniq)\n",
    "assert len(uniq) == 8"
   ]
  },
  {
   "cell_type": "code",
   "execution_count": 8,
   "metadata": {},
   "outputs": [
    {
     "data": {
      "text/plain": [
       "[['../..', '..#/#../.#.'], ['#./..', '#../#../...'], ['##/..', '###/#.#/#..']]"
      ]
     },
     "execution_count": 8,
     "metadata": {},
     "output_type": "execute_result"
    }
   ],
   "source": [
    "#book = ['../.# => ##./#../...', '.#./..#/### => #..#/..../..../#..#']\n",
    "f = open('input\\input21.txt')\n",
    "book = f.readlines()\n",
    "rules = [rule.strip().split(' => ') for rule in book]\n",
    "rules[:3]"
   ]
  },
  {
   "cell_type": "code",
   "execution_count": 9,
   "metadata": {},
   "outputs": [
    {
     "name": "stdout",
     "output_type": "stream",
     "text": [
      "../..  -->  ['..#', '#..', '.#.']\n",
      "#./..  -->  ['#..', '#..', '...']\n",
      "##/..  -->  ['###', '#.#', '#..']\n",
      ".#/#.  -->  ['###', '##.', '.#.']\n",
      "##/#.  -->  ['...', '.#.', '..#']\n",
      "##/##  -->  ['##.', '#.#', '###']\n",
      ".../.../...  -->  ['##..', '.#..', '#.#.', '....']\n",
      "#../.../...  -->  ['....', '##.#', '...#', '##.#']\n",
      ".#./.../...  -->  ['###.', '####', '#...', '#..#']\n",
      "##./.../...  -->  ['###.', '.##.', '...#', '..##']\n",
      "#.#/.../...  -->  ['.###', '.##.', '#...', '#.##']\n",
      "###/.../...  -->  ['##.#', '#..#', '#.#.', '#.##']\n",
      ".#./#../...  -->  ['#.#.', '.###', '#...', '#.##']\n",
      "##./#../...  -->  ['#...', '####', '#.##', '....']\n",
      "..#/#../...  -->  ['#.##', '..#.', '...#', '...#']\n",
      "#.#/#../...  -->  ['#.##', '####', '.#.#', '#.#.']\n",
      ".##/#../...  -->  ['#...', '##..', '##.#', '.##.']\n",
      "###/#../...  -->  ['....', '#.#.', '.###', '#...']\n",
      ".../.#./...  -->  ['.#.#', '#..#', '##..', '#.##']\n",
      "#../.#./...  -->  ['###.', '.###', '.#.#', '..#.']\n",
      ".#./.#./...  -->  ['..##', '.##.', '..##', '.#.#']\n",
      "##./.#./...  -->  ['..#.', '##..', '###.', '...#']\n",
      "#.#/.#./...  -->  ['..##', '.##.', '.###', '###.']\n",
      "###/.#./...  -->  ['..#.', '.###', '###.', '#.##']\n",
      ".#./##./...  -->  ['###.', '....', '.#..', '#...']\n",
      "##./##./...  -->  ['.#.#', '##..', '##.#', '...#']\n",
      "..#/##./...  -->  ['##.#', '.##.', '.###', '..##']\n",
      "#.#/##./...  -->  ['.###', '..#.', '#.##', '####']\n",
      ".##/##./...  -->  ['##.#', '..#.', '..##', '###.']\n",
      "###/##./...  -->  ['....', '.#.#', '.#..', '#...']\n",
      ".../#.#/...  -->  ['###.', '.#.#', '.#..', '#.##']\n",
      "#../#.#/...  -->  ['####', '#..#', '....', '....']\n",
      ".#./#.#/...  -->  ['#...', '..##', '#.##', '#.#.']\n",
      "##./#.#/...  -->  ['#.#.', '###.', '##..', '#.#.']\n",
      "#.#/#.#/...  -->  ['...#', '.##.', '.##.', '.#..']\n",
      "###/#.#/...  -->  ['....', '.##.', '####', '#.#.']\n",
      ".../###/...  -->  ['.###', '.#..', '.###', '#.##']\n",
      "#../###/...  -->  ['..##', '..##', '.##.', '##..']\n",
      ".#./###/...  -->  ['.#.#', '..#.', '..##', '##.#']\n",
      "##./###/...  -->  ['...#', '#.##', '#.#.', '##.#']\n",
      "#.#/###/...  -->  ['#.##', '.##.', '...#', '###.']\n",
      "###/###/...  -->  ['##..', '...#', '..##', '####']\n",
      "..#/.../#..  -->  ['#.##', '#...', '.#..', '#.#.']\n",
      "#.#/.../#..  -->  ['.##.', '.##.', '.#.#', '.##.']\n",
      ".##/.../#..  -->  ['.#.#', '#.##', '...#', '##.#']\n",
      "###/.../#..  -->  ['##..', '..#.', '...#', '##..']\n",
      ".##/#../#..  -->  ['##..', '..##', '#..#', '#..#']\n",
      "###/#../#..  -->  ['##..', '..#.', '#.#.', '....']\n",
      "..#/.#./#..  -->  ['.##.', '##.#', '##..', '####']\n",
      "#.#/.#./#..  -->  ['####', '...#', '.#.#', '..#.']\n",
      ".##/.#./#..  -->  ['.#.#', '..#.', '##.#', '.#..']\n",
      "###/.#./#..  -->  ['#...', '#.##', '....', '##.#']\n",
      ".##/##./#..  -->  ['#.#.', '#.#.', '#.##', '#.#.']\n",
      "###/##./#..  -->  ['...#', '###.', '.##.', '.#.#']\n",
      "#../..#/#..  -->  ['####', '####', '....', '.##.']\n",
      ".#./..#/#..  -->  ['#.##', '...#', '..#.', '####']\n",
      "##./..#/#..  -->  ['..#.', '#...', '..##', '####']\n",
      "#.#/..#/#..  -->  ['#...', '#.##', '#.##', '..##']\n",
      ".##/..#/#..  -->  ['####', '....', '##..', '####']\n",
      "###/..#/#..  -->  ['....', '##.#', '.##.', '####']\n",
      "#../#.#/#..  -->  ['...#', '..##', '###.', '#..#']\n",
      ".#./#.#/#..  -->  ['#..#', '..#.', '.###', '##.#']\n",
      "##./#.#/#..  -->  ['###.', '####', '#.##', '..#.']\n",
      "..#/#.#/#..  -->  ['##..', '##.#', '..##', '.##.']\n",
      "#.#/#.#/#..  -->  ['.#.#', '.##.', '#...', '##.#']\n",
      ".##/#.#/#..  -->  ['.#.#', '#..#', '.##.', '..#.']\n",
      "###/#.#/#..  -->  ['...#', '.#..', '.##.', '##.#']\n",
      "#../.##/#..  -->  ['###.', '##..', '#.#.', '####']\n",
      ".#./.##/#..  -->  ['.#..', '##..', '#.#.', '.#.#']\n",
      "##./.##/#..  -->  ['##.#', '.#..', '.#.#', '####']\n",
      "#.#/.##/#..  -->  ['####', '.#.#', '....', '....']\n",
      ".##/.##/#..  -->  ['####', '##..', '#..#', '####']\n",
      "###/.##/#..  -->  ['.###', '##.#', '.#..', '#.##']\n",
      "#../###/#..  -->  ['#..#', '###.', '####', '.#.#']\n",
      ".#./###/#..  -->  ['..##', '##..', '##.#', '.#.#']\n",
      "##./###/#..  -->  ['#..#', '.#..', '####', '...#']\n",
      "..#/###/#..  -->  ['##..', '##.#', '...#', '#..#']\n",
      "#.#/###/#..  -->  ['..#.', '.##.', '#..#', '....']\n",
      ".##/###/#..  -->  ['#..#', '#...', '....', '.#..']\n",
      "###/###/#..  -->  ['..#.', '#.##', '.##.', '#...']\n",
      ".#./#.#/.#.  -->  ['.#.#', '.##.', '##.#', '.##.']\n",
      "##./#.#/.#.  -->  ['#..#', '.###', '.#.#', '.##.']\n",
      "#.#/#.#/.#.  -->  ['#...', '##..', '#...', '.###']\n",
      "###/#.#/.#.  -->  ['###.', '.###', '###.', '....']\n",
      ".#./###/.#.  -->  ['.#..', '####', '...#', '##..']\n",
      "##./###/.#.  -->  ['####', '###.', '....', '....']\n",
      "#.#/###/.#.  -->  ['...#', '.###', '....', '####']\n",
      "###/###/.#.  -->  ['....', '#...', '..#.', '.###']\n",
      "#.#/..#/##.  -->  ['#.#.', '#...', '####', '#.##']\n",
      "###/..#/##.  -->  ['.#.#', '#..#', '.###', '#...']\n",
      ".##/#.#/##.  -->  ['..##', '..#.', '....', '##..']\n",
      "###/#.#/##.  -->  ['#.#.', '##.#', '####', '#..#']\n",
      "#.#/.##/##.  -->  ['....', '.#..', '#.#.', '##.#']\n",
      "###/.##/##.  -->  ['....', '....', '.#..', '##.#']\n",
      ".##/###/##.  -->  ['#.#.', '.###', '#.#.', '#.##']\n",
      "###/###/##.  -->  ['##.#', '##.#', '.###', '..#.']\n",
      "#.#/.../#.#  -->  ['#..#', '.#..', '#...', '...#']\n",
      "###/.../#.#  -->  ['##..', '.#..', '##.#', '..#.']\n",
      "###/#../#.#  -->  ['..##', '#.#.', '####', '.#..']\n",
      "#.#/.#./#.#  -->  ['...#', '...#', '#..#', '#.#.']\n",
      "###/.#./#.#  -->  ['....', '####', '.##.', '.#.#']\n",
      "###/##./#.#  -->  ['#..#', '.#.#', '..##', '####']\n",
      "#.#/#.#/#.#  -->  ['#.#.', '..#.', '...#', '.#..']\n",
      "###/#.#/#.#  -->  ['...#', '##.#', '.###', '.#..']\n",
      "#.#/###/#.#  -->  ['.#.#', '###.', '.#..', '.##.']\n",
      "###/###/#.#  -->  ['...#', '.###', '.#.#', '###.']\n",
      "###/#.#/###  -->  ['#.##', '.#.#', '...#', '.#..']\n",
      "###/###/###  -->  ['..##', '.#..', '#.#.', '.#..']\n"
     ]
    }
   ],
   "source": [
    "rules_dict = {}\n",
    "for src, dst in rules:\n",
    "    new_pattern = dst.split('/')\n",
    "    print(src, ' --> ', new_pattern)\n",
    "\n",
    "    for pattern in combinations(src.split('/')):\n",
    "        rules_dict[str(pattern)] = new_pattern\n"
   ]
  },
  {
   "cell_type": "code",
   "execution_count": 10,
   "metadata": {},
   "outputs": [
    {
     "data": {
      "text/plain": [
       "[(\"['..', '..']\", ['..#', '#..', '.#.']),\n",
       " (\"['#.', '..']\", ['#..', '#..', '...']),\n",
       " (\"['.#', '..']\", ['#..', '#..', '...']),\n",
       " (\"['..', '.#']\", ['#..', '#..', '...']),\n",
       " (\"['..', '#.']\", ['#..', '#..', '...'])]"
      ]
     },
     "execution_count": 10,
     "metadata": {},
     "output_type": "execute_result"
    }
   ],
   "source": [
    "list(rules_dict.items())[:5]"
   ]
  },
  {
   "cell_type": "code",
   "execution_count": 11,
   "metadata": {},
   "outputs": [],
   "source": [
    "new_pattern = rules_dict[str(pattern)]\n",
    "assert len(new_pattern) == 4"
   ]
  },
  {
   "cell_type": "code",
   "execution_count": 12,
   "metadata": {},
   "outputs": [
    {
     "name": "stdout",
     "output_type": "stream",
     "text": [
      "1#..\n",
      ".2..\n",
      ".#3.\n",
      "...4\n"
     ]
    }
   ],
   "source": [
    "p4 = ['1#..', '.2..', '.#3.', '...4']\n",
    "pp(p4)"
   ]
  },
  {
   "cell_type": "code",
   "execution_count": 13,
   "metadata": {},
   "outputs": [
    {
     "name": "stdout",
     "output_type": "stream",
     "text": [
      "1###!!\n",
      ".2..!!\n",
      ".#3#..\n",
      "...4..\n",
      "...#5.\n",
      "...##6\n"
     ]
    }
   ],
   "source": [
    "p6 = ['1###!!', '.2..!!', '.#3#..', '...4..', '...#5.', '...##6']\n",
    "pp(p6)"
   ]
  },
  {
   "cell_type": "code",
   "execution_count": 14,
   "metadata": {},
   "outputs": [
    {
     "name": "stdout",
     "output_type": "stream",
     "text": [
      "1##\n",
      ".2.\n",
      ".#3\n",
      "#!!\n",
      ".!!\n",
      "#..\n",
      "...\n",
      "...\n",
      "...\n",
      "4..\n",
      "#5.\n",
      "##6\n"
     ]
    }
   ],
   "source": [
    "# this is why numpy was invented...\n",
    "def split(p, n=3):\n",
    "    \"\"\"split array into nxn parts\"\"\"\n",
    "    for r in range(0, len(p), n):\n",
    "        for c in range(0, len(p), n):\n",
    "            yield [x[c:c+n] for x in p[r:r+n]] \n",
    "        \n",
    "for m in split(p6, 3):\n",
    "    pp(m)"
   ]
  },
  {
   "cell_type": "code",
   "execution_count": 15,
   "metadata": {},
   "outputs": [
    {
     "data": {
      "text/plain": [
       "[['1##', '.2.', '.#3'],\n",
       " ['#!!', '.!!', '#..'],\n",
       " ['...', '...', '...'],\n",
       " ['4..', '#5.', '##6']]"
      ]
     },
     "execution_count": 15,
     "metadata": {},
     "output_type": "execute_result"
    }
   ],
   "source": [
    "l = [x for x in split(p6, 3)]\n",
    "l"
   ]
  },
  {
   "cell_type": "code",
   "execution_count": 16,
   "metadata": {},
   "outputs": [
    {
     "name": "stdout",
     "output_type": "stream",
     "text": [
      "1###!!\n",
      ".2..!!\n",
      ".#3#..\n",
      "...4..\n",
      "...#5.\n",
      "...##6\n"
     ]
    }
   ],
   "source": [
    "def rejoin(l):\n",
    "    \"\"\"join list of patterns in square nxn matrix\"\"\"\n",
    "    assert len(l) == 4\n",
    "    p1, p2, p3, p4 = l\n",
    "    return [p1[0]+p2[0], p1[1]+p2[1], p1[2]+p2[2],\n",
    "            p3[0]+p4[0], p3[1]+p4[1], p3[2]+p4[2]]\n",
    "\n",
    "pp(rejoin(l))\n",
    "assert rejoin(l) == p6"
   ]
  },
  {
   "cell_type": "code",
   "execution_count": 17,
   "metadata": {},
   "outputs": [
    {
     "data": {
      "text/plain": [
       "[['##.', '#.#', '###'],\n",
       " ['...', '.#.', '..#'],\n",
       " ['#..', '#..', '...'],\n",
       " ['...', '.#.', '..#']]"
      ]
     },
     "execution_count": 17,
     "metadata": {},
     "output_type": "execute_result"
    }
   ],
   "source": [
    "import functools\n",
    "\n",
    "def memoize(obj):\n",
    "    cache = obj.cache = {}\n",
    "\n",
    "    @functools.wraps(obj)\n",
    "    def memoizer(*args, **kwargs):\n",
    "        key = str(args) + str(kwargs)\n",
    "        if key not in cache:\n",
    "            cache[key] = obj(*args, **kwargs)\n",
    "        return cache[key]\n",
    "    return memoizer\n",
    "\n",
    "@memoize\n",
    "def expand3x3(pattern, n=3):\n",
    "    \"\"\"expand a single 3x3 tile into 9 3x3 tiles\"\"\"\n",
    "    \n",
    "    if n==1:\n",
    "        assert False  # Not Implemented\n",
    "        \n",
    "    assert len(pattern) == 3\n",
    "    \n",
    "    # step 1 evenly divisible by 3:\n",
    "    p4 = rules_dict[str(pattern)]\n",
    "    assert len(p4) == 4\n",
    "    \n",
    "    # step 2 evenly divisible by 2: break into 2x2 and expand to 3x3\n",
    "    p6 = [rules_dict[str(x)] for x in split(p4, 2)]\n",
    "    assert len(p6) == 4\n",
    "    assert len(p6[0]) == 3\n",
    "   \n",
    "    if n == 2:\n",
    "        return p6\n",
    "    \n",
    "    # step 3 evenly divisible by 2: rejoin to 6x6, break into 3x3:\n",
    "    p9 = rejoin(p6)\n",
    "    return [rules_dict[str(x)] for x in split(p9, 2)]\n",
    "\n",
    "expand3x3(rule.split('/'), n=2)\n",
    "    "
   ]
  },
  {
   "cell_type": "code",
   "execution_count": 18,
   "metadata": {
    "scrolled": true
   },
   "outputs": [
    {
     "name": "stdout",
     "output_type": "stream",
     "text": [
      "iteration:  0   9\n"
     ]
    },
    {
     "data": {
      "text/plain": [
       "[['...', '.#.', '..#'],\n",
       " ['...', '.#.', '..#'],\n",
       " ['#..', '#..', '...'],\n",
       " ['###', '##.', '.#.'],\n",
       " ['...', '.#.', '..#'],\n",
       " ['###', '#.#', '#..'],\n",
       " ['..#', '#..', '.#.'],\n",
       " ['...', '.#.', '..#'],\n",
       " ['...', '.#.', '..#'],\n",
       " ['###', '#.#', '#..'],\n",
       " ['..#', '#..', '.#.'],\n",
       " ['...', '.#.', '..#'],\n",
       " ['...', '.#.', '..#'],\n",
       " ['...', '.#.', '..#'],\n",
       " ['#..', '#..', '...'],\n",
       " ['###', '##.', '.#.'],\n",
       " ['...', '.#.', '..#'],\n",
       " ['###', '#.#', '#..'],\n",
       " ['..#', '#..', '.#.'],\n",
       " ['...', '.#.', '..#'],\n",
       " ['...', '.#.', '..#'],\n",
       " ['###', '#.#', '#..'],\n",
       " ['..#', '#..', '.#.'],\n",
       " ['...', '.#.', '..#'],\n",
       " ['...', '.#.', '..#'],\n",
       " ['###', '#.#', '#..'],\n",
       " ['..#', '#..', '.#.'],\n",
       " ['...', '.#.', '..#'],\n",
       " ['#..', '#..', '...'],\n",
       " ['...', '.#.', '..#'],\n",
       " ['###', '#.#', '#..'],\n",
       " ['...', '.#.', '..#'],\n",
       " ['###', '##.', '.#.'],\n",
       " ['#..', '#..', '...'],\n",
       " ['###', '#.#', '#..'],\n",
       " ['...', '.#.', '..#']]"
      ]
     },
     "execution_count": 18,
     "metadata": {},
     "output_type": "execute_result"
    }
   ],
   "source": [
    "def solve(n=5):\n",
    "    start = \".#./..#/###\".split('/')\n",
    "    queue = [start]\n",
    "    for _ in range(n//3):\n",
    "        next_queue = []\n",
    "        for tile in queue:\n",
    "            next_queue.extend(expand3x3(tile))\n",
    "        print('iteration: ', _ ,' ', len(next_queue))\n",
    "        queue = next_queue\n",
    "        \n",
    "    # remainder of iterations:\n",
    "    if n % 3:\n",
    "        next_queue = []\n",
    "        for tile in queue:\n",
    "            next_queue.extend(expand3x3(tile, n=(n % 3))) \n",
    "    \n",
    "    return next_queue\n",
    "\n",
    "solve(n=5)\n",
    "    "
   ]
  },
  {
   "cell_type": "code",
   "execution_count": 20,
   "metadata": {
    "collapsed": true
   },
   "outputs": [],
   "source": [
    "# part A"
   ]
  },
  {
   "cell_type": "code",
   "execution_count": 21,
   "metadata": {},
   "outputs": [
    {
     "name": "stdout",
     "output_type": "stream",
     "text": [
      "iteration:  0   9\n"
     ]
    }
   ],
   "source": [
    "result = solve(n=5)"
   ]
  },
  {
   "cell_type": "code",
   "execution_count": 22,
   "metadata": {},
   "outputs": [
    {
     "data": {
      "text/plain": [
       "117"
      ]
     },
     "execution_count": 22,
     "metadata": {},
     "output_type": "execute_result"
    }
   ],
   "source": [
    "n = 0\n",
    "for tile in result:\n",
    "    for row in tile:\n",
    "        n += row.count('#')\n",
    "n"
   ]
  },
  {
   "cell_type": "code",
   "execution_count": 23,
   "metadata": {
    "collapsed": true
   },
   "outputs": [],
   "source": [
    "#part B"
   ]
  },
  {
   "cell_type": "code",
   "execution_count": 24,
   "metadata": {},
   "outputs": [
    {
     "name": "stdout",
     "output_type": "stream",
     "text": [
      "iteration:  0   9\n",
      "iteration:  1   81\n",
      "iteration:  2   729\n",
      "iteration:  3   6561\n",
      "iteration:  4   59049\n",
      "iteration:  5   531441\n"
     ]
    }
   ],
   "source": [
    "result = solve(n=18)"
   ]
  },
  {
   "cell_type": "code",
   "execution_count": 25,
   "metadata": {},
   "outputs": [
    {
     "data": {
      "text/plain": [
       "2026963"
      ]
     },
     "execution_count": 25,
     "metadata": {},
     "output_type": "execute_result"
    }
   ],
   "source": [
    "n = 0\n",
    "for tile in result:\n",
    "    for row in tile:\n",
    "        n += row.count('#')\n",
    "n"
   ]
  },
  {
   "cell_type": "code",
   "execution_count": null,
   "metadata": {
    "collapsed": true
   },
   "outputs": [],
   "source": []
  },
  {
   "cell_type": "code",
   "execution_count": null,
   "metadata": {
    "collapsed": true
   },
   "outputs": [],
   "source": []
  }
 ],
 "metadata": {
  "anaconda-cloud": {},
  "kernelspec": {
   "display_name": "Python [conda env:py36]",
   "language": "python",
   "name": "conda-env-py36-py"
  },
  "language_info": {
   "codemirror_mode": {
    "name": "ipython",
    "version": 3
   },
   "file_extension": ".py",
   "mimetype": "text/x-python",
   "name": "python",
   "nbconvert_exporter": "python",
   "pygments_lexer": "ipython3",
   "version": "3.6.1"
  }
 },
 "nbformat": 4,
 "nbformat_minor": 1
}
