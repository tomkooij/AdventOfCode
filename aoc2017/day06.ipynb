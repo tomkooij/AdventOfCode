{
 "cells": [
  {
   "cell_type": "code",
   "execution_count": 1,
   "metadata": {},
   "outputs": [
    {
     "data": {
      "text/plain": [
       "[0, 5, 10, 0, 11, 14, 13, 4, 11, 8, 8, 7, 1, 4, 12, 11]"
      ]
     },
     "execution_count": 1,
     "metadata": {},
     "output_type": "execute_result"
    }
   ],
   "source": [
    "f = open('input\\input06.txt')\n",
    "l = list(map(int, f.read().split()))\n",
    "l"
   ]
  },
  {
   "cell_type": "code",
   "execution_count": 2,
   "metadata": {},
   "outputs": [],
   "source": [
    "tst = [0, 2, 7, 0]"
   ]
  },
  {
   "cell_type": "code",
   "execution_count": 3,
   "metadata": {},
   "outputs": [
    {
     "name": "stdout",
     "output_type": "stream",
     "text": [
      "7864\n"
     ]
    }
   ],
   "source": [
    "states = set()\n",
    "x = l[:]\n",
    "for _ in range(10000):\n",
    "    i = x.index(max(x))\n",
    "    n = x[i]\n",
    "    x[i] = 0\n",
    "    while n:\n",
    "        i += 1\n",
    "        try:\n",
    "            x[i] += 1\n",
    "        except IndexError:\n",
    "            x[0] += 1\n",
    "            i = 0\n",
    "        n -= 1\n",
    "    if str(x) in states:\n",
    "        break\n",
    "    states.add(str(x))\n",
    "    #print(x, states)\n",
    "print(len(states)+1)\n",
    "  "
   ]
  },
  {
   "cell_type": "markdown",
   "metadata": {},
   "source": [
    "##PartB"
   ]
  },
  {
   "cell_type": "code",
   "execution_count": 4,
   "metadata": {},
   "outputs": [
    {
     "data": {
      "text/plain": [
       "[10, 9, 8, 7, 6, 5, 4, 3, 1, 1, 0, 15, 14, 13, 11, 12]"
      ]
     },
     "execution_count": 4,
     "metadata": {},
     "output_type": "execute_result"
    }
   ],
   "source": [
    "double = x[:]\n",
    "double"
   ]
  },
  {
   "cell_type": "code",
   "execution_count": 5,
   "metadata": {},
   "outputs": [
    {
     "name": "stdout",
     "output_type": "stream",
     "text": [
      "1695\n"
     ]
    }
   ],
   "source": [
    "states = set()\n",
    "x = double[:]\n",
    "for _ in range(10000):\n",
    "    i = x.index(max(x))\n",
    "    n = x[i]\n",
    "    x[i] = 0\n",
    "    while n:\n",
    "        i += 1\n",
    "        try:\n",
    "            x[i] += 1\n",
    "        except IndexError:\n",
    "            x[0] += 1\n",
    "            i = 0\n",
    "        n -= 1\n",
    "    if str(x) in states:\n",
    "        break\n",
    "    states.add(str(x))\n",
    "    #print(x, states)\n",
    "print(len(states))"
   ]
  },
  {
   "cell_type": "code",
   "execution_count": null,
   "metadata": {},
   "outputs": [],
   "source": []
  }
 ],
 "metadata": {
  "kernelspec": {
   "display_name": "Python [conda env:py36]",
   "language": "python",
   "name": "conda-env-py36-py"
  },
  "language_info": {
   "codemirror_mode": {
    "name": "ipython",
    "version": 3
   },
   "file_extension": ".py",
   "mimetype": "text/x-python",
   "name": "python",
   "nbconvert_exporter": "python",
   "pygments_lexer": "ipython3",
   "version": "3.6.1"
  }
 },
 "nbformat": 4,
 "nbformat_minor": 2
}
