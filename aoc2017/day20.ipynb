{
 "cells": [
  {
   "cell_type": "code",
   "execution_count": 1,
   "metadata": {
    "collapsed": true
   },
   "outputs": [],
   "source": [
    "import re"
   ]
  },
  {
   "cell_type": "code",
   "execution_count": 2,
   "metadata": {
    "collapsed": false
   },
   "outputs": [
    {
     "data": {
      "text/plain": [
       "['p=<1609,-863,-779>, v=<-15,54,-69>, a=<-10,0,14>\\n',\n",
       " 'p=<-391,1353,-387>, v=<-94,-42,0>, a=<14,-5,3>\\n',\n",
       " 'p=<3329,-143,333>, v=<-29,9,-45>, a=<-21,0,3>\\n']"
      ]
     },
     "execution_count": 2,
     "metadata": {},
     "output_type": "execute_result"
    }
   ],
   "source": [
    "f = open('input\\input20.txt')\n",
    "particles = f.readlines()\n",
    "particles[:3]"
   ]
  },
  {
   "cell_type": "code",
   "execution_count": 3,
   "metadata": {
    "collapsed": false
   },
   "outputs": [],
   "source": [
    "class Particle(object):\n",
    "    \n",
    "    def __init__(self, inputstr):\n",
    "        \"\"\"inputstr = 'p=<3329,-143,333>, v=<-29,9,-45>, a=<-21,0,3>'\"\"\"\n",
    "        x, v, a = [tuple(map(int, re.findall(r'[-\\d]+', x))) for x in inputstr.split()]\n",
    "        self.x, self.y, self.z = x\n",
    "        self.vx, self.vy, self.vz = v\n",
    "        self.ax, self.ay, self.az = a\n",
    "    \n",
    "    def move(self):\n",
    "        self.vx += self.ax\n",
    "        self.vy += self.ay\n",
    "        self.vz += self.az\n",
    "        self.x += self.vx\n",
    "        self.y += self.vy\n",
    "        self.z += self.vz\n",
    "    \n",
    "    def position(self):\n",
    "        return self.x, self.y, self.z\n",
    "    \n",
    "    def estimate_position(self, t):\n",
    "        \"\"\"x = x + vt + 1/2at^2\"\"\"\n",
    "        x = self.x + self.vx * t + (self.ax * t ** 2) // 2  \n",
    "        y = self.y + self.vy * t + (self.ay * t ** 2) // 2\n",
    "        z = self.z + self.vz * t + (self.az * t ** 2) // 2\n",
    "        return x, y, z\n",
    "    \n",
    "    def manhattan_distance(self, t):\n",
    "        x, y, z = self.estimate_position(t)\n",
    "        return abs(x) + abs(y) + abs(z)"
   ]
  },
  {
   "cell_type": "code",
   "execution_count": 4,
   "metadata": {
    "collapsed": false
   },
   "outputs": [],
   "source": [
    "inputstr = 'p=<3329,-143,333>, v=<-29,9,-45>, a=<-21,0,3>'\n",
    "p_test = Particle(inputstr)"
   ]
  },
  {
   "cell_type": "code",
   "execution_count": 5,
   "metadata": {
    "collapsed": false
   },
   "outputs": [
    {
     "data": {
      "text/plain": [
       "(3329, -143, 333)"
      ]
     },
     "execution_count": 5,
     "metadata": {},
     "output_type": "execute_result"
    }
   ],
   "source": [
    "p_test.position()"
   ]
  },
  {
   "cell_type": "code",
   "execution_count": 6,
   "metadata": {
    "collapsed": false
   },
   "outputs": [
    {
     "data": {
      "text/plain": [
       "(3279, -134, 291)"
      ]
     },
     "execution_count": 6,
     "metadata": {},
     "output_type": "execute_result"
    }
   ],
   "source": [
    "p_test.move()\n",
    "p_test.position()"
   ]
  },
  {
   "cell_type": "code",
   "execution_count": 7,
   "metadata": {
    "collapsed": false
   },
   "outputs": [],
   "source": [
    "p = [Particle(p) for p in particles] "
   ]
  },
  {
   "cell_type": "code",
   "execution_count": 8,
   "metadata": {
    "collapsed": false
   },
   "outputs": [
    {
     "data": {
      "text/plain": [
       "384697"
      ]
     },
     "execution_count": 8,
     "metadata": {},
     "output_type": "execute_result"
    }
   ],
   "source": [
    "p[91].manhattan_distance(1000)"
   ]
  },
  {
   "cell_type": "code",
   "execution_count": 9,
   "metadata": {
    "collapsed": true
   },
   "outputs": [],
   "source": [
    "d = [x.manhattan_distance(1000) for x in p]"
   ]
  },
  {
   "cell_type": "code",
   "execution_count": 10,
   "metadata": {
    "collapsed": false
   },
   "outputs": [
    {
     "data": {
      "text/plain": [
       "384697"
      ]
     },
     "execution_count": 10,
     "metadata": {},
     "output_type": "execute_result"
    }
   ],
   "source": [
    "min(d)"
   ]
  },
  {
   "cell_type": "code",
   "execution_count": 11,
   "metadata": {
    "collapsed": false
   },
   "outputs": [
    {
     "data": {
      "text/plain": [
       "91"
      ]
     },
     "execution_count": 11,
     "metadata": {},
     "output_type": "execute_result"
    }
   ],
   "source": [
    "d.index(min(d))"
   ]
  },
  {
   "cell_type": "code",
   "execution_count": 12,
   "metadata": {
    "collapsed": true
   },
   "outputs": [],
   "source": [
    "# Part B\n",
    "from collections import defaultdict"
   ]
  },
  {
   "cell_type": "code",
   "execution_count": 19,
   "metadata": {
    "collapsed": false
   },
   "outputs": [],
   "source": [
    "f = open('input\\input20.txt')\n",
    "particles = f.readlines()\n",
    "particles = [Particle(p) for p in particles] \n",
    "\n",
    "for t in range(100):\n",
    "    n = defaultdict(int)\n",
    "\n",
    "    for particle in particles:\n",
    "        particle.move()\n",
    "        n[particle.position()] += 1\n",
    "                  \n",
    "    particles = [p for p in particles if n[p.position()] == 1]"
   ]
  },
  {
   "cell_type": "code",
   "execution_count": 20,
   "metadata": {
    "collapsed": false
   },
   "outputs": [
    {
     "data": {
      "text/plain": [
       "567"
      ]
     },
     "execution_count": 20,
     "metadata": {},
     "output_type": "execute_result"
    }
   ],
   "source": [
    "len(particles)"
   ]
  },
  {
   "cell_type": "code",
   "execution_count": null,
   "metadata": {
    "collapsed": true
   },
   "outputs": [],
   "source": []
  },
  {
   "cell_type": "code",
   "execution_count": null,
   "metadata": {
    "collapsed": true
   },
   "outputs": [],
   "source": []
  },
  {
   "cell_type": "code",
   "execution_count": null,
   "metadata": {
    "collapsed": true
   },
   "outputs": [],
   "source": []
  }
 ],
 "metadata": {
  "anaconda-cloud": {},
  "kernelspec": {
   "display_name": "Python [conda env:py36]",
   "language": "python",
   "name": "conda-env-py36-py"
  },
  "language_info": {
   "codemirror_mode": {
    "name": "ipython",
    "version": 3
   },
   "file_extension": ".py",
   "mimetype": "text/x-python",
   "name": "python",
   "nbconvert_exporter": "python",
   "pygments_lexer": "ipython3",
   "version": "3.6.1"
  }
 },
 "nbformat": 4,
 "nbformat_minor": 2
}
