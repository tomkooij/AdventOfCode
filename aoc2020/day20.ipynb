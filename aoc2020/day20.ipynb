{
 "cells": [
  {
   "cell_type": "code",
   "execution_count": 1,
   "metadata": {},
   "outputs": [],
   "source": [
    "import re\n",
    "\n",
    "from itertools import cycle, combinations, permutations, tee\n",
    "from collections import Counter, defaultdict, deque\n",
    "from io import StringIO\n",
    "\n",
    "def pairwise(iterable):\n",
    "    \"s -> (s0,s1), (s1,s2), (s2, s3), ...\"\n",
    "    a, b = tee(iterable)\n",
    "    next(b, None)\n",
    "    return zip(a, b)\n",
    "\n",
    "def read_input(day, fn=str.strip):\n",
    "    \"\"\"//\n",
    "    Return a list of the input lines mapped by fn\n",
    "    \n",
    "    example: \n",
    "    >>> read_input('01', int)  # read input file, map all lines to int\n",
    "    \n",
    "    Inspired by Peter Norvig: https://github.com/norvig/pytudes\n",
    "    \n",
    "    \"\"\"\n",
    "    return list(map(fn, open(f'input\\{day}.txt')))\n",
    "\n",
    "def all_integers(s):\n",
    "    \"\"\"return all integers from a string\"\"\"\n",
    "    return tuple(map(int, re.findall(r'-?\\d+', s)))"
   ]
  },
  {
   "cell_type": "markdown",
   "metadata": {},
   "source": [
    "# Day 20"
   ]
  },
  {
   "cell_type": "code",
   "execution_count": 7,
   "metadata": {},
   "outputs": [
    {
     "data": {
      "text/plain": [
       "'Tile 2311:\\n..##.#..#.\\n##..#...'"
      ]
     },
     "execution_count": 7,
     "metadata": {},
     "output_type": "execute_result"
    }
   ],
   "source": [
    "testcase = open('input\\\\20-test.txt').read()\n",
    "testcase[:30]"
   ]
  },
  {
   "cell_type": "code",
   "execution_count": 23,
   "metadata": {},
   "outputs": [],
   "source": [
    "testtile = \"\"\"..##.#..#.\n",
    "##..#.....\n",
    "#...##..#.\n",
    "####.#...#\n",
    "##.##.###.\n",
    "##...#.###\n",
    ".#.#.#..##\n",
    "..#....#..\n",
    "###...#.#.\n",
    "..###..###\"\"\"\n",
    "\n",
    "testtile = testtile.split('\\n')"
   ]
  },
  {
   "cell_type": "code",
   "execution_count": 51,
   "metadata": {},
   "outputs": [
    {
     "data": {
      "text/plain": [
       "('..##.#..#.',\n",
       " '.#..#.##..',\n",
       " '..###..###',\n",
       " '###..###..',\n",
       " '...#.##..#',\n",
       " '#..##.#...',\n",
       " '.#####..#.',\n",
       " '.#..#####.')"
      ]
     },
     "execution_count": 51,
     "metadata": {},
     "output_type": "execute_result"
    }
   ],
   "source": [
    "def get_edges(tile):\n",
    "    \"\"\"return the edges (and reversed egdes) of tile\"\"\"\n",
    "    left_side = ''.join(l[0] for l in tile)\n",
    "    right_side = ''.join(l[-1] for l in tile)\n",
    "                        \n",
    "    return (tile[0], tile[0][::-1], tile[-1],tile[-1][::-1],\n",
    "            right_side, right_side[::-1], left_side, left_side[::-1])\n",
    "\n",
    "get_edges(testtile)"
   ]
  },
  {
   "cell_type": "code",
   "execution_count": 78,
   "metadata": {},
   "outputs": [],
   "source": [
    "def parse_tiles(l):\n",
    "    tiles = {}\n",
    "    edges = defaultdict(set)\n",
    "    \n",
    "    for tile in l.split('\\n\\n'):\n",
    "        header, *tile = tile.split('\\n')\n",
    "        assert header[:4] == 'Tile'\n",
    "        tile_id = int(re.findall(r'-?\\d+', header)[0])\n",
    "        tiles[tile_id] = tile\n",
    "        for edge in get_edges(tile):\n",
    "            edges[edge].add(tile_id)\n",
    "        \n",
    "    return tiles, edges\n",
    "\n",
    "tiles, edge_dict = parse_tiles(testcase)\n",
    "#parse_tiles(testcase)"
   ]
  },
  {
   "cell_type": "code",
   "execution_count": 79,
   "metadata": {},
   "outputs": [
    {
     "data": {
      "text/plain": [
       "defaultdict(set,\n",
       "            {2311: {1427, 1951, 3079},\n",
       "             1951: {2311, 2729},\n",
       "             1171: {1489, 2473},\n",
       "             1427: {1489, 2311, 2473, 2729},\n",
       "             1489: {1171, 1427, 2971},\n",
       "             2473: {1171, 1427, 3079},\n",
       "             2971: {1489, 2729},\n",
       "             2729: {1427, 1951, 2971},\n",
       "             3079: {2311, 2473}})"
      ]
     },
     "execution_count": 79,
     "metadata": {},
     "output_type": "execute_result"
    }
   ],
   "source": [
    "def find_neighbours(tiles, edge_dict):\n",
    "    tree = defaultdict(set)\n",
    "    for tile_id, tile in tiles.items():\n",
    "        for edge in get_edges(tile):\n",
    "            for other_tile_id in edge_dict[edge]:\n",
    "                if other_tile_id == tile_id:\n",
    "                    continue\n",
    "                else: \n",
    "                    tree[tile_id].add(other_tile_id)\n",
    "    return tree\n",
    "\n",
    "find_neighbours(tiles, edge_dict)"
   ]
  },
  {
   "cell_type": "code",
   "execution_count": 80,
   "metadata": {},
   "outputs": [
    {
     "data": {
      "text/plain": [
       "20899048083289"
      ]
     },
     "execution_count": 80,
     "metadata": {},
     "output_type": "execute_result"
    }
   ],
   "source": [
    "def partA(l):\n",
    "    tiles, edge_dict = parse_tiles(l)\n",
    "    edges = find_neighbours(tiles, edge_dict)\n",
    "    corners = [t for t, edges in edges.items() if len(edges) == 2]\n",
    "    res = 1\n",
    "    for tile_id in corners:\n",
    "        res *= tile_id\n",
    "    return res\n",
    "\n",
    "partA(testcase)"
   ]
  },
  {
   "cell_type": "code",
   "execution_count": 81,
   "metadata": {},
   "outputs": [
    {
     "data": {
      "text/plain": [
       "66020135789767"
      ]
     },
     "execution_count": 81,
     "metadata": {},
     "output_type": "execute_result"
    }
   ],
   "source": [
    "inp = open('input\\\\20.txt').read()\n",
    "partA(inp)"
   ]
  },
  {
   "cell_type": "markdown",
   "metadata": {},
   "source": [
    "# part B"
   ]
  },
  {
   "cell_type": "code",
   "execution_count": null,
   "metadata": {},
   "outputs": [],
   "source": []
  }
 ],
 "metadata": {
  "kernelspec": {
   "display_name": "Python 3",
   "language": "python",
   "name": "python3"
  },
  "language_info": {
   "codemirror_mode": {
    "name": "ipython",
    "version": 3
   },
   "file_extension": ".py",
   "mimetype": "text/x-python",
   "name": "python",
   "nbconvert_exporter": "python",
   "pygments_lexer": "ipython3",
   "version": "3.8.1"
  }
 },
 "nbformat": 4,
 "nbformat_minor": 4
}
