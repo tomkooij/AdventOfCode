{
 "cells": [
  {
   "cell_type": "code",
   "execution_count": 26,
   "metadata": {},
   "outputs": [],
   "source": [
    "import re\n",
    "\n",
    "from itertools import cycle, combinations, permutations, tee\n",
    "from collections import Counter, defaultdict, deque\n",
    "from io import StringIO\n",
    "from functools import reduce\n",
    "from pprint import pprint\n",
    "\n",
    "def pairwise(iterable):\n",
    "    \"s -> (s0,s1), (s1,s2), (s2, s3), ...\"\n",
    "    a, b = tee(iterable)\n",
    "    next(b, None)\n",
    "    return zip(a, b)\n",
    "\n",
    "def read_input(day, fn=str.strip):\n",
    "    \"\"\"//\n",
    "    Return a list of the input lines mapped by fn\n",
    "    \n",
    "    example: \n",
    "    >>> read_input('01', int)  # read input file, map all lines to int\n",
    "    \n",
    "    Inspired by Peter Norvig: https://github.com/norvig/pytudes\n",
    "    \n",
    "    \"\"\"\n",
    "    return list(map(fn, open(f'input\\{day}.txt')))\n",
    "\n",
    "def all_integers(s):\n",
    "    \"\"\"return all integers from a string\"\"\"\n",
    "    return tuple(map(int, re.findall(r'-?\\d+', s)))"
   ]
  },
  {
   "cell_type": "markdown",
   "metadata": {},
   "source": [
    "# Day 20"
   ]
  },
  {
   "cell_type": "code",
   "execution_count": 2,
   "metadata": {},
   "outputs": [
    {
     "data": {
      "text/plain": [
       "'Tile 2311:\\n..##.#..#.\\n##..#...'"
      ]
     },
     "execution_count": 2,
     "metadata": {},
     "output_type": "execute_result"
    }
   ],
   "source": [
    "testcase = open('input\\\\20-test.txt').read()\n",
    "testcase[:30]"
   ]
  },
  {
   "cell_type": "code",
   "execution_count": 189,
   "metadata": {},
   "outputs": [
    {
     "data": {
      "text/plain": [
       "['..#', '*.#', '#.#']"
      ]
     },
     "execution_count": 189,
     "metadata": {},
     "output_type": "execute_result"
    }
   ],
   "source": [
    "testtile = \"\"\"..#\n",
    "*.#\n",
    "#.#\"\"\"\n",
    "\n",
    "testtile = testtile.split('\\n')\n",
    "testtile"
   ]
  },
  {
   "cell_type": "code",
   "execution_count": 23,
   "metadata": {},
   "outputs": [
    {
     "data": {
      "text/plain": [
       "('..#', '#.#', '.*#', '###')"
      ]
     },
     "execution_count": 23,
     "metadata": {},
     "output_type": "execute_result"
    }
   ],
   "source": [
    "def top_side(tile): return tile[0]\n",
    "def bottom_side(tile): return tile[-1]\n",
    "def left_side(tile): return ''.join(l[0] for l in tile)\n",
    "def right_side(tile): return ''.join(l[-1] for l in tile)\n",
    "\n",
    "top_side(testtile), bottom_side(testtile), left_side(testtile), right_side(testtile)"
   ]
  },
  {
   "cell_type": "code",
   "execution_count": 8,
   "metadata": {},
   "outputs": [
    {
     "data": {
      "text/plain": [
       "['..##.#..#.',\n",
       " '.#..#.##..',\n",
       " '..###..###',\n",
       " '###..###..',\n",
       " '.#####..#.',\n",
       " '.#..#####.',\n",
       " '...#.##..#',\n",
       " '#..##.#...']"
      ]
     },
     "execution_count": 8,
     "metadata": {},
     "output_type": "execute_result"
    }
   ],
   "source": [
    "def get_edges(tile):\n",
    "    \"\"\"yield the edges (and reversed egdes) of tile\"\"\"\n",
    "    for op in [top_side, bottom_side, left_side, right_side]:\n",
    "        yield op(tile)\n",
    "        yield op(tile)[::-1]\n",
    "        \n",
    "list(get_edges(testtile))"
   ]
  },
  {
   "cell_type": "code",
   "execution_count": 9,
   "metadata": {},
   "outputs": [],
   "source": [
    "def parse_tiles(l):\n",
    "    tiles = {}\n",
    "    edges = defaultdict(set)\n",
    "    \n",
    "    for tile in l.split('\\n\\n'):\n",
    "        header, *tile = tile.split('\\n')\n",
    "        assert header[:4] == 'Tile'\n",
    "        tile_id = int(re.findall(r'-?\\d+', header)[0])\n",
    "        tiles[tile_id] = tile\n",
    "        for edge in get_edges(tile):\n",
    "            edges[edge].add(tile_id)\n",
    "        \n",
    "    return tiles, edges\n",
    "\n",
    "tiles, edge_dict = parse_tiles(testcase)\n",
    "#parse_tiles(testcase)"
   ]
  },
  {
   "cell_type": "code",
   "execution_count": 10,
   "metadata": {},
   "outputs": [
    {
     "data": {
      "text/plain": [
       "defaultdict(set,\n",
       "            {2311: {1427, 1951, 3079},\n",
       "             1951: {2311, 2729},\n",
       "             1171: {1489, 2473},\n",
       "             1427: {1489, 2311, 2473, 2729},\n",
       "             1489: {1171, 1427, 2971},\n",
       "             2473: {1171, 1427, 3079},\n",
       "             2971: {1489, 2729},\n",
       "             2729: {1427, 1951, 2971},\n",
       "             3079: {2311, 2473}})"
      ]
     },
     "execution_count": 10,
     "metadata": {},
     "output_type": "execute_result"
    }
   ],
   "source": [
    "def find_neighbours(tiles, edge_dict):\n",
    "    tree = defaultdict(set)\n",
    "    for tile_id, tile in tiles.items():\n",
    "        for edge in get_edges(tile):\n",
    "            for other_tile_id in edge_dict[edge]:\n",
    "                if other_tile_id == tile_id:\n",
    "                    continue\n",
    "                else: \n",
    "                    tree[tile_id].add(other_tile_id)\n",
    "    return tree\n",
    "\n",
    "find_neighbours(tiles, edge_dict)"
   ]
  },
  {
   "cell_type": "code",
   "execution_count": 11,
   "metadata": {},
   "outputs": [
    {
     "data": {
      "text/plain": [
       "20899048083289"
      ]
     },
     "execution_count": 11,
     "metadata": {},
     "output_type": "execute_result"
    }
   ],
   "source": [
    "def partA(l):\n",
    "    tiles, edge_dict = parse_tiles(l)\n",
    "    edges = find_neighbours(tiles, edge_dict)\n",
    "    corners = [t for t, edges in edges.items() if len(edges) == 2]\n",
    "    \n",
    "    return reduce(lambda x,y: x*y, corners)\n",
    "\n",
    "partA(testcase)"
   ]
  },
  {
   "cell_type": "code",
   "execution_count": 12,
   "metadata": {},
   "outputs": [
    {
     "data": {
      "text/plain": [
       "66020135789767"
      ]
     },
     "execution_count": 12,
     "metadata": {},
     "output_type": "execute_result"
    }
   ],
   "source": [
    "inp = open('input\\\\20.txt').read()\n",
    "partA(inp)"
   ]
  },
  {
   "cell_type": "markdown",
   "metadata": {},
   "source": [
    "# part B"
   ]
  },
  {
   "cell_type": "code",
   "execution_count": 32,
   "metadata": {},
   "outputs": [
    {
     "data": {
      "text/plain": [
       "(['..#', '*.#', '#.#'],\n",
       " ['###', '...', '.*#'],\n",
       " ['#.#', '#.*', '#..'],\n",
       " ['#*.', '...', '###'],\n",
       " ['..#', '*.#', '#.#'])"
      ]
     },
     "execution_count": 32,
     "metadata": {},
     "output_type": "execute_result"
    }
   ],
   "source": [
    "def rot90(tile):\n",
    "    \"\"\"rotate a tile 90 deg CCW: https://stackoverflow.com/a/53251028/4965175\"\"\"\n",
    "    return [''.join(tile[j][i] for j in range(len(tile))) for i in range(len(tile[0])-1,-1,-1)]\n",
    "\n",
    "testtile, rot90(testtile), rot90(rot90(testtile)), rot90(rot90(rot90(testtile))), rot90(rot90(rot90(rot90(testtile))))"
   ]
  },
  {
   "cell_type": "code",
   "execution_count": 191,
   "metadata": {},
   "outputs": [
    {
     "data": {
      "text/plain": [
       "(['..#', '*.#', '#.#'], ['.*#', '...', '###'], ['..#', '*.#', '#.#'])"
      ]
     },
     "execution_count": 191,
     "metadata": {},
     "output_type": "execute_result"
    }
   ],
   "source": [
    "def flip(tile):\n",
    "    \"\"\"diagonally flip tile (turn tile over)\"\"\"\n",
    "    return [''.join(tile[j][i] for j in range(len(tile))) for i in range(len(tile[0]))]\n",
    "testtile, filp(testtile), flip(flip(testtile))"
   ]
  },
  {
   "cell_type": "code",
   "execution_count": 51,
   "metadata": {},
   "outputs": [
    {
     "name": "stdout",
     "output_type": "stream",
     "text": [
      "..#\n",
      "*.#\n",
      "#.#\n"
     ]
    }
   ],
   "source": [
    "def pprint_tile(tile):\n",
    "    rmax = len(tile[0])\n",
    "    cmax = len(tile)\n",
    "    for r in range(rmax):\n",
    "        for c in range(cmax):\n",
    "            print(tile[r][c], end='')\n",
    "        print('')\n",
    "pprint_tile(testtile)"
   ]
  },
  {
   "cell_type": "code",
   "execution_count": 52,
   "metadata": {},
   "outputs": [
    {
     "name": "stdout",
     "output_type": "stream",
     "text": [
      "..#\n",
      "*.#\n",
      "#.#\n",
      "\n",
      "###\n",
      "...\n",
      ".*#\n",
      "\n",
      "#.#\n",
      "#.*\n",
      "#..\n",
      "\n",
      "#*.\n",
      "...\n",
      "###\n",
      "\n",
      "#.#\n",
      "*.#\n",
      "..#\n",
      "\n",
      "###\n",
      "...\n",
      "#*.\n",
      "\n",
      "#..\n",
      "#.*\n",
      "#.#\n",
      "\n",
      ".*#\n",
      "...\n",
      "###\n",
      "\n"
     ]
    }
   ],
   "source": [
    "def gen_tile_permutations(tile):\n",
    "    \"\"\"yield all possible tile placements (8 per tile)\"\"\"\n",
    "    \n",
    "    yield tile\n",
    "    for op in [rot90, rot90, rot90, flip, rot90, rot90, rot90]:\n",
    "        tile = op(tile)\n",
    "        yield tile\n",
    "        \n",
    "for tile in list(gen_tile_permutations(testtile)):\n",
    "    pprint_tile(tile)\n",
    "    print()"
   ]
  },
  {
   "cell_type": "code",
   "execution_count": 69,
   "metadata": {},
   "outputs": [
    {
     "data": {
      "text/plain": [
       "9999"
      ]
     },
     "execution_count": 69,
     "metadata": {},
     "output_type": "execute_result"
    }
   ],
   "source": [
    "def get_tile_id(tile_set, mytile_id):\n",
    "    \"\"\"return the neighbouring tile id\"\"\"\n",
    "    tile_set ^= {mytile_id}  # remove mytile\n",
    "    assert len(tile_set) == 1\n",
    "    return tile_set.pop()\n",
    "\n",
    "get_tile_id({9999, 1234}, 1234)"
   ]
  },
  {
   "cell_type": "code",
   "execution_count": 179,
   "metadata": {},
   "outputs": [
    {
     "data": {
      "text/plain": [
       "['###.#...',\n",
       " '.#.#....',\n",
       " '...#..#.',\n",
       " '##..##.#',\n",
       " '#.####..',\n",
       " '###.#.#.',\n",
       " '#.####..',\n",
       " '#..#.##.']"
      ]
     },
     "execution_count": 179,
     "metadata": {},
     "output_type": "execute_result"
    }
   ],
   "source": [
    "def cut_edges(tile):\n",
    "    \"\"\"return tile without edges\"\"\"\n",
    "    return [''.join(tile[i][j] for j in range(1, len(tile)-1)) for i in range(1, len(tile[0])-1)]\n",
    "\n",
    "cut_edges(testtile)"
   ]
  },
  {
   "cell_type": "code",
   "execution_count": 124,
   "metadata": {},
   "outputs": [],
   "source": [
    "def place_cornertile(cornertile_id, tiles, edges, edge_dict):\n",
    "    for cornertile in gen_tile_permutations(tiles[cornertile_id]):\n",
    "        # try all possible ways to lay the corners stone, it fits when both\n",
    "        #  bottomside and rightside fit.\n",
    "        if len(edge_dict[bottom_side(cornertile)]) == 2 and len(edge_dict[right_side(cornertile)]) == 2:\n",
    "            # select this one\n",
    "            selected_tile = cornertile\n",
    "            selected_tile_id = cornertile_id\n",
    "            #print('below corner: ', get_tile_id(edge_dict[bottom_side(cornertile)], cornertile_id))\n",
    "            #print('rightside', get_tile_id(edge_dict[right_side(cornertile)], cornertile_id))\n",
    "            return selected_tile_id, selected_tile\n",
    "\n",
    "def match_tile(edge, edge_func, tiles):\n",
    "    \"\"\"find tile that matches `edge` on the side that `edge_func` selects\"\"\"\n",
    "    for tile_id in tiles.keys():\n",
    "        for tile in gen_tile_permutations(tiles[tile_id]):\n",
    "            if edge == edge_func(tile):\n",
    "                # select this one\n",
    "                selected_tile = tile\n",
    "                selected_tile_id = tile_id\n",
    "                #print('found', tile_id)\n",
    "                return selected_tile_id, selected_tile\n"
   ]
  },
  {
   "cell_type": "code",
   "execution_count": 186,
   "metadata": {},
   "outputs": [
    {
     "name": "stdout",
     "output_type": "stream",
     "text": [
      "top left =  1951\n",
      "3x3 grid\n",
      "[[1951, 2729, 2971], [2311, 1427, 1489], [3079, 2473, 1171]]\n"
     ]
    },
    {
     "data": {
      "text/plain": [
       "['.####...#####..#...###..',\n",
       " '#####..#..#.#.####..#.#.',\n",
       " '.#.#...#.###...#.##.##..',\n",
       " '#.#.##.###.#.##.##.#####',\n",
       " '..##.###.####..#.####.##',\n",
       " '...#.#..##.##...#..#..##',\n",
       " '#.##.#..#.#..#..##.#.#..',\n",
       " '.###.##.....#...###.#...',\n",
       " '#.####.#.#....##.#..#.#.',\n",
       " '##...#..#....#..#...####',\n",
       " '..#.##...###..#.#####..#',\n",
       " '....#.##.#.#####....#...',\n",
       " '..##.##.###.....#.##..#.',\n",
       " '#...#...###..####....##.',\n",
       " '.#.##...#.##.#.#.###...#',\n",
       " '#.###.#..####...##..#...',\n",
       " '#.###...#.##...#.######.',\n",
       " '.###.###.#######..#####.',\n",
       " '..##.#..#..#.#######.###',\n",
       " '#.#..##.########..#..##.',\n",
       " '#.#####..#.#...##..#....',\n",
       " '#....##..#.#########..##',\n",
       " '#...#.....#..##...###.##',\n",
       " '#..###....##.#...##.##.#']"
      ]
     },
     "execution_count": 186,
     "metadata": {},
     "output_type": "execute_result"
    }
   ],
   "source": [
    "def create_grid(l):\n",
    "    tiles, edge_dict = parse_tiles(l)\n",
    "    edges = find_neighbours(tiles, edge_dict)\n",
    "    corners = [t for t, edges in edges.items() if len(edges) == 2]\n",
    "    \n",
    "    queue = tiles  # tile not placed\n",
    "    \n",
    "    cornertile_id = corners[0]\n",
    "    print('top left = ', cornertile_id)\n",
    "    N = int(len(tiles)**.5)\n",
    "    print(f'{N}x{N} grid')\n",
    "    \n",
    "    grid = [[None for _ in range(N)] for _ in range(N)]\n",
    "    cut_grid = [[None for _ in range(N)] for _ in range(N)]\n",
    "    grid_id = [[None for _ in range(N)] for _ in range(N)]\n",
    "\n",
    "    for r in range(N):\n",
    "        for c in range(N):\n",
    "            if r == 0 and c == 0:\n",
    "                selected_tile_id, selected_tile = place_cornertile(cornertile_id, tiles, edges, edge_dict)\n",
    "                del queue[selected_tile_id]\n",
    "            elif c == 0:\n",
    "                # place left-most tile\n",
    "                selected_tile_id, selected_tile = match_tile(bottom_side(grid[r-1][c]), top_side, queue)\n",
    "                del queue[selected_tile_id]\n",
    "            else:\n",
    "                # place tiles from left to right\n",
    "                selected_tile_id, selected_tile = match_tile(right_side(grid[r][c-1]), left_side, queue)\n",
    "                del queue[selected_tile_id]\n",
    "            grid[r][c] = selected_tile\n",
    "            grid_id[r][c] = selected_tile_id     \n",
    "            cut_grid[r][c] = cut_edges(selected_tile)\n",
    "            \n",
    "    assert queue == {}  # really done?\n",
    "    \n",
    "    #print(grid)\n",
    "    print(grid_id)\n",
    "    \n",
    "    return [''.join(cut_grid[row][c][r] for c in range(N)) for row in range(N) for r in range(8)]\n",
    "\n",
    "create_grid(testcase)"
   ]
  },
  {
   "cell_type": "code",
   "execution_count": 192,
   "metadata": {},
   "outputs": [],
   "source": [
    "#create_grid(inp)"
   ]
  },
  {
   "cell_type": "code",
   "execution_count": 257,
   "metadata": {},
   "outputs": [
    {
     "name": "stdout",
     "output_type": "stream",
     "text": [
      "Found monster:  2 2\n"
     ]
    },
    {
     "data": {
      "text/plain": [
       "1"
      ]
     },
     "execution_count": 257,
     "metadata": {},
     "output_type": "execute_result"
    }
   ],
   "source": [
    "def get_monster_pattern():\n",
    "    monster_pattern = \\\n",
    "\"\"\"                  # \n",
    "#    ##    ##    ###\n",
    " #  #  #  #  #  #   \"\"\".split('\\n')\n",
    "        \n",
    "    return [(r, c) for r in range(len(monster_pattern)) for c in range(len(monster_pattern[0])) if monster_pattern[r][c] == '#']\n",
    "\n",
    "test = \\\n",
    "\"\"\"####...#####..#...###..\n",
    "#####..#..#.#.####..#.#.\n",
    ".#.#...#.###...#.##.O#..\n",
    "#.O.##.OO#.#.OO.##.OOO##\n",
    "..#O.#O#.O##O..O.#O##.##\"\"\"\n",
    "\n",
    "test = test.split('\\n')\n",
    "\n",
    "def count_monsters(grid, monster_char='#'):\n",
    "    monster_pattern = get_monster_pattern()\n",
    "    n = 0\n",
    "    for r in range(len(grid) - 2):\n",
    "        for c in range(len(grid[0]) - 20):\n",
    "            if all(grid[r + dr][c + dc] == monster_char for dr, dc in monster_pattern):\n",
    "                print('Found monster: ', r, c)\n",
    "                n += 1\n",
    "    return n\n",
    "\n",
    "count_monsters(test, 'O')\n"
   ]
  },
  {
   "cell_type": "code",
   "execution_count": 258,
   "metadata": {},
   "outputs": [
    {
     "name": "stdout",
     "output_type": "stream",
     "text": [
      "top left =  1951\n",
      "3x3 grid\n",
      "[[1951, 2729, 2971], [2311, 1427, 1489], [3079, 2473, 1171]]\n"
     ]
    }
   ],
   "source": [
    "grid = create_grid(testcase)"
   ]
  },
  {
   "cell_type": "code",
   "execution_count": 259,
   "metadata": {},
   "outputs": [
    {
     "name": "stdout",
     "output_type": "stream",
     "text": [
      "top left =  1951\n",
      "3x3 grid\n",
      "[[1951, 2729, 2971], [2311, 1427, 1489], [3079, 2473, 1171]]\n",
      "Found monster:  2 2\n",
      "Found monster:  16 1\n"
     ]
    },
    {
     "data": {
      "text/plain": [
       "273"
      ]
     },
     "execution_count": 259,
     "metadata": {},
     "output_type": "execute_result"
    }
   ],
   "source": [
    "def partB(l):\n",
    "    grid = create_grid(l)\n",
    "    n_monsters = sum(count_monsters(gridpermutation) for gridpermutation in gen_tile_permutations(grid))\n",
    "    # assume monsters do not overlap (please!!!)\n",
    "    return sum(grid[r][c] == '#' for r in range(len(grid)) for c in range(len(grid[0]))) - n_monsters * len(get_monster_pattern())\n",
    "\n",
    "partB(testcase)"
   ]
  },
  {
   "cell_type": "code",
   "execution_count": 260,
   "metadata": {},
   "outputs": [
    {
     "name": "stdout",
     "output_type": "stream",
     "text": [
      "top left =  2383\n",
      "12x12 grid\n",
      "[[2383, 3779, 2503, 3847, 2063, 2833, 3049, 2239, 3593, 2663, 2039, 3881], [2287, 2411, 1987, 3853, 2251, 1283, 1487, 1879, 2099, 1367, 1427, 1019], [3541, 1289, 1867, 2797, 1163, 3169, 2003, 3671, 3833, 3947, 1091, 1747], [1307, 2659, 3109, 3041, 2087, 1381, 3181, 3877, 1009, 2179, 3323, 1291], [1823, 2237, 3719, 2819, 2707, 2671, 2971, 1423, 3547, 1699, 1049, 1709], [1741, 1069, 1753, 3527, 3709, 1787, 1609, 1319, 1559, 2749, 1201, 1499], [1097, 3203, 2791, 2687, 1907, 2549, 3329, 1303, 1873, 1021, 2267, 3761], [2129, 2731, 1801, 3137, 1627, 2953, 1597, 1399, 1783, 3499, 3389, 2213], [1721, 2027, 1667, 1619, 3797, 3167, 2467, 3533, 2393, 1453, 3457, 1171], [1279, 2609, 3299, 2633, 1637, 2999, 3433, 1543, 1997, 1483, 2459, 2011], [2357, 2389, 2297, 3413, 1213, 3989, 2683, 2381, 3701, 1433, 2017, 3889], [2593, 3907, 1663, 2273, 2711, 3319, 2113, 2309, 1583, 3343, 2539, 2753]]\n",
      "Found monster:  2 7\n",
      "Found monster:  3 72\n",
      "Found monster:  5 38\n",
      "Found monster:  13 6\n",
      "Found monster:  15 38\n",
      "Found monster:  17 68\n",
      "Found monster:  23 70\n",
      "Found monster:  29 26\n",
      "Found monster:  36 18\n",
      "Found monster:  44 23\n",
      "Found monster:  47 45\n",
      "Found monster:  54 74\n",
      "Found monster:  55 52\n",
      "Found monster:  59 2\n",
      "Found monster:  59 70\n",
      "Found monster:  69 48\n",
      "Found monster:  74 64\n",
      "Found monster:  79 55\n",
      "Found monster:  80 5\n",
      "Found monster:  90 37\n"
     ]
    },
    {
     "data": {
      "text/plain": [
       "1537"
      ]
     },
     "execution_count": 260,
     "metadata": {},
     "output_type": "execute_result"
    }
   ],
   "source": [
    "partB(inp)"
   ]
  },
  {
   "cell_type": "code",
   "execution_count": null,
   "metadata": {},
   "outputs": [],
   "source": []
  }
 ],
 "metadata": {
  "kernelspec": {
   "display_name": "Python 3",
   "language": "python",
   "name": "python3"
  },
  "language_info": {
   "codemirror_mode": {
    "name": "ipython",
    "version": 3
   },
   "file_extension": ".py",
   "mimetype": "text/x-python",
   "name": "python",
   "nbconvert_exporter": "python",
   "pygments_lexer": "ipython3",
   "version": "3.8.1"
  }
 },
 "nbformat": 4,
 "nbformat_minor": 4
}
