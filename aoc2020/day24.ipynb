{
 "cells": [
  {
   "cell_type": "code",
   "execution_count": 1,
   "metadata": {},
   "outputs": [],
   "source": [
    "import re\n",
    "\n",
    "from itertools import cycle, combinations, permutations, tee\n",
    "from collections import Counter, defaultdict, deque\n",
    "from io import StringIO\n",
    "\n",
    "def pairwise(iterable):\n",
    "    \"s -> (s0,s1), (s1,s2), (s2, s3), ...\"\n",
    "    a, b = tee(iterable)\n",
    "    next(b, None)\n",
    "    return zip(a, b)\n",
    "\n",
    "def read_input(day, fn=str.strip):\n",
    "    \"\"\"//\n",
    "    Return a list of the input lines mapped by fn\n",
    "    \n",
    "    example: \n",
    "    >>> read_input('01', int)  # read input file, map all lines to int\n",
    "    \n",
    "    Inspired by Peter Norvig: https://github.com/norvig/pytudes\n",
    "    \n",
    "    \"\"\"\n",
    "    return list(map(fn, open(f'input\\{day}.txt')))\n",
    "\n",
    "def all_integers(s):\n",
    "    \"\"\"return all integers from a string\"\"\"\n",
    "    return tuple(map(int, re.findall(r'-?\\d+', s)))"
   ]
  },
  {
   "cell_type": "markdown",
   "metadata": {},
   "source": [
    "# Day 24"
   ]
  },
  {
   "cell_type": "code",
   "execution_count": 15,
   "metadata": {},
   "outputs": [
    {
     "data": {
      "text/plain": [
       "('esenee', 'nwwswee')"
      ]
     },
     "execution_count": 15,
     "metadata": {},
     "output_type": "execute_result"
    }
   ],
   "source": [
    "testcase = \"\"\"esenee\n",
    "esew\n",
    "nwwswee\"\"\".split('\\n')\n",
    "testcase[0], testcase[-1]"
   ]
  },
  {
   "cell_type": "code",
   "execution_count": 17,
   "metadata": {},
   "outputs": [
    {
     "name": "stdout",
     "output_type": "stream",
     "text": [
      "['e', 'se', 'ne', 'e']\n",
      "['e', 'se', 'w']\n",
      "['nw', 'w', 'sw', 'e', 'e']\n"
     ]
    }
   ],
   "source": [
    "def parse(queue):\n",
    "    while len(queue) >= 2:\n",
    "        c1 = queue[0]\n",
    "        c2 = queue[1]\n",
    "        c = c1+c2\n",
    "        if c in ['se', 'ne', 'nw', 'sw']:\n",
    "            yield c\n",
    "            queue = queue[2:]\n",
    "        else:\n",
    "            yield c[0]\n",
    "            queue = queue[1:]\n",
    "            \n",
    "    if queue:\n",
    "        yield queue\n",
    "\n",
    "for t in testcase:\n",
    "    print(list(parse(t)))"
   ]
  },
  {
   "cell_type": "code",
   "execution_count": 38,
   "metadata": {},
   "outputs": [
    {
     "data": {
      "text/plain": [
       "(1, 1)"
      ]
     },
     "execution_count": 38,
     "metadata": {},
     "output_type": "execute_result"
    }
   ],
   "source": [
    "directions = {\n",
    "    # offset hexagonal coordinates: https://www.redblobgames.com/grids/hexagons/\n",
    "    'nw': (-1,-1),\n",
    "    'ne': (-1, 0),\n",
    "    'w': ( 0,-1),\n",
    "    'e': ( 0, 1),\n",
    "    'sw': ( 1, 0),\n",
    "    'se': ( 1, 1)\n",
    "}\n",
    "\n",
    "def find_tile(s):\n",
    "    #print(s)\n",
    "    r,c = 0,0\n",
    "    for direction in parse(s):\n",
    "        dr, dc = directions[direction]\n",
    "        r = r + dr\n",
    "        c = c + dc\n",
    "    return r,c \n",
    "\n",
    "find_tile('nwwswee') # (0,0)\n",
    "find_tile('esew') # se (1, 1)"
   ]
  },
  {
   "cell_type": "code",
   "execution_count": 82,
   "metadata": {},
   "outputs": [],
   "source": [
    "testcase = \"\"\"sesenwnenenewseeswwswswwnenewsewsw\n",
    "neeenesenwnwwswnenewnwwsewnenwseswesw\n",
    "seswneswswsenwwnwse\n",
    "nwnwneseeswswnenewneswwnewseswneseene\n",
    "swweswneswnenwsewnwneneseenw\n",
    "eesenwseswswnenwswnwnwsewwnwsene\n",
    "sewnenenenesenwsewnenwwwse\n",
    "wenwwweseeeweswwwnwwe\n",
    "wsweesenenewnwwnwsenewsenwwsesesenwne\n",
    "neeswseenwwswnwswswnw\n",
    "nenwswwsewswnenenewsenwsenwnesesenew\n",
    "enewnwewneswsewnwswenweswnenwsenwsw\n",
    "sweneswneswneneenwnewenewwneswswnese\n",
    "swwesenesewenwneswnwwneseswwne\n",
    "enesenwswwswneneswsenwnewswseenwsese\n",
    "wnwnesenesenenwwnenwsewesewsesesew\n",
    "nenewswnwewswnenesenwnesewesw\n",
    "eneswnwswnwsenenwnwnwwseeswneewsenese\n",
    "neswnwewnwnwseenwseesewsenwsweewe\n",
    "wseweeenwnesenwwwswnew\"\"\".split('\\n')"
   ]
  },
  {
   "cell_type": "code",
   "execution_count": 46,
   "metadata": {},
   "outputs": [
    {
     "data": {
      "text/plain": [
       "10"
      ]
     },
     "execution_count": 46,
     "metadata": {},
     "output_type": "execute_result"
    }
   ],
   "source": [
    "def partA(l):\n",
    "    tiles = set()\n",
    "    for line in l:\n",
    "        tile = find_tile(line)\n",
    "        if tile in tiles:\n",
    "            tiles.remove(tile)\n",
    "        else:\n",
    "            tiles.add(tile)\n",
    "    #print(tiles)\n",
    "    return len(tiles)\n",
    "\n",
    "partA(testcase)"
   ]
  },
  {
   "cell_type": "code",
   "execution_count": 47,
   "metadata": {},
   "outputs": [
    {
     "data": {
      "text/plain": [
       "('swsenwsewneeseseswnwswsesesewswnewsese', 'enewswwnewwwwwwnewnwseswswwwsw')"
      ]
     },
     "execution_count": 47,
     "metadata": {},
     "output_type": "execute_result"
    }
   ],
   "source": [
    "inp = open('input\\\\24.txt').readlines()\n",
    "inp = [line.strip('\\n') for line in inp]\n",
    "inp[0], inp[-1]"
   ]
  },
  {
   "cell_type": "code",
   "execution_count": 48,
   "metadata": {},
   "outputs": [
    {
     "data": {
      "text/plain": [
       "382"
      ]
     },
     "execution_count": 48,
     "metadata": {},
     "output_type": "execute_result"
    }
   ],
   "source": [
    "partA(inp)"
   ]
  },
  {
   "cell_type": "markdown",
   "metadata": {},
   "source": [
    "# part B"
   ]
  },
  {
   "cell_type": "code",
   "execution_count": 88,
   "metadata": {},
   "outputs": [
    {
     "data": {
      "text/plain": [
       "[(0, -1), (0, 0), (1, -1), (1, 1), (2, 0), (2, 1)]"
      ]
     },
     "execution_count": 88,
     "metadata": {},
     "output_type": "execute_result"
    }
   ],
   "source": [
    "def get_neighbours(tile):\n",
    "    r, c = tile\n",
    "    return [(r + dr, c + dc) for (dr, dc) in directions.values()]\n",
    "\n",
    "get_neighbours((1,0))"
   ]
  },
  {
   "cell_type": "code",
   "execution_count": 99,
   "metadata": {},
   "outputs": [
    {
     "data": {
      "text/plain": [
       "{(-1, -1), (-1, 0), (0, 0), (1, 0), (1, 1)}"
      ]
     },
     "execution_count": 99,
     "metadata": {},
     "output_type": "execute_result"
    }
   ],
   "source": [
    "def count_black_neighbours(tile, black_tiles):\n",
    "        return sum(tile in black_tiles for tile in get_neighbours(tile))\n",
    "        print(n)\n",
    "        return n\n",
    "        #return sum(tile in black_tiles for tile in get_neighbours(tile))\n",
    "    \n",
    "def solve(black_tiles):\n",
    "      \n",
    "    # all neighbours of black tiles are white, except when already black\n",
    "    white_tiles = set()\n",
    "    for tile in black_tiles:\n",
    "        white_tiles = white_tiles.union(set(get_neighbours(tile)) ^ (set(get_neighbours(tile)) & black_tiles))\n",
    "    \n",
    "    new_black_tiles = set()\n",
    "    for tile in white_tiles:\n",
    "        if count_black_neighbours(tile, black_tiles) == 2:\n",
    "            new_black_tiles.add(tile)\n",
    "            #print('add from white ', tile)\n",
    "\n",
    "    for tile in black_tiles:\n",
    "        if count_black_neighbours(tile, black_tiles) == 1 or count_black_neighbours(tile, black_tiles) == 2:\n",
    "            new_black_tiles.add(tile)\n",
    "            #print('add from black ', tile)\n",
    "  \n",
    "    return new_black_tiles\n",
    "\n",
    "solve({(0,0), (1,0), (-1, -1)})"
   ]
  },
  {
   "cell_type": "code",
   "execution_count": 102,
   "metadata": {},
   "outputs": [
    {
     "name": "stdout",
     "output_type": "stream",
     "text": [
      "10\n",
      "day 1 : 15\n",
      "day 2 : 12\n",
      "day 3 : 25\n",
      "day 4 : 14\n",
      "day 5 : 23\n",
      "day 6 : 28\n",
      "day 7 : 41\n",
      "day 8 : 37\n",
      "day 9 : 49\n",
      "day 10 : 37\n",
      "day 11 : 55\n",
      "day 12 : 54\n",
      "day 13 : 69\n",
      "day 14 : 73\n",
      "day 15 : 84\n",
      "day 16 : 92\n",
      "day 17 : 88\n",
      "day 18 : 107\n",
      "day 19 : 113\n",
      "day 20 : 132\n",
      "day 21 : 133\n",
      "day 22 : 147\n",
      "day 23 : 134\n",
      "day 24 : 177\n",
      "day 25 : 170\n",
      "day 26 : 176\n",
      "day 27 : 221\n",
      "day 28 : 208\n",
      "day 29 : 207\n",
      "day 30 : 259\n",
      "day 31 : 277\n",
      "day 32 : 283\n",
      "day 33 : 270\n",
      "day 34 : 324\n",
      "day 35 : 326\n",
      "day 36 : 333\n",
      "day 37 : 345\n",
      "day 38 : 371\n",
      "day 39 : 380\n",
      "day 40 : 406\n",
      "day 41 : 439\n",
      "day 42 : 466\n",
      "day 43 : 449\n",
      "day 44 : 478\n",
      "day 45 : 529\n",
      "day 46 : 525\n",
      "day 47 : 570\n",
      "day 48 : 588\n",
      "day 49 : 576\n",
      "day 50 : 566\n",
      "day 51 : 636\n",
      "day 52 : 601\n",
      "day 53 : 667\n",
      "day 54 : 672\n",
      "day 55 : 735\n",
      "day 56 : 766\n",
      "day 57 : 723\n",
      "day 58 : 755\n",
      "day 59 : 805\n",
      "day 60 : 788\n",
      "day 61 : 844\n",
      "day 62 : 875\n",
      "day 63 : 908\n",
      "day 64 : 936\n",
      "day 65 : 994\n",
      "day 66 : 943\n",
      "day 67 : 1015\n",
      "day 68 : 1029\n",
      "day 69 : 1058\n",
      "day 70 : 1106\n",
      "day 71 : 1158\n",
      "day 72 : 1146\n",
      "day 73 : 1125\n",
      "day 74 : 1159\n",
      "day 75 : 1202\n",
      "day 76 : 1344\n",
      "day 77 : 1277\n",
      "day 78 : 1345\n",
      "day 79 : 1320\n",
      "day 80 : 1373\n",
      "day 81 : 1420\n",
      "day 82 : 1431\n",
      "day 83 : 1469\n",
      "day 84 : 1561\n",
      "day 85 : 1590\n",
      "day 86 : 1596\n",
      "day 87 : 1699\n",
      "day 88 : 1662\n",
      "day 89 : 1788\n",
      "day 90 : 1844\n",
      "day 91 : 1797\n",
      "day 92 : 1800\n",
      "day 93 : 1866\n",
      "day 94 : 1887\n",
      "day 95 : 1878\n",
      "day 96 : 2070\n",
      "day 97 : 1930\n",
      "day 98 : 2031\n",
      "day 99 : 2088\n",
      "day 100 : 2208\n"
     ]
    }
   ],
   "source": [
    "def partB(l):\n",
    "    black_tiles = set()\n",
    "    for line in l:\n",
    "        tile = find_tile(line)\n",
    "        if tile in black_tiles:\n",
    "            black_tiles.remove(tile)\n",
    "        else:\n",
    "            black_tiles.add(tile)\n",
    "    print(len(black_tiles))\n",
    "    for _ in range(1, 101):\n",
    "        black_tiles = solve(black_tiles)\n",
    "        print(f'day {_} : {len(black_tiles)}')\n",
    "\n",
    "partB(testcase)"
   ]
  },
  {
   "cell_type": "code",
   "execution_count": 103,
   "metadata": {},
   "outputs": [
    {
     "name": "stdout",
     "output_type": "stream",
     "text": [
      "382\n",
      "day 1 : 226\n",
      "day 2 : 283\n",
      "day 3 : 275\n",
      "day 4 : 323\n",
      "day 5 : 364\n",
      "day 6 : 355\n",
      "day 7 : 384\n",
      "day 8 : 445\n",
      "day 9 : 421\n",
      "day 10 : 456\n",
      "day 11 : 458\n",
      "day 12 : 439\n",
      "day 13 : 515\n",
      "day 14 : 544\n",
      "day 15 : 514\n",
      "day 16 : 587\n",
      "day 17 : 573\n",
      "day 18 : 629\n",
      "day 19 : 637\n",
      "day 20 : 633\n",
      "day 21 : 717\n",
      "day 22 : 664\n",
      "day 23 : 733\n",
      "day 24 : 682\n",
      "day 25 : 781\n",
      "day 26 : 797\n",
      "day 27 : 806\n",
      "day 28 : 867\n",
      "day 29 : 873\n",
      "day 30 : 918\n",
      "day 31 : 958\n",
      "day 32 : 927\n",
      "day 33 : 1014\n",
      "day 34 : 1059\n",
      "day 35 : 1055\n",
      "day 36 : 1082\n",
      "day 37 : 1104\n",
      "day 38 : 1132\n",
      "day 39 : 1162\n",
      "day 40 : 1218\n",
      "day 41 : 1234\n",
      "day 42 : 1303\n",
      "day 43 : 1299\n",
      "day 44 : 1326\n",
      "day 45 : 1299\n",
      "day 46 : 1364\n",
      "day 47 : 1491\n",
      "day 48 : 1491\n",
      "day 49 : 1502\n",
      "day 50 : 1612\n",
      "day 51 : 1579\n",
      "day 52 : 1666\n",
      "day 53 : 1658\n",
      "day 54 : 1699\n",
      "day 55 : 1752\n",
      "day 56 : 1760\n",
      "day 57 : 1808\n",
      "day 58 : 1876\n",
      "day 59 : 1982\n",
      "day 60 : 1907\n",
      "day 61 : 2034\n",
      "day 62 : 2092\n",
      "day 63 : 2021\n",
      "day 64 : 2114\n",
      "day 65 : 2171\n",
      "day 66 : 2213\n",
      "day 67 : 2189\n",
      "day 68 : 2243\n",
      "day 69 : 2402\n",
      "day 70 : 2359\n",
      "day 71 : 2462\n",
      "day 72 : 2428\n",
      "day 73 : 2574\n",
      "day 74 : 2503\n",
      "day 75 : 2633\n",
      "day 76 : 2731\n",
      "day 77 : 2638\n",
      "day 78 : 2704\n",
      "day 79 : 2882\n",
      "day 80 : 2645\n",
      "day 81 : 2903\n",
      "day 82 : 2963\n",
      "day 83 : 2948\n",
      "day 84 : 3155\n",
      "day 85 : 2994\n",
      "day 86 : 3061\n",
      "day 87 : 3063\n",
      "day 88 : 3107\n",
      "day 89 : 3384\n",
      "day 90 : 3357\n",
      "day 91 : 3380\n",
      "day 92 : 3395\n",
      "day 93 : 3468\n",
      "day 94 : 3560\n",
      "day 95 : 3697\n",
      "day 96 : 3572\n",
      "day 97 : 3795\n",
      "day 98 : 3871\n",
      "day 99 : 3907\n",
      "day 100 : 3964\n"
     ]
    }
   ],
   "source": [
    "partB(inp)"
   ]
  },
  {
   "cell_type": "code",
   "execution_count": null,
   "metadata": {},
   "outputs": [],
   "source": []
  }
 ],
 "metadata": {
  "kernelspec": {
   "display_name": "Python 3",
   "language": "python",
   "name": "python3"
  },
  "language_info": {
   "codemirror_mode": {
    "name": "ipython",
    "version": 3
   },
   "file_extension": ".py",
   "mimetype": "text/x-python",
   "name": "python",
   "nbconvert_exporter": "python",
   "pygments_lexer": "ipython3",
   "version": "3.8.1"
  }
 },
 "nbformat": 4,
 "nbformat_minor": 4
}
