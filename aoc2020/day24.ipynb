{
 "cells": [
  {
   "cell_type": "code",
   "execution_count": 1,
   "metadata": {},
   "outputs": [],
   "source": [
    "import re\n",
    "\n",
    "from itertools import cycle, combinations, permutations, tee\n",
    "from collections import Counter, defaultdict, deque\n",
    "from io import StringIO\n",
    "\n",
    "def pairwise(iterable):\n",
    "    \"s -> (s0,s1), (s1,s2), (s2, s3), ...\"\n",
    "    a, b = tee(iterable)\n",
    "    next(b, None)\n",
    "    return zip(a, b)\n",
    "\n",
    "def read_input(day, fn=str.strip):\n",
    "    \"\"\"//\n",
    "    Return a list of the input lines mapped by fn\n",
    "    \n",
    "    example: \n",
    "    >>> read_input('01', int)  # read input file, map all lines to int\n",
    "    \n",
    "    Inspired by Peter Norvig: https://github.com/norvig/pytudes\n",
    "    \n",
    "    \"\"\"\n",
    "    return list(map(fn, open(f'input\\{day}.txt')))\n",
    "\n",
    "def all_integers(s):\n",
    "    \"\"\"return all integers from a string\"\"\"\n",
    "    return tuple(map(int, re.findall(r'-?\\d+', s)))"
   ]
  },
  {
   "cell_type": "markdown",
   "metadata": {},
   "source": [
    "# Day 24"
   ]
  },
  {
   "cell_type": "code",
   "execution_count": 15,
   "metadata": {},
   "outputs": [
    {
     "data": {
      "text/plain": [
       "('esenee', 'nwwswee')"
      ]
     },
     "execution_count": 15,
     "metadata": {},
     "output_type": "execute_result"
    }
   ],
   "source": [
    "testcase = \"\"\"esenee\n",
    "esew\n",
    "nwwswee\"\"\".split('\\n')\n",
    "testcase[0], testcase[-1]"
   ]
  },
  {
   "cell_type": "code",
   "execution_count": 17,
   "metadata": {},
   "outputs": [
    {
     "name": "stdout",
     "output_type": "stream",
     "text": [
      "['e', 'se', 'ne', 'e']\n",
      "['e', 'se', 'w']\n",
      "['nw', 'w', 'sw', 'e', 'e']\n"
     ]
    }
   ],
   "source": [
    "def parse(queue):\n",
    "    while len(queue) >= 2:\n",
    "        c1 = queue[0]\n",
    "        c2 = queue[1]\n",
    "        c = c1+c2\n",
    "        if c in ['se', 'ne', 'nw', 'sw']:\n",
    "            yield c\n",
    "            queue = queue[2:]\n",
    "        else:\n",
    "            yield c[0]\n",
    "            queue = queue[1:]\n",
    "            \n",
    "    if queue:\n",
    "        yield queue\n",
    "\n",
    "for t in testcase:\n",
    "    print(list(parse(t)))"
   ]
  },
  {
   "cell_type": "code",
   "execution_count": 38,
   "metadata": {},
   "outputs": [
    {
     "data": {
      "text/plain": [
       "(1, 1)"
      ]
     },
     "execution_count": 38,
     "metadata": {},
     "output_type": "execute_result"
    }
   ],
   "source": [
    "directions = {\n",
    "    # offset hexagonal coordinates: https://www.redblobgames.com/grids/hexagons/\n",
    "    'nw': (-1,-1),\n",
    "    'ne': (-1, 0),\n",
    "    'w': ( 0,-1),\n",
    "    'e': ( 0, 1),\n",
    "    'sw': ( 1, 0),\n",
    "    'se': ( 1, 1)\n",
    "}\n",
    "\n",
    "def find_tile(s):\n",
    "    #print(s)\n",
    "    r,c = 0,0\n",
    "    for direction in parse(s):\n",
    "        dr, dc = directions[direction]\n",
    "        r = r + dr\n",
    "        c = c + dc\n",
    "    return r,c \n",
    "\n",
    "find_tile('nwwswee') # (0,0)\n",
    "find_tile('esew') # se (1, 1)"
   ]
  },
  {
   "cell_type": "code",
   "execution_count": 39,
   "metadata": {},
   "outputs": [],
   "source": [
    "testcase = \"\"\"sesenwnenenewseeswwswswwnenewsewsw\n",
    "neeenesenwnwwswnenewnwwsewnenwseswesw\n",
    "seswneswswsenwwnwse\n",
    "nwnwneseeswswnenewneswwnewseswneseene\n",
    "swweswneswnenwsewnwneneseenw\n",
    "eesenwseswswnenwswnwnwsewwnwsene\n",
    "sewnenenenesenwsewnenwwwse\n",
    "wenwwweseeeweswwwnwwe\n",
    "wsweesenenewnwwnwsenewsenwwsesesenwne\n",
    "neeswseenwwswnwswswnw\n",
    "nenwswwsewswnenenewsenwsenwnesesenew\n",
    "enewnwewneswsewnwswenweswnenwsenwsw\n",
    "sweneswneswneneenwnewenewwneswswnese\n",
    "swwesenesewenwneswnwwneseswwne\n",
    "enesenwswwswneneswsenwnewswseenwsese\n",
    "wnwnesenesenenwwnenwsewesewsesesew\n",
    "nenewswnwewswnenesenwnesewesw\n",
    "eneswnwswnwsenenwnwnwwseeswneewsenese\n",
    "neswnwewnwnwseenwseesewsenwsweewe\n",
    "wseweeenwnesenwwwswnew\"\"\".split('\\n')"
   ]
  },
  {
   "cell_type": "code",
   "execution_count": 46,
   "metadata": {},
   "outputs": [
    {
     "data": {
      "text/plain": [
       "10"
      ]
     },
     "execution_count": 46,
     "metadata": {},
     "output_type": "execute_result"
    }
   ],
   "source": [
    "def partA(l):\n",
    "    tiles = set()\n",
    "    for line in l:\n",
    "        tile = find_tile(line)\n",
    "        if tile in tiles:\n",
    "            tiles.remove(tile)\n",
    "        else:\n",
    "            tiles.add(tile)\n",
    "    #print(tiles)\n",
    "    return len(tiles)\n",
    "\n",
    "partA(testcase)"
   ]
  },
  {
   "cell_type": "code",
   "execution_count": 47,
   "metadata": {},
   "outputs": [
    {
     "data": {
      "text/plain": [
       "('swsenwsewneeseseswnwswsesesewswnewsese', 'enewswwnewwwwwwnewnwseswswwwsw')"
      ]
     },
     "execution_count": 47,
     "metadata": {},
     "output_type": "execute_result"
    }
   ],
   "source": [
    "inp = open('input\\\\24.txt').readlines()\n",
    "inp = [line.strip('\\n') for line in inp]\n",
    "inp[0], inp[-1]"
   ]
  },
  {
   "cell_type": "code",
   "execution_count": 48,
   "metadata": {},
   "outputs": [
    {
     "data": {
      "text/plain": [
       "382"
      ]
     },
     "execution_count": 48,
     "metadata": {},
     "output_type": "execute_result"
    }
   ],
   "source": [
    "partA(inp)"
   ]
  },
  {
   "cell_type": "markdown",
   "metadata": {},
   "source": [
    "# part B"
   ]
  },
  {
   "cell_type": "code",
   "execution_count": null,
   "metadata": {},
   "outputs": [],
   "source": []
  }
 ],
 "metadata": {
  "kernelspec": {
   "display_name": "Python 3",
   "language": "python",
   "name": "python3"
  },
  "language_info": {
   "codemirror_mode": {
    "name": "ipython",
    "version": 3
   },
   "file_extension": ".py",
   "mimetype": "text/x-python",
   "name": "python",
   "nbconvert_exporter": "python",
   "pygments_lexer": "ipython3",
   "version": "3.8.1"
  }
 },
 "nbformat": 4,
 "nbformat_minor": 4
}
