{
 "cells": [
  {
   "cell_type": "code",
   "execution_count": 1,
   "metadata": {},
   "outputs": [],
   "source": [
    "import re\n",
    "\n",
    "from itertools import cycle, combinations, permutations, tee\n",
    "from collections import Counter, defaultdict, deque\n",
    "from io import StringIO\n",
    "\n",
    "def pairwise(iterable):\n",
    "    \"s -> (s0,s1), (s1,s2), (s2, s3), ...\"\n",
    "    a, b = tee(iterable)\n",
    "    next(b, None)\n",
    "    return zip(a, b)\n",
    "\n",
    "def read_input(day, fn=str.strip):\n",
    "    \"\"\"//\n",
    "    Return a list of the input lines mapped by fn\n",
    "    \n",
    "    example: \n",
    "    >>> read_input('01', int)  # read input file, map all lines to int\n",
    "    \n",
    "    Inspired by Peter Norvig: https://github.com/norvig/pytudes\n",
    "    \n",
    "    \"\"\"\n",
    "    return list(map(fn, open(f'input\\{day}.txt')))\n",
    "\n",
    "def all_integers(s):\n",
    "    \"\"\"return all integers from a string\"\"\"\n",
    "    return tuple(map(int, re.findall(r'-?\\d+', s)))"
   ]
  },
  {
   "cell_type": "markdown",
   "metadata": {},
   "source": [
    "# Day 19"
   ]
  },
  {
   "cell_type": "code",
   "execution_count": 122,
   "metadata": {},
   "outputs": [],
   "source": [
    "# this follows the video of Aiden Glickman\n",
    "# https://www.youtube.com/watch?v=qo3ELw4yq_M"
   ]
  },
  {
   "cell_type": "code",
   "execution_count": 85,
   "metadata": {},
   "outputs": [],
   "source": [
    "testcase = \"\"\"0: 4 1\n",
    "1: 4 5 | 5 4\n",
    "4: \\\"a\\\"\n",
    "5: \\\"b\\\"\n",
    "\n",
    "ababbb\n",
    "bababa\n",
    "abbbab\n",
    "aaabbb\n",
    "aaaabbb\"\"\""
   ]
  },
  {
   "cell_type": "code",
   "execution_count": 86,
   "metadata": {},
   "outputs": [
    {
     "data": {
      "text/plain": [
       "('0: 4 1', 'ababbb')"
      ]
     },
     "execution_count": 86,
     "metadata": {},
     "output_type": "execute_result"
    }
   ],
   "source": [
    "part1, part2 = testcase.split('\\n\\n')\n",
    "rules = [line.rstrip('\\n') for line in part1.split('\\n')]\n",
    "strings = [line.rstrip('\\n') for line in part2.split('\\n')]\n",
    "rules[0], strings[0]"
   ]
  },
  {
   "cell_type": "code",
   "execution_count": 109,
   "metadata": {},
   "outputs": [
    {
     "data": {
      "text/plain": [
       "{'0': [['4', '1']], '1': [['4', '5'], ['5', '4']], '4': 'a', '5': 'b'}"
      ]
     },
     "execution_count": 109,
     "metadata": {},
     "output_type": "execute_result"
    }
   ],
   "source": [
    "def parse_rules(l):\n",
    "    rules = {}\n",
    "    for rule in l:\n",
    "        k, val = rule.split(': ')\n",
    "        if val[0] == '\"':\n",
    "            rules[k] = val.strip('\"\"')\n",
    "        else:\n",
    "            rule = []\n",
    "            for seq in val.split(\" | \"):\n",
    "                 rule.append(seq.split())\n",
    "            rules[k] = rule\n",
    "    \n",
    "    #print(rules)\n",
    "    return rules\n",
    "\n",
    "parse_rules(rules)"
   ]
  },
  {
   "cell_type": "code",
   "execution_count": 110,
   "metadata": {},
   "outputs": [
    {
     "name": "stdout",
     "output_type": "stream",
     "text": [
      "!!! match:  a babbbb\n",
      "!!! match:  b abbbb\n",
      "!!! match:  a bbbb\n"
     ]
    },
    {
     "data": {
      "text/plain": [
       "['bbbb']"
      ]
     },
     "execution_count": 110,
     "metadata": {},
     "output_type": "execute_result"
    }
   ],
   "source": [
    "def check_sequence(rules, seq, s):\n",
    "    if not seq:\n",
    "        yield s\n",
    "    else:\n",
    "        idx, *seq = seq\n",
    "        for s in run(rules, idx, s):\n",
    "            yield from check_sequence(rules, seq, s)\n",
    "\n",
    "list(check_sequence(parse_rules(rules), '0', 'ababbbb'))        "
   ]
  },
  {
   "cell_type": "code",
   "execution_count": 113,
   "metadata": {},
   "outputs": [
    {
     "data": {
      "text/plain": [
       "False"
      ]
     },
     "execution_count": 113,
     "metadata": {},
     "output_type": "execute_result"
    }
   ],
   "source": [
    "def run(rules, idx, s):\n",
    "    if isinstance(rules[idx], list):\n",
    "        for seq in rules[idx]:\n",
    "            yield from check_sequence(rules, seq, s)\n",
    "    else:\n",
    "        if s and s[0] == rules[idx]:\n",
    "            # matched this char, yield the rest\n",
    "            yield s[1:]\n",
    "                        \n",
    "def match(rules, s):\n",
    "    return any(m == '' for m in run(rules, '0', s))\n",
    "\n",
    "match(parse_rules(rules), 'baba')"
   ]
  },
  {
   "cell_type": "code",
   "execution_count": 116,
   "metadata": {},
   "outputs": [
    {
     "data": {
      "text/plain": [
       "True"
      ]
     },
     "execution_count": 116,
     "metadata": {},
     "output_type": "execute_result"
    }
   ],
   "source": [
    "match(parse_rules(rules), 'aba')"
   ]
  },
  {
   "cell_type": "code",
   "execution_count": 118,
   "metadata": {},
   "outputs": [],
   "source": [
    "test_case = \"\"\"0: 4 1 5\n",
    "1: 2 3 | 3 2\n",
    "2: 4 4 | 5 5\n",
    "3: 4 5 | 5 4\n",
    "4: \\\"a\\\"\n",
    "5: \\\"b\\\"\n",
    "\n",
    "ababbb\n",
    "bababa\n",
    "abbbab\n",
    "aaabbb\n",
    "aaaabbb\"\"\""
   ]
  },
  {
   "cell_type": "code",
   "execution_count": 119,
   "metadata": {},
   "outputs": [
    {
     "data": {
      "text/plain": [
       "2"
      ]
     },
     "execution_count": 119,
     "metadata": {},
     "output_type": "execute_result"
    }
   ],
   "source": [
    "def partA(inp):\n",
    "    part1, part2 = inp.split('\\n\\n')\n",
    "    rules = [line.rstrip('\\n') for line in part1.split('\\n')]\n",
    "    strings = [line.rstrip('\\n') for line in part2.split('\\n')]\n",
    "    \n",
    "    rules = parse_rules(rules)\n",
    "    return sum(match(rules, s) for s in strings)\n",
    "\n",
    "partA(test_case)"
   ]
  },
  {
   "cell_type": "code",
   "execution_count": 120,
   "metadata": {},
   "outputs": [],
   "source": [
    "inp = open('input\\\\19.txt').read()"
   ]
  },
  {
   "cell_type": "code",
   "execution_count": 121,
   "metadata": {},
   "outputs": [
    {
     "data": {
      "text/plain": [
       "109"
      ]
     },
     "execution_count": 121,
     "metadata": {},
     "output_type": "execute_result"
    }
   ],
   "source": [
    "partA(inp)"
   ]
  },
  {
   "cell_type": "markdown",
   "metadata": {},
   "source": [
    "# part B"
   ]
  },
  {
   "cell_type": "code",
   "execution_count": 125,
   "metadata": {},
   "outputs": [
    {
     "data": {
      "text/plain": [
       "301"
      ]
     },
     "execution_count": 125,
     "metadata": {},
     "output_type": "execute_result"
    }
   ],
   "source": [
    "def partB(inp):\n",
    "    part1, part2 = inp.split('\\n\\n')\n",
    "    rules = [line.rstrip('\\n') for line in part1.split('\\n')]\n",
    "    strings = [line.rstrip('\\n') for line in part2.split('\\n')]\n",
    "    \n",
    "    rules = parse_rules(rules)\n",
    "    \n",
    "    # 8: 42 | 42 8\n",
    "    # 11: 42 31 | 42 11 31\n",
    "    rules['8'] = [['42'], ['42', '8']]\n",
    "    rules['11'] = [['42', '31'], ['42', '11', '31']]\n",
    "    return sum(match(rules, s) for s in strings)\n",
    "\n",
    "partB(inp)"
   ]
  },
  {
   "cell_type": "code",
   "execution_count": null,
   "metadata": {},
   "outputs": [],
   "source": []
  }
 ],
 "metadata": {
  "kernelspec": {
   "display_name": "Python 3",
   "language": "python",
   "name": "python3"
  },
  "language_info": {
   "codemirror_mode": {
    "name": "ipython",
    "version": 3
   },
   "file_extension": ".py",
   "mimetype": "text/x-python",
   "name": "python",
   "nbconvert_exporter": "python",
   "pygments_lexer": "ipython3",
   "version": "3.8.1"
  }
 },
 "nbformat": 4,
 "nbformat_minor": 4
}
