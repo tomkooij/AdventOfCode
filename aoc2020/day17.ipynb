{
 "cells": [
  {
   "cell_type": "code",
   "execution_count": 47,
   "metadata": {},
   "outputs": [],
   "source": [
    "import re\n",
    "\n",
    "from itertools import cycle, combinations, permutations, tee\n",
    "from collections import Counter, defaultdict, deque\n",
    "from io import StringIO\n",
    "\n",
    "def pairwise(iterable):\n",
    "    \"s -> (s0,s1), (s1,s2), (s2, s3), ...\"\n",
    "    a, b = tee(iterable)\n",
    "    next(b, None)\n",
    "    return zip(a, b)\n",
    "\n",
    "def read_input(day, fn=str.strip):\n",
    "    \"\"\"//\n",
    "    Return a list of the input lines mapped by fn\n",
    "    \n",
    "    example: \n",
    "    >>> read_input('01', int)  # read input file, map all lines to int\n",
    "    \n",
    "    Inspired by Peter Norvig: https://github.com/norvig/pytudes\n",
    "    \n",
    "    \"\"\"\n",
    "    return list(map(fn, open(f'input\\{day}.txt')))\n",
    "\n",
    "def all_integers(s):\n",
    "    \"\"\"return all integers from a string\"\"\"\n",
    "    return tuple(map(int, re.findall(r'-?\\d+', s)))"
   ]
  },
  {
   "cell_type": "markdown",
   "metadata": {},
   "source": [
    "# Day 11"
   ]
  },
  {
   "cell_type": "code",
   "execution_count": 48,
   "metadata": {},
   "outputs": [],
   "source": [
    "testcase = \"\"\".#.\n",
    "..#\n",
    "###\"\"\""
   ]
  },
  {
   "cell_type": "code",
   "execution_count": 49,
   "metadata": {},
   "outputs": [],
   "source": [
    "ACTIVE = '#'\n",
    "INACTIVE = '.'"
   ]
  },
  {
   "cell_type": "code",
   "execution_count": 50,
   "metadata": {},
   "outputs": [
    {
     "data": {
      "text/plain": [
       "(['.#.', '..#', '###'], '###', 3)"
      ]
     },
     "execution_count": 50,
     "metadata": {},
     "output_type": "execute_result"
    }
   ],
   "source": [
    "test_list = [line.rstrip('\\n') for line in testcase.split('\\n')]\n",
    "test_list[:3],test_list[-1], len(test_list)"
   ]
  },
  {
   "cell_type": "code",
   "execution_count": 51,
   "metadata": {},
   "outputs": [
    {
     "name": "stdout",
     "output_type": "stream",
     "text": [
      "['.#.', '..#', '###']\n"
     ]
    }
   ],
   "source": [
    "from pprint import pprint\n",
    "pprint(test_list)"
   ]
  },
  {
   "cell_type": "code",
   "execution_count": 81,
   "metadata": {},
   "outputs": [
    {
     "data": {
      "text/plain": [
       "26"
      ]
     },
     "execution_count": 81,
     "metadata": {},
     "output_type": "execute_result"
    }
   ],
   "source": [
    "def neighbours(x, y, z):\n",
    "    return [(x + dx, y + dy, z + dz)\n",
    "        for dx in (-1, 0, 1)\n",
    "        for dy in (-1, 0, 1)\n",
    "        for dz in (-1, 0, 1)\n",
    "        if dx or dy or dz]\n",
    "\n",
    "len(neighbours(0, 0, -2))"
   ]
  },
  {
   "cell_type": "code",
   "execution_count": 88,
   "metadata": {},
   "outputs": [
    {
     "name": "stdout",
     "output_type": "stream",
     "text": [
      "z =  0\n",
      ".........\n",
      ".........\n",
      ".........\n",
      "....#....\n",
      ".....#...\n",
      "...###...\n",
      ".........\n",
      ".........\n",
      ".........\n"
     ]
    }
   ],
   "source": [
    "def pprint_cubes(active_cubes, xrange=range(-3, 6), yrange=range(-3, 6), zrange=[-2, -1, 0]):\n",
    "    for z in zrange:\n",
    "        print('z = ', z)\n",
    "        for y in yrange:\n",
    "            for x in xrange:\n",
    "                if x == 1 and y == 3 and z == -1:\n",
    "                    c = 'X'\n",
    "                if (x, y, z) in active_cubes:\n",
    "                    c = '#'\n",
    "                else:\n",
    "                    c = '.'\n",
    "                print(c, end='')\n",
    "            print('')\n",
    "\n",
    "active_cubes = {(1, 2, 0), (0, 2, 0), (2, 1, 0), (1, 0, 0), (2, 2, 0)}\n",
    "pprint_cubes(active_cubes, zrange=[0])"
   ]
  },
  {
   "cell_type": "code",
   "execution_count": 97,
   "metadata": {},
   "outputs": [
    {
     "name": "stdout",
     "output_type": "stream",
     "text": [
      "cycle: 0 11\n",
      "cycle: 1 21\n",
      "cycle: 2 38\n",
      "cycle: 3 58\n",
      "cycle: 4 101\n",
      "cycle: 5 112\n"
     ]
    }
   ],
   "source": [
    "def partA(l):\n",
    "    active_cubes = set()\n",
    "\n",
    "    z = 0\n",
    "    for y, line in enumerate(l):\n",
    "        for x, cube in enumerate(line):\n",
    "            if cube == ACTIVE:\n",
    "                active_cubes.add((x, y, z))\n",
    "\n",
    "    for cycle in range(6):\n",
    "        new_active_cubes = set()\n",
    "\n",
    "        for cube in active_cubes:\n",
    "            n = sum((c in active_cubes) for c in neighbours(*cube))\n",
    "            if n == 2 or n == 3:\n",
    "                new_active_cubes.add(cube)\n",
    "        inactive_cubes = set(cube for c in active_cubes for cube in neighbours(*c) if cube not in active_cubes)\n",
    "        for cube in inactive_cubes:\n",
    "            assert cube not in active_cubes\n",
    "            if sum((c in active_cubes) for c in neighbours(*cube)) == 3:\n",
    "                new_active_cubes.add(cube)\n",
    "        print('cycle:', cycle, len(new_active_cubes)) \n",
    "        #pprint_cubes(new_active_cubes)\n",
    "        active_cubes = new_active_cubes.copy()\n",
    "\n",
    "partA(test_list)        \n",
    "            "
   ]
  },
  {
   "cell_type": "code",
   "execution_count": 103,
   "metadata": {},
   "outputs": [],
   "source": [
    "inp = \"\"\"....###.\n",
    "#...####\n",
    "##.#.###\n",
    "..#.#...\n",
    "##.#.#.#\n",
    "#.######\n",
    "..#..#.#\n",
    "######.#\"\"\""
   ]
  },
  {
   "cell_type": "code",
   "execution_count": 104,
   "metadata": {},
   "outputs": [],
   "source": [
    "inp = [line.rstrip('\\n') for line in inp.split('\\n')]"
   ]
  },
  {
   "cell_type": "code",
   "execution_count": 105,
   "metadata": {},
   "outputs": [
    {
     "name": "stdout",
     "output_type": "stream",
     "text": [
      "cycle: 0 67\n",
      "cycle: 1 100\n",
      "cycle: 2 163\n",
      "cycle: 3 211\n",
      "cycle: 4 282\n",
      "cycle: 5 333\n"
     ]
    }
   ],
   "source": [
    "partA(inp)"
   ]
  },
  {
   "cell_type": "code",
   "execution_count": null,
   "metadata": {},
   "outputs": [],
   "source": []
  }
 ],
 "metadata": {
  "kernelspec": {
   "display_name": "Python 3",
   "language": "python",
   "name": "python3"
  },
  "language_info": {
   "codemirror_mode": {
    "name": "ipython",
    "version": 3
   },
   "file_extension": ".py",
   "mimetype": "text/x-python",
   "name": "python",
   "nbconvert_exporter": "python",
   "pygments_lexer": "ipython3",
   "version": "3.8.1"
  }
 },
 "nbformat": 4,
 "nbformat_minor": 4
}
