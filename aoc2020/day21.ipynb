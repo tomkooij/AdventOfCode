{
 "cells": [
  {
   "cell_type": "code",
   "execution_count": 1,
   "metadata": {},
   "outputs": [],
   "source": [
    "import re\n",
    "\n",
    "from itertools import cycle, combinations, permutations, tee\n",
    "from collections import Counter, defaultdict, deque\n",
    "from io import StringIO\n",
    "\n",
    "def pairwise(iterable):\n",
    "    \"s -> (s0,s1), (s1,s2), (s2, s3), ...\"\n",
    "    a, b = tee(iterable)\n",
    "    next(b, None)\n",
    "    return zip(a, b)\n",
    "\n",
    "def read_input(day, fn=str.strip):\n",
    "    \"\"\"//\n",
    "    Return a list of the input lines mapped by fn\n",
    "    \n",
    "    example: \n",
    "    >>> read_input('01', int)  # read input file, map all lines to int\n",
    "    \n",
    "    Inspired by Peter Norvig: https://github.com/norvig/pytudes\n",
    "    \n",
    "    \"\"\"\n",
    "    return list(map(fn, open(f'input\\{day}.txt')))\n",
    "\n",
    "def all_integers(s):\n",
    "    \"\"\"return all integers from a string\"\"\"\n",
    "    return tuple(map(int, re.findall(r'-?\\d+', s)))"
   ]
  },
  {
   "cell_type": "markdown",
   "metadata": {},
   "source": [
    "# Day 21"
   ]
  },
  {
   "cell_type": "code",
   "execution_count": 2,
   "metadata": {},
   "outputs": [],
   "source": [
    "testcase = \"\"\"mxmxvkd kfcds sqjhc nhms (contains dairy, fish)\n",
    "trh fvjkl sbzzf mxmxvkd (contains dairy)\n",
    "sqjhc fvjkl (contains soy)\n",
    "sqjhc mxmxvkd sbzzf (contains fish)\"\"\""
   ]
  },
  {
   "cell_type": "code",
   "execution_count": 3,
   "metadata": {},
   "outputs": [],
   "source": [
    "testcase = testcase.split('\\n')\n"
   ]
  },
  {
   "cell_type": "code",
   "execution_count": 4,
   "metadata": {},
   "outputs": [
    {
     "name": "stdout",
     "output_type": "stream",
     "text": [
      "(['mxmxvkd', 'kfcds', 'sqjhc', 'nhms'], ['dairy', 'fish'])\n",
      "(['trh', 'fvjkl', 'sbzzf', 'mxmxvkd'], ['dairy'])\n",
      "(['sqjhc', 'fvjkl'], ['soy'])\n",
      "(['sqjhc', 'mxmxvkd', 'sbzzf'], ['fish'])\n"
     ]
    }
   ],
   "source": [
    "def parse(l):\n",
    "    ingredients, allergens = l.split(' (contains ')\n",
    "    allergens = allergens.strip(')').split(', ')\n",
    "    ingredients = ingredients.split()\n",
    "    return ingredients, allergens\n",
    "\n",
    "for l in testcase:\n",
    "    print(parse(l))"
   ]
  },
  {
   "cell_type": "code",
   "execution_count": 5,
   "metadata": {},
   "outputs": [
    {
     "name": "stdout",
     "output_type": "stream",
     "text": [
      "start:  ['dairy', 'fish', 'soy'] 3\n",
      "found! dairy mxmxvkd\n",
      "found! fish sqjhc\n",
      "found! soy fvjkl\n",
      "partA:  5\n",
      "partB:  mxmxvkd,sqjhc,fvjkl\n"
     ]
    }
   ],
   "source": [
    "def partA(l):\n",
    "    foods = defaultdict(list)\n",
    "    unidentified_ingredients = set()\n",
    "    dumb_ingedrients_list = []\n",
    "    \n",
    "    for line in l:\n",
    "        ingredients, allergens = parse(line)\n",
    "        for allergen in allergens:\n",
    "            foods[allergen].append(set(ingredients))\n",
    "        for ingredient in ingredients:\n",
    "            unidentified_ingredients.add(ingredient)\n",
    "        dumb_ingedrients_list.extend(ingredients)\n",
    "            \n",
    "    queue = list(foods.keys())\n",
    "    print('start: ', queue, len(queue))\n",
    "    sol = {}\n",
    "    while queue:\n",
    "        for allergen in queue.copy():\n",
    "            ledger = unidentified_ingredients.copy()\n",
    "            for ingredient_set in foods[allergen]:\n",
    "                ledger.intersection_update(ingredient_set)\n",
    "            if len(ledger) == 1:\n",
    "                ingredient = ledger.pop()\n",
    "                print('found!', allergen, ingredient)\n",
    "                sol[ingredient] = allergen\n",
    "                unidentified_ingredients.remove(ingredient)\n",
    "                queue.remove(allergen)\n",
    "                \n",
    "    print('partA: ', sum(dumb_ingedrients_list.count(ingredient) for ingredient in unidentified_ingredients))\n",
    "    print('partB: ',','.join(sorted(sol, key=sol.get)))\n",
    "\n",
    "partA(testcase)"
   ]
  },
  {
   "cell_type": "code",
   "execution_count": 6,
   "metadata": {},
   "outputs": [
    {
     "data": {
      "text/plain": [
       "'bmvfs kghc hrcfc bhnfx kmtmlx zfc xgfgx nqbnmzx cbsqvgt lbhzxvf tzxdf ssfnt svfbm rmqvb bbfxk hqnm hpvmrm vvv qlf fsmz tmsllr cbxp gffvc dxclx lrj lmfrl dstct crbdxfx hgxz rhzdcb bgmh kdkm kpd tfvcrd cczqczv vgqftvk pgblcd kdvq sts bnd cd qchmh jjhl lqjfs dhfng vbdgvk nt zgthq xhkdc jjrsrf ghlzj pgpgvs bqlk zszg pzvddz sdxhbf lljxf fnll jmhsl zmjjbr lvbpvc crqhxx pkzs znrzgs jmbpvd jhxv kjzb snxzjb tzsx pnddb (contains peanuts)'"
      ]
     },
     "execution_count": 6,
     "metadata": {},
     "output_type": "execute_result"
    }
   ],
   "source": [
    "inp = open('input\\\\21.txt').readlines()\n",
    "inp = [line.strip('\\n') for line in inp]\n",
    "inp[-1]"
   ]
  },
  {
   "cell_type": "code",
   "execution_count": 7,
   "metadata": {},
   "outputs": [
    {
     "name": "stdout",
     "output_type": "stream",
     "text": [
      "start:  ['shellfish', 'soy', 'eggs', 'sesame', 'fish', 'dairy', 'wheat', 'peanuts'] 8\n",
      "found! dairy dhfng\n",
      "found! wheat znrzgs\n",
      "found! shellfish nqbnmzx\n",
      "found! soy ntggc\n",
      "found! eggs pgblcd\n",
      "found! sesame dstct\n",
      "found! fish xhkdc\n",
      "found! peanuts ghlzj\n",
      "partA:  2436\n",
      "partB:  dhfng,pgblcd,xhkdc,ghlzj,dstct,nqbnmzx,ntggc,znrzgs\n"
     ]
    }
   ],
   "source": [
    "partA(inp)"
   ]
  },
  {
   "cell_type": "code",
   "execution_count": null,
   "metadata": {},
   "outputs": [],
   "source": []
  }
 ],
 "metadata": {
  "kernelspec": {
   "display_name": "Python 3",
   "language": "python",
   "name": "python3"
  },
  "language_info": {
   "codemirror_mode": {
    "name": "ipython",
    "version": 3
   },
   "file_extension": ".py",
   "mimetype": "text/x-python",
   "name": "python",
   "nbconvert_exporter": "python",
   "pygments_lexer": "ipython3",
   "version": "3.8.1"
  }
 },
 "nbformat": 4,
 "nbformat_minor": 4
}
