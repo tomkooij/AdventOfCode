{
 "cells": [
  {
   "cell_type": "code",
   "execution_count": 1,
   "metadata": {},
   "outputs": [],
   "source": [
    "import re\n",
    "\n",
    "from itertools import cycle, combinations, permutations, tee\n",
    "from collections import Counter, defaultdict, deque\n",
    "from io import StringIO\n",
    "\n",
    "def pairwise(iterable):\n",
    "    \"s -> (s0,s1), (s1,s2), (s2, s3), ...\"\n",
    "    a, b = tee(iterable)\n",
    "    next(b, None)\n",
    "    return zip(a, b)\n",
    "\n",
    "def read_input(day, fn=str.strip):\n",
    "    \"\"\"//\n",
    "    Return a list of the input lines mapped by fn\n",
    "    \n",
    "    example: \n",
    "    >>> read_input('01', int)  # read input file, map all lines to int\n",
    "    \n",
    "    Inspired by Peter Norvig: https://github.com/norvig/pytudes\n",
    "    \n",
    "    \"\"\"\n",
    "    return list(map(fn, open(f'input\\{day}.txt')))\n",
    "\n",
    "def all_integers(s):\n",
    "    \"\"\"return all integers from a string\"\"\"\n",
    "    return tuple(map(int, re.findall(r'-?\\d+', s)))"
   ]
  },
  {
   "cell_type": "markdown",
   "metadata": {},
   "source": [
    "# Day 10"
   ]
  },
  {
   "cell_type": "code",
   "execution_count": 2,
   "metadata": {},
   "outputs": [],
   "source": [
    "testcase = \"\"\"28\n",
    "33\n",
    "18\n",
    "42\n",
    "31\n",
    "14\n",
    "46\n",
    "20\n",
    "48\n",
    "47\n",
    "24\n",
    "23\n",
    "49\n",
    "45\n",
    "19\n",
    "38\n",
    "39\n",
    "11\n",
    "1\n",
    "32\n",
    "25\n",
    "35\n",
    "8\n",
    "17\n",
    "7\n",
    "9\n",
    "4\n",
    "2\n",
    "34\n",
    "10\n",
    "3\"\"\""
   ]
  },
  {
   "cell_type": "code",
   "execution_count": 3,
   "metadata": {},
   "outputs": [
    {
     "data": {
      "text/plain": [
       "([28, 33, 18], 3, 31)"
      ]
     },
     "execution_count": 3,
     "metadata": {},
     "output_type": "execute_result"
    }
   ],
   "source": [
    "test_list = [int(line) for line in testcase.split('\\n')]\n",
    "test_list[:3], test_list[-1], len(test_list)"
   ]
  },
  {
   "cell_type": "code",
   "execution_count": 4,
   "metadata": {},
   "outputs": [
    {
     "name": "stdout",
     "output_type": "stream",
     "text": [
      "{1: 22, 3: 10}\n"
     ]
    },
    {
     "data": {
      "text/plain": [
       "220"
      ]
     },
     "execution_count": 4,
     "metadata": {},
     "output_type": "execute_result"
    }
   ],
   "source": [
    "def partA(l):\n",
    "    adapters = [0] + sorted(l)\n",
    "    delta = {1: 0, 3: 1}\n",
    "    for s1, s2 in pairwise(adapters):\n",
    "        delta[s2-s1] += 1\n",
    "    print(delta)\n",
    "    return delta[1]*delta[3]\n",
    "    \n",
    "partA(test_list)"
   ]
  },
  {
   "cell_type": "code",
   "execution_count": 5,
   "metadata": {},
   "outputs": [
    {
     "data": {
      "text/plain": [
       "([144, 10, 75], 92)"
      ]
     },
     "execution_count": 5,
     "metadata": {},
     "output_type": "execute_result"
    }
   ],
   "source": [
    "l = read_input('10', int)\n",
    "l[:3], l[-1]"
   ]
  },
  {
   "cell_type": "code",
   "execution_count": 6,
   "metadata": {},
   "outputs": [
    {
     "name": "stdout",
     "output_type": "stream",
     "text": [
      "{1: 70, 3: 32}\n"
     ]
    },
    {
     "data": {
      "text/plain": [
       "2240"
      ]
     },
     "execution_count": 6,
     "metadata": {},
     "output_type": "execute_result"
    }
   ],
   "source": [
    "partA(l)"
   ]
  },
  {
   "cell_type": "markdown",
   "metadata": {},
   "source": [
    "# part B\n",
    "\n"
   ]
  },
  {
   "cell_type": "code",
   "execution_count": 7,
   "metadata": {},
   "outputs": [],
   "source": [
    "testcaseA = \"\"\"16\n",
    "10\n",
    "15\n",
    "5\n",
    "1\n",
    "11\n",
    "7\n",
    "19\n",
    "6\n",
    "12\n",
    "4\"\"\""
   ]
  },
  {
   "cell_type": "code",
   "execution_count": 8,
   "metadata": {},
   "outputs": [
    {
     "data": {
      "text/plain": [
       "([16, 10, 15], 4)"
      ]
     },
     "execution_count": 8,
     "metadata": {},
     "output_type": "execute_result"
    }
   ],
   "source": [
    "testcaseA = [int(line) for line in testcaseA.split('\\n')]\n",
    "testcaseA[:3], testcaseA[-1]"
   ]
  },
  {
   "cell_type": "code",
   "execution_count": 12,
   "metadata": {},
   "outputs": [
    {
     "name": "stdout",
     "output_type": "stream",
     "text": [
      "{0: 1, 1: 1, 4: 1, 5: 1, 6: 2, 7: 4, 10: 4, 11: 4, 12: 8, 15: 8, 16: 8, 19: 8}\n"
     ]
    },
    {
     "data": {
      "text/plain": [
       "8"
      ]
     },
     "execution_count": 12,
     "metadata": {},
     "output_type": "execute_result"
    }
   ],
   "source": [
    "def partB(l):\n",
    "    \"\"\"\n",
    "    DP : n[i] is the number of routes upto and including n[i]\n",
    "         n[i] = n[i-3] + n[i-2] + n[i-1]\n",
    "    \"\"\"\n",
    "    n = {0: 1}\n",
    "    adapters = [0] + sorted(l)  \n",
    "    for adapter in adapters[1:]:\n",
    "        n[adapter] = sum(n.get(adapter-i, 0) for i in [1, 2 ,3])\n",
    "    print(n)\n",
    "    return n[adapter]\n",
    "\n",
    "partB(testcaseA)"
   ]
  },
  {
   "cell_type": "code",
   "execution_count": 13,
   "metadata": {},
   "outputs": [
    {
     "name": "stdout",
     "output_type": "stream",
     "text": [
      "{0: 1, 1: 1, 2: 2, 3: 4, 4: 7, 7: 7, 8: 7, 9: 14, 10: 28, 11: 49, 14: 49, 17: 49, 18: 49, 19: 98, 20: 196, 23: 196, 24: 196, 25: 392, 28: 392, 31: 392, 32: 392, 33: 784, 34: 1568, 35: 2744, 38: 2744, 39: 2744, 42: 2744, 45: 2744, 46: 2744, 47: 5488, 48: 10976, 49: 19208}\n"
     ]
    },
    {
     "data": {
      "text/plain": [
       "19208"
      ]
     },
     "execution_count": 13,
     "metadata": {},
     "output_type": "execute_result"
    }
   ],
   "source": [
    "partB(test_list)"
   ]
  },
  {
   "cell_type": "code",
   "execution_count": 14,
   "metadata": {},
   "outputs": [
    {
     "name": "stdout",
     "output_type": "stream",
     "text": [
      "{0: 1, 1: 1, 2: 2, 3: 4, 4: 7, 7: 7, 8: 7, 9: 14, 10: 28, 11: 49, 14: 49, 15: 49, 16: 98, 17: 196, 20: 196, 21: 196, 22: 392, 23: 784, 24: 1372, 27: 1372, 28: 1372, 29: 2744, 30: 5488, 31: 9604, 34: 9604, 35: 9604, 36: 19208, 37: 38416, 38: 67228, 41: 67228, 44: 67228, 47: 67228, 48: 67228, 49: 134456, 52: 134456, 53: 134456, 54: 268912, 55: 537824, 56: 941192, 59: 941192, 60: 941192, 61: 1882384, 62: 3764768, 63: 6588344, 66: 6588344, 67: 6588344, 68: 13176688, 69: 26353376, 72: 26353376, 73: 26353376, 74: 52706752, 75: 105413504, 76: 184473632, 79: 184473632, 80: 184473632, 81: 368947264, 82: 737894528, 85: 737894528, 88: 737894528, 89: 737894528, 90: 1475789056, 91: 2951578112, 92: 5165261696, 95: 5165261696, 98: 5165261696, 99: 5165261696, 100: 10330523392, 101: 20661046784, 102: 36156831872, 105: 36156831872, 108: 36156831872, 111: 36156831872, 112: 36156831872, 115: 36156831872, 118: 36156831872, 119: 36156831872, 120: 72313663744, 121: 144627327488, 122: 253097823104, 125: 253097823104, 128: 253097823104, 129: 253097823104, 130: 506195646208, 133: 506195646208, 134: 506195646208, 135: 1012391292416, 136: 2024782584832, 137: 3543369523456, 140: 3543369523456, 141: 3543369523456, 142: 7086739046912, 143: 14173478093824, 144: 24803586664192, 147: 24803586664192, 150: 24803586664192, 153: 24803586664192, 154: 24803586664192, 155: 49607173328384, 158: 49607173328384, 161: 49607173328384, 162: 49607173328384, 163: 99214346656768}\n"
     ]
    },
    {
     "data": {
      "text/plain": [
       "99214346656768"
      ]
     },
     "execution_count": 14,
     "metadata": {},
     "output_type": "execute_result"
    }
   ],
   "source": [
    "partB(l)"
   ]
  },
  {
   "cell_type": "code",
   "execution_count": null,
   "metadata": {},
   "outputs": [],
   "source": []
  }
 ],
 "metadata": {
  "kernelspec": {
   "display_name": "Python 3",
   "language": "python",
   "name": "python3"
  },
  "language_info": {
   "codemirror_mode": {
    "name": "ipython",
    "version": 3
   },
   "file_extension": ".py",
   "mimetype": "text/x-python",
   "name": "python",
   "nbconvert_exporter": "python",
   "pygments_lexer": "ipython3",
   "version": "3.8.1"
  }
 },
 "nbformat": 4,
 "nbformat_minor": 4
}
