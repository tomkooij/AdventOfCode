{
 "cells": [
  {
   "cell_type": "code",
   "execution_count": 1,
   "metadata": {},
   "outputs": [],
   "source": [
    "import re\n",
    "\n",
    "from itertools import cycle, combinations, permutations, tee\n",
    "from collections import Counter, defaultdict, deque\n",
    "from io import StringIO\n",
    "\n",
    "def pairwise(iterable):\n",
    "    \"s -> (s0,s1), (s1,s2), (s2, s3), ...\"\n",
    "    a, b = tee(iterable)\n",
    "    next(b, None)\n",
    "    return zip(a, b)\n",
    "\n",
    "def read_input(day, fn=str.strip):\n",
    "    \"\"\"//\n",
    "    Return a list of the input lines mapped by fn\n",
    "    \n",
    "    example: \n",
    "    >>> read_input('01', int)  # read input file, map all lines to int\n",
    "    \n",
    "    Inspired by Peter Norvig: https://github.com/norvig/pytudes\n",
    "    \n",
    "    \"\"\"\n",
    "    return list(map(fn, open(f'input\\{day}.txt')))\n",
    "\n",
    "def all_integers(s):\n",
    "    \"\"\"return all integers from a string\"\"\"\n",
    "    return tuple(map(int, re.findall(r'-?\\d+', s)))"
   ]
  },
  {
   "cell_type": "markdown",
   "metadata": {},
   "source": [
    "# Day 16"
   ]
  },
  {
   "cell_type": "code",
   "execution_count": 22,
   "metadata": {},
   "outputs": [],
   "source": [
    "testcase = \"\"\"class: 1-3 or 5-7\n",
    "row: 6-11 or 33-44\n",
    "seat: 13-40 or 45-50\n",
    "\n",
    "your ticket:\n",
    "7,1,14\n",
    "\n",
    "nearby tickets:\n",
    "7,3,47\n",
    "40,4,50\n",
    "55,2,20\n",
    "38,6,12\"\"\""
   ]
  },
  {
   "cell_type": "code",
   "execution_count": 23,
   "metadata": {},
   "outputs": [
    {
     "data": {
      "text/plain": [
       "(['class: 1-3 or 5-7\\nrow: 6-11 or 33-44\\nseat: 13-40 or 45-50',\n",
       "  'your ticket:\\n7,1,14',\n",
       "  'nearby tickets:\\n7,3,47\\n40,4,50\\n55,2,20\\n38,6,12'],\n",
       " 'nearby tickets:\\n7,3,47\\n40,4,50\\n55,2,20\\n38,6,12',\n",
       " 3)"
      ]
     },
     "execution_count": 23,
     "metadata": {},
     "output_type": "execute_result"
    }
   ],
   "source": [
    "test_list = [line.rstrip('\\n') for line in testcase.split('\\n\\n')]\n",
    "test_list[:3],test_list[-1], len(test_list)"
   ]
  },
  {
   "cell_type": "code",
   "execution_count": 24,
   "metadata": {},
   "outputs": [
    {
     "data": {
      "text/plain": [
       "(['departure location: 40-261 or 279-955\\ndeparture station: 33-375 or 394-963\\ndeparture platform: 39-863 or 877-970\\ndeparture track: 30-237 or 256-955\\ndeparture date: 47-731 or 741-950\\ndeparture time: 38-301 or 317-954\\narrival location: 26-598 or 623-969\\narrival station: 50-835 or 854-971\\narrival platform: 44-535 or 549-958\\narrival track: 36-672 or 685-967\\nclass: 34-217 or 236-974\\nduration: 29-469 or 483-970\\nprice: 45-111 or 120-965\\nroute: 32-751 or 760-954\\nrow: 25-321 or 339-954\\nseat: 38-423 or 438-958\\ntrain: 45-798 or 813-954\\ntype: 40-487 or 503-954\\nwagon: 46-916 or 938-949\\nzone: 25-160 or 184-957',\n",
       "  'your ticket:\\n73,59,83,127,137,151,71,139,67,53,89,79,61,109,131,103,149,97,107,101'],\n",
       " 3)"
      ]
     },
     "execution_count": 24,
     "metadata": {},
     "output_type": "execute_result"
    }
   ],
   "source": [
    "inp = open('input\\\\16.txt').read()\n",
    "inp = [line.rstrip('\\n') for line in inp.split('\\n\\n')]\n",
    "inp[:2], len(inp)"
   ]
  },
  {
   "cell_type": "code",
   "execution_count": 28,
   "metadata": {},
   "outputs": [
    {
     "data": {
      "text/plain": [
       "71"
      ]
     },
     "execution_count": 28,
     "metadata": {},
     "output_type": "execute_result"
    }
   ],
   "source": [
    "def partA(l):\n",
    "    valid_numbers = set()\n",
    "    error_rate = 0\n",
    "    for line in l[0].split('\\n'):\n",
    "        a,b,c,d = map(int, re.findall(r'\\d+', line))\n",
    "        valid_numbers |= set(range(a, b+1))\n",
    "        valid_numbers |= set(range(c, d+1))\n",
    "    for ticket in l[2].split('\\n')[1:]:\n",
    "        error_rate += sum(number for number in map(int, ticket.split(',')) if number not in valid_numbers)      \n",
    "    \n",
    "    return error_rate\n",
    "\n",
    "partA(test_list)"
   ]
  },
  {
   "cell_type": "code",
   "execution_count": 29,
   "metadata": {},
   "outputs": [
    {
     "data": {
      "text/plain": [
       "26869"
      ]
     },
     "execution_count": 29,
     "metadata": {},
     "output_type": "execute_result"
    }
   ],
   "source": [
    "partA(inp)"
   ]
  },
  {
   "cell_type": "code",
   "execution_count": 36,
   "metadata": {},
   "outputs": [],
   "source": [
    "# part B"
   ]
  },
  {
   "cell_type": "code",
   "execution_count": null,
   "metadata": {},
   "outputs": [],
   "source": []
  }
 ],
 "metadata": {
  "kernelspec": {
   "display_name": "Python 3",
   "language": "python",
   "name": "python3"
  },
  "language_info": {
   "codemirror_mode": {
    "name": "ipython",
    "version": 3
   },
   "file_extension": ".py",
   "mimetype": "text/x-python",
   "name": "python",
   "nbconvert_exporter": "python",
   "pygments_lexer": "ipython3",
   "version": "3.8.1"
  }
 },
 "nbformat": 4,
 "nbformat_minor": 4
}
