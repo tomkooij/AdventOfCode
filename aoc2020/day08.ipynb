{
 "cells": [
  {
   "cell_type": "code",
   "execution_count": 1,
   "metadata": {},
   "outputs": [],
   "source": [
    "import re\n",
    "\n",
    "from itertools import cycle, combinations, permutations\n",
    "from collections import Counter, defaultdict, deque\n",
    "from io import StringIO\n",
    "\n",
    "def read_input(day, fn=str.strip):\n",
    "    \"\"\"\n",
    "    Return a list of the input lines mapped by fn\n",
    "    \n",
    "    example: \n",
    "    >>> read_input('01', int)  # read input file, map all lines to int\n",
    "    \n",
    "    Inspired by Peter Norvig: https://github.com/norvig/pytudes\n",
    "    \n",
    "    \"\"\"\n",
    "    return list(map(fn, open(f'input\\{day}.txt')))\n",
    "\n",
    "def all_integers(s):\n",
    "    \"\"\"return all integers from a string\"\"\"\n",
    "    return tuple(map(int, re.findall(r'-?\\d+', s)))"
   ]
  },
  {
   "cell_type": "markdown",
   "metadata": {},
   "source": [
    "# Day 8"
   ]
  },
  {
   "cell_type": "code",
   "execution_count": 2,
   "metadata": {},
   "outputs": [],
   "source": [
    "testcase = \"\"\"nop +0\n",
    "acc +1\n",
    "jmp +4\n",
    "acc +3\n",
    "jmp -3\n",
    "acc -99\n",
    "acc +1\n",
    "jmp -4\n",
    "acc +6\"\"\""
   ]
  },
  {
   "cell_type": "code",
   "execution_count": null,
   "metadata": {},
   "outputs": [
    {
     "data": {
      "text/plain": [
       "['nop +0',\n",
       " 'acc +1',\n",
       " 'jmp +4',\n",
       " 'acc +3',\n",
       " 'jmp -3',\n",
       " 'acc -99',\n",
       " 'acc +1',\n",
       " 'jmp -4',\n",
       " 'acc +6']"
      ]
     },
     "execution_count": 3,
     "metadata": {},
     "output_type": "execute_result"
    }
   ],
   "source": [
    "test_ins = [line.strip('\\n') for line in testcase.split('\\n')]\n",
    "test_ins"
   ]
  },
  {
   "cell_type": "code",
   "execution_count": null,
   "metadata": {},
   "outputs": [],
   "source": [
    "def find_loop(instructions):\n",
    "    ip = 0\n",
    "    acc = 0\n",
    "    visited = set()\n",
    "    for _ in range(2000):\n",
    "        ins, val = instructions[ip].split()\n",
    "        if ip in visited:\n",
    "            print('loop:', acc, ip)\n",
    "            break\n",
    "        visited.add(ip)\n",
    "        #print(ip, acc, ins, val, visited)\n",
    "        val = int(val)\n",
    "        if ins == 'nop':\n",
    "            ip += 1\n",
    "            continue\n",
    "        if ins == 'acc':\n",
    "            acc += val\n",
    "            ip += 1\n",
    "            continue\n",
    "        if ins == 'jmp':\n",
    "            ip += val\n",
    "            continue\n",
    "\n",
    "find_loop(test_ins)"
   ]
  },
  {
   "cell_type": "code",
   "execution_count": null,
   "metadata": {},
   "outputs": [],
   "source": [
    "ins = open('input\\\\08.txt').readlines()\n",
    "ins = [line.rstrip('\\n') for line in ins]\n",
    "ins[:3], ins[-1]"
   ]
  },
  {
   "cell_type": "code",
   "execution_count": 6,
   "metadata": {},
   "outputs": [
    {
     "name": "stdout",
     "output_type": "stream",
     "text": [
      "loop: 2080 74\n"
     ]
    }
   ],
   "source": [
    "find_loop(ins)"
   ]
  },
  {
   "cell_type": "markdown",
   "metadata": {},
   "source": [
    "# part B"
   ]
  },
  {
   "cell_type": "code",
   "execution_count": 41,
   "metadata": {},
   "outputs": [
    {
     "data": {
      "text/plain": [
       "False"
      ]
     },
     "execution_count": 41,
     "metadata": {},
     "output_type": "execute_result"
    }
   ],
   "source": [
    "def run(instructions):\n",
    "    \"\"\"returns True on exit. False on inf loop\"\"\"\n",
    "    ip = 0\n",
    "    acc = 0\n",
    "    visited = set()\n",
    "        \n",
    "    while True:\n",
    "        if ip > 0 and ip >= len(instructions) - 1:\n",
    "            print('exit. acc = ', acc)\n",
    "            return True\n",
    "    \n",
    "        ins, val = instructions[ip].split()\n",
    "        if ip in visited:\n",
    "            return False\n",
    "        visited.add(ip)\n",
    "        #print(ip, acc, ins, val, visited)\n",
    "        val = int(val)\n",
    "        if ins == 'nop':\n",
    "            ip += 1\n",
    "            continue\n",
    "        if ins == 'acc':\n",
    "            acc += val\n",
    "            ip += 1\n",
    "            continue\n",
    "        if ins == 'jmp':\n",
    "            ip += val\n",
    "            continue\n",
    "\n",
    "run([\"jmp +0\"])"
   ]
  },
  {
   "cell_type": "code",
   "execution_count": 42,
   "metadata": {},
   "outputs": [
    {
     "data": {
      "text/plain": [
       "['nop +0',\n",
       " 'acc +1',\n",
       " 'jmp +4',\n",
       " 'acc +3',\n",
       " 'jmp -3',\n",
       " 'acc -99',\n",
       " 'acc +1',\n",
       " 'nop -4',\n",
       " 'acc +6']"
      ]
     },
     "execution_count": 42,
     "metadata": {},
     "output_type": "execute_result"
    }
   ],
   "source": [
    "def replace(n, s, instructions):\n",
    "    ins, val = instructions[n].split()\n",
    "    return instructions[:n] + [s + ' ' + val] + instructions[n+1:]\n",
    "\n",
    "replace(7, 'nop', test_ins)"
   ]
  },
  {
   "cell_type": "code",
   "execution_count": 43,
   "metadata": {},
   "outputs": [
    {
     "name": "stdout",
     "output_type": "stream",
     "text": [
      "exit. acc =  2\n"
     ]
    },
    {
     "data": {
      "text/plain": [
       "True"
      ]
     },
     "execution_count": 43,
     "metadata": {},
     "output_type": "execute_result"
    }
   ],
   "source": [
    "run(replace(7, 'nop', test_ins))"
   ]
  },
  {
   "cell_type": "code",
   "execution_count": 44,
   "metadata": {},
   "outputs": [
    {
     "name": "stdout",
     "output_type": "stream",
     "text": [
      "replacing  2 jmp +4\n",
      "replacing  4 jmp -3\n",
      "replacing  7 jmp -4\n",
      "exit. acc =  2\n"
     ]
    }
   ],
   "source": [
    "for n, i in enumerate(test_ins):\n",
    "    instruction, val = i.split(' ')\n",
    "    if instruction == 'jmp':\n",
    "        print('replacing ', n, test_ins[n])\n",
    "        run(replace(n, 'nop', test_ins))"
   ]
  },
  {
   "cell_type": "code",
   "execution_count": 45,
   "metadata": {},
   "outputs": [
    {
     "data": {
      "text/plain": [
       "(['acc -8', 'acc +19', 'nop +178'], 'jmp +1')"
      ]
     },
     "execution_count": 45,
     "metadata": {},
     "output_type": "execute_result"
    }
   ],
   "source": [
    "ins = open('input\\\\08.txt').readlines()\n",
    "ins = [line.rstrip('\\n') for line in ins]\n",
    "ins[:3], ins[-1]"
   ]
  },
  {
   "cell_type": "code",
   "execution_count": 46,
   "metadata": {},
   "outputs": [
    {
     "name": "stdout",
     "output_type": "stream",
     "text": [
      "exit. acc =  2477\n"
     ]
    }
   ],
   "source": [
    "for n, i in enumerate(ins):\n",
    "    instruction, val = i.split(' ')\n",
    "    if instruction == 'jmp':\n",
    "        #print('replacing ', n, ins[n])\n",
    "        run(replace(n, 'nop', ins))"
   ]
  },
  {
   "cell_type": "code",
   "execution_count": null,
   "metadata": {},
   "outputs": [],
   "source": []
  }
 ],
 "metadata": {
  "kernelspec": {
   "display_name": "Python 3",
   "language": "python",
   "name": "python3"
  },
  "language_info": {
   "codemirror_mode": {
    "name": "ipython",
    "version": 3
   },
   "file_extension": ".py",
   "mimetype": "text/x-python",
   "name": "python",
   "nbconvert_exporter": "python",
   "pygments_lexer": "ipython3",
   "version": "3.8.1"
  }
 },
 "nbformat": 4,
 "nbformat_minor": 4
}
