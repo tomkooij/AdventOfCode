{
 "cells": [
  {
   "cell_type": "code",
   "execution_count": 1,
   "metadata": {},
   "outputs": [],
   "source": [
    "import re\n",
    "\n",
    "from itertools import cycle, combinations, permutations, tee\n",
    "from collections import Counter, defaultdict, deque\n",
    "from io import StringIO\n",
    "\n",
    "def pairwise(iterable):\n",
    "    \"s -> (s0,s1), (s1,s2), (s2, s3), ...\"\n",
    "    a, b = tee(iterable)\n",
    "    next(b, None)\n",
    "    return zip(a, b)\n",
    "\n",
    "def read_input(day, fn=str.strip):\n",
    "    \"\"\"//\n",
    "    Return a list of the input lines mapped by fn\n",
    "    \n",
    "    example: \n",
    "    >>> read_input('01', int)  # read input file, map all lines to int\n",
    "    \n",
    "    Inspired by Peter Norvig: https://github.com/norvig/pytudes\n",
    "    \n",
    "    \"\"\"\n",
    "    return list(map(fn, open(f'input\\{day}.txt')))\n",
    "\n",
    "def all_integers(s):\n",
    "    \"\"\"return all integers from a string\"\"\"\n",
    "    return tuple(map(int, re.findall(r'-?\\d+', s)))"
   ]
  },
  {
   "cell_type": "markdown",
   "metadata": {},
   "source": [
    "# Day 11"
   ]
  },
  {
   "cell_type": "code",
   "execution_count": 71,
   "metadata": {},
   "outputs": [],
   "source": [
    "testcase = \"\"\"L.LL.LL.LL\n",
    "LLLLLLL.LL\n",
    "L.L.L..L..\n",
    "LLLL.LL.LL\n",
    "L.LL.LL.LL\n",
    "L.LLLLL.LL\n",
    "..L.L.....\n",
    "LLLLLLLLLL\n",
    "L.LLLLLL.L\n",
    "L.LLLLL.LL\"\"\""
   ]
  },
  {
   "cell_type": "code",
   "execution_count": 72,
   "metadata": {},
   "outputs": [],
   "source": [
    "EMPTY = 'L'\n",
    "OCCUPIED = '#'\n",
    "FLOOR = '.'"
   ]
  },
  {
   "cell_type": "code",
   "execution_count": 73,
   "metadata": {},
   "outputs": [
    {
     "data": {
      "text/plain": [
       "(['L.LL.LL.LL', 'LLLLLLL.LL', 'L.L.L..L..'], 'L.LLLLL.LL', 10)"
      ]
     },
     "execution_count": 73,
     "metadata": {},
     "output_type": "execute_result"
    }
   ],
   "source": [
    "test_list = [line.rstrip('\\n') for line in testcase.split('\\n')]\n",
    "test_list[:3],test_list[-1], len(test_list)"
   ]
  },
  {
   "cell_type": "code",
   "execution_count": 74,
   "metadata": {},
   "outputs": [
    {
     "name": "stdout",
     "output_type": "stream",
     "text": [
      "['L.LL.LL.LL',\n",
      " 'LLLLLLL.LL',\n",
      " 'L.L.L..L..',\n",
      " 'LLLL.LL.LL',\n",
      " 'L.LL.LL.LL',\n",
      " 'L.LLLLL.LL',\n",
      " '..L.L.....',\n",
      " 'LLLLLLLLLL',\n",
      " 'L.LLLLLL.L',\n",
      " 'L.LLLLL.LL']\n"
     ]
    }
   ],
   "source": [
    "from pprint import pprint\n",
    "pprint(test_list)"
   ]
  },
  {
   "cell_type": "code",
   "execution_count": 75,
   "metadata": {},
   "outputs": [
    {
     "data": {
      "text/plain": [
       "[(-1, -1), (-1, 0), (-1, 1), (1, -1), (1, 0), (1, 1), (0, -1), (0, 1)]"
      ]
     },
     "execution_count": 75,
     "metadata": {},
     "output_type": "execute_result"
    }
   ],
   "source": [
    "def neighbours(r, c):\n",
    "    return [((r+i), (c+j)) for i in [-1, 1] for j in [-1, 0, 1]] + [((r), (c+j)) for j in [-1, 1]]\n",
    "    \n",
    "neighbours(0,0)"
   ]
  },
  {
   "cell_type": "code",
   "execution_count": 94,
   "metadata": {},
   "outputs": [
    {
     "data": {
      "text/plain": [
       "37"
      ]
     },
     "execution_count": 94,
     "metadata": {},
     "output_type": "execute_result"
    }
   ],
   "source": [
    "def pprint_seats(d, rmax=9, cmax=9):\n",
    "    for r in range(rmax):\n",
    "        for c in range(cmax):\n",
    "            print(d[(r, c)], end='')\n",
    "        print('')\n",
    "\n",
    "def partA(l):\n",
    "    seats = {}\n",
    "    for r, line in enumerate(l):\n",
    "        for c, item in enumerate(line):\n",
    "            seats[(r, c)] = item\n",
    "    for _ in range(1000):\n",
    "        #print(_)\n",
    "        #pprint_seats(seats)\n",
    "\n",
    "        new_seats = {}\n",
    "        for pos, seat in list(seats.items()):\n",
    "            new_seats[pos] = seat\n",
    "            if seat != FLOOR:\n",
    "                n_occupied = sum(seats.get(neighbour, '.') == OCCUPIED for neighbour in neighbours(*pos))\n",
    "                if seat == EMPTY and n_occupied == 0:\n",
    "                    new_seats[pos] = OCCUPIED\n",
    "                elif n_occupied >= 4:\n",
    "                    new_seats[pos] = EMPTY\n",
    "        if seats == new_seats:\n",
    "            return Counter(seats.values())[OCCUPIED]\n",
    "        seats = new_seats\n",
    "\n",
    "partA(test_list)\n",
    "                \n",
    "            "
   ]
  },
  {
   "cell_type": "code",
   "execution_count": 130,
   "metadata": {},
   "outputs": [
    {
     "data": {
      "text/plain": [
       "(['.LLLL.L.LLLL.LL.LLL.L.LLLLLLL.LLLLL.LLLLLLLLLLLLL.LLLL.LLL.LLLLL.LLLLLLLL.LLLLL.LLLLLLL.LLLLL',\n",
       "  'LLLLLLL.LLLLLLL.LLLLLLLLLLLL.LLLLLLLLLLLLL.LLLLLL.LLLL.LLL..LLLL.LLLLLLLL.LLLLL.LLLLLLL.LLLLL',\n",
       "  'LLLLLLLLLLLL.LL.LLLLL.LLLL.L.LLLL.LLLLLL.L.LLL.LL..LLL.LLLLLLLLLLLLLLLLLL.L.LLL.LLLLLLL.LLLLL'],\n",
       " 'LLLLLLL.LLLLLLLL.LLLLLLLLLLL.LLLLLLLLL.LLL.LLLLLLLLLL..LL.LLLLLL.LLLLLLLL.LLLLL.LLLLLLLLLLLLL',\n",
       " 93)"
      ]
     },
     "execution_count": 130,
     "metadata": {},
     "output_type": "execute_result"
    }
   ],
   "source": [
    "inp = open('input\\\\11.txt').readlines()\n",
    "inp = [line.rstrip('\\n') for line in inp]\n",
    "inp[:3], inp[-1], len(inp[0])"
   ]
  },
  {
   "cell_type": "code",
   "execution_count": 86,
   "metadata": {},
   "outputs": [
    {
     "data": {
      "text/plain": [
       "2270"
      ]
     },
     "execution_count": 86,
     "metadata": {},
     "output_type": "execute_result"
    }
   ],
   "source": [
    "partA(inp)"
   ]
  },
  {
   "cell_type": "markdown",
   "metadata": {},
   "source": [
    "# part B"
   ]
  },
  {
   "cell_type": "code",
   "execution_count": 99,
   "metadata": {},
   "outputs": [
    {
     "name": "stdout",
     "output_type": "stream",
     "text": [
      "...........\n",
      ".L.L.#.#.#.\n",
      "...........\n"
     ]
    }
   ],
   "source": [
    "test = \"\"\".............\n",
    ".L.L.#.#.#.#.\n",
    ".............\"\"\"\n",
    "\n",
    "l = [line.rstrip('\\n') for line in test.split('\\n')]\n",
    "\n",
    "seats = {}\n",
    "for r, line in enumerate(l):\n",
    "        for c, item in enumerate(line):\n",
    "            seats[(r, c)] = item\n",
    "\n",
    "pprint_seats(seats, 3, 11)"
   ]
  },
  {
   "cell_type": "code",
   "execution_count": 143,
   "metadata": {},
   "outputs": [
    {
     "data": {
      "text/plain": [
       "defaultdict(int, {'#': 1, 'L': 1})"
      ]
     },
     "execution_count": 143,
     "metadata": {},
     "output_type": "execute_result"
    }
   ],
   "source": [
    "def find_neighbours(d, r, c, n_max=100):\n",
    "    \"\"\"find neighbours in 8 directions\"\"\"\n",
    "    result = defaultdict(int)\n",
    "    directions = [(0, 1), (1, 0), (0, -1), (-1, 0),\n",
    "                  (1, 1), (1, -1), (-1, 1), (-1, -1)]\n",
    "    for delta in directions:\n",
    "        dx, dy = delta\n",
    "        for n in range(1, n_max):\n",
    "            seat = d.get((r+n*dx, c+n*dy))\n",
    "            if seat is None:\n",
    "                break  # out of bounds\n",
    "            if seat != FLOOR:\n",
    "                result[seat] += 1\n",
    "                #print('found: ', seat, dx, dy, n)\n",
    "                break\n",
    "    return result\n",
    "                   \n",
    "find_neighbours(seats, 1, 4)"
   ]
  },
  {
   "cell_type": "code",
   "execution_count": 144,
   "metadata": {},
   "outputs": [
    {
     "data": {
      "text/plain": [
       "26"
      ]
     },
     "execution_count": 144,
     "metadata": {},
     "output_type": "execute_result"
    }
   ],
   "source": [
    "def partB(l):\n",
    "    seats = {}\n",
    "    for r, line in enumerate(l):\n",
    "        for c, item in enumerate(line):\n",
    "            seats[(r, c)] = item\n",
    "        \n",
    "    for _ in range(1000):\n",
    "        #print(_)\n",
    "        #pprint_seats(seats)\n",
    "\n",
    "        new_seats = {}\n",
    "        for pos, seat in list(seats.items()):\n",
    "            new_seats[pos] = seat\n",
    "            if seat != FLOOR:\n",
    "                neighbours = find_neighbours(seats, *pos)\n",
    "                if seat == EMPTY and neighbours[OCCUPIED] == 0:\n",
    "                    new_seats[pos] = OCCUPIED\n",
    "                elif neighbours[OCCUPIED] >= 5:\n",
    "                    new_seats[pos] = EMPTY\n",
    "        if seats == new_seats:\n",
    "            return Counter(seats.values())[OCCUPIED]\n",
    "        seats = new_seats\n",
    "\n",
    "partB(test_list)\n",
    "                "
   ]
  },
  {
   "cell_type": "code",
   "execution_count": 145,
   "metadata": {},
   "outputs": [
    {
     "data": {
      "text/plain": [
       "2042"
      ]
     },
     "execution_count": 145,
     "metadata": {},
     "output_type": "execute_result"
    }
   ],
   "source": [
    "partB(inp)"
   ]
  },
  {
   "cell_type": "code",
   "execution_count": null,
   "metadata": {},
   "outputs": [],
   "source": []
  }
 ],
 "metadata": {
  "kernelspec": {
   "display_name": "Python 3",
   "language": "python",
   "name": "python3"
  },
  "language_info": {
   "codemirror_mode": {
    "name": "ipython",
    "version": 3
   },
   "file_extension": ".py",
   "mimetype": "text/x-python",
   "name": "python",
   "nbconvert_exporter": "python",
   "pygments_lexer": "ipython3",
   "version": "3.8.1"
  }
 },
 "nbformat": 4,
 "nbformat_minor": 4
}
