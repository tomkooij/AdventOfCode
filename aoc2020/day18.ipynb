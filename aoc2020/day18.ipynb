{
 "cells": [
  {
   "cell_type": "code",
   "execution_count": 47,
   "metadata": {},
   "outputs": [],
   "source": [
    "import re\n",
    "\n",
    "from itertools import cycle, combinations, permutations, tee\n",
    "from collections import Counter, defaultdict, deque\n",
    "from io import StringIO\n",
    "\n",
    "def pairwise(iterable):\n",
    "    \"s -> (s0,s1), (s1,s2), (s2, s3), ...\"\n",
    "    a, b = tee(iterable)\n",
    "    next(b, None)\n",
    "    return zip(a, b)\n",
    "\n",
    "def read_input(day, fn=str.strip):\n",
    "    \"\"\"//\n",
    "    Return a list of the input lines mapped by fn\n",
    "    \n",
    "    example: \n",
    "    >>> read_input('01', int)  # read input file, map all lines to int\n",
    "    \n",
    "    Inspired by Peter Norvig: https://github.com/norvig/pytudes\n",
    "    \n",
    "    \"\"\"\n",
    "    return list(map(fn, open(f'input\\{day}.txt')))\n",
    "\n",
    "def all_integers(s):\n",
    "    \"\"\"return all integers from a string\"\"\"\n",
    "    return tuple(map(int, re.findall(r'-?\\d+', s)))"
   ]
  },
  {
   "cell_type": "markdown",
   "metadata": {},
   "source": [
    "# Day 18"
   ]
  },
  {
   "cell_type": "code",
   "execution_count": 9,
   "metadata": {},
   "outputs": [],
   "source": [
    "testcase = \"1 + (2 * 3) + 4 * 5 + 6\""
   ]
  },
  {
   "cell_type": "code",
   "execution_count": 19,
   "metadata": {},
   "outputs": [
    {
     "data": {
      "text/plain": [
       "['1', '2', '3', '*', '+', '4', '+', '5', '*', '6', '+']"
      ]
     },
     "execution_count": 19,
     "metadata": {},
     "output_type": "execute_result"
    }
   ],
   "source": [
    "def shunting_yard(l):\n",
    "    \"\"\"Shunting Yard, infix to rpn (https://nl.wikipedia.org/wiki/Shunting-yardalgoritme)\"\"\"\n",
    "    \n",
    "    stack = []\n",
    "    output = []\n",
    "    for token in l:\n",
    "        #print(stack, output)\n",
    "        if token == \" \":\n",
    "            continue\n",
    "        elif token.isdigit():\n",
    "            output.append(token)\n",
    "        elif token == \"(\":\n",
    "            stack.append(token)\n",
    "        elif token == \")\":\n",
    "            while stack[-1] != '(':\n",
    "                output.append(stack.pop())\n",
    "            stack.pop() \n",
    "        elif token in [\"+\", \"*\"]:\n",
    "            while stack and stack[-1] != '(':\n",
    "                output.append(stack.pop())\n",
    "            stack.append(token)\n",
    "        else:\n",
    "            print('Invalid: ', token)\n",
    "            assert False\n",
    "    \n",
    "    while stack:\n",
    "        output.append(stack.pop())\n",
    "    \n",
    "    return output\n",
    "    \n",
    "shunting_yard(testcase)"
   ]
  },
  {
   "cell_type": "code",
   "execution_count": 27,
   "metadata": {},
   "outputs": [
    {
     "data": {
      "text/plain": [
       "61"
      ]
     },
     "execution_count": 27,
     "metadata": {},
     "output_type": "execute_result"
    }
   ],
   "source": [
    " def eval_rpn(l):\n",
    "    \n",
    "    stack = []\n",
    "    for token in l:\n",
    "        if token.isdigit():\n",
    "            stack.append(int(token))\n",
    "        else:\n",
    "            rhs = stack.pop()\n",
    "            lhs = stack.pop()\n",
    "            if token == '+':\n",
    "                stack.append(lhs + rhs)\n",
    "            elif token == '*':\n",
    "                stack.append(lhs * rhs)\n",
    "            else:\n",
    "                print('Invalid: ', token)\n",
    "                assert False\n",
    "\n",
    "    return stack[0]\n",
    "\n",
    "eval_rpn(shunting_yard(testcase))"
   ]
  },
  {
   "cell_type": "code",
   "execution_count": 28,
   "metadata": {},
   "outputs": [
    {
     "data": {
      "text/plain": [
       "51"
      ]
     },
     "execution_count": 28,
     "metadata": {},
     "output_type": "execute_result"
    }
   ],
   "source": [
    "s = \"1 + (2 * 3) + (4 * (5 + 6))\"\n",
    "eval_rpn(shunting_yard(s))"
   ]
  },
  {
   "cell_type": "code",
   "execution_count": 35,
   "metadata": {},
   "outputs": [
    {
     "data": {
      "text/plain": [
       "(['(9 + 4 * 9 * 4) + 3 + 7 * 8',\n",
       "  '4 * 4 * (8 + 4 * 2 * 3 + (6 + 6 * 7 + 6) + (7 + 4 * 9 * 7 + 2))'],\n",
       " '(3 * 6) * 2 * 5 * 4 + (5 * 7 * 3 * 2 + 4 * (7 * 8 * 8 + 5 + 3)) + 4',\n",
       " 374)"
      ]
     },
     "execution_count": 35,
     "metadata": {},
     "output_type": "execute_result"
    }
   ],
   "source": [
    "inp = open('input\\\\18.txt').read()\n",
    "inp = [line.rstrip('\\n') for line in inp.split('\\n')]\n",
    "inp[:2], inp[-1], len(inp)"
   ]
  },
  {
   "cell_type": "code",
   "execution_count": 36,
   "metadata": {},
   "outputs": [],
   "source": [
    "def partA(l):\n",
    "    return sum(eval_rpn(shunting_yard(line)) for line in inp)"
   ]
  },
  {
   "cell_type": "code",
   "execution_count": 37,
   "metadata": {},
   "outputs": [
    {
     "data": {
      "text/plain": [
       "67800526776934"
      ]
     },
     "execution_count": 37,
     "metadata": {},
     "output_type": "execute_result"
    }
   ],
   "source": [
    "partA(inp)"
   ]
  },
  {
   "cell_type": "code",
   "execution_count": null,
   "metadata": {},
   "outputs": [],
   "source": []
  }
 ],
 "metadata": {
  "kernelspec": {
   "display_name": "Python 3",
   "language": "python",
   "name": "python3"
  },
  "language_info": {
   "codemirror_mode": {
    "name": "ipython",
    "version": 3
   },
   "file_extension": ".py",
   "mimetype": "text/x-python",
   "name": "python",
   "nbconvert_exporter": "python",
   "pygments_lexer": "ipython3",
   "version": "3.8.1"
  }
 },
 "nbformat": 4,
 "nbformat_minor": 4
}
