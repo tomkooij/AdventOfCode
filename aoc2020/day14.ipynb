{
 "cells": [
  {
   "cell_type": "code",
   "execution_count": 1,
   "metadata": {},
   "outputs": [],
   "source": [
    "import re\n",
    "\n",
    "from itertools import cycle, combinations, permutations, tee\n",
    "from collections import Counter, defaultdict, deque\n",
    "from io import StringIO\n",
    "\n",
    "def pairwise(iterable):\n",
    "    \"s -> (s0,s1), (s1,s2), (s2, s3), ...\"\n",
    "    a, b = tee(iterable)\n",
    "    next(b, None)\n",
    "    return zip(a, b)\n",
    "\n",
    "def read_input(day, fn=str.strip):\n",
    "    \"\"\"//\n",
    "    Return a list of the input lines mapped by fn\n",
    "    \n",
    "    example: \n",
    "    >>> read_input('01', int)  # read input file, map all lines to int\n",
    "    \n",
    "    Inspired by Peter Norvig: https://github.com/norvig/pytudes\n",
    "    \n",
    "    \"\"\"\n",
    "    return list(map(fn, open(f'input\\{day}.txt')))\n",
    "\n",
    "def all_integers(s):\n",
    "    \"\"\"return all integers from a string\"\"\"\n",
    "    return tuple(map(int, re.findall(r'-?\\d+', s)))"
   ]
  },
  {
   "cell_type": "markdown",
   "metadata": {},
   "source": [
    "# Day 14"
   ]
  },
  {
   "cell_type": "code",
   "execution_count": 2,
   "metadata": {},
   "outputs": [],
   "source": [
    "testcase = \"\"\"mask = XXXXXXXXXXXXXXXXXXXXXXXXXXXXX1XXXX0X\n",
    "mem[8] = 11\n",
    "mem[7] = 101\n",
    "mem[8] = 0\"\"\""
   ]
  },
  {
   "cell_type": "code",
   "execution_count": 3,
   "metadata": {},
   "outputs": [
    {
     "data": {
      "text/plain": [
       "(['mask = XXXXXXXXXXXXXXXXXXXXXXXXXXXXX1XXXX0X',\n",
       "  'mem[8] = 11',\n",
       "  'mem[7] = 101'],\n",
       " 'mem[8] = 0',\n",
       " 4)"
      ]
     },
     "execution_count": 3,
     "metadata": {},
     "output_type": "execute_result"
    }
   ],
   "source": [
    "test_list = [line.rstrip('\\n') for line in testcase.split('\\n')]\n",
    "test_list[:3],test_list[-1], len(test_list)"
   ]
  },
  {
   "cell_type": "code",
   "execution_count": 42,
   "metadata": {},
   "outputs": [
    {
     "data": {
      "text/plain": [
       "(73, 101)"
      ]
     },
     "execution_count": 42,
     "metadata": {},
     "output_type": "execute_result"
    }
   ],
   "source": [
    "def apply_mask(a, mask):\n",
    "    or_mask = int(''.join(['0' if c == 'X' else c for c in mask]), 2)\n",
    "    and_mask = int(''.join(['1' if c == 'X' else c for c in mask]), 2)\n",
    "    return (a | or_mask) & and_mask\n",
    "\n",
    "mask = \"XXXXXXXXXXXXXXXXXXXXXXXXXXXXX1XXXX0X\"\n",
    "apply_mask(11, mask), apply_mask(101, mask)"
   ]
  },
  {
   "cell_type": "code",
   "execution_count": 50,
   "metadata": {},
   "outputs": [
    {
     "data": {
      "text/plain": [
       "165"
      ]
     },
     "execution_count": 50,
     "metadata": {},
     "output_type": "execute_result"
    }
   ],
   "source": [
    "def partA(l):\n",
    "    mem = {}\n",
    "    for line in l:\n",
    "        if line[:3] == 'mas':\n",
    "            _, mask = line.split(' = ')\n",
    "        else:\n",
    "            memstr, val = line.split(' = ')\n",
    "            memloc = int(memstr.strip('mem[]'))\n",
    "            val = int(val)\n",
    "            mem[memloc] = apply_mask(val, mask)\n",
    "\n",
    "    return sum(mem.values())\n",
    "\n",
    "partA(test_list)\n",
    "        "
   ]
  },
  {
   "cell_type": "code",
   "execution_count": 51,
   "metadata": {},
   "outputs": [
    {
     "data": {
      "text/plain": [
       "(['mask = 100110X100000XX0X100X1100110X001X100',\n",
       "  'mem[21836] = 68949',\n",
       "  'mem[61020] = 7017251'],\n",
       " 'mem[43710] = 78470470',\n",
       " 521)"
      ]
     },
     "execution_count": 51,
     "metadata": {},
     "output_type": "execute_result"
    }
   ],
   "source": [
    "inp = open('input\\\\14.txt').readlines()\n",
    "inp = [line.rstrip('\\n') for line in inp]\n",
    "inp[:3], inp[-1], len(inp)"
   ]
  },
  {
   "cell_type": "code",
   "execution_count": 52,
   "metadata": {},
   "outputs": [
    {
     "data": {
      "text/plain": [
       "10452688630537"
      ]
     },
     "execution_count": 52,
     "metadata": {},
     "output_type": "execute_result"
    }
   ],
   "source": [
    "partA(inp)"
   ]
  },
  {
   "cell_type": "markdown",
   "metadata": {},
   "source": [
    "# part B"
   ]
  },
  {
   "cell_type": "code",
   "execution_count": 182,
   "metadata": {},
   "outputs": [
    {
     "data": {
      "text/plain": [
       "[[0, 1, 3], [0, 1], [0, 3], [0], [1, 3], [1], [3], []]"
      ]
     },
     "execution_count": 182,
     "metadata": {},
     "output_type": "execute_result"
    }
   ],
   "source": [
    "def mask_combinations(queue):\n",
    "    \"\"\"probably very stupid way to generate the combinations\"\"\"\n",
    "    l = [[]]  \n",
    "    for x in queue:\n",
    "        new_l = []\n",
    "        for sublist in l:\n",
    "            new_l.extend([sublist + [x], sublist])\n",
    "        l = new_l\n",
    "        \n",
    "    return l\n",
    "\n",
    "mask_combinations([0, 1, 3])"
   ]
  },
  {
   "cell_type": "code",
   "execution_count": 176,
   "metadata": {},
   "outputs": [
    {
     "name": "stdout",
     "output_type": "stream",
     "text": [
      "59\n",
      "27\n",
      "58\n",
      "26\n"
     ]
    }
   ],
   "source": [
    "for powers in mask_combinations([0, 5]):\n",
    "    print (26 + sum(2**power for power in powers))     "
   ]
  },
  {
   "cell_type": "code",
   "execution_count": 177,
   "metadata": {},
   "outputs": [
    {
     "data": {
      "text/plain": [
       "[59, 27, 58, 26]"
      ]
     },
     "execution_count": 177,
     "metadata": {},
     "output_type": "execute_result"
    }
   ],
   "source": [
    "def apply_mem_mask(a, mask):\n",
    "    addrs = []\n",
    "    ones_mask = int(''.join(['1' if c == '1' else '0' for c in mask]), 2)\n",
    "    zeros_mask = int(''.join(['1' if c=='0' else '0' for c in mask]), 2)\n",
    "    Xs = [power for power, c in enumerate(reversed(mask)) if c =='X']\n",
    "    base = (a & zeros_mask) | ones_mask\n",
    "    #print(base, Xs)\n",
    "    addrs = [base + sum(2**power for power in powers) for powers in mask_combinations(Xs)]\n",
    "    return addrs    \n",
    "    \n",
    "mask = \"000000000000000000000000000000X1001X\"\n",
    "apply_mem_mask(42, mask)"
   ]
  },
  {
   "cell_type": "code",
   "execution_count": 178,
   "metadata": {},
   "outputs": [],
   "source": [
    "testcase = \"\"\"mask = 000000000000000000000000000000X1001X\n",
    "mem[42] = 100\n",
    "mask = 00000000000000000000000000000000X0XX\n",
    "mem[26] = 1\"\"\""
   ]
  },
  {
   "cell_type": "code",
   "execution_count": 179,
   "metadata": {},
   "outputs": [
    {
     "data": {
      "text/plain": [
       "(['mask = 000000000000000000000000000000X1001X',\n",
       "  'mem[42] = 100',\n",
       "  'mask = 00000000000000000000000000000000X0XX'],\n",
       " 'mem[26] = 1',\n",
       " 4)"
      ]
     },
     "execution_count": 179,
     "metadata": {},
     "output_type": "execute_result"
    }
   ],
   "source": [
    "test_list = [line.rstrip('\\n') for line in testcase.split('\\n')]\n",
    "test_list[:3],test_list[-1], len(test_list)"
   ]
  },
  {
   "cell_type": "code",
   "execution_count": 180,
   "metadata": {},
   "outputs": [
    {
     "data": {
      "text/plain": [
       "208"
      ]
     },
     "execution_count": 180,
     "metadata": {},
     "output_type": "execute_result"
    }
   ],
   "source": [
    "def partB(l):\n",
    "    mem = {}\n",
    "    for line in l:\n",
    "        if line[:3] == 'mas':\n",
    "            _, mask = line.split(' = ')\n",
    "        else:\n",
    "            memstr, val = line.split(' = ')\n",
    "            memval = int(memstr.strip('mem[]'))\n",
    "            val = int(val)\n",
    "            memlocs = apply_mem_mask(memval, mask)\n",
    "            for memloc in memlocs:\n",
    "                mem[memloc] = val\n",
    "\n",
    "    #print(mem)\n",
    "    return sum(mem.values())\n",
    "\n",
    "partB(test_list)\n",
    "        "
   ]
  },
  {
   "cell_type": "code",
   "execution_count": 181,
   "metadata": {},
   "outputs": [
    {
     "data": {
      "text/plain": [
       "2881082759597"
      ]
     },
     "execution_count": 181,
     "metadata": {},
     "output_type": "execute_result"
    }
   ],
   "source": [
    "partB(inp)"
   ]
  },
  {
   "cell_type": "code",
   "execution_count": null,
   "metadata": {},
   "outputs": [],
   "source": []
  }
 ],
 "metadata": {
  "kernelspec": {
   "display_name": "Python 3",
   "language": "python",
   "name": "python3"
  },
  "language_info": {
   "codemirror_mode": {
    "name": "ipython",
    "version": 3
   },
   "file_extension": ".py",
   "mimetype": "text/x-python",
   "name": "python",
   "nbconvert_exporter": "python",
   "pygments_lexer": "ipython3",
   "version": "3.8.1"
  }
 },
 "nbformat": 4,
 "nbformat_minor": 4
}
