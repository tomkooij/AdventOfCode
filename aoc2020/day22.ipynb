{
 "cells": [
  {
   "cell_type": "code",
   "execution_count": 1,
   "metadata": {},
   "outputs": [],
   "source": [
    "import re\n",
    "\n",
    "from itertools import cycle, combinations, permutations, tee\n",
    "from collections import Counter, defaultdict, deque\n",
    "from io import StringIO\n",
    "\n",
    "def pairwise(iterable):\n",
    "    \"s -> (s0,s1), (s1,s2), (s2, s3), ...\"\n",
    "    a, b = tee(iterable)\n",
    "    next(b, None)\n",
    "    return zip(a, b)\n",
    "\n",
    "def read_input(day, fn=str.strip):\n",
    "    \"\"\"//\n",
    "    Return a list of the input lines mapped by fn\n",
    "    \n",
    "    example: \n",
    "    >>> read_input('01', int)  # read input file, map all lines to int\n",
    "    \n",
    "    Inspired by Peter Norvig: https://github.com/norvig/pytudes\n",
    "    \n",
    "    \"\"\"\n",
    "    return list(map(fn, open(f'input\\{day}.txt')))\n",
    "\n",
    "def all_integers(s):\n",
    "    \"\"\"return all integers from a string\"\"\"\n",
    "    return tuple(map(int, re.findall(r'-?\\d+', s)))"
   ]
  },
  {
   "cell_type": "markdown",
   "metadata": {},
   "source": [
    "# Day 22"
   ]
  },
  {
   "cell_type": "code",
   "execution_count": 10,
   "metadata": {},
   "outputs": [],
   "source": [
    "testcase = \"\"\"Player 1:\n",
    "9\n",
    "2\n",
    "6\n",
    "3\n",
    "1\n",
    "\n",
    "Player 2:\n",
    "5\n",
    "8\n",
    "4\n",
    "7\n",
    "10\"\"\""
   ]
  },
  {
   "cell_type": "code",
   "execution_count": 45,
   "metadata": {},
   "outputs": [
    {
     "name": "stdout",
     "output_type": "stream",
     "text": [
      "final:  deque([]) deque([3, 2, 10, 6, 8, 5, 9, 4, 7, 1])\n"
     ]
    },
    {
     "data": {
      "text/plain": [
       "306"
      ]
     },
     "execution_count": 45,
     "metadata": {},
     "output_type": "execute_result"
    }
   ],
   "source": [
    "def partA(l):\n",
    "    player1, player2 = l.split('\\n\\n')\n",
    "    deck1 = deque(all_integers(player1[9:]))\n",
    "    deck2 = deque(all_integers(player2[9:]))\n",
    "    #for _ in range(30):\n",
    "    while len(deck1) > 0 and len(deck2) > 0:\n",
    "        #print('round', deck1, deck2)\n",
    "        card1 = deck1.popleft()\n",
    "        card2 = deck2.popleft()\n",
    "        if card1 > card2:\n",
    "            deck1.append(card1)\n",
    "            deck1.append(card2)\n",
    "        elif card2 > card1:\n",
    "            deck2.append(card2)\n",
    "            deck2.append(card1)\n",
    "        else:\n",
    "            assert False\n",
    "\n",
    "    print('final: ', deck1, deck2)\n",
    "    \n",
    "    if len(deck1) > 0:\n",
    "        deck = deck1\n",
    "    else:\n",
    "        deck = deck2\n",
    "    \n",
    "    return sum(idx*val for idx, val in enumerate(list(reversed(deck)), 1))\n",
    "    \n",
    "    \n",
    "partA(testcase)"
   ]
  },
  {
   "cell_type": "code",
   "execution_count": 46,
   "metadata": {},
   "outputs": [],
   "source": [
    "inp = open('input\\\\22.txt').read()"
   ]
  },
  {
   "cell_type": "code",
   "execution_count": 47,
   "metadata": {},
   "outputs": [
    {
     "name": "stdout",
     "output_type": "stream",
     "text": [
      "final:  deque([]) deque([21, 10, 28, 8, 18, 5, 40, 9, 36, 7, 48, 3, 32, 2, 37, 34, 47, 44, 43, 42, 49, 29, 38, 13, 45, 39, 31, 26, 24, 15, 33, 30, 16, 1, 25, 20, 23, 17, 41, 27, 19, 14, 50, 22, 35, 6, 46, 12, 11, 4])\n"
     ]
    },
    {
     "data": {
      "text/plain": [
       "32815"
      ]
     },
     "execution_count": 47,
     "metadata": {},
     "output_type": "execute_result"
    }
   ],
   "source": [
    "partA(inp)"
   ]
  },
  {
   "cell_type": "code",
   "execution_count": null,
   "metadata": {},
   "outputs": [],
   "source": []
  }
 ],
 "metadata": {
  "kernelspec": {
   "display_name": "Python 3",
   "language": "python",
   "name": "python3"
  },
  "language_info": {
   "codemirror_mode": {
    "name": "ipython",
    "version": 3
   },
   "file_extension": ".py",
   "mimetype": "text/x-python",
   "name": "python",
   "nbconvert_exporter": "python",
   "pygments_lexer": "ipython3",
   "version": "3.8.1"
  }
 },
 "nbformat": 4,
 "nbformat_minor": 4
}
