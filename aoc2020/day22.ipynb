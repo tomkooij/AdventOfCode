{
 "cells": [
  {
   "cell_type": "code",
   "execution_count": 1,
   "metadata": {},
   "outputs": [],
   "source": [
    "import re\n",
    "\n",
    "from itertools import cycle, combinations, permutations, tee\n",
    "from collections import Counter, defaultdict, deque\n",
    "from io import StringIO\n",
    "\n",
    "def pairwise(iterable):\n",
    "    \"s -> (s0,s1), (s1,s2), (s2, s3), ...\"\n",
    "    a, b = tee(iterable)\n",
    "    next(b, None)\n",
    "    return zip(a, b)\n",
    "\n",
    "def read_input(day, fn=str.strip):\n",
    "    \"\"\"//\n",
    "    Return a list of the input lines mapped by fn\n",
    "    \n",
    "    example: \n",
    "    >>> read_input('01', int)  # read input file, map all lines to int\n",
    "    \n",
    "    Inspired by Peter Norvig: https://github.com/norvig/pytudes\n",
    "    \n",
    "    \"\"\"\n",
    "    return list(map(fn, open(f'input\\{day}.txt')))\n",
    "\n",
    "def all_integers(s):\n",
    "    \"\"\"return all integers from a string\"\"\"\n",
    "    return tuple(map(int, re.findall(r'-?\\d+', s)))"
   ]
  },
  {
   "cell_type": "markdown",
   "metadata": {},
   "source": [
    "# Day 22"
   ]
  },
  {
   "cell_type": "code",
   "execution_count": 2,
   "metadata": {},
   "outputs": [],
   "source": [
    "testcase = \"\"\"Player 1:\n",
    "9\n",
    "2\n",
    "6\n",
    "3\n",
    "1\n",
    "\n",
    "Player 2:\n",
    "5\n",
    "8\n",
    "4\n",
    "7\n",
    "10\"\"\""
   ]
  },
  {
   "cell_type": "code",
   "execution_count": 3,
   "metadata": {},
   "outputs": [],
   "source": [
    "def solve_decks(deck1, deck2):\n",
    "    while deck1 and deck2:\n",
    "        card1 = deck1.popleft()\n",
    "        card2 = deck2.popleft()\n",
    "        if card1 > card2:\n",
    "            deck1.append(card1)\n",
    "            deck1.append(card2)\n",
    "        elif card2 > card1:\n",
    "            deck2.append(card2)\n",
    "            deck2.append(card1)\n",
    "        else:\n",
    "            assert False\n",
    "    return deck1 or deck2\n"
   ]
  },
  {
   "cell_type": "code",
   "execution_count": 4,
   "metadata": {},
   "outputs": [
    {
     "data": {
      "text/plain": [
       "306"
      ]
     },
     "execution_count": 4,
     "metadata": {},
     "output_type": "execute_result"
    }
   ],
   "source": [
    "def partA(l):\n",
    "    player1, player2 = l.split('\\n\\n')\n",
    "    deck1 = deque(all_integers(player1[9:]))\n",
    "    deck2 = deque(all_integers(player2[9:]))\n",
    "\n",
    "    deck = solve_decks(deck1, deck2)\n",
    "   \n",
    "    return sum(idx*val for idx, val in enumerate(reversed(deck), 1))\n",
    "    \n",
    "partA(testcase)"
   ]
  },
  {
   "cell_type": "code",
   "execution_count": 5,
   "metadata": {},
   "outputs": [],
   "source": [
    "inp = open('input\\\\22.txt').read()"
   ]
  },
  {
   "cell_type": "code",
   "execution_count": 6,
   "metadata": {},
   "outputs": [
    {
     "data": {
      "text/plain": [
       "32815"
      ]
     },
     "execution_count": 6,
     "metadata": {},
     "output_type": "execute_result"
    }
   ],
   "source": [
    "partA(inp)"
   ]
  },
  {
   "cell_type": "markdown",
   "metadata": {},
   "source": [
    "# part B\n",
    "\n"
   ]
  },
  {
   "cell_type": "code",
   "execution_count": 7,
   "metadata": {},
   "outputs": [],
   "source": [
    "from functools import lru_cache"
   ]
  },
  {
   "cell_type": "code",
   "execution_count": 19,
   "metadata": {},
   "outputs": [],
   "source": [
    "@lru_cache  # memoize\n",
    "def solve_decks_partB(deck1, deck2):\n",
    "    seen = set()\n",
    "    deck1 = deque(deck1)\n",
    "    deck2 = deque(deck2)\n",
    "    #print('enter subgame: ', deck1, deck2)\n",
    "    \n",
    "    n = 1\n",
    "    while deck1 and deck2:\n",
    "        state = (tuple(deck1), tuple(deck2))\n",
    "        #print(f'round {n}: {state}')\n",
    "\n",
    "        if state in seen:\n",
    "            # player 1 wins\n",
    "            return (deck1, [])\n",
    "        \n",
    "        seen.add(state)\n",
    "        card1 = deck1.popleft()\n",
    "        card2 = deck2.popleft()\n",
    "        if card1 > len(deck1) or card2 > len(deck2):    \n",
    "            if card1 > card2:\n",
    "                deck1.append(card1)\n",
    "                deck1.append(card2)\n",
    "            elif card2 > card1:\n",
    "                deck2.append(card2)\n",
    "                deck2.append(card1)\n",
    "            else:\n",
    "                assert False\n",
    "        else:\n",
    "            #print('subgame!', deck1, deck2)\n",
    "            d1, d2 = solve_decks_partB(tuple(deck1)[:card1], tuple(deck2)[:card2])\n",
    "            #print('back from subgame', deck1, deck2)\n",
    "            if d1:\n",
    "                deck1.append(card1)\n",
    "                deck1.append(card2)\n",
    "            elif d2:\n",
    "                deck2.append(card2)\n",
    "                deck2.append(card1)\n",
    "            else:\n",
    "                assert False\n",
    "        \n",
    "    return (deck1, deck2)               "
   ]
  },
  {
   "cell_type": "code",
   "execution_count": 20,
   "metadata": {},
   "outputs": [
    {
     "data": {
      "text/plain": [
       "291"
      ]
     },
     "execution_count": 20,
     "metadata": {},
     "output_type": "execute_result"
    }
   ],
   "source": [
    "def partB(l):\n",
    "    player1, player2 = l.split('\\n\\n')\n",
    "    deck1 = all_integers(player1[9:])\n",
    "    deck2 = all_integers(player2[9:])\n",
    "\n",
    "    deck1, deck2 = solve_decks_partB(deck1, deck2)\n",
    "    deck = deck1 or deck2\n",
    "    \n",
    "    return sum(idx*val for idx, val in enumerate(reversed(deck), 1))\n",
    "    \n",
    "partB(testcase)"
   ]
  },
  {
   "cell_type": "code",
   "execution_count": 21,
   "metadata": {},
   "outputs": [
    {
     "data": {
      "text/plain": [
       "30695"
      ]
     },
     "execution_count": 21,
     "metadata": {},
     "output_type": "execute_result"
    }
   ],
   "source": [
    "partB(inp)"
   ]
  },
  {
   "cell_type": "code",
   "execution_count": null,
   "metadata": {},
   "outputs": [],
   "source": []
  }
 ],
 "metadata": {
  "kernelspec": {
   "display_name": "Python 3",
   "language": "python",
   "name": "python3"
  },
  "language_info": {
   "codemirror_mode": {
    "name": "ipython",
    "version": 3
   },
   "file_extension": ".py",
   "mimetype": "text/x-python",
   "name": "python",
   "nbconvert_exporter": "python",
   "pygments_lexer": "ipython3",
   "version": "3.8.1"
  }
 },
 "nbformat": 4,
 "nbformat_minor": 4
}
