{
 "cells": [
  {
   "cell_type": "code",
   "execution_count": null,
   "metadata": {},
   "outputs": [],
   "source": [
    "import re\n",
    "\n",
    "from itertools import cycle, combinations, permutations\n",
    "from collections import Counter, defaultdict, deque\n",
    "from io import StringIO\n",
    "\n",
    "def read_input(day, fn=str.strip):\n",
    "    \"\"\"\n",
    "    Return a list of the input lines mapped by fn\n",
    "    \n",
    "    example: \n",
    "    >>> read_input('01', int)  # read input file, map all lines to int\n",
    "    \n",
    "    Inspired by Peter Norvig: https://github.com/norvig/pytudes\n",
    "    \n",
    "    \"\"\"\n",
    "    return list(map(fn, open(f'input\\{day}.txt')))\n",
    "\n",
    "def all_integers(s):\n",
    "    \"\"\"return all integers from a string\"\"\"\n",
    "    return tuple(map(int, re.findall(r'-?\\d+', s)))"
   ]
  },
  {
   "cell_type": "markdown",
   "metadata": {},
   "source": [
    "# Day 3"
   ]
  },
  {
   "cell_type": "code",
   "execution_count": null,
   "metadata": {},
   "outputs": [],
   "source": [
    "testcase = \"\"\"..##.......\n",
    "#...#...#..\n",
    ".#....#..#.\n",
    "..#.#...#.#\n",
    ".#...##..#.\n",
    "..#.##.....\n",
    ".#.#.#....#\n",
    ".#........#\n",
    "#.##...#...\n",
    "#...##....#\n",
    ".#..#...#.#\"\"\""
   ]
  },
  {
   "cell_type": "code",
   "execution_count": null,
   "metadata": {},
   "outputs": [],
   "source": [
    "testinp = testcase.split('\\n') # readlines()\n",
    "testinp[:3], testinp[-1], len(testinp)"
   ]
  },
  {
   "cell_type": "code",
   "execution_count": null,
   "metadata": {},
   "outputs": [],
   "source": [
    "inp = open('input\\\\03.txt').readlines()\n",
    "inp = [line.strip('\\n') for line in inp]\n",
    "\n",
    "inp[:3]"
   ]
  },
  {
   "cell_type": "code",
   "execution_count": null,
   "metadata": {},
   "outputs": [],
   "source": [
    "def slope(trees, rstep, cstep):\n",
    "    r, c = 0, 0\n",
    "    \n",
    "    n_rows = len(trees) - 1\n",
    "    width = len(trees[0])\n",
    "\n",
    "    n_trees = 0\n",
    "    while r < n_rows:\n",
    "        r, c = r + rstep, (c + cstep) % width\n",
    "        if trees[r][c] == '#':\n",
    "            n_trees += 1\n",
    "        #print(trees[r], trees[r][c])\n",
    "        \n",
    "    return n_trees\n",
    "\n",
    "slope(testinp, 1, 3), slope(inp, 1, 3)"
   ]
  },
  {
   "cell_type": "markdown",
   "metadata": {},
   "source": [
    "# part B"
   ]
  },
  {
   "cell_type": "code",
   "execution_count": 6,
   "metadata": {},
   "outputs": [
    {
     "data": {
      "text/plain": [
       "(2, 7, 3, 4, 2)"
      ]
     },
     "execution_count": 6,
     "metadata": {},
     "output_type": "execute_result"
    }
   ],
   "source": [
    "slope(testinp, 1, 1), slope(testinp, 1, 3), slope(testinp, 1, 5), slope(testinp, 1, 7), slope(testinp, 2, 1)"
   ]
  },
  {
   "cell_type": "code",
   "execution_count": 7,
   "metadata": {},
   "outputs": [
    {
     "data": {
      "text/plain": [
       "3316272960"
      ]
     },
     "execution_count": 7,
     "metadata": {},
     "output_type": "execute_result"
    }
   ],
   "source": [
    "slope(inp, 1, 1) * slope(inp, 1, 3) * slope(inp, 1, 5) * slope(inp, 1, 7) * slope(inp, 2, 1)"
   ]
  },
  {
   "cell_type": "code",
   "execution_count": null,
   "metadata": {},
   "outputs": [],
   "source": []
  }
 ],
 "metadata": {
  "kernelspec": {
   "display_name": "Python 3",
   "language": "python",
   "name": "python3"
  },
  "language_info": {
   "codemirror_mode": {
    "name": "ipython",
    "version": 3
   },
   "file_extension": ".py",
   "mimetype": "text/x-python",
   "name": "python",
   "nbconvert_exporter": "python",
   "pygments_lexer": "ipython3",
   "version": "3.8.1"
  }
 },
 "nbformat": 4,
 "nbformat_minor": 4
}
