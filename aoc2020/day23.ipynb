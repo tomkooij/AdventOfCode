{
 "cells": [
  {
   "cell_type": "code",
   "execution_count": 1,
   "metadata": {},
   "outputs": [],
   "source": [
    "import re\n",
    "\n",
    "from itertools import cycle, combinations, permutations, tee\n",
    "from collections import Counter, defaultdict, deque\n",
    "from io import StringIO\n",
    "\n",
    "def pairwise(iterable):\n",
    "    \"s -> (s0,s1), (s1,s2), (s2, s3), ...\"\n",
    "    a, b = tee(iterable)\n",
    "    next(b, None)\n",
    "    return zip(a, b)\n",
    "\n",
    "def read_input(day, fn=str.strip):\n",
    "    \"\"\"//\n",
    "    Return a list of the input lines mapped by fn\n",
    "    \n",
    "    example: \n",
    "    >>> read_input('01', int)  # read input file, map all lines to int\n",
    "    \n",
    "    Inspired by Peter Norvig: https://github.com/norvig/pytudes\n",
    "    \n",
    "    \"\"\"\n",
    "    return list(map(fn, open(f'input\\{day}.txt')))\n",
    "\n",
    "def all_integers(s):\n",
    "    \"\"\"return all integers from a string\"\"\"\n",
    "    return tuple(map(int, re.findall(r'-?\\d+', s)))"
   ]
  },
  {
   "cell_type": "markdown",
   "metadata": {},
   "source": [
    "# Day 23"
   ]
  },
  {
   "cell_type": "code",
   "execution_count": 2,
   "metadata": {},
   "outputs": [
    {
     "name": "stdout",
     "output_type": "stream",
     "text": [
      "167384529\n"
     ]
    }
   ],
   "source": [
    "def print_ring(ring, start, N=9):\n",
    "        l = 9*[0]\n",
    "        l[0] = start\n",
    "        for idx in range(1, len(ring)):\n",
    "            l[idx] = ring[l[idx-1]]\n",
    "        #print(ring)\n",
    "        print(''.join(str(c) for c in l))\n",
    "        assert ring[l[-1]] == l[0]  # is it still a ring?\n",
    "\n",
    "def create_ring(s):\n",
    "    ring = {}\n",
    "    s = list(map(int, [c for c in s]))\n",
    "\n",
    "    for x,y in pairwise(s):\n",
    "        ring[x] = y\n",
    "    ring[y] = s[0]\n",
    "\n",
    "    #print(ring)\n",
    "    #print_ring(ring, testcase[0])\n",
    "\n",
    "    return ring\n",
    "\n",
    "def solve(ring, current_cup, iterations=100):  \n",
    "\n",
    "    N = max(ring.values())\n",
    "    #print(N)\n",
    "\n",
    "    for _ in range(1, iterations+1):\n",
    "        p1 = ring[current_cup]\n",
    "        p2 = ring[p1]\n",
    "        p3 = ring[p2]\n",
    "        #print('\\n***** round ',_)\n",
    "        #print('current: ', current_cup)\n",
    "        #print('pick up: ', p1, p2, p3)\n",
    "        destination = (current_cup - 1) % N\n",
    "        if destination == 0:\n",
    "            destination = N\n",
    "        while destination in (p1, p2, p3):\n",
    "            destination = (destination - 1) % N\n",
    "            if destination == 0:\n",
    "                destination = N\n",
    "\n",
    "        #print('destination: ', destination)\n",
    "        ring[current_cup] = ring[p3]\n",
    "        current_cup = ring[current_cup]\n",
    "\n",
    "        ring[p3] = ring[destination]\n",
    "        ring[destination] = p1\n",
    "\n",
    "        #print_ring(ring, current_cup)\n",
    "    return ring\n",
    "  \n",
    "def partA(s):\n",
    "    ring = create_ring(s)\n",
    "    ring = solve(ring, int(s[0])) \n",
    "    print_ring(ring, 1)\n",
    "    \n",
    "partA('389125467')    "
   ]
  },
  {
   "cell_type": "code",
   "execution_count": 3,
   "metadata": {},
   "outputs": [
    {
     "name": "stdout",
     "output_type": "stream",
     "text": [
      "195648732\n"
     ]
    }
   ],
   "source": [
    "partA('368195742')"
   ]
  },
  {
   "cell_type": "markdown",
   "metadata": {},
   "source": [
    "# part B"
   ]
  },
  {
   "cell_type": "code",
   "execution_count": 4,
   "metadata": {},
   "outputs": [
    {
     "data": {
      "text/plain": [
       "(10, 11, 3)"
      ]
     },
     "execution_count": 4,
     "metadata": {},
     "output_type": "execute_result"
    }
   ],
   "source": [
    "def create_ring(s):\n",
    "    ring = {}\n",
    "    s = list(map(int, [c for c in s]))\n",
    "\n",
    "    for x,y in pairwise(s):\n",
    "        ring[x] = y\n",
    "    \n",
    "    N = max(ring.values())\n",
    "    ring[y] = N+1\n",
    "    \n",
    "    for x,y in pairwise(range(N+1, 1_000_000+1)):\n",
    "        ring[x] = y\n",
    "\n",
    "    ring[y] = s[0]\n",
    "\n",
    "    return ring\n",
    "\n",
    "r = create_ring('389125467')\n",
    "r[7], r[10], r[1_000_000]"
   ]
  },
  {
   "cell_type": "code",
   "execution_count": 5,
   "metadata": {},
   "outputs": [
    {
     "name": "stdout",
     "output_type": "stream",
     "text": [
      "934001 159792\n"
     ]
    },
    {
     "data": {
      "text/plain": [
       "149245887792"
      ]
     },
     "execution_count": 5,
     "metadata": {},
     "output_type": "execute_result"
    }
   ],
   "source": [
    "def partB(s):\n",
    "    ring = create_ring(s)\n",
    "    ring = solve(ring, int(s[0]), iterations=10_000_000) \n",
    "    x = ring[1]\n",
    "    y = ring[x]\n",
    "    print(x,y)\n",
    "    return x*y\n",
    "\n",
    "partB('389125467')   "
   ]
  },
  {
   "cell_type": "code",
   "execution_count": 6,
   "metadata": {},
   "outputs": [
    {
     "name": "stdout",
     "output_type": "stream",
     "text": [
      "712484 270203\n"
     ]
    },
    {
     "data": {
      "text/plain": [
       "192515314252"
      ]
     },
     "execution_count": 6,
     "metadata": {},
     "output_type": "execute_result"
    }
   ],
   "source": [
    "partB('368195742')"
   ]
  },
  {
   "cell_type": "code",
   "execution_count": null,
   "metadata": {},
   "outputs": [],
   "source": []
  }
 ],
 "metadata": {
  "kernelspec": {
   "display_name": "Python 3",
   "language": "python",
   "name": "python3"
  },
  "language_info": {
   "codemirror_mode": {
    "name": "ipython",
    "version": 3
   },
   "file_extension": ".py",
   "mimetype": "text/x-python",
   "name": "python",
   "nbconvert_exporter": "python",
   "pygments_lexer": "ipython3",
   "version": "3.8.1"
  }
 },
 "nbformat": 4,
 "nbformat_minor": 4
}
