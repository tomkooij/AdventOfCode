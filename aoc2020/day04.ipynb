{
 "cells": [
  {
   "cell_type": "code",
   "execution_count": 1,
   "metadata": {},
   "outputs": [],
   "source": [
    "import re\n",
    "\n",
    "from itertools import cycle, combinations, permutations\n",
    "from collections import Counter, defaultdict, deque\n",
    "from io import StringIO\n",
    "\n",
    "def read_input(day, fn=str.strip):\n",
    "    \"\"\"\n",
    "    Return a list of the input lines mapped by fn\n",
    "    \n",
    "    example: \n",
    "    >>> read_input('01', int)  # read input file, map all lines to int\n",
    "    \n",
    "    Inspired by Peter Norvig: https://github.com/norvig/pytudes\n",
    "    \n",
    "    \"\"\"\n",
    "    return list(map(fn, open(f'input\\{day}.txt')))\n",
    "\n",
    "def all_integers(s):\n",
    "    \"\"\"return all integers from a string\"\"\"\n",
    "    return tuple(map(int, re.findall(r'-?\\d+', s)))"
   ]
  },
  {
   "cell_type": "markdown",
   "metadata": {},
   "source": [
    "# Day 4"
   ]
  },
  {
   "cell_type": "code",
   "execution_count": 69,
   "metadata": {},
   "outputs": [],
   "source": [
    "testcase = \"\"\"ecl:gry pid:860033327 eyr:2020 hcl:#fffffd\n",
    "byr:1937 iyr:2017 cid:147 hgt:183cm\n",
    "\n",
    "iyr:2013 ecl:amb cid:350 eyr:2023 pid:028048884\n",
    "hcl:#cfa07d byr:1929\n",
    "\n",
    "hcl:#ae17e1 iyr:2013\n",
    "eyr:2024\n",
    "ecl:brn pid:760753108 byr:1931\n",
    "hgt:179cm\n",
    "\n",
    "hcl:#cfa07d eyr:2025 pid:166559648\n",
    "iyr:2011 ecl:brn hgt:59in\"\"\""
   ]
  },
  {
   "cell_type": "code",
   "execution_count": 71,
   "metadata": {},
   "outputs": [
    {
     "data": {
      "text/plain": [
       "(['ecl:gry pid:860033327 eyr:2020 hcl:#fffffd',\n",
       "  'byr:1937 iyr:2017 cid:147 hgt:183cm',\n",
       "  ''],\n",
       " 'iyr:2011 ecl:brn hgt:59in',\n",
       " 13)"
      ]
     },
     "execution_count": 71,
     "metadata": {},
     "output_type": "execute_result"
    }
   ],
   "source": [
    "testinp = testcase.split('\\n') # readlines()\n",
    "testinp[:3], testinp[-1], len(testinp)"
   ]
  },
  {
   "cell_type": "code",
   "execution_count": 48,
   "metadata": {},
   "outputs": [
    {
     "data": {
      "text/plain": [
       "['eyr:2024 pid:662406624 hcl:#cfa07d byr:1947 iyr:2015 ecl:amb hgt:150cm',\n",
       " '',\n",
       " 'iyr:2013 byr:1997 hgt:182cm hcl:#ceb3a1']"
      ]
     },
     "execution_count": 48,
     "metadata": {},
     "output_type": "execute_result"
    }
   ],
   "source": [
    "inp = open('input\\\\04.txt').readlines()\n",
    "inp = [line.strip('\\n') for line in inp]\n",
    "inp.append('')  # vergeet de laatste niet.\n",
    "inp[:3]"
   ]
  },
  {
   "cell_type": "code",
   "execution_count": 67,
   "metadata": {},
   "outputs": [
    {
     "data": {
      "text/plain": [
       "{'hcl': '#ae17e1',\n",
       " 'iyr': '2013',\n",
       " 'eyr': '2024',\n",
       " 'ecl': 'brn',\n",
       " 'pid': '760753108',\n",
       " 'byr': '1931',\n",
       " 'hgt': '179cm'}"
      ]
     },
     "execution_count": 67,
     "metadata": {},
     "output_type": "execute_result"
    }
   ],
   "source": [
    "def parse_passports(lines):\n",
    "    passports = []\n",
    "\n",
    "    def create_passport(fields):\n",
    "        passport = {}\n",
    "        for field in fields:\n",
    "            tag, val = field.split(':')\n",
    "            passport[tag] = val\n",
    "        passports.append(passport)\n",
    "\n",
    "    field_queue = []\n",
    "    for line in lines:\n",
    "        if line == '':\n",
    "            create_passport(field_queue)\n",
    "            field_queue = []\n",
    "            continue\n",
    "        items = line.split()\n",
    "        field_queue.extend(items)\n",
    "\n",
    "    return passports\n",
    "\n",
    "passports = parse_passports(testinp)   \n",
    "passports[-1]"
   ]
  },
  {
   "cell_type": "code",
   "execution_count": 68,
   "metadata": {},
   "outputs": [
    {
     "name": "stdout",
     "output_type": "stream",
     "text": [
      "{'ecl': 'gry', 'pid': '860033327', 'eyr': '2020', 'hcl': '#fffffd', 'byr': '1937', 'iyr': '2017', 'cid': '147', 'hgt': '183cm'}\n",
      "True\n",
      "{'iyr': '2013', 'ecl': 'amb', 'cid': '350', 'eyr': '2023', 'pid': '028048884', 'hcl': '#cfa07d', 'byr': '1929'}\n",
      "False\n",
      "{'hcl': '#ae17e1', 'iyr': '2013', 'eyr': '2024', 'ecl': 'brn', 'pid': '760753108', 'byr': '1931', 'hgt': '179cm'}\n",
      "True\n"
     ]
    }
   ],
   "source": [
    "def validate(passport):\n",
    "    return len(passport.keys()) == 8 or (len(passport.keys()) == 7 and 'cid' not in passport.keys())\n",
    "\n",
    "for p in parse_passports(testinp):\n",
    "    print(p)\n",
    "    print(validate(p))"
   ]
  },
  {
   "cell_type": "code",
   "execution_count": 58,
   "metadata": {},
   "outputs": [
    {
     "name": "stdout",
     "output_type": "stream",
     "text": [
      "2\n"
     ]
    }
   ],
   "source": [
    "#part A\n",
    "print(sum([validate(passport) for passport in parse_passports(testinp)]))"
   ]
  },
  {
   "cell_type": "code",
   "execution_count": 61,
   "metadata": {},
   "outputs": [
    {
     "name": "stdout",
     "output_type": "stream",
     "text": [
      "250\n"
     ]
    }
   ],
   "source": [
    "print(sum([validate(passport) for passport in parse_passports(inp)]))"
   ]
  },
  {
   "cell_type": "markdown",
   "metadata": {},
   "source": [
    "# part B"
   ]
  },
  {
   "cell_type": "code",
   "execution_count": 75,
   "metadata": {},
   "outputs": [
    {
     "data": {
      "text/plain": [
       "True"
      ]
     },
     "execution_count": 75,
     "metadata": {},
     "output_type": "execute_result"
    }
   ],
   "source": [
    "def val_between(v, min_val, max_val):\n",
    "    return min_val <= v <= max_val\n",
    "\n",
    "def validate(passport):\n",
    "    # geen zin in\n",
    "    return True\n",
    "\n",
    "val_between(2019, 2019, 2024)"
   ]
  },
  {
   "cell_type": "code",
   "execution_count": null,
   "metadata": {},
   "outputs": [],
   "source": []
  },
  {
   "cell_type": "code",
   "execution_count": null,
   "metadata": {},
   "outputs": [],
   "source": []
  },
  {
   "cell_type": "code",
   "execution_count": null,
   "metadata": {},
   "outputs": [],
   "source": []
  }
 ],
 "metadata": {
  "kernelspec": {
   "display_name": "Python 3",
   "language": "python",
   "name": "python3"
  },
  "language_info": {
   "codemirror_mode": {
    "name": "ipython",
    "version": 3
   },
   "file_extension": ".py",
   "mimetype": "text/x-python",
   "name": "python",
   "nbconvert_exporter": "python",
   "pygments_lexer": "ipython3",
   "version": "3.8.1"
  }
 },
 "nbformat": 4,
 "nbformat_minor": 4
}
