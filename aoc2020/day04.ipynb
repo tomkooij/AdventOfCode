{
 "cells": [
  {
   "cell_type": "code",
   "execution_count": 1,
   "metadata": {},
   "outputs": [],
   "source": [
    "import re\n",
    "\n",
    "from itertools import cycle, combinations, permutations\n",
    "from collections import Counter, defaultdict, deque\n",
    "from io import StringIO\n",
    "\n",
    "def read_input(day, fn=str.strip):\n",
    "    \"\"\"\n",
    "    Return a list of the input lines mapped by fn\n",
    "    \n",
    "    example: \n",
    "    >>> read_input('01', int)  # read input file, map all lines to int\n",
    "    \n",
    "    Inspired by Peter Norvig: https://github.com/norvig/pytudes\n",
    "    \n",
    "    \"\"\"\n",
    "    return list(map(fn, open(f'input\\{day}.txt')))\n",
    "\n",
    "def all_integers(s):\n",
    "    \"\"\"return all integers from a string\"\"\"\n",
    "    return tuple(map(int, re.findall(r'-?\\d+', s)))"
   ]
  },
  {
   "cell_type": "markdown",
   "metadata": {},
   "source": [
    "# Day 4"
   ]
  },
  {
   "cell_type": "code",
   "execution_count": 2,
   "metadata": {},
   "outputs": [],
   "source": [
    "testcase = \"\"\"ecl:gry pid:860033327 eyr:2020 hcl:#fffffd\n",
    "byr:1937 iyr:2017 cid:147 hgt:183cm\n",
    "\n",
    "iyr:2013 ecl:amb cid:350 eyr:2023 pid:028048884\n",
    "hcl:#cfa07d byr:1929\n",
    "\n",
    "hcl:#ae17e1 iyr:2013\n",
    "eyr:2024\n",
    "ecl:brn pid:760753108 byr:1931\n",
    "hgt:179cm\n",
    "\n",
    "hcl:#cfa07d eyr:2025 pid:166559648\n",
    "iyr:2011 ecl:brn hgt:59in\"\"\""
   ]
  },
  {
   "cell_type": "code",
   "execution_count": 3,
   "metadata": {},
   "outputs": [],
   "source": [
    "inp = open('input\\\\04.txt').read()"
   ]
  },
  {
   "cell_type": "code",
   "execution_count": 4,
   "metadata": {},
   "outputs": [
    {
     "data": {
      "text/plain": [
       "[{'ecl': 'gry',\n",
       "  'pid': '860033327',\n",
       "  'eyr': '2020',\n",
       "  'hcl': '#fffffd',\n",
       "  'byr': '1937',\n",
       "  'iyr': '2017',\n",
       "  'cid': '147',\n",
       "  'hgt': '183cm'},\n",
       " {'iyr': '2013',\n",
       "  'ecl': 'amb',\n",
       "  'cid': '350',\n",
       "  'eyr': '2023',\n",
       "  'pid': '028048884',\n",
       "  'hcl': '#cfa07d',\n",
       "  'byr': '1929'},\n",
       " {'hcl': '#ae17e1',\n",
       "  'iyr': '2013',\n",
       "  'eyr': '2024',\n",
       "  'ecl': 'brn',\n",
       "  'pid': '760753108',\n",
       "  'byr': '1931',\n",
       "  'hgt': '179cm'},\n",
       " {'hcl': '#cfa07d',\n",
       "  'eyr': '2025',\n",
       "  'pid': '166559648',\n",
       "  'iyr': '2011',\n",
       "  'ecl': 'brn',\n",
       "  'hgt': '59in'}]"
      ]
     },
     "execution_count": 4,
     "metadata": {},
     "output_type": "execute_result"
    }
   ],
   "source": [
    "def parse_passports(lines):\n",
    "\n",
    "    def create_passport(fields):\n",
    "        passport = {}\n",
    "        for field in fields.replace('\\n',' ').split():\n",
    "            tag, val = field.split(':')\n",
    "            passport[tag] = val\n",
    "        return passport\n",
    "\n",
    "    return [create_passport(line) for line in lines.split('\\n\\n')]\n",
    "\n",
    "passports = parse_passports(testcase)   \n",
    "passports"
   ]
  },
  {
   "cell_type": "code",
   "execution_count": 5,
   "metadata": {},
   "outputs": [
    {
     "name": "stdout",
     "output_type": "stream",
     "text": [
      "{'ecl': 'gry', 'pid': '860033327', 'eyr': '2020', 'hcl': '#fffffd', 'byr': '1937', 'iyr': '2017', 'cid': '147', 'hgt': '183cm'}\n",
      "True\n",
      "{'iyr': '2013', 'ecl': 'amb', 'cid': '350', 'eyr': '2023', 'pid': '028048884', 'hcl': '#cfa07d', 'byr': '1929'}\n",
      "False\n",
      "{'hcl': '#ae17e1', 'iyr': '2013', 'eyr': '2024', 'ecl': 'brn', 'pid': '760753108', 'byr': '1931', 'hgt': '179cm'}\n",
      "True\n",
      "{'hcl': '#cfa07d', 'eyr': '2025', 'pid': '166559648', 'iyr': '2011', 'ecl': 'brn', 'hgt': '59in'}\n",
      "False\n"
     ]
    }
   ],
   "source": [
    "def validate(passport):\n",
    "    return len(passport.keys()) == 8 or (len(passport.keys()) == 7 and 'cid' not in passport.keys())\n",
    "\n",
    "for p in parse_passports(testcase):\n",
    "    print(p)\n",
    "    print(validate(p))"
   ]
  },
  {
   "cell_type": "code",
   "execution_count": 6,
   "metadata": {},
   "outputs": [
    {
     "name": "stdout",
     "output_type": "stream",
     "text": [
      "2\n"
     ]
    }
   ],
   "source": [
    "#part A\n",
    "print(sum([validate(passport) for passport in parse_passports(testcase)]))"
   ]
  },
  {
   "cell_type": "code",
   "execution_count": 7,
   "metadata": {},
   "outputs": [
    {
     "name": "stdout",
     "output_type": "stream",
     "text": [
      "250\n"
     ]
    }
   ],
   "source": [
    "print(sum([validate(passport) for passport in parse_passports(inp)]))"
   ]
  },
  {
   "cell_type": "markdown",
   "metadata": {},
   "source": [
    "# part B"
   ]
  },
  {
   "cell_type": "code",
   "execution_count": 8,
   "metadata": {},
   "outputs": [
    {
     "name": "stdout",
     "output_type": "stream",
     "text": [
      "2\n"
     ]
    }
   ],
   "source": [
    "def val_between(v, min_val, max_val):\n",
    "    return min_val <= int(v) <= max_val\n",
    "\n",
    "def validate_partB(passport):\n",
    "    if not val_between(passport['byr'], 1920, 2002):\n",
    "        return False\n",
    "    if not val_between(passport['iyr'], 2010, 2020):\n",
    "        return False\n",
    "    if not val_between(passport['eyr'], 2020, 2030):\n",
    "        return False\n",
    "\n",
    "    height_str = passport['hgt']\n",
    "    units = height_str[-2:]\n",
    "    height = height_str[:-2]\n",
    "    if units == 'cm':\n",
    "        if not val_between(height, 150, 193):\n",
    "            return False\n",
    "    elif units == 'in':\n",
    "        if not val_between(height, 59, 76):\n",
    "            return False\n",
    "    else:\n",
    "        return False\n",
    "      \n",
    "    if re.match('^#[a-f0-9]{6}$', passport['hcl']) is None:\n",
    "        return False\n",
    "    if not passport['ecl'] in \"amb blu brn gry grn hzl oth\".split():\n",
    "        return False\n",
    "    if re.match('^[0-9]{9}$', passport['pid']) is None:\n",
    "        return False \n",
    "    \n",
    "    return True\n",
    "\n",
    "print(sum([validate(passport) and validate_partB(passport) for passport in parse_passports(testcase)]))"
   ]
  },
  {
   "cell_type": "code",
   "execution_count": 9,
   "metadata": {},
   "outputs": [
    {
     "name": "stdout",
     "output_type": "stream",
     "text": [
      "158\n"
     ]
    }
   ],
   "source": [
    "print(sum([validate(passport) and validate_partB(passport) for passport in parse_passports(inp)]))"
   ]
  },
  {
   "cell_type": "code",
   "execution_count": null,
   "metadata": {},
   "outputs": [],
   "source": []
  },
  {
   "cell_type": "code",
   "execution_count": null,
   "metadata": {},
   "outputs": [],
   "source": []
  }
 ],
 "metadata": {
  "kernelspec": {
   "display_name": "Python 3",
   "language": "python",
   "name": "python3"
  },
  "language_info": {
   "codemirror_mode": {
    "name": "ipython",
    "version": 3
   },
   "file_extension": ".py",
   "mimetype": "text/x-python",
   "name": "python",
   "nbconvert_exporter": "python",
   "pygments_lexer": "ipython3",
   "version": "3.8.1"
  }
 },
 "nbformat": 4,
 "nbformat_minor": 4
}
