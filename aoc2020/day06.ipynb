{
 "cells": [
  {
   "cell_type": "code",
   "execution_count": 1,
   "metadata": {},
   "outputs": [],
   "source": [
    "import re\n",
    "\n",
    "from itertools import cycle, combinations, permutations\n",
    "from collections import Counter, defaultdict, deque\n",
    "from io import StringIO\n",
    "\n",
    "def read_input(day, fn=str.strip):\n",
    "    \"\"\"\n",
    "    Return a list of the input lines mapped by fn\n",
    "    \n",
    "    example: \n",
    "    >>> read_input('01', int)  # read input file, map all lines to int\n",
    "    \n",
    "    Inspired by Peter Norvig: https://github.com/norvig/pytudes\n",
    "    \n",
    "    \"\"\"\n",
    "    return list(map(fn, open(f'input\\{day}.txt')))\n",
    "\n",
    "def all_integers(s):\n",
    "    \"\"\"return all integers from a string\"\"\"\n",
    "    return tuple(map(int, re.findall(r'-?\\d+', s)))"
   ]
  },
  {
   "cell_type": "markdown",
   "metadata": {},
   "source": [
    "# Day 6"
   ]
  },
  {
   "cell_type": "code",
   "execution_count": 2,
   "metadata": {},
   "outputs": [],
   "source": [
    "testcase = \"\"\"abc\n",
    "\n",
    "a\n",
    "b\n",
    "c\n",
    "\n",
    "ab\n",
    "ac\n",
    "\n",
    "a\n",
    "a\n",
    "a\n",
    "a\n",
    "\n",
    "b\"\"\""
   ]
  },
  {
   "cell_type": "code",
   "execution_count": 4,
   "metadata": {},
   "outputs": [
    {
     "name": "stdout",
     "output_type": "stream",
     "text": [
      "{'c', 'b', 'a'}\n",
      "{'c', 'b', 'a'}\n",
      "{'c', 'b', 'a'}\n",
      "{'a'}\n",
      "{'b'}\n"
     ]
    },
    {
     "data": {
      "text/plain": [
       "11"
      ]
     },
     "execution_count": 4,
     "metadata": {},
     "output_type": "execute_result"
    }
   ],
   "source": [
    "for line in testcase.split('\\n\\n'):\n",
    "    print(set(line.replace('\\n', '')))\n",
    "\n",
    "sum([len(set(line.replace('\\n', ''))) for line in testcase.split('\\n\\n')])        "
   ]
  },
  {
   "cell_type": "code",
   "execution_count": 5,
   "metadata": {},
   "outputs": [
    {
     "data": {
      "text/plain": [
       "6686"
      ]
     },
     "execution_count": 5,
     "metadata": {},
     "output_type": "execute_result"
    }
   ],
   "source": [
    "inp = open('input\\\\06.txt').read()\n",
    "sum([len(set(line.replace('\\n', ''))) for line in inp.split('\\n\\n')])        "
   ]
  },
  {
   "cell_type": "markdown",
   "metadata": {},
   "source": [
    "# part B"
   ]
  },
  {
   "cell_type": "code",
   "execution_count": 6,
   "metadata": {},
   "outputs": [
    {
     "name": "stdout",
     "output_type": "stream",
     "text": [
      "group:  ['a', 'b', 'c']\n",
      "list of sets:  [{'c', 'b', 'a'}]\n",
      "intersection of sets:  {'c', 'b', 'a'}\n",
      "group:  ['a', '\\n', 'b', '\\n', 'c']\n",
      "list of sets:  [{'a'}, {'b'}, {'c'}]\n",
      "intersection of sets:  set()\n",
      "group:  ['a', 'b', '\\n', 'a', 'c']\n",
      "list of sets:  [{'b', 'a'}, {'c', 'a'}]\n",
      "intersection of sets:  {'a'}\n",
      "group:  ['a', '\\n', 'a', '\\n', 'a', '\\n', 'a']\n",
      "list of sets:  [{'a'}, {'a'}, {'a'}, {'a'}]\n",
      "intersection of sets:  {'a'}\n",
      "group:  ['b']\n",
      "list of sets:  [{'b'}]\n",
      "intersection of sets:  {'b'}\n"
     ]
    },
    {
     "data": {
      "text/plain": [
       "6"
      ]
     },
     "execution_count": 6,
     "metadata": {},
     "output_type": "execute_result"
    }
   ],
   "source": [
    "intersections = []\n",
    "for group in testcase.split('\\n\\n'):\n",
    "    print('group: ', list(group))\n",
    "    l_sets = [set(i) for i in group.split('\\n')]\n",
    "    print('list of sets: ', l_sets)\n",
    "    intersections.append(set.intersection(*l_sets))\n",
    "    print('intersection of sets: ', intersections[-1])  \n",
    "    \n",
    "sum(len(i) for i in intersections)"
   ]
  },
  {
   "cell_type": "code",
   "execution_count": 7,
   "metadata": {},
   "outputs": [
    {
     "data": {
      "text/plain": [
       "3476"
      ]
     },
     "execution_count": 7,
     "metadata": {},
     "output_type": "execute_result"
    }
   ],
   "source": [
    "intersections = []\n",
    "for group in inp.split('\\n\\n'):\n",
    "    l_sets = [set(i) for i in group.split('\\n')]\n",
    "    intersections.append(set.intersection(*l_sets))\n",
    "    \n",
    "sum(len(i) for i in intersections)"
   ]
  },
  {
   "cell_type": "code",
   "execution_count": null,
   "metadata": {},
   "outputs": [],
   "source": []
  }
 ],
 "metadata": {
  "kernelspec": {
   "display_name": "Python 3",
   "language": "python",
   "name": "python3"
  },
  "language_info": {
   "codemirror_mode": {
    "name": "ipython",
    "version": 3
   },
   "file_extension": ".py",
   "mimetype": "text/x-python",
   "name": "python",
   "nbconvert_exporter": "python",
   "pygments_lexer": "ipython3",
   "version": "3.8.1"
  }
 },
 "nbformat": 4,
 "nbformat_minor": 4
}
