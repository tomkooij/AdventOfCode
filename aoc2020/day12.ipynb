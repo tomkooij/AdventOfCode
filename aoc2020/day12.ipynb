{
 "cells": [
  {
   "cell_type": "code",
   "execution_count": 1,
   "metadata": {},
   "outputs": [],
   "source": [
    "import re\n",
    "\n",
    "from itertools import cycle, combinations, permutations, tee\n",
    "from collections import Counter, defaultdict, deque\n",
    "from io import StringIO\n",
    "\n",
    "def pairwise(iterable):\n",
    "    \"s -> (s0,s1), (s1,s2), (s2, s3), ...\"\n",
    "    a, b = tee(iterable)\n",
    "    next(b, None)\n",
    "    return zip(a, b)\n",
    "\n",
    "def read_input(day, fn=str.strip):\n",
    "    \"\"\"//\n",
    "    Return a list of the input lines mapped by fn\n",
    "    \n",
    "    example: \n",
    "    >>> read_input('01', int)  # read input file, map all lines to int\n",
    "    \n",
    "    Inspired by Peter Norvig: https://github.com/norvig/pytudes\n",
    "    \n",
    "    \"\"\"\n",
    "    return list(map(fn, open(f'input\\{day}.txt')))\n",
    "\n",
    "def all_integers(s):\n",
    "    \"\"\"return all integers from a string\"\"\"\n",
    "    return tuple(map(int, re.findall(r'-?\\d+', s)))"
   ]
  },
  {
   "cell_type": "markdown",
   "metadata": {},
   "source": [
    "# Day 12"
   ]
  },
  {
   "cell_type": "code",
   "execution_count": 2,
   "metadata": {},
   "outputs": [],
   "source": [
    "testcase = \"\"\"F10\n",
    "N3\n",
    "F7\n",
    "R90\n",
    "F11\"\"\""
   ]
  },
  {
   "cell_type": "code",
   "execution_count": 3,
   "metadata": {},
   "outputs": [
    {
     "data": {
      "text/plain": [
       "(['F10', 'N3', 'F7'], 'F11', 5)"
      ]
     },
     "execution_count": 3,
     "metadata": {},
     "output_type": "execute_result"
    }
   ],
   "source": [
    "test_list = [line.rstrip('\\n') for line in testcase.split('\\n')]\n",
    "test_list[:3],test_list[-1], len(test_list)"
   ]
  },
  {
   "cell_type": "code",
   "execution_count": 4,
   "metadata": {},
   "outputs": [
    {
     "data": {
      "text/plain": [
       "((3, 4, 180), (2, 4, 90))"
      ]
     },
     "execution_count": 4,
     "metadata": {},
     "output_type": "execute_result"
    }
   ],
   "source": [
    "delta = {0: (0, 1), 90: (1, 0), 180: (0, -1), 270: (-1, 0)}\n",
    "        \n",
    "moves = {\n",
    "    'N': lambda x, y, direction, n: (x, y+n, direction),\n",
    "    'S': lambda x, y, direction, n: (x, y-n, direction),\n",
    "    'E': lambda x, y, direction, n: (x+n, y, direction),\n",
    "    'W': lambda x, y, direction, n: (x-n, y, direction),\n",
    "    'L': lambda x, y, direction, n: (x, y, (direction-n) % 360),\n",
    "    'R': lambda x, y, direction, n: (x, y, (direction+n) % 360),\n",
    "    'F': lambda x, y, direction, n: (x+n*delta[direction][0], y+n*delta[direction][1], direction)}\n",
    "\n",
    "moves['R'](3, 4, 90, 90), moves['F'](0, 4, 90, 2)"
   ]
  },
  {
   "cell_type": "code",
   "execution_count": 5,
   "metadata": {},
   "outputs": [
    {
     "data": {
      "text/plain": [
       "25"
      ]
     },
     "execution_count": 5,
     "metadata": {},
     "output_type": "execute_result"
    }
   ],
   "source": [
    "def partA(l):\n",
    "    x, y, direction = 0, 0, 90\n",
    "    for line in l:\n",
    "        command = line[:1]\n",
    "        val = int(line[1:])\n",
    "        x, y, direction = moves[command](x, y, direction, val)\n",
    "    return abs(x)+abs(y)\n",
    "\n",
    "partA(test_list)"
   ]
  },
  {
   "cell_type": "code",
   "execution_count": 6,
   "metadata": {},
   "outputs": [
    {
     "data": {
      "text/plain": [
       "(['W3', 'R180', 'S1'], 'F3', 761)"
      ]
     },
     "execution_count": 6,
     "metadata": {},
     "output_type": "execute_result"
    }
   ],
   "source": [
    "inp = open('input\\\\12.txt').readlines()\n",
    "inp = [line.rstrip('\\n') for line in inp]\n",
    "inp[:3], inp[-1], len(inp)"
   ]
  },
  {
   "cell_type": "code",
   "execution_count": 7,
   "metadata": {},
   "outputs": [
    {
     "data": {
      "text/plain": [
       "381"
      ]
     },
     "execution_count": 7,
     "metadata": {},
     "output_type": "execute_result"
    }
   ],
   "source": [
    "partA(inp)"
   ]
  },
  {
   "cell_type": "markdown",
   "metadata": {},
   "source": [
    "# part B"
   ]
  },
  {
   "cell_type": "code",
   "execution_count": 8,
   "metadata": {},
   "outputs": [
    {
     "data": {
      "text/plain": [
       "(-4, 10)"
      ]
     },
     "execution_count": 8,
     "metadata": {},
     "output_type": "execute_result"
    }
   ],
   "source": [
    "def rotate(a, b, angle):\n",
    "    \"\"\"rotate waypoint (a, b) around CW angle\"\"\"\n",
    "    angle = angle % 360\n",
    "     \n",
    "    for _ in range(angle // 90):\n",
    "        # rotate n times clockwise\n",
    "        a, b = -b, a\n",
    "\n",
    "    return a, b\n",
    "\n",
    "rotate(10, 4, 90)"
   ]
  },
  {
   "cell_type": "code",
   "execution_count": 12,
   "metadata": {},
   "outputs": [
    {
     "data": {
      "text/plain": [
       "((3, 4, 0, 0), (0, 4, 0, 0))"
      ]
     },
     "execution_count": 12,
     "metadata": {},
     "output_type": "execute_result"
    }
   ],
   "source": [
    "moves = {\n",
    "    'N': lambda x, y, a, b, n: (x, y, a, b+n),\n",
    "    'S': lambda x, y, a, b, n: (x, y, a, b-n),\n",
    "    'E': lambda x, y, a, b, n: (x, y, a+n, b),\n",
    "    'W': lambda x, y, a, b, n: (x, y, a-n, b),\n",
    "    'L': lambda x, y, a, b, n: (x, y, *rotate(a, b, n)),\n",
    "    'R': lambda x, y, a, b, n: (x, y, *rotate(a, b, -n)),\n",
    "    'F': lambda x, y, a, b, n: (x+a*n, y+b*n, a, b)}\n",
    "\n",
    "moves['R'](3, 4, 0, 0, 90), moves['F'](0, 4, 0, 0, 10)"
   ]
  },
  {
   "cell_type": "code",
   "execution_count": 13,
   "metadata": {},
   "outputs": [
    {
     "data": {
      "text/plain": [
       "286"
      ]
     },
     "execution_count": 13,
     "metadata": {},
     "output_type": "execute_result"
    }
   ],
   "source": [
    "def partB(l):\n",
    "    x, y, a, b  = 0, 0, 10, 1\n",
    "    for line in l:\n",
    "        command = line[:1]\n",
    "        val = int(line[1:])\n",
    "        x, y, a, b = moves[command](x, y, a, b, val)\n",
    "        #print(line, x, y, a, b)\n",
    "    return abs(x)+abs(y)\n",
    "\n",
    "partB(test_list)"
   ]
  },
  {
   "cell_type": "code",
   "execution_count": 14,
   "metadata": {},
   "outputs": [
    {
     "data": {
      "text/plain": [
       "28591"
      ]
     },
     "execution_count": 14,
     "metadata": {},
     "output_type": "execute_result"
    }
   ],
   "source": [
    "partB(inp)"
   ]
  },
  {
   "cell_type": "code",
   "execution_count": null,
   "metadata": {},
   "outputs": [],
   "source": []
  }
 ],
 "metadata": {
  "kernelspec": {
   "display_name": "Python 3",
   "language": "python",
   "name": "python3"
  },
  "language_info": {
   "codemirror_mode": {
    "name": "ipython",
    "version": 3
   },
   "file_extension": ".py",
   "mimetype": "text/x-python",
   "name": "python",
   "nbconvert_exporter": "python",
   "pygments_lexer": "ipython3",
   "version": "3.8.1"
  }
 },
 "nbformat": 4,
 "nbformat_minor": 4
}
